{
  "nbformat": 4,
  "nbformat_minor": 0,
  "metadata": {
    "kernelspec": {
      "display_name": "Python 3",
      "language": "python",
      "name": "python3"
    },
    "language_info": {
      "codemirror_mode": {
        "name": "ipython",
        "version": 2
      },
      "file_extension": ".py",
      "mimetype": "text/x-python",
      "name": "python",
      "nbconvert_exporter": "python",
      "pygments_lexer": "ipython2",
      "version": "2.7.6"
    },
    "colab": {
      "name": "parse_data_colab.ipynb",
      "provenance": []
    }
  },
  "cells": [
    {
      "cell_type": "code",
      "metadata": {
        "pycharm": {
          "name": "#%%\n"
        },
        "id": "lReHHBv8aOE-"
      },
      "source": [
        "import pandas as pd\n",
        "import shutil\n",
        "import os"
      ],
      "execution_count": 1,
      "outputs": []
    },
    {
      "cell_type": "code",
      "metadata": {
        "pycharm": {
          "name": "#%%\n"
        },
        "id": "9h37qYF0aOFA",
        "colab": {
          "base_uri": "https://localhost:8080/"
        },
        "outputId": "0e87ceb4-a67a-4179-d3e3-ada12e2fa108"
      },
      "source": [
        "%%bash\n",
        "git clone https://github.com/Jaehun-Kim22/SCIC_Project.git"
      ],
      "execution_count": 2,
      "outputs": [
        {
          "output_type": "stream",
          "text": [
            "Cloning into 'SCIC_Project'...\n"
          ],
          "name": "stderr"
        }
      ]
    },
    {
      "cell_type": "code",
      "metadata": {
        "pycharm": {
          "name": "#%%\n"
        },
        "id": "8W6Wn6l_aOFB",
        "colab": {
          "base_uri": "https://localhost:8080/"
        },
        "outputId": "0ca12c64-a49f-43ba-da3f-ef0bba5095f0"
      },
      "source": [
        "## loads excel\n",
        "xls = pd.ExcelFile('SCIC_Project/assets/공모전 제공 데이터(2차)_210804.xlsx')\n",
        "training_data = pd.read_excel(xls, '학습데이터')\n",
        "priority = pd.read_excel(xls, '우선순위')\n",
        "data_without_ground_truth = training_data.values[:, 2]\n",
        "!pip install konlpy"
      ],
      "execution_count": 3,
      "outputs": [
        {
          "output_type": "stream",
          "text": [
            "Collecting konlpy\n",
            "  Downloading konlpy-0.5.2-py2.py3-none-any.whl (19.4 MB)\n",
            "\u001b[K     |████████████████████████████████| 19.4 MB 1.2 MB/s \n",
            "\u001b[?25hCollecting beautifulsoup4==4.6.0\n",
            "  Downloading beautifulsoup4-4.6.0-py3-none-any.whl (86 kB)\n",
            "\u001b[K     |████████████████████████████████| 86 kB 5.7 MB/s \n",
            "\u001b[?25hRequirement already satisfied: lxml>=4.1.0 in /usr/local/lib/python3.7/dist-packages (from konlpy) (4.2.6)\n",
            "Collecting colorama\n",
            "  Downloading colorama-0.4.4-py2.py3-none-any.whl (16 kB)\n",
            "Collecting JPype1>=0.7.0\n",
            "  Downloading JPype1-1.3.0-cp37-cp37m-manylinux_2_5_x86_64.manylinux1_x86_64.whl (448 kB)\n",
            "\u001b[K     |████████████████████████████████| 448 kB 71.6 MB/s \n",
            "\u001b[?25hRequirement already satisfied: tweepy>=3.7.0 in /usr/local/lib/python3.7/dist-packages (from konlpy) (3.10.0)\n",
            "Requirement already satisfied: numpy>=1.6 in /usr/local/lib/python3.7/dist-packages (from konlpy) (1.19.5)\n",
            "Requirement already satisfied: typing-extensions in /usr/local/lib/python3.7/dist-packages (from JPype1>=0.7.0->konlpy) (3.7.4.3)\n",
            "Requirement already satisfied: requests[socks]>=2.11.1 in /usr/local/lib/python3.7/dist-packages (from tweepy>=3.7.0->konlpy) (2.23.0)\n",
            "Requirement already satisfied: six>=1.10.0 in /usr/local/lib/python3.7/dist-packages (from tweepy>=3.7.0->konlpy) (1.15.0)\n",
            "Requirement already satisfied: requests-oauthlib>=0.7.0 in /usr/local/lib/python3.7/dist-packages (from tweepy>=3.7.0->konlpy) (1.3.0)\n",
            "Requirement already satisfied: oauthlib>=3.0.0 in /usr/local/lib/python3.7/dist-packages (from requests-oauthlib>=0.7.0->tweepy>=3.7.0->konlpy) (3.1.1)\n",
            "Requirement already satisfied: certifi>=2017.4.17 in /usr/local/lib/python3.7/dist-packages (from requests[socks]>=2.11.1->tweepy>=3.7.0->konlpy) (2021.5.30)\n",
            "Requirement already satisfied: urllib3!=1.25.0,!=1.25.1,<1.26,>=1.21.1 in /usr/local/lib/python3.7/dist-packages (from requests[socks]>=2.11.1->tweepy>=3.7.0->konlpy) (1.24.3)\n",
            "Requirement already satisfied: chardet<4,>=3.0.2 in /usr/local/lib/python3.7/dist-packages (from requests[socks]>=2.11.1->tweepy>=3.7.0->konlpy) (3.0.4)\n",
            "Requirement already satisfied: idna<3,>=2.5 in /usr/local/lib/python3.7/dist-packages (from requests[socks]>=2.11.1->tweepy>=3.7.0->konlpy) (2.10)\n",
            "Requirement already satisfied: PySocks!=1.5.7,>=1.5.6 in /usr/local/lib/python3.7/dist-packages (from requests[socks]>=2.11.1->tweepy>=3.7.0->konlpy) (1.7.1)\n",
            "Installing collected packages: JPype1, colorama, beautifulsoup4, konlpy\n",
            "  Attempting uninstall: beautifulsoup4\n",
            "    Found existing installation: beautifulsoup4 4.6.3\n",
            "    Uninstalling beautifulsoup4-4.6.3:\n",
            "      Successfully uninstalled beautifulsoup4-4.6.3\n",
            "Successfully installed JPype1-1.3.0 beautifulsoup4-4.6.0 colorama-0.4.4 konlpy-0.5.2\n"
          ],
          "name": "stdout"
        }
      ]
    },
    {
      "cell_type": "code",
      "metadata": {
        "id": "mhZDeOy-Tac8",
        "colab": {
          "base_uri": "https://localhost:8080/"
        },
        "outputId": "101b2741-5041-41cb-f20c-c8f44b1ba348"
      },
      "source": [
        "priority_dict = {}\n",
        "\n",
        "for i in range(len(priority['의도명(유형)'])):\n",
        "  priority_dict[priority['의도명(유형)'][i]] = priority['우선순위'][i]\n",
        "print(priority_dict)\n",
        "\n",
        "label_level3 = {}\n",
        "level3_cnt = 1\n",
        "label_level3['None'] = 0\n",
        "for i in priority['의도명(유형)']:\n",
        "  level = i.split('>')\n",
        "  if len(level) == 3 and level[2] not in label_level3:\n",
        "    label_level3[level[2]] = level3_cnt\n",
        "    level3_cnt += 1\n",
        "  elif len(level) == 2 and level[1] not in label_level3:\n",
        "    label_level3[level[1]] = level3_cnt\n",
        "    level3_cnt += 1\n",
        "print(label_level3)\n",
        "print(label_level3.keys())\n",
        "\n",
        "label_sentiment = {'칭찬': 0, '불만': 1}\n"
      ],
      "execution_count": 4,
      "outputs": [
        {
          "output_type": "stream",
          "text": [
            "{'칭찬>고객서비스>상담원': 1, '칭찬>고객서비스>상담시스템': 2, '칭찬>고객서비스': 3, '불만>고객서비스>상담원': 4, '불만>고객서비스>상담시스템': 5, '불만>고객서비스': 6, '칭찬>삼성카드>혜택': 7, '칭찬>삼성카드>할부금융상품': 8, '칭찬>삼성카드>커뮤니티서비스': 9, '칭찬>삼성카드>카드이용/결제': 10, '칭찬>삼성카드>카드상품': 11, '칭찬>삼성카드>청구입금': 12, '칭찬>삼성카드>심사/한도': 13, '칭찬>삼성카드>생활편의서비스': 14, '칭찬>삼성카드>상담/채널': 15, '칭찬>삼성카드>리스렌탈상품': 16, '칭찬>삼성카드>라이프서비스': 17, '칭찬>삼성카드>금융상품': 18, '칭찬>삼성카드>고객정보관리': 19, '칭찬>삼성카드>가맹점매출/승인': 20, '칭찬>삼성카드>가맹점대금': 21, '칭찬>삼성카드>가맹점계약': 22, '칭찬>삼성카드': 23, '칭찬>기타': 24, '불만>삼성카드>혜택': 25, '불만>삼성카드>할부금융상품': 26, '불만>삼성카드>커뮤니티서비스': 27, '불만>삼성카드>카드이용/결제': 28, '불만>삼성카드>카드상품': 29, '불만>삼성카드>청구입금': 30, '불만>삼성카드>심사/한도': 31, '불만>삼성카드>생활편의서비스': 32, '불만>삼성카드>상담/채널': 33, '불만>삼성카드>리스렌탈상품': 34, '불만>삼성카드>라이프서비스': 35, '불만>삼성카드>금융상품': 36, '불만>삼성카드>고객정보관리': 37, '불만>삼성카드>가맹점매출/승인': 38, '불만>삼성카드>가맹점대금': 39, '불만>삼성카드>가맹점계약': 40, '불만>삼성카드': 41, '불만>기타': 42, '중립': 43, '폐기': 44}\n",
            "{'None': 0, '상담원': 1, '상담시스템': 2, '고객서비스': 3, '혜택': 4, '할부금융상품': 5, '커뮤니티서비스': 6, '카드이용/결제': 7, '카드상품': 8, '청구입금': 9, '심사/한도': 10, '생활편의서비스': 11, '상담/채널': 12, '리스렌탈상품': 13, '라이프서비스': 14, '금융상품': 15, '고객정보관리': 16, '가맹점매출/승인': 17, '가맹점대금': 18, '가맹점계약': 19, '삼성카드': 20, '기타': 21}\n",
            "dict_keys(['None', '상담원', '상담시스템', '고객서비스', '혜택', '할부금융상품', '커뮤니티서비스', '카드이용/결제', '카드상품', '청구입금', '심사/한도', '생활편의서비스', '상담/채널', '리스렌탈상품', '라이프서비스', '금융상품', '고객정보관리', '가맹점매출/승인', '가맹점대금', '가맹점계약', '삼성카드', '기타'])\n"
          ],
          "name": "stdout"
        }
      ]
    },
    {
      "cell_type": "code",
      "metadata": {
        "id": "JUSj82c_wXaI"
      },
      "source": [
        "import requests\n",
        "import json\n",
        "import sys\n",
        "import re\n",
        "import xml.etree.ElementTree as ET\n",
        "import copy\n",
        "\n",
        "base_url = 'https://m.search.naver.com/p/csearch/ocontent/spellchecker.nhn'\n",
        "\n",
        "_agent = requests.Session()\n",
        "PY3 = sys.version_info[0] == 3\n",
        "\n",
        "\n",
        "def _remove_tags(text):\n",
        "    text = u'<content>{}</content>'.format(text).replace('<br>', '')\n",
        "    if not PY3:\n",
        "        text = text.encode('utf-8')\n",
        "\n",
        "    result = ''.join(ET.fromstring(text).itertext())\n",
        "\n",
        "    return result\n",
        "\n",
        "\n",
        "def check(text):\n",
        "\n",
        "    if isinstance(text, list):\n",
        "        result = []\n",
        "        for item in text:\n",
        "            checked = check(item)\n",
        "            result.append(checked)\n",
        "        return result\n",
        "\n",
        "    payload = {\n",
        "        '_callback': 'window.__jindo2_callback._spellingCheck_0',\n",
        "        'q': text\n",
        "    }\n",
        "\n",
        "    headers = {\n",
        "        'user-agent': 'https://github.com/michael960725',\n",
        "        'referer': 'https://naver.com/',\n",
        "    }\n",
        "\n",
        "    r = _agent.get(base_url, params=payload, headers=headers)\n",
        "    r = r.text[42:-2]\n",
        "\n",
        "    data = json.loads(r)\n",
        "    html = data['message']['result']['html']\n",
        "    return _remove_tags(html)\n",
        "\n",
        "\n",
        "parsed_text_list = []\n",
        "training_data_deepcopy = copy.deepcopy(training_data)\n",
        "for i in training_data_deepcopy['발화']:\n",
        "  new_text = re.sub('[^가-힣a-zA-Z0-9]', \" \", i)\n",
        "  parsed_text_list.append(check(new_text))"
      ],
      "execution_count": 5,
      "outputs": []
    },
    {
      "cell_type": "code",
      "metadata": {
        "id": "HIFcDx-rU6BO",
        "colab": {
          "base_uri": "https://localhost:8080/"
        },
        "outputId": "846a4cf7-c5b9-4615-ae51-7cf7398beeb2"
      },
      "source": [
        "\n",
        "# training_data_copy_kkma = copy.deepcopy(training_data)\n",
        "label_sentiment = {'칭찬': 0, '중립': 0.5, '불만': 1}\n",
        "cnt = 0\n",
        "column_label_level3 = []\n",
        "column_label_sentiment = []\n",
        "column_ground_truth = []\n",
        "for ground_truth in training_data['최종분류(우선순위 가장 높은것 선택)']:\n",
        "  level = ground_truth.split('>')\n",
        "  if len(level) == 3:\n",
        "    column_label_level3.append(label_level3[level[2]])\n",
        "  elif len(level) == 2:\n",
        "    column_label_level3.append(label_level3[level[1]])\n",
        "  else:\n",
        "    column_label_level3.append(label_level3['None'])\n",
        "  column_label_sentiment.append(label_sentiment[level[0]])\n",
        "  column_ground_truth.append(priority_dict[ground_truth])\n",
        "  cnt += 1\n",
        "data = {'발화': parsed_text_list, 'label': column_label_level3}\n",
        "data_sentiment = {'발화': parsed_text_list, 'label': column_label_sentiment}\n",
        "data_ground_truth = {'발화': parsed_text_list, 'label': column_ground_truth}\n",
        "label_for_level3 = pd.DataFrame(data)\n",
        "label_for_sentiment = pd.DataFrame(data_sentiment)\n",
        "label_for_ground_truth = pd.DataFrame(data_ground_truth)\n",
        "# df = pd.DataFrame(np.random.randn(100, 2))\n",
        "print(label_for_level3)\n",
        "print(label_for_sentiment)\n",
        "# training_data_copy_kkma['label'] = column_label_level3\n",
        "# print(training_data_copy_kkma['최종분류(우선순위 가장 높은것 선택)'], training_data_copy_kkma['label'])\n"
      ],
      "execution_count": 9,
      "outputs": [
        {
          "output_type": "stream",
          "text": [
            "                                                    발화  label\n",
            "0                                      연결 시간이 너무 오래 걸린      2\n",
            "1                                     통화하기 전 대기시간이 기네요      2\n",
            "2                                          통화하기까지 대기시간      2\n",
            "3                                  전화 통화대기 시간이 없으면 좋겠다      2\n",
            "4                                전화연결 시간이 좀 더 빨랐으면 합니다      2\n",
            "...                                                ...    ...\n",
            "8995                                       무이자  할부  확대      4\n",
            "8996                           무이자 할부를 할 수 있어서 너무 고맙네요      4\n",
            "8997                                  무이자 할부거래 개월 수 연장      4\n",
            "8998  한도 상향도 잘해주고  개인 무이자 할부도  이벤트 해서 잘 진행해줬습니다  수고하세요      4\n",
            "8999                                      무이자 할부 기간 연장      4\n",
            "\n",
            "[9000 rows x 2 columns]\n",
            "                                                    발화  label\n",
            "0                                      연결 시간이 너무 오래 걸린    1.0\n",
            "1                                     통화하기 전 대기시간이 기네요    1.0\n",
            "2                                          통화하기까지 대기시간    1.0\n",
            "3                                  전화 통화대기 시간이 없으면 좋겠다    1.0\n",
            "4                                전화연결 시간이 좀 더 빨랐으면 합니다    1.0\n",
            "...                                                ...    ...\n",
            "8995                                       무이자  할부  확대    0.0\n",
            "8996                           무이자 할부를 할 수 있어서 너무 고맙네요    0.0\n",
            "8997                                  무이자 할부거래 개월 수 연장    0.0\n",
            "8998  한도 상향도 잘해주고  개인 무이자 할부도  이벤트 해서 잘 진행해줬습니다  수고하세요    0.0\n",
            "8999                                      무이자 할부 기간 연장    0.0\n",
            "\n",
            "[9000 rows x 2 columns]\n"
          ],
          "name": "stdout"
        }
      ]
    },
    {
      "cell_type": "code",
      "metadata": {
        "id": "hV899WyLecN8"
      },
      "source": [
        "from sklearn.model_selection import train_test_split\n",
        "\n",
        "train, test = train_test_split(label_for_level3, test_size=0.2)\n",
        "train_s, test_s = train_test_split(label_for_sentiment, test_size = 0.2)\n",
        "train_g, test_g = train_test_split(label_for_ground_truth, test_size = 0.2)"
      ],
      "execution_count": 10,
      "outputs": []
    },
    {
      "cell_type": "code",
      "metadata": {
        "id": "YEB6Xm1ncXUm"
      },
      "source": [
        "import numpy as np\n",
        "train.to_csv(r'train.txt', header=None, index=None, sep='\\t', mode='a')\n",
        "test.to_csv(r'test.txt', header=None, index=None, sep='\\t', mode='a')\n",
        "train_s.to_csv(r'train_s.txt', header=None, index=None, sep='\\t', mode='a')\n",
        "test_s.to_csv(r'test_s.txt', header=None, index=None, sep='\\t', mode='a')\n",
        "train_g.to_csv(r'train_g.txt', header=None, index=None, sep='\\t', mode='a')\n",
        "test_g.to_csv(r'test_g.txt', header=None, index=None, sep='\\t', mode='a')\n",
        "# np.savetxt(r'c:Wtest.txt', test.values, fmt='%s')\n",
        "# 이 파일들은 올려만 놓고 참조하는 방식"
      ],
      "execution_count": 11,
      "outputs": []
    },
    {
      "cell_type": "code",
      "metadata": {
        "id": "mpTOdIO0yMQ0"
      },
      "source": [
        ""
      ],
      "execution_count": null,
      "outputs": []
    },
    {
      "cell_type": "code",
      "metadata": {
        "id": "mCw3QuZe2R3p"
      },
      "source": [
        ""
      ],
      "execution_count": null,
      "outputs": []
    },
    {
      "cell_type": "code",
      "metadata": {
        "id": "stfLDgwQ2R0J"
      },
      "source": [
        ""
      ],
      "execution_count": null,
      "outputs": []
    },
    {
      "cell_type": "code",
      "metadata": {
        "id": "8d2X232W2RwZ"
      },
      "source": [
        ""
      ],
      "execution_count": null,
      "outputs": []
    },
    {
      "cell_type": "code",
      "metadata": {
        "id": "4d1_3ag22RtZ"
      },
      "source": [
        ""
      ],
      "execution_count": null,
      "outputs": []
    },
    {
      "cell_type": "code",
      "metadata": {
        "id": "z9Hm4TpY2RnO"
      },
      "source": [
        ""
      ],
      "execution_count": null,
      "outputs": []
    },
    {
      "cell_type": "code",
      "metadata": {
        "pycharm": {
          "name": "#%%\n"
        },
        "id": "abGHY1jJaOFB",
        "colab": {
          "base_uri": "https://localhost:8080/"
        },
        "outputId": "1f1a2f2b-4831-4482-8132-de0bd5bdaea5"
      },
      "source": [
        "## Kkma sentence\n",
        "from konlpy.tag import Kkma\n",
        "import copy\n",
        "import time\n",
        "kkma = Kkma()\n",
        "\n",
        "\n",
        "def perform_Kkma(text):\n",
        "  temp_kkma = kkma.sentences(text)\n",
        "  if [text] != temp_kkma:\n",
        "    new_string_to_add = ''\n",
        "    new_string_to_add += ' '.join(temp_kkma)\n",
        "    return new_string_to_add\n",
        "  else:\n",
        "    return text\n",
        "\n",
        "\n",
        "s = time.time()\n",
        "\n",
        "training_data_copy_kkma = copy.deepcopy(training_data)\n",
        "\n",
        "cnt = 0\n",
        "column_added_kkma = []\n",
        "for text in training_data['발화']:\n",
        "  column_added_kkma.append(perform_Kkma(text))\n",
        "  cnt += 1\n",
        "training_data_copy_kkma['Kkma'] = column_added_kkma\n",
        "\n",
        "print(training_data.values[:, 2][:20])\n",
        "print(training_data_copy_kkma.values[:, 10][:20])\n",
        "e = time.time()\n",
        "\n",
        "print(e - s)"
      ],
      "execution_count": null,
      "outputs": [
        {
          "output_type": "stream",
          "text": [
            "['상담직원과 빠른연결했슴좋겠어요' '안기다리고. 빨리상담되었음좋겠다' '너무 오래기다리고 상담이 늦어져요'\n",
            " '상담직원과  통화가  매우  힘들다' '상담받으려면오래기다리는게불편함' '상담하려면 많이기다려야하는게 불편합니다.'\n",
            " '상담원이통화중이라많이기다려야해요' '상담직원과의연결이 빠르게연결되면촣겠습니다' 'ars상담직원넘많이기다려야하는불편해요'\n",
            " '상담원 통화가너믜힘듬' '상담원과의 연결이빨리되었으면감사힘니다' '상담원이 영결이많이힘이듬'\n",
            " '5번질문에 대한 답변은 상담직원 연결되기까지 기다리는것말곤없는듯'\n",
            " '상담을 하려면 좀 많이기다려야 상담사분이 나오셔서 그게좀 불편하네요' 'Talk 상담이 다시 생겼으면..'\n",
            " '상담하려하는  기다리는시간    너무길다' '상담직원과 빠른속도로  연결이되길 원합니다' '상담직원과 빠른연결부탁드립니다'\n",
            " '상담직원과통화하기가힘들다' '상담한번받을려면 보통5분이상대기해야실질상담은2분미만인데.']\n",
            "['상담 직원과 빠른연결했슴좋겠어요' '안 기다리고. 빨리 상담되었음 좋겠다' '너무 오래 기다리고 상담이 늦어져요'\n",
            " '상담 직원과 통화가 매우 힘들다' '상담 받으려면 오래 기다리는 게 불편함' '상담하려면 많이 기다려야 하는 게 불편합니다.'\n",
            " '상담원이 통화 중이라 많이 기다려야 해요' '상담 직원 과의 연결이 빠르게 연결되면 촣겠습니다'\n",
            " 'ars 상담 직원 넘 많이 기다려야 하는 불편해요' '상담원 통화가 너 믜 힘 듬'\n",
            " '상담원과의 연결이 빨리 되었으면 감사 힘니다' '상담원이 영결이 많이 힘이 듬'\n",
            " '5번 질문에 대한 답변은 상담 직원 연결되기까지 기다리는 것 말곤 없는 듯'\n",
            " '상담을 하려면 좀 많이 기다려야 상담 사분이 나오셔서 그게 좀 불편하네요' 'Talk 상담이 다시 생겼으면..'\n",
            " '상담하려 하는 기다리는 시간 너무 길다' '상담 직원과 빠른 속도로 연결이 되길 원합니다' '상담 직원과 빠른 연결 부탁드립니다'\n",
            " '상담 직원과 통화하기가 힘들다' '상담한 번받 을려 면 보통 5분 이상 대기해야 실질상담은 2분 미만인데.']\n",
            "42.34169054031372\n"
          ],
          "name": "stdout"
        }
      ]
    },
    {
      "cell_type": "code",
      "metadata": {
        "id": "5uU18cKtaPtD",
        "colab": {
          "base_uri": "https://localhost:8080/"
        },
        "outputId": "7e302604-408d-4f9b-f127-dc5127a350a1"
      },
      "source": [
        "!pip install transformers\n",
        "from transformers import BertModel, ElectraTokenizer, BertTokenizer\n",
        "model = BertModel.from_pretrained('skt/kobert-base-v1')\n",
        "tokenizer = ElectraTokenizer.from_pretrained(\"monologg/koelectra-base-v3-discriminator\")\n",
        "print(tokenizer.tokenize(\"삼성카드가 제일 전문적이고 정확하다.\"))\n",
        "tokenizer = BertTokenizer.from_pretrained('bert-base-multilingual-cased')\n",
        "tokenizer.tokenize('삼성카드가 제일 전문적이고 정확하다.')"
      ],
      "execution_count": null,
      "outputs": [
        {
          "output_type": "stream",
          "text": [
            "Requirement already satisfied: transformers in /usr/local/lib/python3.7/dist-packages (4.9.0)\n",
            "Requirement already satisfied: tokenizers<0.11,>=0.10.1 in /usr/local/lib/python3.7/dist-packages (from transformers) (0.10.3)\n",
            "Requirement already satisfied: regex!=2019.12.17 in /usr/local/lib/python3.7/dist-packages (from transformers) (2019.12.20)\n",
            "Requirement already satisfied: filelock in /usr/local/lib/python3.7/dist-packages (from transformers) (3.0.12)\n",
            "Requirement already satisfied: tqdm>=4.27 in /usr/local/lib/python3.7/dist-packages (from transformers) (4.41.1)\n",
            "Requirement already satisfied: requests in /usr/local/lib/python3.7/dist-packages (from transformers) (2.23.0)\n",
            "Requirement already satisfied: importlib-metadata in /usr/local/lib/python3.7/dist-packages (from transformers) (4.6.1)\n",
            "Requirement already satisfied: pyyaml>=5.1 in /usr/local/lib/python3.7/dist-packages (from transformers) (5.4.1)\n",
            "Requirement already satisfied: sacremoses in /usr/local/lib/python3.7/dist-packages (from transformers) (0.0.45)\n",
            "Requirement already satisfied: huggingface-hub==0.0.12 in /usr/local/lib/python3.7/dist-packages (from transformers) (0.0.12)\n",
            "Requirement already satisfied: numpy>=1.17 in /usr/local/lib/python3.7/dist-packages (from transformers) (1.19.5)\n",
            "Requirement already satisfied: packaging in /usr/local/lib/python3.7/dist-packages (from transformers) (21.0)\n",
            "Requirement already satisfied: typing-extensions in /usr/local/lib/python3.7/dist-packages (from huggingface-hub==0.0.12->transformers) (3.7.4.3)\n",
            "Requirement already satisfied: pyparsing>=2.0.2 in /usr/local/lib/python3.7/dist-packages (from packaging->transformers) (2.4.7)\n",
            "Requirement already satisfied: zipp>=0.5 in /usr/local/lib/python3.7/dist-packages (from importlib-metadata->transformers) (3.5.0)\n",
            "Requirement already satisfied: chardet<4,>=3.0.2 in /usr/local/lib/python3.7/dist-packages (from requests->transformers) (3.0.4)\n",
            "Requirement already satisfied: idna<3,>=2.5 in /usr/local/lib/python3.7/dist-packages (from requests->transformers) (2.10)\n",
            "Requirement already satisfied: urllib3!=1.25.0,!=1.25.1,<1.26,>=1.21.1 in /usr/local/lib/python3.7/dist-packages (from requests->transformers) (1.24.3)\n",
            "Requirement already satisfied: certifi>=2017.4.17 in /usr/local/lib/python3.7/dist-packages (from requests->transformers) (2021.5.30)\n",
            "Requirement already satisfied: click in /usr/local/lib/python3.7/dist-packages (from sacremoses->transformers) (7.1.2)\n",
            "Requirement already satisfied: joblib in /usr/local/lib/python3.7/dist-packages (from sacremoses->transformers) (1.0.1)\n",
            "Requirement already satisfied: six in /usr/local/lib/python3.7/dist-packages (from sacremoses->transformers) (1.15.0)\n",
            "['삼성카드', '##가', '제일', '전문', '##적', '##이', '##고', '정확', '##하', '##다', '.']\n"
          ],
          "name": "stdout"
        },
        {
          "output_type": "execute_result",
          "data": {
            "text/plain": [
              "['삼',\n",
              " '##성',\n",
              " '##카',\n",
              " '##드',\n",
              " '##가',\n",
              " '제',\n",
              " '##일',\n",
              " '전',\n",
              " '##문',\n",
              " '##적',\n",
              " '##이고',\n",
              " '정',\n",
              " '##확',\n",
              " '##하다',\n",
              " '.']"
            ]
          },
          "metadata": {
            "tags": []
          },
          "execution_count": 11
        }
      ]
    },
    {
      "cell_type": "code",
      "metadata": {
        "id": "4_J3A_N3ngn5",
        "colab": {
          "base_uri": "https://localhost:8080/",
          "height": 35
        },
        "outputId": "31fe206d-fb83-4281-af06-35daf72a7e48"
      },
      "source": [
        "tokenizer = ElectraTokenizer.from_pretrained(\"monologg/koelectra-base-v3-discriminator\")\n",
        "# tokenizer = BertTokenizer.from_pretrained('bert-base-multilingual-cased')\n",
        "tokenizer.decode([2,11029, 6851, 17788, 3])"
      ],
      "execution_count": null,
      "outputs": [
        {
          "output_type": "execute_result",
          "data": {
            "application/vnd.google.colaboratory.intrinsic+json": {
              "type": "string"
            },
            "text/plain": [
              "'[CLS] 친절 감사합니다 [SEP]'"
            ]
          },
          "metadata": {
            "tags": []
          },
          "execution_count": 32
        }
      ]
    }
  ]
}