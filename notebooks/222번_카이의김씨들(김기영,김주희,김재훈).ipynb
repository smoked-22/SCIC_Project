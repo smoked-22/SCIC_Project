{
  "nbformat": 4,
  "nbformat_minor": 0,
  "metadata": {
    "colab": {
      "name": "222번.카이의김씨들(김기영,김주희,김재훈).ipynb",
      "provenance": [],
      "collapsed_sections": []
    },
    "kernelspec": {
      "name": "python3",
      "display_name": "Python 3"
    },
    "language_info": {
      "name": "python"
    },
    "accelerator": "GPU",
    "widgets": {
      "application/vnd.jupyter.widget-state+json": {
        "245c92ee28414d3f9b3d3878ec85047c": {
          "model_module": "@jupyter-widgets/controls",
          "model_name": "HBoxModel",
          "model_module_version": "1.5.0",
          "state": {
            "_view_name": "HBoxView",
            "_dom_classes": [],
            "_model_name": "HBoxModel",
            "_view_module": "@jupyter-widgets/controls",
            "_model_module_version": "1.5.0",
            "_view_count": null,
            "_view_module_version": "1.5.0",
            "box_style": "",
            "layout": "IPY_MODEL_ba5ee84b2f364ab2a1ac9c73ae40a00e",
            "_model_module": "@jupyter-widgets/controls",
            "children": [
              "IPY_MODEL_a40e1da1e9a94973b09c4f09e5559d46",
              "IPY_MODEL_9d65febe3be2476182edec658267b73a"
            ]
          }
        },
        "ba5ee84b2f364ab2a1ac9c73ae40a00e": {
          "model_module": "@jupyter-widgets/base",
          "model_name": "LayoutModel",
          "model_module_version": "1.2.0",
          "state": {
            "_view_name": "LayoutView",
            "grid_template_rows": null,
            "right": null,
            "justify_content": null,
            "_view_module": "@jupyter-widgets/base",
            "overflow": null,
            "_model_module_version": "1.2.0",
            "_view_count": null,
            "flex_flow": null,
            "width": null,
            "min_width": null,
            "border": null,
            "align_items": null,
            "bottom": null,
            "_model_module": "@jupyter-widgets/base",
            "top": null,
            "grid_column": null,
            "overflow_y": null,
            "overflow_x": null,
            "grid_auto_flow": null,
            "grid_area": null,
            "grid_template_columns": null,
            "flex": null,
            "_model_name": "LayoutModel",
            "justify_items": null,
            "grid_row": null,
            "max_height": null,
            "align_content": null,
            "visibility": null,
            "align_self": null,
            "height": null,
            "min_height": null,
            "padding": null,
            "grid_auto_rows": null,
            "grid_gap": null,
            "max_width": null,
            "order": null,
            "_view_module_version": "1.2.0",
            "grid_template_areas": null,
            "object_position": null,
            "object_fit": null,
            "grid_auto_columns": null,
            "margin": null,
            "display": null,
            "left": null
          }
        },
        "a40e1da1e9a94973b09c4f09e5559d46": {
          "model_module": "@jupyter-widgets/controls",
          "model_name": "FloatProgressModel",
          "model_module_version": "1.5.0",
          "state": {
            "_view_name": "ProgressView",
            "style": "IPY_MODEL_4efca46f2eaf45499fab32c14a798e90",
            "_dom_classes": [],
            "description": "Downloading: 100%",
            "_model_name": "FloatProgressModel",
            "bar_style": "success",
            "max": 467,
            "_view_module": "@jupyter-widgets/controls",
            "_model_module_version": "1.5.0",
            "value": 467,
            "_view_count": null,
            "_view_module_version": "1.5.0",
            "orientation": "horizontal",
            "min": 0,
            "description_tooltip": null,
            "_model_module": "@jupyter-widgets/controls",
            "layout": "IPY_MODEL_260aa46bc617494a951634a5dee95025"
          }
        },
        "9d65febe3be2476182edec658267b73a": {
          "model_module": "@jupyter-widgets/controls",
          "model_name": "HTMLModel",
          "model_module_version": "1.5.0",
          "state": {
            "_view_name": "HTMLView",
            "style": "IPY_MODEL_8345a2b7d61e4b30ae3516e013f48628",
            "_dom_classes": [],
            "description": "",
            "_model_name": "HTMLModel",
            "placeholder": "​",
            "_view_module": "@jupyter-widgets/controls",
            "_model_module_version": "1.5.0",
            "value": " 467/467 [00:02&lt;00:00, 165B/s]",
            "_view_count": null,
            "_view_module_version": "1.5.0",
            "description_tooltip": null,
            "_model_module": "@jupyter-widgets/controls",
            "layout": "IPY_MODEL_900d170ce1374b7d85ab68bb73246684"
          }
        },
        "4efca46f2eaf45499fab32c14a798e90": {
          "model_module": "@jupyter-widgets/controls",
          "model_name": "ProgressStyleModel",
          "model_module_version": "1.5.0",
          "state": {
            "_view_name": "StyleView",
            "_model_name": "ProgressStyleModel",
            "description_width": "initial",
            "_view_module": "@jupyter-widgets/base",
            "_model_module_version": "1.5.0",
            "_view_count": null,
            "_view_module_version": "1.2.0",
            "bar_color": null,
            "_model_module": "@jupyter-widgets/controls"
          }
        },
        "260aa46bc617494a951634a5dee95025": {
          "model_module": "@jupyter-widgets/base",
          "model_name": "LayoutModel",
          "model_module_version": "1.2.0",
          "state": {
            "_view_name": "LayoutView",
            "grid_template_rows": null,
            "right": null,
            "justify_content": null,
            "_view_module": "@jupyter-widgets/base",
            "overflow": null,
            "_model_module_version": "1.2.0",
            "_view_count": null,
            "flex_flow": null,
            "width": null,
            "min_width": null,
            "border": null,
            "align_items": null,
            "bottom": null,
            "_model_module": "@jupyter-widgets/base",
            "top": null,
            "grid_column": null,
            "overflow_y": null,
            "overflow_x": null,
            "grid_auto_flow": null,
            "grid_area": null,
            "grid_template_columns": null,
            "flex": null,
            "_model_name": "LayoutModel",
            "justify_items": null,
            "grid_row": null,
            "max_height": null,
            "align_content": null,
            "visibility": null,
            "align_self": null,
            "height": null,
            "min_height": null,
            "padding": null,
            "grid_auto_rows": null,
            "grid_gap": null,
            "max_width": null,
            "order": null,
            "_view_module_version": "1.2.0",
            "grid_template_areas": null,
            "object_position": null,
            "object_fit": null,
            "grid_auto_columns": null,
            "margin": null,
            "display": null,
            "left": null
          }
        },
        "8345a2b7d61e4b30ae3516e013f48628": {
          "model_module": "@jupyter-widgets/controls",
          "model_name": "DescriptionStyleModel",
          "model_module_version": "1.5.0",
          "state": {
            "_view_name": "StyleView",
            "_model_name": "DescriptionStyleModel",
            "description_width": "",
            "_view_module": "@jupyter-widgets/base",
            "_model_module_version": "1.5.0",
            "_view_count": null,
            "_view_module_version": "1.2.0",
            "_model_module": "@jupyter-widgets/controls"
          }
        },
        "900d170ce1374b7d85ab68bb73246684": {
          "model_module": "@jupyter-widgets/base",
          "model_name": "LayoutModel",
          "model_module_version": "1.2.0",
          "state": {
            "_view_name": "LayoutView",
            "grid_template_rows": null,
            "right": null,
            "justify_content": null,
            "_view_module": "@jupyter-widgets/base",
            "overflow": null,
            "_model_module_version": "1.2.0",
            "_view_count": null,
            "flex_flow": null,
            "width": null,
            "min_width": null,
            "border": null,
            "align_items": null,
            "bottom": null,
            "_model_module": "@jupyter-widgets/base",
            "top": null,
            "grid_column": null,
            "overflow_y": null,
            "overflow_x": null,
            "grid_auto_flow": null,
            "grid_area": null,
            "grid_template_columns": null,
            "flex": null,
            "_model_name": "LayoutModel",
            "justify_items": null,
            "grid_row": null,
            "max_height": null,
            "align_content": null,
            "visibility": null,
            "align_self": null,
            "height": null,
            "min_height": null,
            "padding": null,
            "grid_auto_rows": null,
            "grid_gap": null,
            "max_width": null,
            "order": null,
            "_view_module_version": "1.2.0",
            "grid_template_areas": null,
            "object_position": null,
            "object_fit": null,
            "grid_auto_columns": null,
            "margin": null,
            "display": null,
            "left": null
          }
        },
        "4677cbe6f2014effbdc33fe15accf55d": {
          "model_module": "@jupyter-widgets/controls",
          "model_name": "HBoxModel",
          "model_module_version": "1.5.0",
          "state": {
            "_view_name": "HBoxView",
            "_dom_classes": [],
            "_model_name": "HBoxModel",
            "_view_module": "@jupyter-widgets/controls",
            "_model_module_version": "1.5.0",
            "_view_count": null,
            "_view_module_version": "1.5.0",
            "box_style": "",
            "layout": "IPY_MODEL_dc7ad1ca7a554aa3ac68c9e67383bf70",
            "_model_module": "@jupyter-widgets/controls",
            "children": [
              "IPY_MODEL_ed4d7475299447ce8df7b068106d3398",
              "IPY_MODEL_499eb7ba961b4aefa1c10aa9de5f0dd0"
            ]
          }
        },
        "dc7ad1ca7a554aa3ac68c9e67383bf70": {
          "model_module": "@jupyter-widgets/base",
          "model_name": "LayoutModel",
          "model_module_version": "1.2.0",
          "state": {
            "_view_name": "LayoutView",
            "grid_template_rows": null,
            "right": null,
            "justify_content": null,
            "_view_module": "@jupyter-widgets/base",
            "overflow": null,
            "_model_module_version": "1.2.0",
            "_view_count": null,
            "flex_flow": null,
            "width": null,
            "min_width": null,
            "border": null,
            "align_items": null,
            "bottom": null,
            "_model_module": "@jupyter-widgets/base",
            "top": null,
            "grid_column": null,
            "overflow_y": null,
            "overflow_x": null,
            "grid_auto_flow": null,
            "grid_area": null,
            "grid_template_columns": null,
            "flex": null,
            "_model_name": "LayoutModel",
            "justify_items": null,
            "grid_row": null,
            "max_height": null,
            "align_content": null,
            "visibility": null,
            "align_self": null,
            "height": null,
            "min_height": null,
            "padding": null,
            "grid_auto_rows": null,
            "grid_gap": null,
            "max_width": null,
            "order": null,
            "_view_module_version": "1.2.0",
            "grid_template_areas": null,
            "object_position": null,
            "object_fit": null,
            "grid_auto_columns": null,
            "margin": null,
            "display": null,
            "left": null
          }
        },
        "ed4d7475299447ce8df7b068106d3398": {
          "model_module": "@jupyter-widgets/controls",
          "model_name": "FloatProgressModel",
          "model_module_version": "1.5.0",
          "state": {
            "_view_name": "ProgressView",
            "style": "IPY_MODEL_8e8d49c383d2457485a4bf69ad283c09",
            "_dom_classes": [],
            "description": "Downloading: 100%",
            "_model_name": "FloatProgressModel",
            "bar_style": "success",
            "max": 263326,
            "_view_module": "@jupyter-widgets/controls",
            "_model_module_version": "1.5.0",
            "value": 263326,
            "_view_count": null,
            "_view_module_version": "1.5.0",
            "orientation": "horizontal",
            "min": 0,
            "description_tooltip": null,
            "_model_module": "@jupyter-widgets/controls",
            "layout": "IPY_MODEL_b6248a51b34b40dba65df370ab24f242"
          }
        },
        "499eb7ba961b4aefa1c10aa9de5f0dd0": {
          "model_module": "@jupyter-widgets/controls",
          "model_name": "HTMLModel",
          "model_module_version": "1.5.0",
          "state": {
            "_view_name": "HTMLView",
            "style": "IPY_MODEL_403313b1f0e84b0e945b139c1b0ce9bb",
            "_dom_classes": [],
            "description": "",
            "_model_name": "HTMLModel",
            "placeholder": "​",
            "_view_module": "@jupyter-widgets/controls",
            "_model_module_version": "1.5.0",
            "value": " 263k/263k [00:01&lt;00:00, 207kB/s]",
            "_view_count": null,
            "_view_module_version": "1.5.0",
            "description_tooltip": null,
            "_model_module": "@jupyter-widgets/controls",
            "layout": "IPY_MODEL_e7b2d23cce544c8ca019bca3ec15274c"
          }
        },
        "8e8d49c383d2457485a4bf69ad283c09": {
          "model_module": "@jupyter-widgets/controls",
          "model_name": "ProgressStyleModel",
          "model_module_version": "1.5.0",
          "state": {
            "_view_name": "StyleView",
            "_model_name": "ProgressStyleModel",
            "description_width": "initial",
            "_view_module": "@jupyter-widgets/base",
            "_model_module_version": "1.5.0",
            "_view_count": null,
            "_view_module_version": "1.2.0",
            "bar_color": null,
            "_model_module": "@jupyter-widgets/controls"
          }
        },
        "b6248a51b34b40dba65df370ab24f242": {
          "model_module": "@jupyter-widgets/base",
          "model_name": "LayoutModel",
          "model_module_version": "1.2.0",
          "state": {
            "_view_name": "LayoutView",
            "grid_template_rows": null,
            "right": null,
            "justify_content": null,
            "_view_module": "@jupyter-widgets/base",
            "overflow": null,
            "_model_module_version": "1.2.0",
            "_view_count": null,
            "flex_flow": null,
            "width": null,
            "min_width": null,
            "border": null,
            "align_items": null,
            "bottom": null,
            "_model_module": "@jupyter-widgets/base",
            "top": null,
            "grid_column": null,
            "overflow_y": null,
            "overflow_x": null,
            "grid_auto_flow": null,
            "grid_area": null,
            "grid_template_columns": null,
            "flex": null,
            "_model_name": "LayoutModel",
            "justify_items": null,
            "grid_row": null,
            "max_height": null,
            "align_content": null,
            "visibility": null,
            "align_self": null,
            "height": null,
            "min_height": null,
            "padding": null,
            "grid_auto_rows": null,
            "grid_gap": null,
            "max_width": null,
            "order": null,
            "_view_module_version": "1.2.0",
            "grid_template_areas": null,
            "object_position": null,
            "object_fit": null,
            "grid_auto_columns": null,
            "margin": null,
            "display": null,
            "left": null
          }
        },
        "403313b1f0e84b0e945b139c1b0ce9bb": {
          "model_module": "@jupyter-widgets/controls",
          "model_name": "DescriptionStyleModel",
          "model_module_version": "1.5.0",
          "state": {
            "_view_name": "StyleView",
            "_model_name": "DescriptionStyleModel",
            "description_width": "",
            "_view_module": "@jupyter-widgets/base",
            "_model_module_version": "1.5.0",
            "_view_count": null,
            "_view_module_version": "1.2.0",
            "_model_module": "@jupyter-widgets/controls"
          }
        },
        "e7b2d23cce544c8ca019bca3ec15274c": {
          "model_module": "@jupyter-widgets/base",
          "model_name": "LayoutModel",
          "model_module_version": "1.2.0",
          "state": {
            "_view_name": "LayoutView",
            "grid_template_rows": null,
            "right": null,
            "justify_content": null,
            "_view_module": "@jupyter-widgets/base",
            "overflow": null,
            "_model_module_version": "1.2.0",
            "_view_count": null,
            "flex_flow": null,
            "width": null,
            "min_width": null,
            "border": null,
            "align_items": null,
            "bottom": null,
            "_model_module": "@jupyter-widgets/base",
            "top": null,
            "grid_column": null,
            "overflow_y": null,
            "overflow_x": null,
            "grid_auto_flow": null,
            "grid_area": null,
            "grid_template_columns": null,
            "flex": null,
            "_model_name": "LayoutModel",
            "justify_items": null,
            "grid_row": null,
            "max_height": null,
            "align_content": null,
            "visibility": null,
            "align_self": null,
            "height": null,
            "min_height": null,
            "padding": null,
            "grid_auto_rows": null,
            "grid_gap": null,
            "max_width": null,
            "order": null,
            "_view_module_version": "1.2.0",
            "grid_template_areas": null,
            "object_position": null,
            "object_fit": null,
            "grid_auto_columns": null,
            "margin": null,
            "display": null,
            "left": null
          }
        },
        "f8747e1d437641e9908f99d512ac6844": {
          "model_module": "@jupyter-widgets/controls",
          "model_name": "HBoxModel",
          "model_module_version": "1.5.0",
          "state": {
            "_view_name": "HBoxView",
            "_dom_classes": [],
            "_model_name": "HBoxModel",
            "_view_module": "@jupyter-widgets/controls",
            "_model_module_version": "1.5.0",
            "_view_count": null,
            "_view_module_version": "1.5.0",
            "box_style": "",
            "layout": "IPY_MODEL_636cedd60eea493097194c18aa906201",
            "_model_module": "@jupyter-widgets/controls",
            "children": [
              "IPY_MODEL_bed33624f49f4baea34fbe6ecfc80a42",
              "IPY_MODEL_9ed773b840c0487db62b8947fc06cef2"
            ]
          }
        },
        "636cedd60eea493097194c18aa906201": {
          "model_module": "@jupyter-widgets/base",
          "model_name": "LayoutModel",
          "model_module_version": "1.2.0",
          "state": {
            "_view_name": "LayoutView",
            "grid_template_rows": null,
            "right": null,
            "justify_content": null,
            "_view_module": "@jupyter-widgets/base",
            "overflow": null,
            "_model_module_version": "1.2.0",
            "_view_count": null,
            "flex_flow": null,
            "width": null,
            "min_width": null,
            "border": null,
            "align_items": null,
            "bottom": null,
            "_model_module": "@jupyter-widgets/base",
            "top": null,
            "grid_column": null,
            "overflow_y": null,
            "overflow_x": null,
            "grid_auto_flow": null,
            "grid_area": null,
            "grid_template_columns": null,
            "flex": null,
            "_model_name": "LayoutModel",
            "justify_items": null,
            "grid_row": null,
            "max_height": null,
            "align_content": null,
            "visibility": null,
            "align_self": null,
            "height": null,
            "min_height": null,
            "padding": null,
            "grid_auto_rows": null,
            "grid_gap": null,
            "max_width": null,
            "order": null,
            "_view_module_version": "1.2.0",
            "grid_template_areas": null,
            "object_position": null,
            "object_fit": null,
            "grid_auto_columns": null,
            "margin": null,
            "display": null,
            "left": null
          }
        },
        "bed33624f49f4baea34fbe6ecfc80a42": {
          "model_module": "@jupyter-widgets/controls",
          "model_name": "FloatProgressModel",
          "model_module_version": "1.5.0",
          "state": {
            "_view_name": "ProgressView",
            "style": "IPY_MODEL_182faa75b7b64283b887191764d32fca",
            "_dom_classes": [],
            "description": "Downloading: 100%",
            "_model_name": "FloatProgressModel",
            "bar_style": "success",
            "max": 61,
            "_view_module": "@jupyter-widgets/controls",
            "_model_module_version": "1.5.0",
            "value": 61,
            "_view_count": null,
            "_view_module_version": "1.5.0",
            "orientation": "horizontal",
            "min": 0,
            "description_tooltip": null,
            "_model_module": "@jupyter-widgets/controls",
            "layout": "IPY_MODEL_d18099f727d64d458133cb70a5da091d"
          }
        },
        "9ed773b840c0487db62b8947fc06cef2": {
          "model_module": "@jupyter-widgets/controls",
          "model_name": "HTMLModel",
          "model_module_version": "1.5.0",
          "state": {
            "_view_name": "HTMLView",
            "style": "IPY_MODEL_c1fa3b55cc9443019f5258117b16de7d",
            "_dom_classes": [],
            "description": "",
            "_model_name": "HTMLModel",
            "placeholder": "​",
            "_view_module": "@jupyter-widgets/controls",
            "_model_module_version": "1.5.0",
            "value": " 61.0/61.0 [00:00&lt;00:00, 94.3B/s]",
            "_view_count": null,
            "_view_module_version": "1.5.0",
            "description_tooltip": null,
            "_model_module": "@jupyter-widgets/controls",
            "layout": "IPY_MODEL_1143f218cd2f4923bcab821fa5dc864c"
          }
        },
        "182faa75b7b64283b887191764d32fca": {
          "model_module": "@jupyter-widgets/controls",
          "model_name": "ProgressStyleModel",
          "model_module_version": "1.5.0",
          "state": {
            "_view_name": "StyleView",
            "_model_name": "ProgressStyleModel",
            "description_width": "initial",
            "_view_module": "@jupyter-widgets/base",
            "_model_module_version": "1.5.0",
            "_view_count": null,
            "_view_module_version": "1.2.0",
            "bar_color": null,
            "_model_module": "@jupyter-widgets/controls"
          }
        },
        "d18099f727d64d458133cb70a5da091d": {
          "model_module": "@jupyter-widgets/base",
          "model_name": "LayoutModel",
          "model_module_version": "1.2.0",
          "state": {
            "_view_name": "LayoutView",
            "grid_template_rows": null,
            "right": null,
            "justify_content": null,
            "_view_module": "@jupyter-widgets/base",
            "overflow": null,
            "_model_module_version": "1.2.0",
            "_view_count": null,
            "flex_flow": null,
            "width": null,
            "min_width": null,
            "border": null,
            "align_items": null,
            "bottom": null,
            "_model_module": "@jupyter-widgets/base",
            "top": null,
            "grid_column": null,
            "overflow_y": null,
            "overflow_x": null,
            "grid_auto_flow": null,
            "grid_area": null,
            "grid_template_columns": null,
            "flex": null,
            "_model_name": "LayoutModel",
            "justify_items": null,
            "grid_row": null,
            "max_height": null,
            "align_content": null,
            "visibility": null,
            "align_self": null,
            "height": null,
            "min_height": null,
            "padding": null,
            "grid_auto_rows": null,
            "grid_gap": null,
            "max_width": null,
            "order": null,
            "_view_module_version": "1.2.0",
            "grid_template_areas": null,
            "object_position": null,
            "object_fit": null,
            "grid_auto_columns": null,
            "margin": null,
            "display": null,
            "left": null
          }
        },
        "c1fa3b55cc9443019f5258117b16de7d": {
          "model_module": "@jupyter-widgets/controls",
          "model_name": "DescriptionStyleModel",
          "model_module_version": "1.5.0",
          "state": {
            "_view_name": "StyleView",
            "_model_name": "DescriptionStyleModel",
            "description_width": "",
            "_view_module": "@jupyter-widgets/base",
            "_model_module_version": "1.5.0",
            "_view_count": null,
            "_view_module_version": "1.2.0",
            "_model_module": "@jupyter-widgets/controls"
          }
        },
        "1143f218cd2f4923bcab821fa5dc864c": {
          "model_module": "@jupyter-widgets/base",
          "model_name": "LayoutModel",
          "model_module_version": "1.2.0",
          "state": {
            "_view_name": "LayoutView",
            "grid_template_rows": null,
            "right": null,
            "justify_content": null,
            "_view_module": "@jupyter-widgets/base",
            "overflow": null,
            "_model_module_version": "1.2.0",
            "_view_count": null,
            "flex_flow": null,
            "width": null,
            "min_width": null,
            "border": null,
            "align_items": null,
            "bottom": null,
            "_model_module": "@jupyter-widgets/base",
            "top": null,
            "grid_column": null,
            "overflow_y": null,
            "overflow_x": null,
            "grid_auto_flow": null,
            "grid_area": null,
            "grid_template_columns": null,
            "flex": null,
            "_model_name": "LayoutModel",
            "justify_items": null,
            "grid_row": null,
            "max_height": null,
            "align_content": null,
            "visibility": null,
            "align_self": null,
            "height": null,
            "min_height": null,
            "padding": null,
            "grid_auto_rows": null,
            "grid_gap": null,
            "max_width": null,
            "order": null,
            "_view_module_version": "1.2.0",
            "grid_template_areas": null,
            "object_position": null,
            "object_fit": null,
            "grid_auto_columns": null,
            "margin": null,
            "display": null,
            "left": null
          }
        },
        "3915459f511449a0ade8029acbee89d6": {
          "model_module": "@jupyter-widgets/controls",
          "model_name": "HBoxModel",
          "model_module_version": "1.5.0",
          "state": {
            "_view_name": "HBoxView",
            "_dom_classes": [],
            "_model_name": "HBoxModel",
            "_view_module": "@jupyter-widgets/controls",
            "_model_module_version": "1.5.0",
            "_view_count": null,
            "_view_module_version": "1.5.0",
            "box_style": "",
            "layout": "IPY_MODEL_eee398af7c394a89a19dc62c5bfa61ed",
            "_model_module": "@jupyter-widgets/controls",
            "children": [
              "IPY_MODEL_f40017f3084a446b9e837b080ec18406",
              "IPY_MODEL_667d7689b2d04bbc8fd14de71bfa8271"
            ]
          }
        },
        "eee398af7c394a89a19dc62c5bfa61ed": {
          "model_module": "@jupyter-widgets/base",
          "model_name": "LayoutModel",
          "model_module_version": "1.2.0",
          "state": {
            "_view_name": "LayoutView",
            "grid_template_rows": null,
            "right": null,
            "justify_content": null,
            "_view_module": "@jupyter-widgets/base",
            "overflow": null,
            "_model_module_version": "1.2.0",
            "_view_count": null,
            "flex_flow": null,
            "width": null,
            "min_width": null,
            "border": null,
            "align_items": null,
            "bottom": null,
            "_model_module": "@jupyter-widgets/base",
            "top": null,
            "grid_column": null,
            "overflow_y": null,
            "overflow_x": null,
            "grid_auto_flow": null,
            "grid_area": null,
            "grid_template_columns": null,
            "flex": null,
            "_model_name": "LayoutModel",
            "justify_items": null,
            "grid_row": null,
            "max_height": null,
            "align_content": null,
            "visibility": null,
            "align_self": null,
            "height": null,
            "min_height": null,
            "padding": null,
            "grid_auto_rows": null,
            "grid_gap": null,
            "max_width": null,
            "order": null,
            "_view_module_version": "1.2.0",
            "grid_template_areas": null,
            "object_position": null,
            "object_fit": null,
            "grid_auto_columns": null,
            "margin": null,
            "display": null,
            "left": null
          }
        },
        "f40017f3084a446b9e837b080ec18406": {
          "model_module": "@jupyter-widgets/controls",
          "model_name": "FloatProgressModel",
          "model_module_version": "1.5.0",
          "state": {
            "_view_name": "ProgressView",
            "style": "IPY_MODEL_cc752f0e608f4a50b1130f446d61178b",
            "_dom_classes": [],
            "description": "Downloading: 100%",
            "_model_name": "FloatProgressModel",
            "bar_style": "success",
            "max": 451741507,
            "_view_module": "@jupyter-widgets/controls",
            "_model_module_version": "1.5.0",
            "value": 451741507,
            "_view_count": null,
            "_view_module_version": "1.5.0",
            "orientation": "horizontal",
            "min": 0,
            "description_tooltip": null,
            "_model_module": "@jupyter-widgets/controls",
            "layout": "IPY_MODEL_61b662b2626e4bbe8d6440b8680e1d54"
          }
        },
        "667d7689b2d04bbc8fd14de71bfa8271": {
          "model_module": "@jupyter-widgets/controls",
          "model_name": "HTMLModel",
          "model_module_version": "1.5.0",
          "state": {
            "_view_name": "HTMLView",
            "style": "IPY_MODEL_c7088287a91d48aeab0b516a8a2001e1",
            "_dom_classes": [],
            "description": "",
            "_model_name": "HTMLModel",
            "placeholder": "​",
            "_view_module": "@jupyter-widgets/controls",
            "_model_module_version": "1.5.0",
            "value": " 452M/452M [00:10&lt;00:00, 44.7MB/s]",
            "_view_count": null,
            "_view_module_version": "1.5.0",
            "description_tooltip": null,
            "_model_module": "@jupyter-widgets/controls",
            "layout": "IPY_MODEL_6745749389664bc880806dbaf438b1c4"
          }
        },
        "cc752f0e608f4a50b1130f446d61178b": {
          "model_module": "@jupyter-widgets/controls",
          "model_name": "ProgressStyleModel",
          "model_module_version": "1.5.0",
          "state": {
            "_view_name": "StyleView",
            "_model_name": "ProgressStyleModel",
            "description_width": "initial",
            "_view_module": "@jupyter-widgets/base",
            "_model_module_version": "1.5.0",
            "_view_count": null,
            "_view_module_version": "1.2.0",
            "bar_color": null,
            "_model_module": "@jupyter-widgets/controls"
          }
        },
        "61b662b2626e4bbe8d6440b8680e1d54": {
          "model_module": "@jupyter-widgets/base",
          "model_name": "LayoutModel",
          "model_module_version": "1.2.0",
          "state": {
            "_view_name": "LayoutView",
            "grid_template_rows": null,
            "right": null,
            "justify_content": null,
            "_view_module": "@jupyter-widgets/base",
            "overflow": null,
            "_model_module_version": "1.2.0",
            "_view_count": null,
            "flex_flow": null,
            "width": null,
            "min_width": null,
            "border": null,
            "align_items": null,
            "bottom": null,
            "_model_module": "@jupyter-widgets/base",
            "top": null,
            "grid_column": null,
            "overflow_y": null,
            "overflow_x": null,
            "grid_auto_flow": null,
            "grid_area": null,
            "grid_template_columns": null,
            "flex": null,
            "_model_name": "LayoutModel",
            "justify_items": null,
            "grid_row": null,
            "max_height": null,
            "align_content": null,
            "visibility": null,
            "align_self": null,
            "height": null,
            "min_height": null,
            "padding": null,
            "grid_auto_rows": null,
            "grid_gap": null,
            "max_width": null,
            "order": null,
            "_view_module_version": "1.2.0",
            "grid_template_areas": null,
            "object_position": null,
            "object_fit": null,
            "grid_auto_columns": null,
            "margin": null,
            "display": null,
            "left": null
          }
        },
        "c7088287a91d48aeab0b516a8a2001e1": {
          "model_module": "@jupyter-widgets/controls",
          "model_name": "DescriptionStyleModel",
          "model_module_version": "1.5.0",
          "state": {
            "_view_name": "StyleView",
            "_model_name": "DescriptionStyleModel",
            "description_width": "",
            "_view_module": "@jupyter-widgets/base",
            "_model_module_version": "1.5.0",
            "_view_count": null,
            "_view_module_version": "1.2.0",
            "_model_module": "@jupyter-widgets/controls"
          }
        },
        "6745749389664bc880806dbaf438b1c4": {
          "model_module": "@jupyter-widgets/base",
          "model_name": "LayoutModel",
          "model_module_version": "1.2.0",
          "state": {
            "_view_name": "LayoutView",
            "grid_template_rows": null,
            "right": null,
            "justify_content": null,
            "_view_module": "@jupyter-widgets/base",
            "overflow": null,
            "_model_module_version": "1.2.0",
            "_view_count": null,
            "flex_flow": null,
            "width": null,
            "min_width": null,
            "border": null,
            "align_items": null,
            "bottom": null,
            "_model_module": "@jupyter-widgets/base",
            "top": null,
            "grid_column": null,
            "overflow_y": null,
            "overflow_x": null,
            "grid_auto_flow": null,
            "grid_area": null,
            "grid_template_columns": null,
            "flex": null,
            "_model_name": "LayoutModel",
            "justify_items": null,
            "grid_row": null,
            "max_height": null,
            "align_content": null,
            "visibility": null,
            "align_self": null,
            "height": null,
            "min_height": null,
            "padding": null,
            "grid_auto_rows": null,
            "grid_gap": null,
            "max_width": null,
            "order": null,
            "_view_module_version": "1.2.0",
            "grid_template_areas": null,
            "object_position": null,
            "object_fit": null,
            "grid_auto_columns": null,
            "margin": null,
            "display": null,
            "left": null
          }
        },
        "eff3838458744de0aaecacdb00b5ec8f": {
          "model_module": "@jupyter-widgets/controls",
          "model_name": "HBoxModel",
          "model_module_version": "1.5.0",
          "state": {
            "_view_name": "HBoxView",
            "_dom_classes": [],
            "_model_name": "HBoxModel",
            "_view_module": "@jupyter-widgets/controls",
            "_model_module_version": "1.5.0",
            "_view_count": null,
            "_view_module_version": "1.5.0",
            "box_style": "",
            "layout": "IPY_MODEL_9c713831e46c45b79590be21e4d2b842",
            "_model_module": "@jupyter-widgets/controls",
            "children": [
              "IPY_MODEL_01b40ecc0e7446b38f873bc69b28ce1a",
              "IPY_MODEL_ec12a400850b40eeb866c63613cc706e"
            ]
          }
        },
        "9c713831e46c45b79590be21e4d2b842": {
          "model_module": "@jupyter-widgets/base",
          "model_name": "LayoutModel",
          "model_module_version": "1.2.0",
          "state": {
            "_view_name": "LayoutView",
            "grid_template_rows": null,
            "right": null,
            "justify_content": null,
            "_view_module": "@jupyter-widgets/base",
            "overflow": null,
            "_model_module_version": "1.2.0",
            "_view_count": null,
            "flex_flow": null,
            "width": null,
            "min_width": null,
            "border": null,
            "align_items": null,
            "bottom": null,
            "_model_module": "@jupyter-widgets/base",
            "top": null,
            "grid_column": null,
            "overflow_y": null,
            "overflow_x": null,
            "grid_auto_flow": null,
            "grid_area": null,
            "grid_template_columns": null,
            "flex": null,
            "_model_name": "LayoutModel",
            "justify_items": null,
            "grid_row": null,
            "max_height": null,
            "align_content": null,
            "visibility": null,
            "align_self": null,
            "height": null,
            "min_height": null,
            "padding": null,
            "grid_auto_rows": null,
            "grid_gap": null,
            "max_width": null,
            "order": null,
            "_view_module_version": "1.2.0",
            "grid_template_areas": null,
            "object_position": null,
            "object_fit": null,
            "grid_auto_columns": null,
            "margin": null,
            "display": null,
            "left": null
          }
        },
        "01b40ecc0e7446b38f873bc69b28ce1a": {
          "model_module": "@jupyter-widgets/controls",
          "model_name": "FloatProgressModel",
          "model_module_version": "1.5.0",
          "state": {
            "_view_name": "ProgressView",
            "style": "IPY_MODEL_ca4277b74e7744a686dbed27799d0a09",
            "_dom_classes": [],
            "description": "",
            "_model_name": "FloatProgressModel",
            "bar_style": "success",
            "max": 1,
            "_view_module": "@jupyter-widgets/controls",
            "_model_module_version": "1.5.0",
            "value": 1,
            "_view_count": null,
            "_view_module_version": "1.5.0",
            "orientation": "horizontal",
            "min": 0,
            "description_tooltip": null,
            "_model_module": "@jupyter-widgets/controls",
            "layout": "IPY_MODEL_9221fecfa49e4d55809ae9ce96085f40"
          }
        },
        "ec12a400850b40eeb866c63613cc706e": {
          "model_module": "@jupyter-widgets/controls",
          "model_name": "HTMLModel",
          "model_module_version": "1.5.0",
          "state": {
            "_view_name": "HTMLView",
            "style": "IPY_MODEL_f8bde30d29cb40248f5a7546326cb7b6",
            "_dom_classes": [],
            "description": "",
            "_model_name": "HTMLModel",
            "placeholder": "​",
            "_view_module": "@jupyter-widgets/controls",
            "_model_module_version": "1.5.0",
            "value": " 20/? [29:21&lt;00:00, 88.07s/it]",
            "_view_count": null,
            "_view_module_version": "1.5.0",
            "description_tooltip": null,
            "_model_module": "@jupyter-widgets/controls",
            "layout": "IPY_MODEL_7753090cd4044bbbb25b09364dca4018"
          }
        },
        "ca4277b74e7744a686dbed27799d0a09": {
          "model_module": "@jupyter-widgets/controls",
          "model_name": "ProgressStyleModel",
          "model_module_version": "1.5.0",
          "state": {
            "_view_name": "StyleView",
            "_model_name": "ProgressStyleModel",
            "description_width": "initial",
            "_view_module": "@jupyter-widgets/base",
            "_model_module_version": "1.5.0",
            "_view_count": null,
            "_view_module_version": "1.2.0",
            "bar_color": null,
            "_model_module": "@jupyter-widgets/controls"
          }
        },
        "9221fecfa49e4d55809ae9ce96085f40": {
          "model_module": "@jupyter-widgets/base",
          "model_name": "LayoutModel",
          "model_module_version": "1.2.0",
          "state": {
            "_view_name": "LayoutView",
            "grid_template_rows": null,
            "right": null,
            "justify_content": null,
            "_view_module": "@jupyter-widgets/base",
            "overflow": null,
            "_model_module_version": "1.2.0",
            "_view_count": null,
            "flex_flow": null,
            "width": null,
            "min_width": null,
            "border": null,
            "align_items": null,
            "bottom": null,
            "_model_module": "@jupyter-widgets/base",
            "top": null,
            "grid_column": null,
            "overflow_y": null,
            "overflow_x": null,
            "grid_auto_flow": null,
            "grid_area": null,
            "grid_template_columns": null,
            "flex": null,
            "_model_name": "LayoutModel",
            "justify_items": null,
            "grid_row": null,
            "max_height": null,
            "align_content": null,
            "visibility": null,
            "align_self": null,
            "height": null,
            "min_height": null,
            "padding": null,
            "grid_auto_rows": null,
            "grid_gap": null,
            "max_width": null,
            "order": null,
            "_view_module_version": "1.2.0",
            "grid_template_areas": null,
            "object_position": null,
            "object_fit": null,
            "grid_auto_columns": null,
            "margin": null,
            "display": null,
            "left": null
          }
        },
        "f8bde30d29cb40248f5a7546326cb7b6": {
          "model_module": "@jupyter-widgets/controls",
          "model_name": "DescriptionStyleModel",
          "model_module_version": "1.5.0",
          "state": {
            "_view_name": "StyleView",
            "_model_name": "DescriptionStyleModel",
            "description_width": "",
            "_view_module": "@jupyter-widgets/base",
            "_model_module_version": "1.5.0",
            "_view_count": null,
            "_view_module_version": "1.2.0",
            "_model_module": "@jupyter-widgets/controls"
          }
        },
        "7753090cd4044bbbb25b09364dca4018": {
          "model_module": "@jupyter-widgets/base",
          "model_name": "LayoutModel",
          "model_module_version": "1.2.0",
          "state": {
            "_view_name": "LayoutView",
            "grid_template_rows": null,
            "right": null,
            "justify_content": null,
            "_view_module": "@jupyter-widgets/base",
            "overflow": null,
            "_model_module_version": "1.2.0",
            "_view_count": null,
            "flex_flow": null,
            "width": null,
            "min_width": null,
            "border": null,
            "align_items": null,
            "bottom": null,
            "_model_module": "@jupyter-widgets/base",
            "top": null,
            "grid_column": null,
            "overflow_y": null,
            "overflow_x": null,
            "grid_auto_flow": null,
            "grid_area": null,
            "grid_template_columns": null,
            "flex": null,
            "_model_name": "LayoutModel",
            "justify_items": null,
            "grid_row": null,
            "max_height": null,
            "align_content": null,
            "visibility": null,
            "align_self": null,
            "height": null,
            "min_height": null,
            "padding": null,
            "grid_auto_rows": null,
            "grid_gap": null,
            "max_width": null,
            "order": null,
            "_view_module_version": "1.2.0",
            "grid_template_areas": null,
            "object_position": null,
            "object_fit": null,
            "grid_auto_columns": null,
            "margin": null,
            "display": null,
            "left": null
          }
        }
      }
    }
  },
  "cells": [
    {
      "cell_type": "code",
      "metadata": {
        "id": "6qGxU_ZS8DEE",
        "colab": {
          "base_uri": "https://localhost:8080/"
        },
        "outputId": "92d8d513-1976-4a8e-ad29-0281fdaeb0a0"
      },
      "source": [
        "from google.colab import drive\n",
        "drive.mount('/content/drive')\n",
        "\n"
      ],
      "execution_count": 1,
      "outputs": [
        {
          "output_type": "stream",
          "text": [
            "Mounted at /content/drive\n"
          ],
          "name": "stdout"
        }
      ]
    },
    {
      "cell_type": "markdown",
      "metadata": {
        "id": "_YEZSFwyP5fQ"
      },
      "source": [
        "#공용함수"
      ]
    },
    {
      "cell_type": "code",
      "metadata": {
        "id": "zUkWw1txP4XA"
      },
      "source": [
        "# 수정금지: 타임스탬프용 함수\n",
        "from datetime import datetime\n",
        "def printt(*args,**kwargs):\n",
        "  now = datetime.now()\n",
        "  now_str = \"{:02}:{:02}:{:02}\".format(now.hour,now.minute,now.second)\n",
        "  print(now_str, *args,**kwargs)\n",
        "  return int(now.hour)*60*60+int(now.minute)*60+int(now.second)"
      ],
      "execution_count": null,
      "outputs": []
    },
    {
      "cell_type": "markdown",
      "metadata": {
        "id": "V-h1MVpOSRVl"
      },
      "source": [
        "#연관 패키지 설치 (다른작업 금지)"
      ]
    },
    {
      "cell_type": "code",
      "metadata": {
        "id": "cOHw8KJbRC4m",
        "colab": {
          "base_uri": "https://localhost:8080/"
        },
        "outputId": "ef713758-5324-44bd-e77e-4e4d96ab788e"
      },
      "source": [
        "#TODO: 해당 블럭에 패키지 설치하세요.\n",
        "!pip install attrdict\n",
        "!pip install transformers\n",
        "!pip install seqeval\n",
        "!pip install fastprogress"
      ],
      "execution_count": 2,
      "outputs": [
        {
          "output_type": "stream",
          "text": [
            "Collecting attrdict\n",
            "  Downloading attrdict-2.0.1-py2.py3-none-any.whl (9.9 kB)\n",
            "Requirement already satisfied: six in /usr/local/lib/python3.7/dist-packages (from attrdict) (1.15.0)\n",
            "Installing collected packages: attrdict\n",
            "Successfully installed attrdict-2.0.1\n",
            "Collecting transformers\n",
            "  Downloading transformers-4.9.2-py3-none-any.whl (2.6 MB)\n",
            "\u001b[K     |████████████████████████████████| 2.6 MB 8.0 MB/s \n",
            "\u001b[?25hCollecting tokenizers<0.11,>=0.10.1\n",
            "  Downloading tokenizers-0.10.3-cp37-cp37m-manylinux_2_5_x86_64.manylinux1_x86_64.manylinux_2_12_x86_64.manylinux2010_x86_64.whl (3.3 MB)\n",
            "\u001b[K     |████████████████████████████████| 3.3 MB 55.1 MB/s \n",
            "\u001b[?25hCollecting huggingface-hub==0.0.12\n",
            "  Downloading huggingface_hub-0.0.12-py3-none-any.whl (37 kB)\n",
            "Requirement already satisfied: requests in /usr/local/lib/python3.7/dist-packages (from transformers) (2.23.0)\n",
            "Requirement already satisfied: importlib-metadata in /usr/local/lib/python3.7/dist-packages (from transformers) (4.6.1)\n",
            "Requirement already satisfied: regex!=2019.12.17 in /usr/local/lib/python3.7/dist-packages (from transformers) (2019.12.20)\n",
            "Requirement already satisfied: tqdm>=4.27 in /usr/local/lib/python3.7/dist-packages (from transformers) (4.41.1)\n",
            "Requirement already satisfied: filelock in /usr/local/lib/python3.7/dist-packages (from transformers) (3.0.12)\n",
            "Collecting pyyaml>=5.1\n",
            "  Downloading PyYAML-5.4.1-cp37-cp37m-manylinux1_x86_64.whl (636 kB)\n",
            "\u001b[K     |████████████████████████████████| 636 kB 63.5 MB/s \n",
            "\u001b[?25hRequirement already satisfied: packaging in /usr/local/lib/python3.7/dist-packages (from transformers) (21.0)\n",
            "Collecting sacremoses\n",
            "  Downloading sacremoses-0.0.45-py3-none-any.whl (895 kB)\n",
            "\u001b[K     |████████████████████████████████| 895 kB 46.8 MB/s \n",
            "\u001b[?25hRequirement already satisfied: numpy>=1.17 in /usr/local/lib/python3.7/dist-packages (from transformers) (1.19.5)\n",
            "Requirement already satisfied: typing-extensions in /usr/local/lib/python3.7/dist-packages (from huggingface-hub==0.0.12->transformers) (3.7.4.3)\n",
            "Requirement already satisfied: pyparsing>=2.0.2 in /usr/local/lib/python3.7/dist-packages (from packaging->transformers) (2.4.7)\n",
            "Requirement already satisfied: zipp>=0.5 in /usr/local/lib/python3.7/dist-packages (from importlib-metadata->transformers) (3.5.0)\n",
            "Requirement already satisfied: chardet<4,>=3.0.2 in /usr/local/lib/python3.7/dist-packages (from requests->transformers) (3.0.4)\n",
            "Requirement already satisfied: idna<3,>=2.5 in /usr/local/lib/python3.7/dist-packages (from requests->transformers) (2.10)\n",
            "Requirement already satisfied: urllib3!=1.25.0,!=1.25.1,<1.26,>=1.21.1 in /usr/local/lib/python3.7/dist-packages (from requests->transformers) (1.24.3)\n",
            "Requirement already satisfied: certifi>=2017.4.17 in /usr/local/lib/python3.7/dist-packages (from requests->transformers) (2021.5.30)\n",
            "Requirement already satisfied: joblib in /usr/local/lib/python3.7/dist-packages (from sacremoses->transformers) (1.0.1)\n",
            "Requirement already satisfied: six in /usr/local/lib/python3.7/dist-packages (from sacremoses->transformers) (1.15.0)\n",
            "Requirement already satisfied: click in /usr/local/lib/python3.7/dist-packages (from sacremoses->transformers) (7.1.2)\n",
            "Installing collected packages: tokenizers, sacremoses, pyyaml, huggingface-hub, transformers\n",
            "  Attempting uninstall: pyyaml\n",
            "    Found existing installation: PyYAML 3.13\n",
            "    Uninstalling PyYAML-3.13:\n",
            "      Successfully uninstalled PyYAML-3.13\n",
            "Successfully installed huggingface-hub-0.0.12 pyyaml-5.4.1 sacremoses-0.0.45 tokenizers-0.10.3 transformers-4.9.2\n",
            "Collecting seqeval\n",
            "  Downloading seqeval-1.2.2.tar.gz (43 kB)\n",
            "\u001b[K     |████████████████████████████████| 43 kB 1.4 MB/s \n",
            "\u001b[?25hRequirement already satisfied: numpy>=1.14.0 in /usr/local/lib/python3.7/dist-packages (from seqeval) (1.19.5)\n",
            "Requirement already satisfied: scikit-learn>=0.21.3 in /usr/local/lib/python3.7/dist-packages (from seqeval) (0.22.2.post1)\n",
            "Requirement already satisfied: scipy>=0.17.0 in /usr/local/lib/python3.7/dist-packages (from scikit-learn>=0.21.3->seqeval) (1.4.1)\n",
            "Requirement already satisfied: joblib>=0.11 in /usr/local/lib/python3.7/dist-packages (from scikit-learn>=0.21.3->seqeval) (1.0.1)\n",
            "Building wheels for collected packages: seqeval\n",
            "  Building wheel for seqeval (setup.py) ... \u001b[?25l\u001b[?25hdone\n",
            "  Created wheel for seqeval: filename=seqeval-1.2.2-py3-none-any.whl size=16181 sha256=f2fee90ef29c4bff4d8e5f99890c336e23baceb0b396b57eb524971cec7ec5c4\n",
            "  Stored in directory: /root/.cache/pip/wheels/05/96/ee/7cac4e74f3b19e3158dce26a20a1c86b3533c43ec72a549fd7\n",
            "Successfully built seqeval\n",
            "Installing collected packages: seqeval\n",
            "Successfully installed seqeval-1.2.2\n",
            "Requirement already satisfied: fastprogress in /usr/local/lib/python3.7/dist-packages (1.0.0)\n",
            "Requirement already satisfied: numpy in /usr/local/lib/python3.7/dist-packages (from fastprogress) (1.19.5)\n"
          ],
          "name": "stdout"
        }
      ]
    },
    {
      "cell_type": "markdown",
      "metadata": {
        "id": "VIMuPDLIo0rb"
      },
      "source": [
        "# 파일로딩 (다른작업 금지)"
      ]
    },
    {
      "cell_type": "code",
      "metadata": {
        "id": "SJ4zJTn7o0LO"
      },
      "source": [
        "#TODO: 해당 블럭에 필요 파일 로딩 코드 넣으시오.\n"
      ],
      "execution_count": null,
      "outputs": []
    },
    {
      "cell_type": "markdown",
      "metadata": {
        "id": "QTVIEOA0Swkd"
      },
      "source": [
        "# 모델 학습"
      ]
    },
    {
      "cell_type": "code",
      "metadata": {
        "id": "vOOoJjT8Sx3R",
        "colab": {
          "base_uri": "https://localhost:8080/"
        },
        "outputId": "2749f804-5538-48c8-d568-3a146baf0f0c"
      },
      "source": [
        "# 수정금지: 타임스탬프\n",
        "_model_build_start_time = printt(\"Model building: Start\")\n",
        "_model_build_start_time"
      ],
      "execution_count": null,
      "outputs": [
        {
          "output_type": "stream",
          "text": [
            "08:34:48 Model building: Start\n"
          ],
          "name": "stdout"
        },
        {
          "output_type": "execute_result",
          "data": {
            "text/plain": [
              "30888"
            ]
          },
          "metadata": {
            "tags": []
          },
          "execution_count": 4
        }
      ]
    },
    {
      "cell_type": "code",
      "metadata": {
        "id": "YxnQUVccSa-V"
      },
      "source": [
        "#TODO: 블럭에 모델 학습 - 빌딩 코드를 넣으세요. (시간측정 구간)\n",
        "\n",
        "\n",
        "\n"
      ],
      "execution_count": null,
      "outputs": []
    },
    {
      "cell_type": "code",
      "metadata": {
        "colab": {
          "base_uri": "https://localhost:8080/"
        },
        "id": "CIUoYKVugaUk",
        "outputId": "9633f9e0-3b0d-468a-c719-80e8190fc931"
      },
      "source": [
        "!sudo apt-get install -y fonts-nanum\n",
        "!sudo fc-cache -fv\n",
        "!rm ~/.cache/matplotlib -rf"
      ],
      "execution_count": 3,
      "outputs": [
        {
          "output_type": "stream",
          "text": [
            "Reading package lists... Done\n",
            "Building dependency tree       \n",
            "Reading state information... Done\n",
            "The following NEW packages will be installed:\n",
            "  fonts-nanum\n",
            "0 upgraded, 1 newly installed, 0 to remove and 40 not upgraded.\n",
            "Need to get 9,604 kB of archives.\n",
            "After this operation, 29.5 MB of additional disk space will be used.\n",
            "Get:1 http://archive.ubuntu.com/ubuntu bionic/universe amd64 fonts-nanum all 20170925-1 [9,604 kB]\n",
            "Fetched 9,604 kB in 2s (5,404 kB/s)\n",
            "debconf: unable to initialize frontend: Dialog\n",
            "debconf: (No usable dialog-like program is installed, so the dialog based frontend cannot be used. at /usr/share/perl5/Debconf/FrontEnd/Dialog.pm line 76, <> line 1.)\n",
            "debconf: falling back to frontend: Readline\n",
            "debconf: unable to initialize frontend: Readline\n",
            "debconf: (This frontend requires a controlling tty.)\n",
            "debconf: falling back to frontend: Teletype\n",
            "dpkg-preconfigure: unable to re-open stdin: \n",
            "Selecting previously unselected package fonts-nanum.\n",
            "(Reading database ... 160837 files and directories currently installed.)\n",
            "Preparing to unpack .../fonts-nanum_20170925-1_all.deb ...\n",
            "Unpacking fonts-nanum (20170925-1) ...\n",
            "Setting up fonts-nanum (20170925-1) ...\n",
            "Processing triggers for fontconfig (2.12.6-0ubuntu2) ...\n",
            "/usr/share/fonts: caching, new cache contents: 0 fonts, 1 dirs\n",
            "/usr/share/fonts/truetype: caching, new cache contents: 0 fonts, 3 dirs\n",
            "/usr/share/fonts/truetype/humor-sans: caching, new cache contents: 1 fonts, 0 dirs\n",
            "/usr/share/fonts/truetype/liberation: caching, new cache contents: 16 fonts, 0 dirs\n",
            "/usr/share/fonts/truetype/nanum: caching, new cache contents: 10 fonts, 0 dirs\n",
            "/usr/local/share/fonts: caching, new cache contents: 0 fonts, 0 dirs\n",
            "/root/.local/share/fonts: skipping, no such directory\n",
            "/root/.fonts: skipping, no such directory\n",
            "/var/cache/fontconfig: cleaning cache directory\n",
            "/root/.cache/fontconfig: not cleaning non-existent cache directory\n",
            "/root/.fontconfig: not cleaning non-existent cache directory\n",
            "fc-cache: succeeded\n"
          ],
          "name": "stdout"
        }
      ]
    },
    {
      "cell_type": "code",
      "metadata": {
        "colab": {
          "base_uri": "https://localhost:8080/",
          "height": 265
        },
        "id": "eVLP6QJlgfuP",
        "outputId": "9ec63d0d-53cc-414a-db81-fd7771515659"
      },
      "source": [
        "# 실행 전 런타임 다시시작\n",
        "import matplotlib.pyplot as plt\n",
        "plt.rc('font', family='NanumBarunGothic') \n",
        "plt.plot([1, 2, 3, 4])\n",
        "plt.ylabel('한국어 테스트')\n",
        "plt.show()"
      ],
      "execution_count": 1,
      "outputs": [
        {
          "output_type": "display_data",
          "data": {
            "image/png": "[encoded data removed]",
            "text/plain": [
              "<Figure size 432x288 with 1 Axes>"
            ]
          },
          "metadata": {
            "tags": [],
            "needs_background": "light"
          }
        }
      ]
    },
    {
      "cell_type": "code",
      "metadata": {
        "id": "7Qi3tiTrV5Gy"
      },
      "source": [
        "# task = 'classification'\n",
        "task = 'sentiment'\n",
        "train_file = 'train_cls.txt'\n",
        "test_file = 'evaluation_cls.txt'\n",
        "full_text = 'full_text.txt'\n",
        "\n",
        "\n",
        "# train_file = train_s_cls.txt\n",
        "# test_file = test_s_cls.txt"
      ],
      "execution_count": 2,
      "outputs": []
    },
    {
      "cell_type": "code",
      "metadata": {
        "id": "cJI_EzPkISd9"
      },
      "source": [
        "# initialize logging\n",
        "import logging\n",
        "\n",
        "logging.basicConfig(\n",
        "    format=\"%(asctime)s - %(levelname)s - %(name)s -   %(message)s\",\n",
        "    datefmt=\"%m/%d/%Y %H:%M:%S\",\n",
        "    level=logging.INFO,\n",
        ")"
      ],
      "execution_count": 3,
      "outputs": []
    },
    {
      "cell_type": "code",
      "metadata": {
        "id": "AaOFiXQm_xSk"
      },
      "source": [
        "# make Input Example\n",
        "class InputExample(object):\n",
        "    \"\"\"\n",
        "    A single training/test example for simple sequence classification.\n",
        "    \"\"\"\n",
        "\n",
        "    def __init__(self, guid, text_a, text_b, label):\n",
        "        self.guid = guid\n",
        "        self.text_a = text_a\n",
        "        self.text_b = text_b\n",
        "        self.label = label\n",
        "\n",
        "    def __repr__(self):\n",
        "        return str(self.to_json_string())\n",
        "\n",
        "    def to_dict(self):\n",
        "        \"\"\"Serializes this instance to a Python dictionary.\"\"\"\n",
        "        output = copy.deepcopy(self.__dict__)\n",
        "        return output\n",
        "\n",
        "    def to_json_string(self):\n",
        "        \"\"\"Serializes this instance to a JSON string.\"\"\"\n",
        "        return json.dumps(self.to_dict(), indent=2, sort_keys=True) + \"\\n\"\n",
        "        \n",
        "# make Input Feature\n",
        "class InputFeatures(object):\n",
        "    \"\"\"A single set of features of data.\"\"\"\n",
        "\n",
        "    def __init__(self, input_ids, attention_mask, token_type_ids, label):\n",
        "        self.input_ids = input_ids\n",
        "        self.attention_mask = attention_mask\n",
        "        self.token_type_ids = token_type_ids\n",
        "        self.label = label\n",
        "\n",
        "    def __repr__(self):\n",
        "        return str(self.to_json_string())\n",
        "\n",
        "    def to_dict(self):\n",
        "        \"\"\"Serializes this instance to a Python dictionary.\"\"\"\n",
        "        output = copy.deepcopy(self.__dict__)\n",
        "        return output\n",
        "\n",
        "    def to_json_string(self):\n",
        "        \"\"\"Serializes this instance to a JSON string.\"\"\"\n",
        "        return json.dumps(self.to_dict(), indent=2, sort_keys=True) + \"\\n\"\n",
        "\n",
        "# make processor\n",
        "class Processor(object):\n",
        "\n",
        "    def __init__(self, args):\n",
        "        self.args = args\n",
        "\n",
        "    def get_labels(self):\n",
        "        if self.args.task == 'classification':\n",
        "        # return ['None', '상담원', '상담시스템', '고객서비스', '혜택', '할부금융상품', '커뮤니티서비스',\n",
        "        #         '카드이용/결제', '카드상품', '청구입금', '심사/한도', '생활편의서비스', '상담/채널', '리스렌탈상품',\n",
        "        #         '라이프서비스', '금융상품', '고객정보관리', '가맹점매출/승인', '가맹점대금', '가맹점계약', '삼성카드', '기타']\n",
        "          return ['0', '1', '2', '3', '4', '5', '6', '7', '8', '9', '10', '11', '12',\n",
        "                  '13', '14', '15', '16']\n",
        "        else:\n",
        "          return ['0', '1']\n",
        "\n",
        "    def _read_file(cls, input_file):\n",
        "        \"\"\"Reads a tab separated value file.\"\"\"\n",
        "        with open(input_file, \"r\", encoding=\"utf-8\") as f:\n",
        "            lines = []\n",
        "            for line in f:\n",
        "                lines.append(line.strip())\n",
        "            return lines\n",
        "\n",
        "    def _create_examples(self, lines, set_type):\n",
        "        \"\"\"Creates examples for the training and dev sets.\"\"\"\n",
        "        examples = []\n",
        "        for (i, line) in enumerate(lines[0:]):\n",
        "            line = line.split(\"\\t\")\n",
        "            guid = \"%s-%s\" % (set_type, i)\n",
        "            text_a = line[0]\n",
        "            label = line[1]\n",
        "            if i % 10000 == 0:\n",
        "                logger.info(line)\n",
        "            examples.append(InputExample(guid=guid, text_a=text_a, text_b=None, label=label))\n",
        "        return examples\n",
        "\n",
        "    def get_examples(self, mode):\n",
        "        \"\"\"\n",
        "        Args:\n",
        "            mode: train, test\n",
        "        \"\"\"\n",
        "        file_to_read = None\n",
        "        if mode == \"train\":\n",
        "            file_to_read = self.args.train_file\n",
        "        elif mode == \"test\":\n",
        "            file_to_read = self.args.test_file\n",
        "\n",
        "        logger.info(\"LOOKING AT {}\".format(os.path.join(self.args.data_dir, file_to_read)))\n",
        "        return self._create_examples(\n",
        "            self._read_file(os.path.join(self.args.data_dir, file_to_read)), mode\n",
        "        )"
      ],
      "execution_count": 4,
      "outputs": []
    },
    {
      "cell_type": "code",
      "metadata": {
        "id": "ZN4qSwp3_2P8"
      },
      "source": [
        "# set config args for classification\n",
        "from transformers import (\n",
        "    ElectraConfig,\n",
        "    ElectraTokenizer,\n",
        "    ElectraForSequenceClassification,\n",
        "    XLMRobertaForSequenceClassification,\n",
        "    XLMRobertaTokenizer,\n",
        "    XLMRobertaConfig\n",
        ")\n",
        "from attrdict import AttrDict\n",
        "args = AttrDict(\n",
        "    {\n",
        "                 'data_dir': 'data/{}'.format(task),\n",
        "                 'train_file': train_file,\n",
        "                 'test_file': test_file,\n",
        "                 'task': task,\n",
        "                 'config': ElectraConfig,\n",
        "                 'tokenizer': ElectraTokenizer,\n",
        "                 'model': ElectraForSequenceClassification,\n",
        "                #  'config': XLMRobertaConfig,\n",
        "                #  'tokenizer': XLMRobertaTokenizer,\n",
        "                #  'model': XLMRobertaForSequenceClassification,\n",
        "                 'evaluate_test_during_training': True, \n",
        "                 'eval_all_checkpoints': True, \n",
        "                 'save_optimizer': False, \n",
        "                 'do_lower_case': False, \n",
        "                 'do_train': True, \n",
        "                 'do_eval': True, \n",
        "                 'max_seq_len': 128, \n",
        "                 'num_train_epochs': 20, \n",
        "                 'weight_decay': 0.0, \n",
        "                 'gradient_accumulation_steps': 1, \n",
        "                 'adam_epsilon': 1e-08, \n",
        "                 'warmup_proportion': 0, \n",
        "                 'max_steps': -1, \n",
        "                 'max_grad_norm': 1.0, \n",
        "                 'no_cuda': False, \n",
        "                 'model_type': 'koelectra-base-v3', \n",
        "                 'model_name_or_path': 'monologg/koelectra-base-v3-discriminator', \n",
        "                 'output_dir': '{}_checkpoints'.format(task), \n",
        "                 'seed': 42, \n",
        "                 'train_batch_size': 32, \n",
        "                 'eval_batch_size': 128, \n",
        "                 'logging_steps': 250, \n",
        "                 'save_steps': 250, \n",
        "                 'learning_rate': 5e-06\n",
        "     }\n",
        ")\n",
        "if task == 'sentiment':\n",
        "  args.logging_steps, args.save_steps = 63, 63\n",
        "  args.max_seq_len = 64\n",
        "  args.train_batch_size = 128"
      ],
      "execution_count": 16,
      "outputs": []
    },
    {
      "cell_type": "code",
      "metadata": {
        "colab": {
          "base_uri": "https://localhost:8080/",
          "height": 454,
          "referenced_widgets": [
            "245c92ee28414d3f9b3d3878ec85047c",
            "ba5ee84b2f364ab2a1ac9c73ae40a00e",
            "a40e1da1e9a94973b09c4f09e5559d46",
            "9d65febe3be2476182edec658267b73a",
            "4efca46f2eaf45499fab32c14a798e90",
            "260aa46bc617494a951634a5dee95025",
            "8345a2b7d61e4b30ae3516e013f48628",
            "900d170ce1374b7d85ab68bb73246684",
            "4677cbe6f2014effbdc33fe15accf55d",
            "dc7ad1ca7a554aa3ac68c9e67383bf70",
            "ed4d7475299447ce8df7b068106d3398",
            "499eb7ba961b4aefa1c10aa9de5f0dd0",
            "8e8d49c383d2457485a4bf69ad283c09",
            "b6248a51b34b40dba65df370ab24f242",
            "403313b1f0e84b0e945b139c1b0ce9bb",
            "e7b2d23cce544c8ca019bca3ec15274c",
            "f8747e1d437641e9908f99d512ac6844",
            "636cedd60eea493097194c18aa906201",
            "bed33624f49f4baea34fbe6ecfc80a42",
            "9ed773b840c0487db62b8947fc06cef2",
            "182faa75b7b64283b887191764d32fca",
            "d18099f727d64d458133cb70a5da091d",
            "c1fa3b55cc9443019f5258117b16de7d",
            "1143f218cd2f4923bcab821fa5dc864c",
            "3915459f511449a0ade8029acbee89d6",
            "eee398af7c394a89a19dc62c5bfa61ed",
            "f40017f3084a446b9e837b080ec18406",
            "667d7689b2d04bbc8fd14de71bfa8271",
            "cc752f0e608f4a50b1130f446d61178b",
            "61b662b2626e4bbe8d6440b8680e1d54",
            "c7088287a91d48aeab0b516a8a2001e1",
            "6745749389664bc880806dbaf438b1c4"
          ]
        },
        "id": "cEUZThiu_893",
        "outputId": "89b4876c-a0f7-4a43-b5e6-4f6ce6c98db8"
      },
      "source": [
        "import torch\n",
        "\n",
        "# set seed\n",
        "torch.cuda.manual_seed_all(args.seed)\n",
        "\n",
        "processor = Processor(args)\n",
        "labels = processor.get_labels()\n",
        "\n",
        "\n",
        "config = args.config.from_pretrained(\n",
        "            args.model_name_or_path,\n",
        "            num_labels=len(labels)\n",
        "            # id2label={str(i): label for i, label in enumerate(labels)},\n",
        "            # label2id={label: i for i, label in enumerate(labels)},\n",
        "        )\n",
        "tokenizer = args.tokenizer.from_pretrained(\n",
        "    args.model_name_or_path,\n",
        "    do_lower_case=args.do_lower_case\n",
        ")\n",
        "model = args.model.from_pretrained(\n",
        "    args.model_name_or_path,\n",
        "    config=config\n",
        ")"
      ],
      "execution_count": 6,
      "outputs": [
        {
          "output_type": "stream",
          "text": [
            "08/11/2021 18:38:16 - INFO - filelock -   Lock 140337435074384 acquired on /root/.cache/huggingface/transformers/353ae9c3d9daa722551a585351b95934cefcf83155f6ff52a1975fa27863dfe0.9c57bd1e7b894b078a3a8ed91a498ca5fb48334c137fe2ec43e8079db1878f8c.lock\n"
          ],
          "name": "stderr"
        },
        {
          "output_type": "display_data",
          "data": {
            "application/vnd.jupyter.widget-view+json": {
              "model_id": "245c92ee28414d3f9b3d3878ec85047c",
              "version_minor": 0,
              "version_major": 2
            },
            "text/plain": [
              "HBox(children=(FloatProgress(value=0.0, description='Downloading', max=467.0, style=ProgressStyle(description_…"
            ]
          },
          "metadata": {
            "tags": []
          }
        },
        {
          "output_type": "stream",
          "text": [
            "08/11/2021 18:38:16 - INFO - filelock -   Lock 140337435074384 released on /root/.cache/huggingface/transformers/353ae9c3d9daa722551a585351b95934cefcf83155f6ff52a1975fa27863dfe0.9c57bd1e7b894b078a3a8ed91a498ca5fb48334c137fe2ec43e8079db1878f8c.lock\n"
          ],
          "name": "stderr"
        },
        {
          "output_type": "stream",
          "text": [
            "\n"
          ],
          "name": "stdout"
        },
        {
          "output_type": "stream",
          "text": [
            "08/11/2021 18:38:17 - INFO - filelock -   Lock 140340141201104 acquired on /root/.cache/huggingface/transformers/896eae0fbbb6c2981e5d4559f5d7fc0deb03e81c292abbe5c89b5bb1cf1294b3.541023ff50f833a9bab3e48e78ae1856cf6744bdb336c86e797eaf675b62b2b8.lock\n"
          ],
          "name": "stderr"
        },
        {
          "output_type": "display_data",
          "data": {
            "application/vnd.jupyter.widget-view+json": {
              "model_id": "4677cbe6f2014effbdc33fe15accf55d",
              "version_minor": 0,
              "version_major": 2
            },
            "text/plain": [
              "HBox(children=(FloatProgress(value=0.0, description='Downloading', max=263326.0, style=ProgressStyle(descripti…"
            ]
          },
          "metadata": {
            "tags": []
          }
        },
        {
          "output_type": "stream",
          "text": [
            "08/11/2021 18:38:17 - INFO - filelock -   Lock 140340141201104 released on /root/.cache/huggingface/transformers/896eae0fbbb6c2981e5d4559f5d7fc0deb03e81c292abbe5c89b5bb1cf1294b3.541023ff50f833a9bab3e48e78ae1856cf6744bdb336c86e797eaf675b62b2b8.lock\n"
          ],
          "name": "stderr"
        },
        {
          "output_type": "stream",
          "text": [
            "\n"
          ],
          "name": "stdout"
        },
        {
          "output_type": "stream",
          "text": [
            "08/11/2021 18:38:18 - INFO - filelock -   Lock 140337434827536 acquired on /root/.cache/huggingface/transformers/f2c12b0a8c12c754523b6ed45c1681b4495050720ade30bfe2345e5573d2e141.35f013c4fd3572cfdddbbdf6223ef162dd4fb536bf83007533f201addf3287b7.lock\n"
          ],
          "name": "stderr"
        },
        {
          "output_type": "display_data",
          "data": {
            "application/vnd.jupyter.widget-view+json": {
              "model_id": "f8747e1d437641e9908f99d512ac6844",
              "version_minor": 0,
              "version_major": 2
            },
            "text/plain": [
              "HBox(children=(FloatProgress(value=0.0, description='Downloading', max=61.0, style=ProgressStyle(description_w…"
            ]
          },
          "metadata": {
            "tags": []
          }
        },
        {
          "output_type": "stream",
          "text": [
            "08/11/2021 18:38:19 - INFO - filelock -   Lock 140337434827536 released on /root/.cache/huggingface/transformers/f2c12b0a8c12c754523b6ed45c1681b4495050720ade30bfe2345e5573d2e141.35f013c4fd3572cfdddbbdf6223ef162dd4fb536bf83007533f201addf3287b7.lock\n"
          ],
          "name": "stderr"
        },
        {
          "output_type": "stream",
          "text": [
            "\n"
          ],
          "name": "stdout"
        },
        {
          "output_type": "stream",
          "text": [
            "08/11/2021 18:38:20 - INFO - filelock -   Lock 140337434725200 acquired on /root/.cache/huggingface/transformers/efc891feb2c6ce810e4350a7fb9d7f9f48d16b78cc24f95c34bd2d5d1d4bb9c4.20d7b162691634a30f634433042d1bfde6dea4760555a95e166bfa3a3b415682.lock\n"
          ],
          "name": "stderr"
        },
        {
          "output_type": "display_data",
          "data": {
            "application/vnd.jupyter.widget-view+json": {
              "model_id": "3915459f511449a0ade8029acbee89d6",
              "version_minor": 0,
              "version_major": 2
            },
            "text/plain": [
              "HBox(children=(FloatProgress(value=0.0, description='Downloading', max=451741507.0, style=ProgressStyle(descri…"
            ]
          },
          "metadata": {
            "tags": []
          }
        },
        {
          "output_type": "stream",
          "text": [
            "08/11/2021 18:38:29 - INFO - filelock -   Lock 140337434725200 released on /root/.cache/huggingface/transformers/efc891feb2c6ce810e4350a7fb9d7f9f48d16b78cc24f95c34bd2d5d1d4bb9c4.20d7b162691634a30f634433042d1bfde6dea4760555a95e166bfa3a3b415682.lock\n"
          ],
          "name": "stderr"
        },
        {
          "output_type": "stream",
          "text": [
            "\n"
          ],
          "name": "stdout"
        },
        {
          "output_type": "stream",
          "text": [
            "Some weights of the model checkpoint at monologg/koelectra-base-v3-discriminator were not used when initializing ElectraForSequenceClassification: ['discriminator_predictions.dense.bias', 'discriminator_predictions.dense_prediction.weight', 'discriminator_predictions.dense.weight', 'discriminator_predictions.dense_prediction.bias']\n",
            "- This IS expected if you are initializing ElectraForSequenceClassification from the checkpoint of a model trained on another task or with another architecture (e.g. initializing a BertForSequenceClassification model from a BertForPreTraining model).\n",
            "- This IS NOT expected if you are initializing ElectraForSequenceClassification from the checkpoint of a model that you expect to be exactly identical (initializing a BertForSequenceClassification model from a BertForSequenceClassification model).\n",
            "Some weights of ElectraForSequenceClassification were not initialized from the model checkpoint at monologg/koelectra-base-v3-discriminator and are newly initialized: ['classifier.out_proj.bias', 'classifier.out_proj.weight', 'classifier.dense.bias', 'classifier.dense.weight']\n",
            "You should probably TRAIN this model on a down-stream task to be able to use it for predictions and inference.\n"
          ],
          "name": "stderr"
        }
      ]
    },
    {
      "cell_type": "code",
      "metadata": {
        "colab": {
          "base_uri": "https://localhost:8080/"
        },
        "id": "FfIJc-O3AAuH",
        "outputId": "2f2db9e0-d582-4746-e78d-2939addac8a1"
      },
      "source": [
        "%cd /content/drive/MyDrive/Colab Notebooks\n",
        "import os\n",
        "from torch.utils.data import TensorDataset\n",
        "logger = logging.getLogger(__name__)\n",
        "print(__name__)\n",
        "def load_and_cache_examples(args, tokenizer, mode):\n",
        "    processor = Processor(args)\n",
        "    output_mode = args.task\n",
        "    # Load data features from cache or dataset file\n",
        "    cached_features_file = os.path.join(\n",
        "        args.data_dir,\n",
        "        \"cached_{}_{}_{}_{}\".format(\n",
        "            str(args.task), list(filter(None, args.model_name_or_path.split(\"/\"))).pop(), str(args.max_seq_len), mode\n",
        "        ),\n",
        "    )\n",
        "    if os.path.exists(cached_features_file):\n",
        "        logger.info(\"Loading features from cached file %s\", cached_features_file)\n",
        "        features = torch.load(cached_features_file)\n",
        "    else:\n",
        "        logger.info(\"Creating features from dataset file at %s\", args.data_dir)\n",
        "        if mode == \"train\":\n",
        "            examples = processor.get_examples(\"train\")\n",
        "        elif mode == \"test\":\n",
        "            examples = processor.get_examples(\"test\")\n",
        "        else:\n",
        "            raise ValueError(\"For mode, choose between train and test\")\n",
        "        features = seq_cls_convert_examples_to_features(\n",
        "            args, examples, tokenizer, max_length=args.max_seq_len\n",
        "        )\n",
        "        logger.info(\"Saving features into cached file %s\", cached_features_file)\n",
        "        torch.save(features, cached_features_file)\n",
        "\n",
        "    # Convert to Tensors and build dataset\n",
        "    all_input_ids = torch.tensor([f.input_ids for f in features], dtype=torch.long)\n",
        "    all_attention_mask = torch.tensor([f.attention_mask for f in features], dtype=torch.long)\n",
        "    all_token_type_ids = torch.tensor([f.token_type_ids for f in features], dtype=torch.long)\n",
        "\n",
        "\n",
        "\n",
        "    if output_mode == \"classification\" or 'sentiment':\n",
        "        all_labels = torch.tensor([f.label for f in features], dtype=torch.long)\n",
        "\n",
        "\n",
        "    # if output_mode == \"classification\":\n",
        "    #     all_labels = torch.tensor([f.label for f in features], dtype=torch.long)\n",
        "    # elif output_mode == \"regression\":\n",
        "    #     all_labels = torch.tensor([f.label for f in features], dtype=torch.float)\n",
        "\n",
        "    dataset = TensorDataset(all_input_ids, all_attention_mask, all_token_type_ids, all_labels)\n",
        "    return dataset\n",
        "def seq_cls_convert_examples_to_features(args, examples, tokenizer, max_length):\n",
        "    processor = Processor(args)\n",
        "    label_list = processor.get_labels()\n",
        "    output_mode = args.task\n",
        "    logger.info(\"Using label list {}\".format(label_list))\n",
        "    logger.info(\"Using output mode {}\".format(output_mode))\n",
        "\n",
        "    # labels = [label_from_example(example) for example in examples]\n",
        "    labels = [int(example.label) for example in examples]\n",
        "\n",
        "    batch_encoding = tokenizer.batch_encode_plus(\n",
        "        [(example.text_a, example.text_b) for example in examples],\n",
        "        max_length=max_length,\n",
        "        padding=\"max_length\",\n",
        "        add_special_tokens=True,\n",
        "        truncation=True,\n",
        "    )\n",
        "\n",
        "    features = []\n",
        "    for i in range(len(examples)):\n",
        "        inputs = {k: batch_encoding[k][i] for k in batch_encoding}\n",
        "        if \"token_type_ids\" not in inputs:\n",
        "            inputs[\"token_type_ids\"] = [0] * len(inputs[\"input_ids\"])  # For xlm-roberta\n",
        "\n",
        "        feature = InputFeatures(**inputs, label=labels[i])\n",
        "        features.append(feature)\n",
        "\n",
        "    for i, example in enumerate(examples[:5]):\n",
        "        logger.info(\"*** Example ***\")\n",
        "        logger.info(\"guid: {}\".format(example.guid))\n",
        "        logger.info(\"input_ids: {}\".format(\" \".join([str(x) for x in features[i].input_ids])))\n",
        "        logger.info(\"attention_mask: {}\".format(\" \".join([str(x) for x in features[i].attention_mask])))\n",
        "        logger.info(\"token_type_ids: {}\".format(\" \".join([str(x) for x in features[i].token_type_ids])))\n",
        "        logger.info(\"label: {}\".format(features[i].label))\n",
        "\n",
        "    return features\n",
        "\n"
      ],
      "execution_count": 7,
      "outputs": [
        {
          "output_type": "stream",
          "text": [
            "/content/drive/MyDrive/Colab Notebooks\n",
            "__main__\n"
          ],
          "name": "stdout"
        }
      ]
    },
    {
      "cell_type": "code",
      "metadata": {
        "id": "fZXbz67inCgG"
      },
      "source": [
        "import argparse\n",
        "import json\n",
        "import logging\n",
        "import os\n",
        "import glob\n",
        "import matplotlib.pyplot as plt\n",
        "import matplotlib.ticker as mticker\n",
        "from transformers import (\n",
        "    AdamW,\n",
        "    get_linear_schedule_with_warmup\n",
        ")\n",
        "from tqdm.auto import tqdm\n",
        "\n",
        "\n",
        "def train(args,\n",
        "          model,\n",
        "          train_dataset,\n",
        "          test_dataset=None):\n",
        "    train_sampler = RandomSampler(train_dataset)\n",
        "    train_dataloader = DataLoader(train_dataset, sampler=train_sampler, batch_size=args.train_batch_size)\n",
        "    full_text = pd.read_csv(os.path.join(args.data_dir, 'full_text.txt'), sep='\\t')\n",
        "    # full_text = pd.read_csv('train_n_full.txt', sep='\\t')\n",
        "    print(full_text)\n",
        "    if args.max_steps > 0:\n",
        "        t_total = args.max_steps\n",
        "        print()\n",
        "        print(t_total, len(train_dataloader), args.gradient_accumulation_steps)\n",
        "        print()\n",
        "        args.num_train_epochs = args.max_steps // (len(train_dataloader) // args.gradient_accumulation_steps) + 1\n",
        "    else:\n",
        "        t_total = len(train_dataloader) // args.gradient_accumulation_steps * args.num_train_epochs\n",
        "        print('max steps: ' + str(t_total), 'length of train data: ' + str(len(train_dataloader)),\n",
        "              args.gradient_accumulation_steps)\n",
        "    # Prepare optimizer and schedule (linear warmup and decay)\n",
        "    no_decay = ['bias', 'LayerNorm.weight']\n",
        "    optimizer_grouped_parameters = [\n",
        "        {'params': [p for n, p in model.named_parameters() if not any(nd in n for nd in no_decay)],\n",
        "         'weight_decay': args.weight_decay},\n",
        "        {'params': [p for n, p in model.named_parameters() if any(nd in n for nd in no_decay)], 'weight_decay': 0.0}\n",
        "    ]\n",
        "    optimizer = AdamW(optimizer_grouped_parameters, lr=args.learning_rate, eps=args.adam_epsilon)\n",
        "    scheduler = get_linear_schedule_with_warmup(optimizer, num_warmup_steps=int(t_total * args.warmup_proportion),\n",
        "                                                num_training_steps=t_total)\n",
        "\n",
        "    if os.path.isfile(os.path.join(args.model_name_or_path, \"optimizer.pt\")) and os.path.isfile(\n",
        "            os.path.join(args.model_name_or_path, \"scheduler.pt\")\n",
        "    ):\n",
        "        # Load optimizer and scheduler states\n",
        "        optimizer.load_state_dict(torch.load(os.path.join(args.model_name_or_path, \"optimizer.pt\")))\n",
        "        scheduler.load_state_dict(torch.load(os.path.join(args.model_name_or_path, \"scheduler.pt\")))\n",
        "\n",
        "    # Train!\n",
        "    logger.info(\"***** Running training *****\")\n",
        "    logger.info(\"  Num examples = %d\", len(train_dataset))\n",
        "    logger.info(\"  Num Epochs = %d\", args.num_train_epochs)\n",
        "    logger.info(\"  Total train batch size = %d\", args.train_batch_size)\n",
        "    logger.info(\"  Gradient Accumulation steps = %d\", args.gradient_accumulation_steps)\n",
        "    logger.info(\"  Total optimization steps = %d\", t_total)\n",
        "    logger.info(\"  Logging steps = %d\", args.logging_steps)\n",
        "    logger.info(\"  Save steps = %d\", args.save_steps)\n",
        "\n",
        "    global_step = 0\n",
        "    tr_loss = 0.0\n",
        "\n",
        "    model.zero_grad()\n",
        "    mb = master_bar(range(int(args.num_train_epochs)))\n",
        "    for epoch in tqdm(mb):\n",
        "        epoch_iterator = progress_bar(train_dataloader, parent=mb)\n",
        "\n",
        "        for step, batch in enumerate(epoch_iterator):\n",
        "            model.train()\n",
        "            batch = tuple(t.to(args.device) for t in batch)\n",
        "            inputs = {\n",
        "                \"input_ids\": batch[0],\n",
        "                \"attention_mask\": batch[1],\n",
        "                \"labels\": batch[3]\n",
        "            }\n",
        "\n",
        "            if args.model_type not in [\"distilkobert\", \"xlm-roberta\"]:\n",
        "                inputs[\"token_type_ids\"] = batch[2]  # Distilkobert, XLM-Roberta don't use segment_ids\n",
        "            outputs = model(**inputs)\n",
        "            loss = outputs[0]\n",
        "\n",
        "            if args.gradient_accumulation_steps > 1:\n",
        "                loss = loss / args.gradient_accumulation_steps\n",
        "\n",
        "            loss.backward()\n",
        "            tr_loss += loss.item()\n",
        "\n",
        "\n",
        "            if (step + 1) % args.gradient_accumulation_steps == 0 or (\n",
        "                    len(train_dataloader) <= args.gradient_accumulation_steps\n",
        "                    and (step + 1) == len(train_dataloader)\n",
        "            ):\n",
        "                torch.nn.utils.clip_grad_norm_(model.parameters(), args.max_grad_norm)\n",
        "\n",
        "                optimizer.step()\n",
        "                scheduler.step()\n",
        "                model.zero_grad()\n",
        "                global_step += 1\n",
        "\n",
        "\n",
        "                print(\"loss: \" + str(tr_loss / global_step))\n",
        "\n",
        "\n",
        "                if args.logging_steps > 0 and global_step % args.logging_steps == 0:\n",
        "                    if args.evaluate_test_during_training:\n",
        "                        evaluate(args, model, full_text, test_dataset, \"test\", global_step)\n",
        "\n",
        "                if args.save_steps > 0 and global_step % args.save_steps == 0:\n",
        "                    # Save model checkpoint\n",
        "                    output_dir = os.path.join(args.output_dir, \"checkpoint-{}\".format(global_step))\n",
        "                    if not os.path.exists(output_dir):\n",
        "                        os.makedirs(output_dir)\n",
        "                    model_to_save = (\n",
        "                        model.module if hasattr(model, \"module\") else model\n",
        "                    )\n",
        "                    model_to_save.save_pretrained(output_dir)\n",
        "\n",
        "                    torch.save(args, os.path.join(output_dir, \"training_args.bin\"))\n",
        "                    logger.info(\"Saving model checkpoint to {}\".format(output_dir))\n",
        "\n",
        "                    if args.save_optimizer:\n",
        "                        torch.save(optimizer.state_dict(), os.path.join(output_dir, \"optimizer.pt\"))\n",
        "                        torch.save(scheduler.state_dict(), os.path.join(output_dir, \"scheduler.pt\"))\n",
        "                        logger.info(\"Saving optimizer and scheduler states to {}\".format(output_dir))\n",
        "            if args.max_steps > 0 and global_step > args.max_steps:\n",
        "                break\n",
        "\n",
        "        mb.write(\"Epoch {} done\".format(epoch + 1))\n",
        "\n",
        "        if args.max_steps > 0 and global_step > args.max_steps:\n",
        "            break\n",
        "\n",
        "    return global_step, tr_loss / global_step, full_text"
      ],
      "execution_count": 8,
      "outputs": []
    },
    {
      "cell_type": "code",
      "metadata": {
        "id": "ghFXmNuqq7q7"
      },
      "source": [
        "def evaluate(args, model, full_text, eval_dataset, mode, global_step=None):\n",
        "    results = {}\n",
        "    eval_sampler = SequentialSampler(eval_dataset)\n",
        "    eval_dataloader = DataLoader(eval_dataset, sampler=eval_sampler, batch_size=args.eval_batch_size)\n",
        "\n",
        "    # Eval!\n",
        "    if global_step != None:\n",
        "        logger.info(\"***** Running evaluation on {} dataset ({} step) *****\".format(mode, global_step))\n",
        "    else:\n",
        "        logger.info(\"***** Running evaluation on {} dataset *****\".format(mode))\n",
        "    logger.info(\"  Num examples = {}\".format(len(eval_dataset)))\n",
        "    logger.info(\"  Eval Batch size = {}\".format(args.eval_batch_size))\n",
        "    eval_loss = 0.0\n",
        "    # nb_eval_steps = 0\n",
        "    preds = None\n",
        "    out_label_ids = None\n",
        "    out_input_ids = None\n",
        "\n",
        "    for batch in progress_bar(eval_dataloader):\n",
        "        model.eval()\n",
        "        batch = tuple(t.to(args.device) for t in batch)\n",
        "\n",
        "        with torch.no_grad():\n",
        "            inputs = {\n",
        "                \"input_ids\": batch[0],\n",
        "                \"attention_mask\": batch[1],\n",
        "                \"labels\": batch[3]\n",
        "            }\n",
        "\n",
        "            if args.model_type not in [\"distilkobert\", \"xlm-roberta\"]:\n",
        "                inputs[\"token_type_ids\"] = batch[2]  # Distilkobert, XLM-Roberta don't use segment_ids\n",
        "            outputs = model(**inputs)\n",
        "            tmp_eval_loss, logits = outputs[:2]\n",
        "\n",
        "            eval_loss += tmp_eval_loss.mean().item()\n",
        "        # nb_eval_steps += 1\n",
        "        if preds is None:\n",
        "            out_input_ids = inputs['input_ids'].detach().cpu().numpy()\n",
        "            preds = logits.detach().cpu().numpy()\n",
        "            out_label_ids = inputs[\"labels\"].detach().cpu().numpy()\n",
        "        else:\n",
        "            out_input_ids = np.append(out_input_ids, inputs['input_ids'].detach().cpu().numpy(), axis=0)\n",
        "            preds = np.append(preds, logits.detach().cpu().numpy(), axis=0)\n",
        "            out_label_ids = np.append(out_label_ids, inputs[\"labels\"].detach().cpu().numpy(), axis=0)\n",
        "\n",
        "        # 내가 수정한 부분\n",
        "\n",
        "    tokenizer = args.tokenizer.from_pretrained(\n",
        "        args.model_name_or_path,\n",
        "        do_lower_case=args.do_lower_case\n",
        "    )\n",
        "    # label_dict = {'칭찬': 0, '중립': 0.5, '불만': 1}\n",
        "    if args.task == 'classification':\n",
        "      label_dict = {'중립': 0, '상담원': 1, '상담시스템': 2, '혜택': 3, '할부금융상품': 4,\n",
        "                  '카드상품': 5, '청구입금': 6, '심사/한도': 7, '생활편의서비스': 8,\n",
        "                  '상담/채널': 9, '리스렌탈상품': 10, '라이프서비스': 11, '금융상품': 12,\n",
        "                  '고객정보관리': 13, '가맹점매출/승인': 14, '삼성카드': 15, '기타': 16}\n",
        "    else:\n",
        "      label_dict = {'칭찬': 0, '불만': 1}\n",
        "    label_dict = dict((v, k) for k, v in label_dict.items())\n",
        "    df_review = []\n",
        "    # temp_review = []\n",
        "    df_label = np.vectorize(label_dict.get)(out_label_ids)\n",
        "    df_prediction = np.vectorize(label_dict.get(np.argmax(preds)))\n",
        "    for i in range(len(out_input_ids)):\n",
        "        review_list = list(out_input_ids[i])\n",
        "\n",
        "\n",
        "        # temp_review.append(str(x) for x in out_input_ids[i])\n",
        "\n",
        "\n",
        "        while 0 in review_list:\n",
        "            review_list.remove(0)\n",
        "        del review_list[0]\n",
        "        del review_list[-1]\n",
        "        df_review.append(tokenizer.decode(review_list))\n",
        "        # print(review_list, label_dict[out_label_ids[i] - 1], label_dict[np.argmax(preds[i]) - 1])\n",
        "    df_data = {'Review': df_review, 'Label': df_label, 'Prediction': df_prediction}\n",
        "    df = pd.DataFrame(df_data)\n",
        "\n",
        "    df_train_data = {'Review': full_text['Review'], 'Label': full_text['Label']}\n",
        "    df_from_train = pd.DataFrame(df_train_data)\n",
        "    # Dodged Bar Chart (with same X coordinates side by side)\n",
        "\n",
        "    bar_width = 0.35\n",
        "    alpha = 0.5\n",
        "    label_lst = list(label_dict.values())\n",
        "    index = np.arange(len(label_lst))\n",
        "    count_list, cnt_pred, cnt_label = [0 for _ in range(len(label_dict))], \\\n",
        "                                    [0 for _ in range(len(label_dict))], [0 for _ in range(len(label_dict))]\n",
        "    count_labels = df_from_train.groupby('Label', as_index=False).Review.count()\n",
        "    acc_labels = df[df['Label'] == df['Prediction']].groupby('Label').Review.count()\n",
        "    viable_label = list(count_labels['Label'])\n",
        "    for i in range(len(viable_label)):\n",
        "        count_list[viable_label[i]] = count_labels['Review'][i]\n",
        "    for validation in range(len(out_label_ids)):\n",
        "        if out_label_ids[validation] == np.argmax(preds, axis=1)[validation]:\n",
        "            cnt_pred[out_label_ids[validation]] += 100\n",
        "        cnt_label[out_label_ids[validation]] += 1\n",
        "    for i in range(len(cnt_label)):\n",
        "        if cnt_label[i] == 0:\n",
        "            cnt_label[i] = 1\n",
        "    acc_tot = np.divide(cnt_pred, cnt_label)\n",
        "    acc_tot[np.isnan(acc_tot)] = 0\n",
        "    # print(count_list)\n",
        "    # print(acc_tot)\n",
        "    plt.figure(figsize=(15, 8))\n",
        "    plt.subplot(2, 1, 1)\n",
        "    plt.title('Bar Chart of Labels Count and Accuracy', fontsize=15)\n",
        "    clrs = ['r' if (x < 15) else 'b' for x in count_list]\n",
        "    p1 = plt.bar(index, count_list,\n",
        "                 bar_width,\n",
        "                 color=clrs,\n",
        "                 alpha=alpha,\n",
        "                 label='Count')\n",
        "    plt.ylabel('Count of Labels', fontsize=12)\n",
        "    plt.xticks([], [])\n",
        "    # plt.legend((p1[0],), ('Count',), fontsize=10)\n",
        "    plt.subplot(2, 1, 2)\n",
        "    p2 = plt.bar(index + bar_width, acc_tot,\n",
        "                 bar_width,\n",
        "                 color=clrs,\n",
        "                 alpha=alpha,\n",
        "                 label='Accuracy')\n",
        "    plt.gca().yaxis.set_major_formatter(mticker.PercentFormatter())\n",
        "    plt.ylabel('Accuracy by Labels', fontsize=12)\n",
        "    plt.xlabel('Label', fontsize=12)\n",
        "    plt.xticks(index, label_lst, fontsize=10, rotation=45)\n",
        "    # plt.legend((p2[0],), ('Accuracy',), fontsize=10)\n",
        "    plt.show()\n",
        "        # for i in range(len(out_label_ids)):\n",
        "        #     print(tokenizer.decode(out_ids[i]), out_label_ids[i], preds[i])\n",
        "        # print(type(out_label_ids), type(preds))\n",
        "        # print(out_label_ids, preds)\n",
        "        #\n",
        "\n",
        "    # eval_loss = eval_loss / nb_eval_steps\n",
        "    # if output_modes[args.task] == \"classification\":\n",
        "    preds_original = preds.copy()\n",
        "    preds = np.argmax(preds, axis=1)\n",
        "    # elif output_modes[args.task] == \"regression\":\n",
        "    #     preds = np.squeeze(preds)\n",
        "    result = compute_metrics(out_label_ids, preds)\n",
        "\n",
        "    # 틀린 항목 정리\n",
        "    check_right = out_label_ids == preds\n",
        "    df = pd.DataFrame(columns=['Review', 'Label', 'Prediction', 'Softmax'])\n",
        "    for check_result in range(len(check_right)):\n",
        "        if not check_right[check_result]:\n",
        "            review_list = list(out_input_ids[check_result])\n",
        "            while 0 in review_list:\n",
        "                review_list.remove(0)\n",
        "            del review_list[0]\n",
        "            del review_list[-1]\n",
        "            df = df.append({'Review': tokenizer.decode(review_list), \n",
        "                           'Label': label_dict[out_label_ids[check_result]], \n",
        "                           'Prediction': label_dict[preds[check_result]],\n",
        "                           'Softmax': preds_original[check_result]},\n",
        "                           ignore_index=True\n",
        "                           )\n",
        "    \n",
        "    print(df.head())\n",
        "    df.to_csv(r'analysis_ckpt_{}_{}.csv'.format(args.task, global_step), header=None, index=None, sep='\\t', mode='a')\n",
        "            # print(tokenizer.decode(review_list), 'Label: ' + str(label_dict[out_label_ids[check_result]]) + ' Prediction: ' + str(\n",
        "            #     label_dict[preds[check_result]]))\n",
        "\n",
        "\n",
        "    # numpy_data = np.array(out_label_ids, preds)\n",
        "    # df = pd.DataFrame(data=numpy_data, index=[\"row1\", \"row2\"], columns=[\"column1\", \"column2\"])\n",
        "    print(result)\n",
        "    results.update(result)\n",
        "    output_dir = os.path.join(args.output_dir, mode)\n",
        "    if not os.path.exists(output_dir):\n",
        "        os.makedirs(output_dir)\n",
        "    output_eval_file = os.path.join(output_dir,\n",
        "                                    \"{}-{}.txt\".format(mode, global_step) if global_step else \"{}.txt\".format(mode))\n",
        "    with open(output_eval_file, \"w\") as f_w:\n",
        "        logger.info(\"***** Eval results on {} dataset *****\".format(mode))\n",
        "        for key in sorted(results.keys()):\n",
        "            logger.info(\"  {} = {}\".format(key, str(results[key])))\n",
        "            f_w.write(\"  {} = {}\\n\".format(key, str(results[key])))\n",
        "\n",
        "    return results\n",
        "\n",
        "def compute_metrics(labels, preds):\n",
        "    assert len(preds) == len(labels)\n",
        "    return {\"acc\": (labels == preds).mean()}"
      ],
      "execution_count": 9,
      "outputs": []
    },
    {
      "cell_type": "code",
      "metadata": {
        "id": "DyPH-5ErasPI",
        "colab": {
          "base_uri": "https://localhost:8080/"
        },
        "outputId": "58a163e1-4ea1-4c76-dcbc-b11f329b7e13"
      },
      "source": [
        "train_dataset = load_and_cache_examples(args, tokenizer, mode=\"train\")\n",
        "test_dataset = load_and_cache_examples(args, tokenizer, mode=\"test\")"
      ],
      "execution_count": 10,
      "outputs": [
        {
          "output_type": "stream",
          "text": [
            "08/11/2021 18:38:33 - INFO - __main__ -   Creating features from dataset file at data/sentiment\n",
            "08/11/2021 18:38:33 - INFO - __main__ -   LOOKING AT data/sentiment/train_cls.txt\n",
            "08/11/2021 18:38:33 - INFO - __main__ -   ['스마트 앱으로  자동 넘어가는 것 불편함  문자 이용하려 해도', '1']\n",
            "08/11/2021 18:38:33 - INFO - __main__ -   Using label list ['0', '1']\n",
            "08/11/2021 18:38:33 - INFO - __main__ -   Using output mode sentiment\n",
            "08/11/2021 18:38:35 - INFO - __main__ -   *** Example ***\n",
            "08/11/2021 18:38:35 - INFO - __main__ -   guid: train-0\n",
            "08/11/2021 18:38:35 - INFO - __main__ -   input_ids: 2 6777 3098 10749 6559 9764 4034 2048 7876 4418 8314 6361 4279 4228 6571 3 0 0 0 0 0 0 0 0 0 0 0 0 0 0 0 0 0 0 0 0 0 0 0 0 0 0 0 0 0 0 0 0 0 0 0 0 0 0 0 0 0 0 0 0 0 0 0 0\n",
            "08/11/2021 18:38:35 - INFO - __main__ -   attention_mask: 1 1 1 1 1 1 1 1 1 1 1 1 1 1 1 1 0 0 0 0 0 0 0 0 0 0 0 0 0 0 0 0 0 0 0 0 0 0 0 0 0 0 0 0 0 0 0 0 0 0 0 0 0 0 0 0 0 0 0 0 0 0 0 0\n",
            "08/11/2021 18:38:35 - INFO - __main__ -   token_type_ids: 0 0 0 0 0 0 0 0 0 0 0 0 0 0 0 0 0 0 0 0 0 0 0 0 0 0 0 0 0 0 0 0 0 0 0 0 0 0 0 0 0 0 0 0 0 0 0 0 0 0 0 0 0 0 0 0 0 0 0 0 0 0 0 0\n",
            "08/11/2021 18:38:35 - INFO - __main__ -   label: 1\n",
            "08/11/2021 18:38:35 - INFO - __main__ -   *** Example ***\n",
            "08/11/2021 18:38:35 - INFO - __main__ -   guid: train-1\n",
            "08/11/2021 18:38:35 - INFO - __main__ -   input_ids: 2 7864 11368 6699 4234 8475 22570 4292 7748 6309 3323 4480 9234 3760 7864 4067 27265 4108 4070 6395 12106 4129 7876 4418 3 0 0 0 0 0 0 0 0 0 0 0 0 0 0 0 0 0 0 0 0 0 0 0 0 0 0 0 0 0 0 0 0 0 0 0 0 0 0 0\n",
            "08/11/2021 18:38:35 - INFO - __main__ -   attention_mask: 1 1 1 1 1 1 1 1 1 1 1 1 1 1 1 1 1 1 1 1 1 1 1 1 1 0 0 0 0 0 0 0 0 0 0 0 0 0 0 0 0 0 0 0 0 0 0 0 0 0 0 0 0 0 0 0 0 0 0 0 0 0 0 0\n",
            "08/11/2021 18:38:35 - INFO - __main__ -   token_type_ids: 0 0 0 0 0 0 0 0 0 0 0 0 0 0 0 0 0 0 0 0 0 0 0 0 0 0 0 0 0 0 0 0 0 0 0 0 0 0 0 0 0 0 0 0 0 0 0 0 0 0 0 0 0 0 0 0 0 0 0 0 0 0 0 0\n",
            "08/11/2021 18:38:35 - INFO - __main__ -   label: 1\n",
            "08/11/2021 18:38:35 - INFO - __main__ -   *** Example ***\n",
            "08/11/2021 18:38:35 - INFO - __main__ -   guid: train-2\n",
            "08/11/2021 18:38:35 - INFO - __main__ -   input_ids: 2 17447 7864 4007 6259 4398 9234 3311 5012 7933 3 0 0 0 0 0 0 0 0 0 0 0 0 0 0 0 0 0 0 0 0 0 0 0 0 0 0 0 0 0 0 0 0 0 0 0 0 0 0 0 0 0 0 0 0 0 0 0 0 0 0 0 0 0\n",
            "08/11/2021 18:38:35 - INFO - __main__ -   attention_mask: 1 1 1 1 1 1 1 1 1 1 1 0 0 0 0 0 0 0 0 0 0 0 0 0 0 0 0 0 0 0 0 0 0 0 0 0 0 0 0 0 0 0 0 0 0 0 0 0 0 0 0 0 0 0 0 0 0 0 0 0 0 0 0 0\n",
            "08/11/2021 18:38:35 - INFO - __main__ -   token_type_ids: 0 0 0 0 0 0 0 0 0 0 0 0 0 0 0 0 0 0 0 0 0 0 0 0 0 0 0 0 0 0 0 0 0 0 0 0 0 0 0 0 0 0 0 0 0 0 0 0 0 0 0 0 0 0 0 0 0 0 0 0 0 0 0 0\n",
            "08/11/2021 18:38:35 - INFO - __main__ -   label: 1\n",
            "08/11/2021 18:38:35 - INFO - __main__ -   *** Example ***\n",
            "08/11/2021 18:38:35 - INFO - __main__ -   guid: train-3\n",
            "08/11/2021 18:38:35 - INFO - __main__ -   input_ids: 2 18016 4164 4070 3249 6913 2048 4073 12068 4007 3249 4576 6216 6747 6267 4234 7370 4162 4110 6237 6535 6282 6267 6699 4073 8028 4044 4034 18016 4164 4110 11336 4151 3323 4034 2054 9662 17788 3 0 0 0 0 0 0 0 0 0 0 0 0 0 0 0 0 0 0 0 0 0 0 0 0 0\n",
            "08/11/2021 18:38:35 - INFO - __main__ -   attention_mask: 1 1 1 1 1 1 1 1 1 1 1 1 1 1 1 1 1 1 1 1 1 1 1 1 1 1 1 1 1 1 1 1 1 1 1 1 1 1 1 0 0 0 0 0 0 0 0 0 0 0 0 0 0 0 0 0 0 0 0 0 0 0 0 0\n",
            "08/11/2021 18:38:35 - INFO - __main__ -   token_type_ids: 0 0 0 0 0 0 0 0 0 0 0 0 0 0 0 0 0 0 0 0 0 0 0 0 0 0 0 0 0 0 0 0 0 0 0 0 0 0 0 0 0 0 0 0 0 0 0 0 0 0 0 0 0 0 0 0 0 0 0 0 0 0 0 0\n",
            "08/11/2021 18:38:35 - INFO - __main__ -   label: 1\n",
            "08/11/2021 18:38:35 - INFO - __main__ -   *** Example ***\n",
            "08/11/2021 18:38:35 - INFO - __main__ -   guid: train-4\n",
            "08/11/2021 18:38:35 - INFO - __main__ -   input_ids: 2 6619 4110 2684 13227 4034 2041 2024 4153 4150 3 0 0 0 0 0 0 0 0 0 0 0 0 0 0 0 0 0 0 0 0 0 0 0 0 0 0 0 0 0 0 0 0 0 0 0 0 0 0 0 0 0 0 0 0 0 0 0 0 0 0 0 0 0\n",
            "08/11/2021 18:38:35 - INFO - __main__ -   attention_mask: 1 1 1 1 1 1 1 1 1 1 1 0 0 0 0 0 0 0 0 0 0 0 0 0 0 0 0 0 0 0 0 0 0 0 0 0 0 0 0 0 0 0 0 0 0 0 0 0 0 0 0 0 0 0 0 0 0 0 0 0 0 0 0 0\n",
            "08/11/2021 18:38:35 - INFO - __main__ -   token_type_ids: 0 0 0 0 0 0 0 0 0 0 0 0 0 0 0 0 0 0 0 0 0 0 0 0 0 0 0 0 0 0 0 0 0 0 0 0 0 0 0 0 0 0 0 0 0 0 0 0 0 0 0 0 0 0 0 0 0 0 0 0 0 0 0 0\n",
            "08/11/2021 18:38:35 - INFO - __main__ -   label: 1\n",
            "08/11/2021 18:38:35 - INFO - __main__ -   Saving features into cached file data/sentiment/cached_sentiment_koelectra-base-v3-discriminator_64_train\n",
            "08/11/2021 18:38:36 - INFO - __main__ -   Creating features from dataset file at data/sentiment\n",
            "08/11/2021 18:38:36 - INFO - __main__ -   LOOKING AT data/sentiment/evaluation_cls.txt\n",
            "08/11/2021 18:38:36 - INFO - __main__ -   ['수고하세요   불금 불금', '0']\n",
            "08/11/2021 18:38:36 - INFO - __main__ -   Using label list ['0', '1']\n",
            "08/11/2021 18:38:36 - INFO - __main__ -   Using output mode sentiment\n",
            "08/11/2021 18:38:36 - INFO - __main__ -   *** Example ***\n",
            "08/11/2021 18:38:36 - INFO - __main__ -   guid: test-0\n",
            "08/11/2021 18:38:36 - INFO - __main__ -   input_ids: 2 14573 4279 8553 27123 27123 3 0 0 0 0 0 0 0 0 0 0 0 0 0 0 0 0 0 0 0 0 0 0 0 0 0 0 0 0 0 0 0 0 0 0 0 0 0 0 0 0 0 0 0 0 0 0 0 0 0 0 0 0 0 0 0 0 0\n",
            "08/11/2021 18:38:36 - INFO - __main__ -   attention_mask: 1 1 1 1 1 1 1 0 0 0 0 0 0 0 0 0 0 0 0 0 0 0 0 0 0 0 0 0 0 0 0 0 0 0 0 0 0 0 0 0 0 0 0 0 0 0 0 0 0 0 0 0 0 0 0 0 0 0 0 0 0 0 0 0\n",
            "08/11/2021 18:38:36 - INFO - __main__ -   token_type_ids: 0 0 0 0 0 0 0 0 0 0 0 0 0 0 0 0 0 0 0 0 0 0 0 0 0 0 0 0 0 0 0 0 0 0 0 0 0 0 0 0 0 0 0 0 0 0 0 0 0 0 0 0 0 0 0 0 0 0 0 0 0 0 0 0\n",
            "08/11/2021 18:38:36 - INFO - __main__ -   label: 0\n",
            "08/11/2021 18:38:36 - INFO - __main__ -   *** Example ***\n",
            "08/11/2021 18:38:36 - INFO - __main__ -   guid: test-1\n",
            "08/11/2021 18:38:36 - INFO - __main__ -   input_ids: 2 14573 4073 2332 6851 17788 6652 29365 4219 7003 4279 8553 3 0 0 0 0 0 0 0 0 0 0 0 0 0 0 0 0 0 0 0 0 0 0 0 0 0 0 0 0 0 0 0 0 0 0 0 0 0 0 0 0 0 0 0 0 0 0 0 0 0 0 0\n",
            "08/11/2021 18:38:36 - INFO - __main__ -   attention_mask: 1 1 1 1 1 1 1 1 1 1 1 1 1 0 0 0 0 0 0 0 0 0 0 0 0 0 0 0 0 0 0 0 0 0 0 0 0 0 0 0 0 0 0 0 0 0 0 0 0 0 0 0 0 0 0 0 0 0 0 0 0 0 0 0\n",
            "08/11/2021 18:38:36 - INFO - __main__ -   token_type_ids: 0 0 0 0 0 0 0 0 0 0 0 0 0 0 0 0 0 0 0 0 0 0 0 0 0 0 0 0 0 0 0 0 0 0 0 0 0 0 0 0 0 0 0 0 0 0 0 0 0 0 0 0 0 0 0 0 0 0 0 0 0 0 0 0\n",
            "08/11/2021 18:38:36 - INFO - __main__ -   label: 0\n",
            "08/11/2021 18:38:36 - INFO - __main__ -   *** Example ***\n",
            "08/11/2021 18:38:36 - INFO - __main__ -   guid: test-2\n",
            "08/11/2021 18:38:36 - INFO - __main__ -   input_ids: 2 7082 6294 4073 7864 18774 10561 3 0 0 0 0 0 0 0 0 0 0 0 0 0 0 0 0 0 0 0 0 0 0 0 0 0 0 0 0 0 0 0 0 0 0 0 0 0 0 0 0 0 0 0 0 0 0 0 0 0 0 0 0 0 0 0 0\n",
            "08/11/2021 18:38:36 - INFO - __main__ -   attention_mask: 1 1 1 1 1 1 1 1 0 0 0 0 0 0 0 0 0 0 0 0 0 0 0 0 0 0 0 0 0 0 0 0 0 0 0 0 0 0 0 0 0 0 0 0 0 0 0 0 0 0 0 0 0 0 0 0 0 0 0 0 0 0 0 0\n",
            "08/11/2021 18:38:36 - INFO - __main__ -   token_type_ids: 0 0 0 0 0 0 0 0 0 0 0 0 0 0 0 0 0 0 0 0 0 0 0 0 0 0 0 0 0 0 0 0 0 0 0 0 0 0 0 0 0 0 0 0 0 0 0 0 0 0 0 0 0 0 0 0 0 0 0 0 0 0 0 0\n",
            "08/11/2021 18:38:36 - INFO - __main__ -   label: 1\n",
            "08/11/2021 18:38:36 - INFO - __main__ -   *** Example ***\n",
            "08/11/2021 18:38:36 - INFO - __main__ -   guid: test-3\n",
            "08/11/2021 18:38:36 - INFO - __main__ -   input_ids: 2 7895 12210 4007 2139 7933 3 0 0 0 0 0 0 0 0 0 0 0 0 0 0 0 0 0 0 0 0 0 0 0 0 0 0 0 0 0 0 0 0 0 0 0 0 0 0 0 0 0 0 0 0 0 0 0 0 0 0 0 0 0 0 0 0 0\n",
            "08/11/2021 18:38:36 - INFO - __main__ -   attention_mask: 1 1 1 1 1 1 1 0 0 0 0 0 0 0 0 0 0 0 0 0 0 0 0 0 0 0 0 0 0 0 0 0 0 0 0 0 0 0 0 0 0 0 0 0 0 0 0 0 0 0 0 0 0 0 0 0 0 0 0 0 0 0 0 0\n",
            "08/11/2021 18:38:36 - INFO - __main__ -   token_type_ids: 0 0 0 0 0 0 0 0 0 0 0 0 0 0 0 0 0 0 0 0 0 0 0 0 0 0 0 0 0 0 0 0 0 0 0 0 0 0 0 0 0 0 0 0 0 0 0 0 0 0 0 0 0 0 0 0 0 0 0 0 0 0 0 0\n",
            "08/11/2021 18:38:36 - INFO - __main__ -   label: 1\n",
            "08/11/2021 18:38:36 - INFO - __main__ -   *** Example ***\n",
            "08/11/2021 18:38:36 - INFO - __main__ -   guid: test-4\n",
            "08/11/2021 18:38:36 - INFO - __main__ -   input_ids: 2 7895 12210 4007 2139 4176 7864 4067 4192 7554 4070 7048 4176 3 0 0 0 0 0 0 0 0 0 0 0 0 0 0 0 0 0 0 0 0 0 0 0 0 0 0 0 0 0 0 0 0 0 0 0 0 0 0 0 0 0 0 0 0 0 0 0 0 0 0\n",
            "08/11/2021 18:38:36 - INFO - __main__ -   attention_mask: 1 1 1 1 1 1 1 1 1 1 1 1 1 1 0 0 0 0 0 0 0 0 0 0 0 0 0 0 0 0 0 0 0 0 0 0 0 0 0 0 0 0 0 0 0 0 0 0 0 0 0 0 0 0 0 0 0 0 0 0 0 0 0 0\n",
            "08/11/2021 18:38:36 - INFO - __main__ -   token_type_ids: 0 0 0 0 0 0 0 0 0 0 0 0 0 0 0 0 0 0 0 0 0 0 0 0 0 0 0 0 0 0 0 0 0 0 0 0 0 0 0 0 0 0 0 0 0 0 0 0 0 0 0 0 0 0 0 0 0 0 0 0 0 0 0 0\n",
            "08/11/2021 18:38:36 - INFO - __main__ -   label: 1\n",
            "08/11/2021 18:38:36 - INFO - __main__ -   Saving features into cached file data/sentiment/cached_sentiment_koelectra-base-v3-discriminator_64_test\n"
          ],
          "name": "stderr"
        }
      ]
    },
    {
      "cell_type": "code",
      "metadata": {
        "id": "izxQ2yD-kN-H",
        "colab": {
          "base_uri": "https://localhost:8080/",
          "height": 1000,
          "referenced_widgets": [
            "eff3838458744de0aaecacdb00b5ec8f",
            "9c713831e46c45b79590be21e4d2b842",
            "01b40ecc0e7446b38f873bc69b28ce1a",
            "ec12a400850b40eeb866c63613cc706e",
            "ca4277b74e7744a686dbed27799d0a09",
            "9221fecfa49e4d55809ae9ce96085f40",
            "f8bde30d29cb40248f5a7546326cb7b6",
            "7753090cd4044bbbb25b09364dca4018"
          ]
        },
        "outputId": "e334d90b-437d-47d0-cc80-50294a61900c"
      },
      "source": [
        "import numpy as np\n",
        "import pandas as pd\n",
        "from torch.utils.data import DataLoader, RandomSampler, SequentialSampler\n",
        "from fastprogress.fastprogress import master_bar, progress_bar\n",
        "\n",
        "# GPU or CPU\n",
        "args.device = \"cuda\" if torch.cuda.is_available() and not args.no_cuda else \"cpu\"\n",
        "model.to(args.device)\n",
        "\n",
        "# Train\n",
        "\n",
        "global_step, tr_loss, full_text = train(args, model, train_dataset, test_dataset)\n",
        "logger.info(\" global_step = {}, average loss = {}\".format(global_step, tr_loss))"
      ],
      "execution_count": 17,
      "outputs": [
        {
          "output_type": "stream",
          "text": [
            "08/11/2021 18:42:37 - INFO - __main__ -   ***** Running training *****\n",
            "08/11/2021 18:42:37 - INFO - __main__ -     Num examples = 7943\n",
            "08/11/2021 18:42:37 - INFO - __main__ -     Num Epochs = 20\n",
            "08/11/2021 18:42:37 - INFO - __main__ -     Total train batch size = 128\n",
            "08/11/2021 18:42:37 - INFO - __main__ -     Gradient Accumulation steps = 1\n",
            "08/11/2021 18:42:37 - INFO - __main__ -     Total optimization steps = 1260\n",
            "08/11/2021 18:42:37 - INFO - __main__ -     Logging steps = 64\n",
            "08/11/2021 18:42:37 - INFO - __main__ -     Save steps = 64\n"
          ],
          "name": "stderr"
        },
        {
          "output_type": "stream",
          "text": [
            "                                                 Review  Label\n",
            "0                    스마트 앱으로  자동 넘어가는 것 불편함  문자 이용하려 해도      1\n",
            "1     상담 시에 고객의 의문사항을 충분히 들어 주었으면 함  상담사 말소리가 너무 빨라서...      1\n",
            "2                                     카톡 상담이 가능했으면 좋겠어요      1\n",
            "3     연회비가 있다는 것에 아쉬움이 있습니다 카드 사용의 활성화를 위해 어느 정도 사용 ...      1\n",
            "4                                       이해를 못 하시는 거 같아요      1\n",
            "...                                                 ...    ...\n",
            "9925                                  무이자계월수을좀더길게주면좋겠어요      1\n",
            "9926                                        너무 친절해요 좋아요      0\n",
            "9927       Ars가 너무 이상하다  관리자가 직접 한번 눌려보시길 바란다   정말 최악이다      1\n",
            "9928                  무이자로 구매할 수 있는 명확한 기준을 알려주시면 좋겠습니다      1\n",
            "9929                          상담원 연결 시  기다리는 시간이  오래 걸림      1\n",
            "\n",
            "[9930 rows x 2 columns]\n",
            "max steps: 1260 length of train data: 63 1\n"
          ],
          "name": "stdout"
        },
        {
          "output_type": "display_data",
          "data": {
            "application/vnd.jupyter.widget-view+json": {
              "model_id": "eff3838458744de0aaecacdb00b5ec8f",
              "version_minor": 0,
              "version_major": 2
            },
            "text/plain": [
              "HBox(children=(FloatProgress(value=1.0, bar_style='info', max=1.0), HTML(value='')))"
            ]
          },
          "metadata": {
            "tags": []
          }
        },
        {
          "output_type": "display_data",
          "data": {
            "text/html": [
              "Epoch 1 done<p>Epoch 2 done<p>Epoch 3 done<p>Epoch 4 done<p>Epoch 5 done<p>Epoch 6 done<p>Epoch 7 done<p>Epoch 8 done<p>Epoch 9 done<p>Epoch 10 done<p>Epoch 11 done<p>Epoch 12 done<p>Epoch 13 done<p>Epoch 14 done<p>Epoch 15 done<p>Epoch 16 done<p>Epoch 17 done<p>Epoch 18 done<p>Epoch 19 done<p>Epoch 20 done"
            ],
            "text/plain": [
              "<IPython.core.display.HTML object>"
            ]
          },
          "metadata": {
            "tags": []
          }
        },
        {
          "output_type": "stream",
          "text": [
            "loss: 0.6197990775108337\n",
            "loss: 0.6173512935638428\n",
            "loss: 0.6166170835494995\n",
            "loss: 0.6162578761577606\n",
            "loss: 0.6163336396217346\n",
            "loss: 0.6134727696577708\n",
            "loss: 0.6101329837526593\n",
            "loss: 0.6090802177786827\n",
            "loss: 0.6049968931410048\n",
            "loss: 0.6030846655368804\n",
            "loss: 0.6002845601602034\n",
            "loss: 0.599417378505071\n",
            "loss: 0.5958229257510259\n",
            "loss: 0.5939944556781224\n",
            "loss: 0.5917263309160868\n",
            "loss: 0.5890783965587616\n",
            "loss: 0.5872086146298576\n",
            "loss: 0.584931386841668\n",
            "loss: 0.5828601184644198\n",
            "loss: 0.5803233236074448\n",
            "loss: 0.5785502876554217\n",
            "loss: 0.5765217461369254\n",
            "loss: 0.5751076340675354\n",
            "loss: 0.5727502380808195\n",
            "loss: 0.5697389626502991\n",
            "loss: 0.5679868964048532\n",
            "loss: 0.5659156066400034\n",
            "loss: 0.5635926255158016\n",
            "loss: 0.5613375727472634\n",
            "loss: 0.5585037032763164\n",
            "loss: 0.5555313739084429\n",
            "loss: 0.5529230525717139\n",
            "loss: 0.5510238120050142\n",
            "loss: 0.5484018983209834\n",
            "loss: 0.5459228098392487\n",
            "loss: 0.5436685863468382\n",
            "loss: 0.5414708369487041\n",
            "loss: 0.5392807910316869\n",
            "loss: 0.5369452291574234\n",
            "loss: 0.5354099124670029\n",
            "loss: 0.5331541299819946\n",
            "loss: 0.530864567274139\n",
            "loss: 0.5284700248130533\n",
            "loss: 0.5260540307922796\n",
            "loss: 0.5237271991040972\n",
            "loss: 0.522035859849142\n",
            "loss: 0.519537497708138\n",
            "loss: 0.5175427310168743\n",
            "loss: 0.5157453460352761\n",
            "loss: 0.5132042944431305\n",
            "loss: 0.5108952498903462\n",
            "loss: 0.5088033676147461\n",
            "loss: 0.506207563967075\n",
            "loss: 0.5038685307458595\n",
            "loss: 0.5015830034559423\n",
            "loss: 0.49936423397489954\n",
            "loss: 0.49729599032485694\n",
            "loss: 0.4947385125119111\n",
            "loss: 0.49225551041506105\n",
            "loss: 0.4898378695050875\n",
            "loss: 0.4877829121761635\n",
            "loss: 0.48523245992199066\n",
            "loss: 0.48204559750027126\n"
          ],
          "name": "stdout"
        },
        {
          "output_type": "stream",
          "text": [
            "08/11/2021 18:43:55 - INFO - __main__ -   ***** Running evaluation on test dataset (64 step) *****\n",
            "08/11/2021 18:43:55 - INFO - __main__ -     Num examples = 1987\n",
            "08/11/2021 18:43:55 - INFO - __main__ -     Eval Batch size = 128\n"
          ],
          "name": "stderr"
        },
        {
          "output_type": "stream",
          "text": [
            "loss: 0.479767007753253\n"
          ],
          "name": "stdout"
        },
        {
          "output_type": "display_data",
          "data": {
            "text/html": [
              "\n",
              "    <div>\n",
              "        <style>\n",
              "            /* Turns off some styling */\n",
              "            progress {\n",
              "                /* gets rid of default border in Firefox and Opera. */\n",
              "                border: none;\n",
              "                /* Needs to be in here for Safari polyfill so background images work as expected. */\n",
              "                background-size: auto;\n",
              "            }\n",
              "            .progress-bar-interrupted, .progress-bar-interrupted::-webkit-progress-bar {\n",
              "                background: #F44336;\n",
              "            }\n",
              "        </style>\n",
              "      <progress value='16' class='' max='16' style='width:300px; height:20px; vertical-align: middle;'></progress>\n",
              "      100.00% [16/16 00:06<00:00]\n",
              "    </div>\n",
              "    "
            ],
            "text/plain": [
              "<IPython.core.display.HTML object>"
            ]
          },
          "metadata": {
            "tags": []
          }
        },
        {
          "output_type": "display_data",
          "data": {
            "image/png": "[encoded data removed]",
            "text/plain": [
              "<Figure size 1080x576 with 2 Axes>"
            ]
          },
          "metadata": {
            "tags": [],
            "needs_background": "light"
          }
        },
        {
          "output_type": "stream",
          "text": [
            "08/11/2021 18:44:05 - INFO - __main__ -   ***** Eval results on test dataset *****\n",
            "08/11/2021 18:44:05 - INFO - __main__ -     acc = 0.9501761449421238\n"
          ],
          "name": "stderr"
        },
        {
          "output_type": "stream",
          "text": [
            "                                              Review  ...                    Softmax\n",
            "0                                    진짜 이번에 상담 최악입니다  ...  [0.41663927, -0.62934583]\n",
            "1          상담사 OOO는 아주 불친절하고 성의 없었습니다 그 외에는 너무 만족합니다  ...     [0.3508738, -0.635171]\n",
            "2                                    연결이 비교적 빠른 편입니다  ...  [-0.33309937, 0.31298503]\n",
            "3                                            너무 불친절함  ...  [0.16791996, -0.37441677]\n",
            "4  타 회사에 불편 접수를 했는데 상담분이 엄청 미안해하시고 신속하게 처리 도와줘서 감...  ...  [-0.26458818, 0.19362539]\n",
            "\n",
            "[5 rows x 4 columns]\n",
            "{'acc': 0.9501761449421238}\n"
          ],
          "name": "stdout"
        },
        {
          "output_type": "stream",
          "text": [
            "08/11/2021 18:44:07 - INFO - __main__ -   Saving model checkpoint to sentiment_checkpoints/checkpoint-64\n"
          ],
          "name": "stderr"
        },
        {
          "output_type": "stream",
          "text": [
            "loss: 0.47764789095291726\n",
            "loss: 0.47525803293242597\n",
            "loss: 0.47320434540065365\n",
            "loss: 0.47079741472707076\n",
            "loss: 0.46862071147863416\n",
            "loss: 0.46635100884096964\n",
            "loss: 0.46464849231948313\n",
            "loss: 0.4624409013324314\n",
            "loss: 0.46023423418606796\n",
            "loss: 0.4585820239137959\n",
            "loss: 0.45621532360712685\n",
            "loss: 0.4538823601446654\n",
            "loss: 0.45183438140076476\n",
            "loss: 0.449774301969088\n",
            "loss: 0.4476971596102171\n",
            "loss: 0.44536517672240733\n",
            "loss: 0.4435896571771598\n",
            "loss: 0.4413982786056472\n",
            "loss: 0.43952583297189457\n",
            "loss: 0.4371194128124487\n",
            "loss: 0.43491421885350173\n",
            "loss: 0.43249733728724854\n",
            "loss: 0.43022583425045013\n",
            "loss: 0.42832253382287244\n",
            "loss: 0.42616572105482725\n",
            "loss: 0.4240040731098917\n",
            "loss: 0.42174060888342807\n",
            "loss: 0.4199381758985312\n",
            "loss: 0.4176445391870314\n",
            "loss: 0.4158364350491382\n",
            "loss: 0.414172730634087\n",
            "loss: 0.4122524190073212\n",
            "loss: 0.4108356609172428\n",
            "loss: 0.40874069929122925\n",
            "loss: 0.4067260833701702\n",
            "loss: 0.40459119752049444\n",
            "loss: 0.4026342431212416\n",
            "loss: 0.4006737830007778\n",
            "loss: 0.3985668562569665\n",
            "loss: 0.39651726687756866\n",
            "loss: 0.39464173785277773\n",
            "loss: 0.39283415183143794\n",
            "loss: 0.3910365973677591\n",
            "loss: 0.3893628913771223\n",
            "loss: 0.3872268004428356\n",
            "loss: 0.3853856220841408\n",
            "loss: 0.38334236918268977\n",
            "loss: 0.38148280206535545\n",
            "loss: 0.3795931161241194\n",
            "loss: 0.3779530914729102\n",
            "loss: 0.3764211311288502\n",
            "loss: 0.3746895781108018\n",
            "loss: 0.37288531138856185\n",
            "loss: 0.3711788480059575\n",
            "loss: 0.3695399280355758\n",
            "loss: 0.36795595002671083\n",
            "loss: 0.3666881730487524\n",
            "loss: 0.3651897499307257\n",
            "loss: 0.36356837514454754\n",
            "loss: 0.3621629210970094\n",
            "loss: 0.36066614162921906\n",
            "loss: 0.35908296869860756\n",
            "loss: 0.3572273388152986\n"
          ],
          "name": "stdout"
        },
        {
          "output_type": "stream",
          "text": [
            "08/11/2021 18:45:25 - INFO - __main__ -   ***** Running evaluation on test dataset (128 step) *****\n",
            "08/11/2021 18:45:25 - INFO - __main__ -     Num examples = 1987\n",
            "08/11/2021 18:45:25 - INFO - __main__ -     Eval Batch size = 128\n"
          ],
          "name": "stderr"
        },
        {
          "output_type": "stream",
          "text": [
            "loss: 0.3554842161247507\n"
          ],
          "name": "stdout"
        },
        {
          "output_type": "display_data",
          "data": {
            "text/html": [
              "\n",
              "    <div>\n",
              "        <style>\n",
              "            /* Turns off some styling */\n",
              "            progress {\n",
              "                /* gets rid of default border in Firefox and Opera. */\n",
              "                border: none;\n",
              "                /* Needs to be in here for Safari polyfill so background images work as expected. */\n",
              "                background-size: auto;\n",
              "            }\n",
              "            .progress-bar-interrupted, .progress-bar-interrupted::-webkit-progress-bar {\n",
              "                background: #F44336;\n",
              "            }\n",
              "        </style>\n",
              "      <progress value='16' class='' max='16' style='width:300px; height:20px; vertical-align: middle;'></progress>\n",
              "      100.00% [16/16 00:06<00:00]\n",
              "    </div>\n",
              "    "
            ],
            "text/plain": [
              "<IPython.core.display.HTML object>"
            ]
          },
          "metadata": {
            "tags": []
          }
        },
        {
          "output_type": "display_data",
          "data": {
            "image/png": "[encoded data removed]",
            "text/plain": [
              "<Figure size 1080x576 with 2 Axes>"
            ]
          },
          "metadata": {
            "tags": [],
            "needs_background": "light"
          }
        },
        {
          "output_type": "stream",
          "text": [
            "08/11/2021 18:45:35 - INFO - __main__ -   ***** Eval results on test dataset *****\n",
            "08/11/2021 18:45:35 - INFO - __main__ -     acc = 0.9693004529441369\n"
          ],
          "name": "stderr"
        },
        {
          "output_type": "stream",
          "text": [
            "                                              Review  ...                     Softmax\n",
            "0                                    진짜 이번에 상담 최악입니다  ...    [0.80640984, -1.0161736]\n",
            "1          상담사 OOO는 아주 불친절하고 성의 없었습니다 그 외에는 너무 만족합니다  ...      [1.0503508, -1.245868]\n",
            "2                                           혜택이 많아으면  ...  [0.030154796, -0.23336297]\n",
            "3                                   포인트가 너무 없다 인상적이다  ...     [1.0545254, -1.2459787]\n",
            "4  상담한 직원분이 끝까지 책임지고 해결해 주시는 부분은 다 카드사에서는 보기 힘든데 ...  ...     [-0.5706845, 0.4451114]\n",
            "\n",
            "[5 rows x 4 columns]\n",
            "{'acc': 0.9693004529441369}\n"
          ],
          "name": "stdout"
        },
        {
          "output_type": "stream",
          "text": [
            "08/11/2021 18:45:37 - INFO - __main__ -   Saving model checkpoint to sentiment_checkpoints/checkpoint-128\n"
          ],
          "name": "stderr"
        },
        {
          "output_type": "stream",
          "text": [
            "loss: 0.35392530458842136\n",
            "loss: 0.352452568595226\n",
            "loss: 0.35083115555857886\n",
            "loss: 0.34925866702740843\n",
            "loss: 0.34760111749620365\n",
            "loss: 0.3458721971333916\n",
            "loss: 0.34440692652154853\n",
            "loss: 0.3428333378670847\n",
            "loss: 0.34150540154345715\n",
            "loss: 0.3403695792607639\n",
            "loss: 0.338901390167449\n",
            "loss: 0.33750226487006457\n",
            "loss: 0.33601056007628743\n",
            "loss: 0.3344632195649852\n",
            "loss: 0.33352137440359675\n",
            "loss: 0.33215271345236236\n",
            "loss: 0.3309387600113606\n",
            "loss: 0.3298654838477912\n",
            "loss: 0.3285850349839042\n",
            "loss: 0.32722907790259737\n",
            "loss: 0.32582393008590543\n",
            "loss: 0.32453640739123024\n",
            "loss: 0.3232556525247776\n",
            "loss: 0.321781328389127\n",
            "loss: 0.32046863188346225\n",
            "loss: 0.3192049724037771\n",
            "loss: 0.31784581719867644\n",
            "loss: 0.316481949427189\n",
            "loss: 0.31513613372281857\n",
            "loss: 0.3139541477813751\n",
            "loss: 0.31286152002384077\n",
            "loss: 0.3116347671952099\n",
            "loss: 0.3103771496633565\n",
            "loss: 0.30924056507187125\n",
            "loss: 0.3079216610068924\n",
            "loss: 0.306770530006871\n",
            "loss: 0.30575140565633774\n",
            "loss: 0.30463583516069204\n",
            "loss: 0.30355634750006444\n",
            "loss: 0.3026650615391277\n",
            "loss: 0.3016570713922117\n",
            "loss: 0.3004917135133463\n",
            "loss: 0.2992684964460936\n",
            "loss: 0.2979820798216171\n",
            "loss: 0.2970448809465921\n",
            "loss: 0.2960945486422928\n",
            "loss: 0.29490967916590827\n",
            "loss: 0.2936982599256391\n",
            "loss: 0.2926534507739342\n",
            "loss: 0.29161604359913407\n",
            "loss: 0.2905319890829438\n",
            "loss: 0.28937543800307647\n",
            "loss: 0.2885448076860022\n",
            "loss: 0.28746156640105197\n",
            "loss: 0.28647851500191973\n",
            "loss: 0.28550928944478865\n",
            "loss: 0.28463527262210847\n",
            "loss: 0.283669907799972\n",
            "loss: 0.2827482713575669\n",
            "loss: 0.28192480518779856\n",
            "loss: 0.28094508353049163\n",
            "loss: 0.2800045614179812\n",
            "loss: 0.27912975773605375\n"
          ],
          "name": "stdout"
        },
        {
          "output_type": "stream",
          "text": [
            "08/11/2021 18:46:55 - INFO - __main__ -   ***** Running evaluation on test dataset (192 step) *****\n",
            "08/11/2021 18:46:55 - INFO - __main__ -     Num examples = 1987\n",
            "08/11/2021 18:46:55 - INFO - __main__ -     Eval Batch size = 128\n"
          ],
          "name": "stderr"
        },
        {
          "output_type": "stream",
          "text": [
            "loss: 0.2780727873323485\n"
          ],
          "name": "stdout"
        },
        {
          "output_type": "display_data",
          "data": {
            "text/html": [
              "\n",
              "    <div>\n",
              "        <style>\n",
              "            /* Turns off some styling */\n",
              "            progress {\n",
              "                /* gets rid of default border in Firefox and Opera. */\n",
              "                border: none;\n",
              "                /* Needs to be in here for Safari polyfill so background images work as expected. */\n",
              "                background-size: auto;\n",
              "            }\n",
              "            .progress-bar-interrupted, .progress-bar-interrupted::-webkit-progress-bar {\n",
              "                background: #F44336;\n",
              "            }\n",
              "        </style>\n",
              "      <progress value='16' class='' max='16' style='width:300px; height:20px; vertical-align: middle;'></progress>\n",
              "      100.00% [16/16 00:06<00:00]\n",
              "    </div>\n",
              "    "
            ],
            "text/plain": [
              "<IPython.core.display.HTML object>"
            ]
          },
          "metadata": {
            "tags": []
          }
        },
        {
          "output_type": "display_data",
          "data": {
            "image/png": "[encoded data removed]",
            "text/plain": [
              "<Figure size 1080x576 with 2 Axes>"
            ]
          },
          "metadata": {
            "tags": [],
            "needs_background": "light"
          }
        },
        {
          "output_type": "stream",
          "text": [
            "08/11/2021 18:47:04 - INFO - __main__ -   ***** Eval results on test dataset *****\n",
            "08/11/2021 18:47:04 - INFO - __main__ -     acc = 0.9778560644187216\n"
          ],
          "name": "stderr"
        },
        {
          "output_type": "stream",
          "text": [
            "                                              Review  ...                    Softmax\n",
            "0          상담사 OOO는 아주 불친절하고 성의 없었습니다 그 외에는 너무 만족합니다  ...  [0.01801731, -0.31900477]\n",
            "1                                   포인트가 너무 없다 인상적이다  ...   [0.13799758, -0.4277323]\n",
            "2  상담한 직원분이 끝까지 책임지고 해결해 주시는 부분은 다 카드사에서는 보기 힘든데 ...  ...     [-1.2157907, 1.271382]\n",
            "3                               대기시간만 짧아진다면 아주 만족합니다  ...    [1.4911758, -1.5892112]\n",
            "4                                         상담까지 [UNK]  ...   [0.86316127, -1.0318949]\n",
            "\n",
            "[5 rows x 4 columns]\n",
            "{'acc': 0.9778560644187216}\n"
          ],
          "name": "stdout"
        },
        {
          "output_type": "stream",
          "text": [
            "08/11/2021 18:47:06 - INFO - __main__ -   Saving model checkpoint to sentiment_checkpoints/checkpoint-192\n"
          ],
          "name": "stderr"
        },
        {
          "output_type": "stream",
          "text": [
            "loss: 0.27699863706073613\n",
            "loss: 0.2760651589361663\n",
            "loss: 0.2750911079538174\n",
            "loss: 0.27412166993836967\n",
            "loss: 0.2731751959562907\n",
            "loss: 0.2722978142626358\n",
            "loss: 0.27127731733735483\n",
            "loss: 0.27023205418139695\n",
            "loss: 0.2694443420539448\n",
            "loss: 0.2684679316117032\n",
            "loss: 0.26757134420090706\n",
            "loss: 0.2668822466523624\n",
            "loss: 0.26615815649672253\n",
            "loss: 0.265151730801874\n",
            "loss: 0.2643028956248564\n",
            "loss: 0.26348494107906634\n",
            "loss: 0.2626201158576605\n",
            "loss: 0.261957010520356\n",
            "loss: 0.2611432895417462\n",
            "loss: 0.2602869003378558\n",
            "loss: 0.25954250039908805\n",
            "loss: 0.25862665025291043\n",
            "loss: 0.2576885185615961\n",
            "loss: 0.25679360471527884\n",
            "loss: 0.25602262110067403\n",
            "loss: 0.2552785863501763\n",
            "loss: 0.2545537187220299\n",
            "loss: 0.253670685721392\n",
            "loss: 0.2530235848579202\n",
            "loss: 0.25218479014798867\n",
            "loss: 0.25133234020239037\n",
            "loss: 0.2506794400479911\n",
            "loss: 0.24985715596212282\n",
            "loss: 0.24935332667577056\n",
            "loss: 0.24858286282630218\n",
            "loss: 0.247853188317988\n",
            "loss: 0.24701685006181226\n",
            "loss: 0.24616764325486576\n",
            "loss: 0.24538663911806557\n",
            "loss: 0.24463161557977056\n",
            "loss: 0.24380944712415273\n",
            "loss: 0.243069847408905\n",
            "loss: 0.24230659364702853\n",
            "loss: 0.24166011278343907\n",
            "loss: 0.24107270802563757\n",
            "loss: 0.24038846854965726\n",
            "loss: 0.23963178094149135\n",
            "loss: 0.23886718394545217\n",
            "loss: 0.23816620287991658\n",
            "loss: 0.23740943416583637\n",
            "loss: 0.23695147307321368\n",
            "loss: 0.23639505228302518\n",
            "loss: 0.235660328335908\n",
            "loss: 0.2351221637573184\n",
            "loss: 0.2343734307327734\n",
            "loss: 0.23361843276107985\n",
            "loss: 0.2331298515649445\n",
            "loss: 0.23254685659706592\n",
            "loss: 0.23228887876725768\n",
            "loss: 0.23324956462555935\n",
            "loss: 0.23263851139444136\n",
            "loss: 0.23200063001159138\n",
            "loss: 0.23131382025632205\n"
          ],
          "name": "stdout"
        },
        {
          "output_type": "stream",
          "text": [
            "08/11/2021 18:48:24 - INFO - __main__ -   ***** Running evaluation on test dataset (256 step) *****\n",
            "08/11/2021 18:48:24 - INFO - __main__ -     Num examples = 1987\n",
            "08/11/2021 18:48:24 - INFO - __main__ -     Eval Batch size = 128\n"
          ],
          "name": "stderr"
        },
        {
          "output_type": "stream",
          "text": [
            "loss: 0.23068838643666822\n"
          ],
          "name": "stdout"
        },
        {
          "output_type": "display_data",
          "data": {
            "text/html": [
              "\n",
              "    <div>\n",
              "        <style>\n",
              "            /* Turns off some styling */\n",
              "            progress {\n",
              "                /* gets rid of default border in Firefox and Opera. */\n",
              "                border: none;\n",
              "                /* Needs to be in here for Safari polyfill so background images work as expected. */\n",
              "                background-size: auto;\n",
              "            }\n",
              "            .progress-bar-interrupted, .progress-bar-interrupted::-webkit-progress-bar {\n",
              "                background: #F44336;\n",
              "            }\n",
              "        </style>\n",
              "      <progress value='16' class='' max='16' style='width:300px; height:20px; vertical-align: middle;'></progress>\n",
              "      100.00% [16/16 00:06<00:00]\n",
              "    </div>\n",
              "    "
            ],
            "text/plain": [
              "<IPython.core.display.HTML object>"
            ]
          },
          "metadata": {
            "tags": []
          }
        },
        {
          "output_type": "display_data",
          "data": {
            "image/png": "[encoded data removed]",
            "text/plain": [
              "<Figure size 1080x576 with 2 Axes>"
            ]
          },
          "metadata": {
            "tags": [],
            "needs_background": "light"
          }
        },
        {
          "output_type": "stream",
          "text": [
            "08/11/2021 18:48:34 - INFO - __main__ -   ***** Eval results on test dataset *****\n",
            "08/11/2021 18:48:34 - INFO - __main__ -     acc = 0.9798691494715652\n"
          ],
          "name": "stderr"
        },
        {
          "output_type": "stream",
          "text": [
            "                                              Review  ...                     Softmax\n",
            "0          상담사 OOO는 아주 불친절하고 성의 없었습니다 그 외에는 너무 만족합니다  ...    [0.45908445, -0.7808404]\n",
            "1                                   포인트가 너무 없다 인상적이다  ...  [-0.07819014, -0.20247446]\n",
            "2  상담한 직원분이 끝까지 책임지고 해결해 주시는 부분은 다 카드사에서는 보기 힘든데 ...  ...      [-1.185722, 1.1881998]\n",
            "3                               대기시간만 짧아진다면 아주 만족합니다  ...     [1.7402395, -1.8155565]\n",
            "4                                         상담까지 [UNK]  ...     [1.0605774, -1.2355615]\n",
            "\n",
            "[5 rows x 4 columns]\n",
            "{'acc': 0.9798691494715652}\n"
          ],
          "name": "stdout"
        },
        {
          "output_type": "stream",
          "text": [
            "08/11/2021 18:48:36 - INFO - __main__ -   Saving model checkpoint to sentiment_checkpoints/checkpoint-256\n"
          ],
          "name": "stderr"
        },
        {
          "output_type": "stream",
          "text": [
            "loss: 0.23006839628407463\n",
            "loss: 0.22954961237346017\n",
            "loss: 0.22885216256193672\n",
            "loss: 0.22812888964724082\n",
            "loss: 0.22756671678574605\n",
            "loss: 0.22714593129246743\n",
            "loss: 0.22664323566701022\n",
            "loss: 0.22601188003847544\n",
            "loss: 0.22541678701088114\n",
            "loss: 0.22473556273861936\n",
            "loss: 0.22405836171704285\n",
            "loss: 0.22343335635682096\n",
            "loss: 0.22285655452471684\n",
            "loss: 0.22221407174236243\n",
            "loss: 0.2215993469134248\n",
            "loss: 0.22095415790510528\n",
            "loss: 0.22042654381021037\n",
            "loss: 0.21985391152166103\n",
            "loss: 0.2192898914488879\n",
            "loss: 0.2187359482049942\n",
            "loss: 0.21811675184846785\n",
            "loss: 0.21762946691605256\n",
            "loss: 0.2170008364464006\n",
            "loss: 0.21653116487764887\n",
            "loss: 0.21596268960854761\n",
            "loss: 0.21542184227905797\n",
            "loss: 0.21494287493319478\n",
            "loss: 0.21440073513281596\n",
            "loss: 0.2138042077683566\n",
            "loss: 0.21351049517418122\n",
            "loss: 0.21291032036318597\n",
            "loss: 0.21243906768763232\n",
            "loss: 0.21194597343981886\n",
            "loss: 0.21135149667489117\n",
            "loss: 0.21087779790879935\n",
            "loss: 0.21029271324458595\n",
            "loss: 0.20986340720041213\n",
            "loss: 0.2093930425515183\n",
            "loss: 0.20884705870333364\n",
            "loss: 0.2082762747147196\n",
            "loss: 0.20779975601518996\n",
            "loss: 0.20743560185968477\n",
            "loss: 0.20694801835561277\n",
            "loss: 0.20637249145656825\n",
            "loss: 0.2058402887511491\n",
            "loss: 0.205272369136084\n",
            "loss: 0.20482816608628818\n",
            "loss: 0.2045090777897521\n",
            "loss: 0.2040596625111142\n",
            "loss: 0.2036155669956036\n",
            "loss: 0.2030603720621488\n",
            "loss: 0.2025194281905696\n",
            "loss: 0.20224211055146452\n",
            "loss: 0.20177682318514392\n",
            "loss: 0.20123290827563722\n",
            "loss: 0.20070371542794582\n",
            "loss: 0.20019995725859469\n",
            "loss: 0.1997101544788119\n",
            "loss: 0.19916923805361703\n",
            "loss: 0.19864453716038527\n",
            "loss: 0.1981305839252961\n",
            "loss: 0.1976036322390977\n",
            "loss: 0.19707961179619674\n"
          ],
          "name": "stdout"
        },
        {
          "output_type": "stream",
          "text": [
            "08/11/2021 18:49:54 - INFO - __main__ -   ***** Running evaluation on test dataset (320 step) *****\n",
            "08/11/2021 18:49:54 - INFO - __main__ -     Num examples = 1987\n",
            "08/11/2021 18:49:54 - INFO - __main__ -     Eval Batch size = 128\n"
          ],
          "name": "stderr"
        },
        {
          "output_type": "stream",
          "text": [
            "loss: 0.19670939007773997\n"
          ],
          "name": "stdout"
        },
        {
          "output_type": "display_data",
          "data": {
            "text/html": [
              "\n",
              "    <div>\n",
              "        <style>\n",
              "            /* Turns off some styling */\n",
              "            progress {\n",
              "                /* gets rid of default border in Firefox and Opera. */\n",
              "                border: none;\n",
              "                /* Needs to be in here for Safari polyfill so background images work as expected. */\n",
              "                background-size: auto;\n",
              "            }\n",
              "            .progress-bar-interrupted, .progress-bar-interrupted::-webkit-progress-bar {\n",
              "                background: #F44336;\n",
              "            }\n",
              "        </style>\n",
              "      <progress value='16' class='' max='16' style='width:300px; height:20px; vertical-align: middle;'></progress>\n",
              "      100.00% [16/16 00:06<00:00]\n",
              "    </div>\n",
              "    "
            ],
            "text/plain": [
              "<IPython.core.display.HTML object>"
            ]
          },
          "metadata": {
            "tags": []
          }
        },
        {
          "output_type": "display_data",
          "data": {
            "image/png": "[encoded data removed]",
            "text/plain": [
              "<Figure size 1080x576 with 2 Axes>"
            ]
          },
          "metadata": {
            "tags": [],
            "needs_background": "light"
          }
        },
        {
          "output_type": "stream",
          "text": [
            "08/11/2021 18:50:04 - INFO - __main__ -   ***** Eval results on test dataset *****\n",
            "08/11/2021 18:50:04 - INFO - __main__ -     acc = 0.9813789632611978\n"
          ],
          "name": "stderr"
        },
        {
          "output_type": "stream",
          "text": [
            "                                              Review  ...                    Softmax\n",
            "0             친절하게 대해주시면 다소 불평불만이 있다가도 풀어집니다 대부분의 사람  ...  [0.18338956, -0.40758598]\n",
            "1  상담한 직원분이 끝까지 책임지고 해결해 주시는 부분은 다 카드사에서는 보기 힘든데 ...  ...    [-1.1542934, 1.1520914]\n",
            "2                               대기시간만 짧아진다면 아주 만족합니다  ...    [1.9338259, -1.9874171]\n",
            "3                                         상담까지 [UNK]  ...    [1.2659945, -1.4046931]\n",
            "4                 보이는 ARS 서비스되나요 다른 카드사는 바로 보여서 편리해요  ...    [1.7815975, -1.8640887]\n",
            "\n",
            "[5 rows x 4 columns]\n",
            "{'acc': 0.9813789632611978}\n"
          ],
          "name": "stdout"
        },
        {
          "output_type": "stream",
          "text": [
            "08/11/2021 18:50:06 - INFO - __main__ -   Saving model checkpoint to sentiment_checkpoints/checkpoint-320\n"
          ],
          "name": "stderr"
        },
        {
          "output_type": "stream",
          "text": [
            "loss: 0.19632287792327618\n",
            "loss: 0.1959261764419375\n",
            "loss: 0.19542808726937408\n",
            "loss: 0.19500314289083084\n",
            "loss: 0.19449619417007152\n",
            "loss: 0.19399690833742633\n",
            "loss: 0.19359625702786518\n",
            "loss: 0.1931089265612749\n",
            "loss: 0.19261235128352164\n",
            "loss: 0.19212945701385087\n",
            "loss: 0.19165995536411456\n",
            "loss: 0.19128756435498237\n",
            "loss: 0.1908807645722463\n",
            "loss: 0.1907063798845082\n",
            "loss: 0.19022872264483082\n",
            "loss: 0.18978292001633063\n",
            "loss: 0.18946375079917271\n",
            "loss: 0.18901676693435251\n",
            "loss: 0.1885958489327304\n",
            "loss: 0.1882473695804091\n",
            "loss: 0.18778787271455585\n",
            "loss: 0.18733542382020002\n",
            "loss: 0.18705697620488465\n",
            "loss: 0.1865972884995646\n",
            "loss: 0.18615558098839677\n",
            "loss: 0.18569981643251773\n",
            "loss: 0.18523952090087473\n",
            "loss: 0.18480638198383237\n",
            "loss: 0.18437218019221097\n",
            "loss: 0.18394510731101035\n",
            "loss: 0.18349623897158013\n",
            "loss: 0.18312141807771035\n",
            "loss: 0.1826894824517094\n",
            "loss: 0.18225105910293632\n",
            "loss: 0.18181164471931022\n",
            "loss: 0.18148489176620092\n",
            "loss: 0.18107676539956188\n",
            "loss: 0.18071162670996435\n",
            "loss: 0.18037265588459364\n",
            "loss: 0.18011389777788686\n",
            "loss: 0.1797880152720246\n",
            "loss: 0.17959655875350394\n",
            "loss: 0.17924010722330944\n",
            "loss: 0.1788223571717166\n",
            "loss: 0.17857961689874735\n",
            "loss: 0.17816053192472198\n",
            "loss: 0.17786710171348719\n",
            "loss: 0.17756728783411824\n",
            "loss: 0.1772356095716236\n",
            "loss: 0.1768322272075189\n",
            "loss: 0.1764334812107674\n",
            "loss: 0.17618385956232105\n",
            "loss: 0.1757794636084471\n",
            "loss: 0.17539420741844305\n",
            "loss: 0.17503879834214847\n",
            "loss: 0.17463840275725467\n",
            "loss: 0.1744074177500898\n",
            "loss: 0.17401770014000476\n",
            "loss: 0.17368658467399886\n",
            "loss: 0.17330096736550332\n",
            "loss: 0.17290950070313738\n",
            "loss: 0.17254588440431193\n",
            "loss: 0.17215818862671484\n"
          ],
          "name": "stdout"
        },
        {
          "output_type": "stream",
          "text": [
            "08/11/2021 18:51:24 - INFO - __main__ -   ***** Running evaluation on test dataset (384 step) *****\n",
            "08/11/2021 18:51:24 - INFO - __main__ -     Num examples = 1987\n",
            "08/11/2021 18:51:24 - INFO - __main__ -     Eval Batch size = 128\n"
          ],
          "name": "stderr"
        },
        {
          "output_type": "stream",
          "text": [
            "loss: 0.17184658769110683\n"
          ],
          "name": "stdout"
        },
        {
          "output_type": "display_data",
          "data": {
            "text/html": [
              "\n",
              "    <div>\n",
              "        <style>\n",
              "            /* Turns off some styling */\n",
              "            progress {\n",
              "                /* gets rid of default border in Firefox and Opera. */\n",
              "                border: none;\n",
              "                /* Needs to be in here for Safari polyfill so background images work as expected. */\n",
              "                background-size: auto;\n",
              "            }\n",
              "            .progress-bar-interrupted, .progress-bar-interrupted::-webkit-progress-bar {\n",
              "                background: #F44336;\n",
              "            }\n",
              "        </style>\n",
              "      <progress value='16' class='' max='16' style='width:300px; height:20px; vertical-align: middle;'></progress>\n",
              "      100.00% [16/16 00:06<00:00]\n",
              "    </div>\n",
              "    "
            ],
            "text/plain": [
              "<IPython.core.display.HTML object>"
            ]
          },
          "metadata": {
            "tags": []
          }
        },
        {
          "output_type": "display_data",
          "data": {
            "image/png": "[encoded data removed]",
            "text/plain": [
              "<Figure size 1080x576 with 2 Axes>"
            ]
          },
          "metadata": {
            "tags": [],
            "needs_background": "light"
          }
        },
        {
          "output_type": "stream",
          "text": [
            "08/11/2021 18:51:34 - INFO - __main__ -   ***** Eval results on test dataset *****\n",
            "08/11/2021 18:51:34 - INFO - __main__ -     acc = 0.9823855057876195\n"
          ],
          "name": "stderr"
        },
        {
          "output_type": "stream",
          "text": [
            "                                              Review  ...                  Softmax\n",
            "0  상담한 직원분이 끝까지 책임지고 해결해 주시는 부분은 다 카드사에서는 보기 힘든데 ...  ...  [-1.4033307, 1.4351559]\n",
            "1                               대기시간만 짧아진다면 아주 만족합니다  ...  [2.0844579, -2.1301348]\n",
            "2                 보이는 ARS 서비스되나요 다른 카드사는 바로 보여서 편리해요  ...  [1.9157304, -1.9953158]\n",
            "3                                     대기시간 이 조금 더 짧게  ...  [1.4084601, -1.5780127]\n",
            "4  타 카드사는 27일 결제일도 있고 080수신자 번호도 있고 전화를 하자마자 받는 상...  ...   [-1.083723, 1.0474334]\n",
            "\n",
            "[5 rows x 4 columns]\n",
            "{'acc': 0.9823855057876195}\n"
          ],
          "name": "stdout"
        },
        {
          "output_type": "stream",
          "text": [
            "08/11/2021 18:51:36 - INFO - __main__ -   Saving model checkpoint to sentiment_checkpoints/checkpoint-384\n"
          ],
          "name": "stderr"
        },
        {
          "output_type": "stream",
          "text": [
            "loss: 0.17159668957548482\n",
            "loss: 0.17128651031809303\n",
            "loss: 0.17093075813306857\n",
            "loss: 0.17054873408711294\n",
            "loss: 0.1701802874754894\n",
            "loss: 0.1699547907910668\n",
            "loss: 0.1695901229120124\n",
            "loss: 0.16928774518512038\n",
            "loss: 0.1689968400613497\n",
            "loss: 0.1687012838984504\n",
            "loss: 0.16844483074508135\n",
            "loss: 0.1681020538877658\n",
            "loss: 0.16774218036823668\n",
            "loss: 0.16748531214218942\n",
            "loss: 0.167121390482985\n",
            "loss: 0.16679588357917965\n",
            "loss: 0.16643748512756348\n",
            "loss: 0.16608283942129778\n",
            "loss: 0.16579987646702204\n",
            "loss: 0.1654425654929168\n",
            "loss: 0.16509358667665058\n",
            "loss: 0.16482785248697684\n",
            "loss: 0.1645184793676586\n",
            "loss: 0.1642207451365596\n",
            "loss: 0.16387380848577232\n",
            "loss: 0.1635381620604454\n",
            "loss: 0.16323511913835712\n",
            "loss: 0.16295516176727934\n",
            "loss: 0.16269175600504038\n",
            "loss: 0.16244727171111653\n",
            "loss: 0.1621083597057914\n",
            "loss: 0.16178642173046962\n",
            "loss: 0.16151541866344227\n",
            "loss: 0.1611836135307211\n",
            "loss: 0.16084747204472596\n",
            "loss: 0.16052964241465642\n",
            "loss: 0.16020574209649743\n",
            "loss: 0.15988101437687874\n",
            "loss: 0.15954893404270035\n",
            "loss: 0.1592281250423699\n",
            "loss: 0.15895863905549049\n",
            "loss: 0.15871679343003342\n",
            "loss: 0.15839333764650365\n",
            "loss: 0.15811585044383863\n",
            "loss: 0.15793116944288457\n",
            "loss: 0.15763123704683643\n",
            "loss: 0.1574427857346781\n",
            "loss: 0.15721443224336124\n",
            "loss: 0.15690170373019116\n",
            "loss: 0.15668006344324983\n",
            "loss: 0.15650559525037633\n",
            "loss: 0.15636314357707806\n",
            "loss: 0.15619868861865124\n",
            "loss: 0.1558866657988598\n",
            "loss: 0.1556215196007816\n",
            "loss: 0.15537107424725863\n",
            "loss: 0.15507107138498571\n",
            "loss: 0.15476583594633309\n",
            "loss: 0.1545251916219432\n",
            "loss: 0.15422772599367407\n",
            "loss: 0.1539276249497459\n",
            "loss: 0.15374304454840484\n",
            "loss: 0.15350632550782406\n"
          ],
          "name": "stdout"
        },
        {
          "output_type": "stream",
          "text": [
            "08/11/2021 18:52:53 - INFO - __main__ -   ***** Running evaluation on test dataset (448 step) *****\n",
            "08/11/2021 18:52:53 - INFO - __main__ -     Num examples = 1987\n",
            "08/11/2021 18:52:53 - INFO - __main__ -     Eval Batch size = 128\n"
          ],
          "name": "stderr"
        },
        {
          "output_type": "stream",
          "text": [
            "loss: 0.1532068575449687\n"
          ],
          "name": "stdout"
        },
        {
          "output_type": "display_data",
          "data": {
            "text/html": [
              "\n",
              "    <div>\n",
              "        <style>\n",
              "            /* Turns off some styling */\n",
              "            progress {\n",
              "                /* gets rid of default border in Firefox and Opera. */\n",
              "                border: none;\n",
              "                /* Needs to be in here for Safari polyfill so background images work as expected. */\n",
              "                background-size: auto;\n",
              "            }\n",
              "            .progress-bar-interrupted, .progress-bar-interrupted::-webkit-progress-bar {\n",
              "                background: #F44336;\n",
              "            }\n",
              "        </style>\n",
              "      <progress value='16' class='' max='16' style='width:300px; height:20px; vertical-align: middle;'></progress>\n",
              "      100.00% [16/16 00:06<00:00]\n",
              "    </div>\n",
              "    "
            ],
            "text/plain": [
              "<IPython.core.display.HTML object>"
            ]
          },
          "metadata": {
            "tags": []
          }
        },
        {
          "output_type": "display_data",
          "data": {
            "image/png": "[encoded data removed]",
            "text/plain": [
              "<Figure size 1080x576 with 2 Axes>"
            ]
          },
          "metadata": {
            "tags": [],
            "needs_background": "light"
          }
        },
        {
          "output_type": "stream",
          "text": [
            "08/11/2021 18:53:04 - INFO - __main__ -   ***** Eval results on test dataset *****\n",
            "08/11/2021 18:53:04 - INFO - __main__ -     acc = 0.9833920483140413\n"
          ],
          "name": "stderr"
        },
        {
          "output_type": "stream",
          "text": [
            "                                              Review  ...                  Softmax\n",
            "0  상담한 직원분이 끝까지 책임지고 해결해 주시는 부분은 다 카드사에서는 보기 힘든데 ...  ...  [-1.6474148, 1.7239403]\n",
            "1                               대기시간만 짧아진다면 아주 만족합니다  ...   [2.2020543, -2.245902]\n",
            "2                 보이는 ARS 서비스되나요 다른 카드사는 바로 보여서 편리해요  ...   [2.007693, -2.0862508]\n",
            "3                                     대기시간 이 조금 더 짧게  ...  [1.4961066, -1.6540682]\n",
            "4  타 카드사는 27일 결제일도 있고 080수신자 번호도 있고 전화를 하자마자 받는 상...  ...  [-0.9907217, 0.9476023]\n",
            "\n",
            "[5 rows x 4 columns]\n",
            "{'acc': 0.9833920483140413}\n"
          ],
          "name": "stdout"
        },
        {
          "output_type": "stream",
          "text": [
            "08/11/2021 18:53:07 - INFO - __main__ -   Saving model checkpoint to sentiment_checkpoints/checkpoint-448\n"
          ],
          "name": "stderr"
        },
        {
          "output_type": "stream",
          "text": [
            "loss: 0.15290582764122163\n",
            "loss: 0.15260989799267716\n",
            "loss: 0.15231318088731585\n",
            "loss: 0.15201970095853362\n",
            "loss: 0.15173841379665118\n",
            "loss: 0.1514428291584689\n",
            "loss: 0.15115407127682323\n",
            "loss: 0.15093316295053483\n",
            "loss: 0.15064269038940284\n",
            "loss: 0.15041211544735333\n",
            "loss: 0.15012879699695864\n",
            "loss: 0.14991131917290065\n",
            "loss: 0.1496470040377076\n",
            "loss: 0.14943275555516733\n",
            "loss: 0.14914640186447048\n",
            "loss: 0.14887079425107944\n",
            "loss: 0.14858982845419838\n",
            "loss: 0.14840870992132651\n",
            "loss: 0.14819217940325782\n",
            "loss: 0.14791728472973928\n",
            "loss: 0.14764709468843587\n",
            "loss: 0.1473742813664548\n",
            "loss: 0.14710763862431683\n",
            "loss: 0.1469751665116114\n",
            "loss: 0.14681708562260704\n",
            "loss: 0.14655894458781188\n",
            "loss: 0.14632779477066116\n",
            "loss: 0.14606674984801843\n",
            "loss: 0.1458341350322062\n",
            "loss: 0.14557395285096753\n",
            "loss: 0.1453148555243874\n",
            "loss: 0.14518490734432513\n",
            "loss: 0.1449177656361442\n",
            "loss: 0.14465227552314763\n",
            "loss: 0.1443968689219552\n",
            "loss: 0.14425641413747278\n",
            "loss: 0.14406543622158238\n",
            "loss: 0.14383581424814193\n",
            "loss: 0.14364447248086057\n",
            "loss: 0.14350060296443398\n",
            "loss: 0.14331199439787182\n",
            "loss: 0.14317696666991225\n",
            "loss: 0.1429254343266582\n",
            "loss: 0.1426664966014706\n",
            "loss: 0.14248350837681648\n",
            "loss: 0.14222735671424552\n",
            "loss: 0.14197418937327885\n",
            "loss: 0.14175417419192532\n",
            "loss: 0.1415027962843897\n",
            "loss: 0.14130958021584764\n",
            "loss: 0.14109064433313084\n",
            "loss: 0.14091024926304818\n",
            "loss: 0.14066362612232\n",
            "loss: 0.1404702677966589\n",
            "loss: 0.14037244309250924\n",
            "loss: 0.1401249483294253\n",
            "loss: 0.13987731515512902\n",
            "loss: 0.13969369436772502\n",
            "loss: 0.1394962257553164\n",
            "loss: 0.13927598909738906\n",
            "loss: 0.13903372792420957\n",
            "loss: 0.13880259027777642\n",
            "loss: 0.13866929670362033\n"
          ],
          "name": "stdout"
        },
        {
          "output_type": "stream",
          "text": [
            "08/11/2021 18:54:25 - INFO - __main__ -   ***** Running evaluation on test dataset (512 step) *****\n",
            "08/11/2021 18:54:25 - INFO - __main__ -     Num examples = 1987\n",
            "08/11/2021 18:54:25 - INFO - __main__ -     Eval Batch size = 128\n"
          ],
          "name": "stderr"
        },
        {
          "output_type": "stream",
          "text": [
            "loss: 0.13843102976352384\n"
          ],
          "name": "stdout"
        },
        {
          "output_type": "display_data",
          "data": {
            "text/html": [
              "\n",
              "    <div>\n",
              "        <style>\n",
              "            /* Turns off some styling */\n",
              "            progress {\n",
              "                /* gets rid of default border in Firefox and Opera. */\n",
              "                border: none;\n",
              "                /* Needs to be in here for Safari polyfill so background images work as expected. */\n",
              "                background-size: auto;\n",
              "            }\n",
              "            .progress-bar-interrupted, .progress-bar-interrupted::-webkit-progress-bar {\n",
              "                background: #F44336;\n",
              "            }\n",
              "        </style>\n",
              "      <progress value='16' class='' max='16' style='width:300px; height:20px; vertical-align: middle;'></progress>\n",
              "      100.00% [16/16 00:06<00:00]\n",
              "    </div>\n",
              "    "
            ],
            "text/plain": [
              "<IPython.core.display.HTML object>"
            ]
          },
          "metadata": {
            "tags": []
          }
        },
        {
          "output_type": "display_data",
          "data": {
            "image/png": "[encoded data removed]",
            "text/plain": [
              "<Figure size 1080x576 with 2 Axes>"
            ]
          },
          "metadata": {
            "tags": [],
            "needs_background": "light"
          }
        },
        {
          "output_type": "stream",
          "text": [
            "08/11/2021 18:54:35 - INFO - __main__ -   ***** Eval results on test dataset *****\n",
            "08/11/2021 18:54:35 - INFO - __main__ -     acc = 0.9818822345244087\n"
          ],
          "name": "stderr"
        },
        {
          "output_type": "stream",
          "text": [
            "                                              Review  ...                    Softmax\n",
            "0             친절하게 대해주시면 다소 불평불만이 있다가도 풀어집니다 대부분의 사람  ...   [0.3308198, -0.55289835]\n",
            "1  상담한 직원분이 끝까지 책임지고 해결해 주시는 부분은 다 카드사에서는 보기 힘든데 ...  ...  [-0.97909456, 0.91711015]\n",
            "2                               대기시간만 짧아진다면 아주 만족합니다  ...    [2.3308713, -2.3543675]\n",
            "3                 보이는 ARS 서비스되나요 다른 카드사는 바로 보여서 편리해요  ...    [2.2109952, -2.2603946]\n",
            "4                                     대기시간 이 조금 더 짧게  ...    [1.7926275, -1.9313806]\n",
            "\n",
            "[5 rows x 4 columns]\n",
            "{'acc': 0.9818822345244087}\n"
          ],
          "name": "stdout"
        },
        {
          "output_type": "stream",
          "text": [
            "08/11/2021 18:54:37 - INFO - __main__ -   Saving model checkpoint to sentiment_checkpoints/checkpoint-512\n"
          ],
          "name": "stderr"
        },
        {
          "output_type": "stream",
          "text": [
            "loss: 0.138194665361784\n",
            "loss: 0.13796350205360625\n",
            "loss: 0.13773807978203284\n",
            "loss: 0.1374994190806855\n",
            "loss: 0.13732687819468098\n",
            "loss: 0.13709029164812508\n",
            "loss: 0.13685791418387022\n",
            "loss: 0.1367235673734775\n",
            "loss: 0.13649411757624996\n",
            "loss: 0.13627437613476281\n",
            "loss: 0.13604668617590435\n",
            "loss: 0.1358755585730417\n",
            "loss: 0.1356494752424104\n",
            "loss: 0.13542101228567188\n",
            "loss: 0.13519871065771275\n",
            "loss: 0.13498831225142843\n",
            "loss: 0.13478914538965278\n",
            "loss: 0.13466263539069948\n",
            "loss: 0.13457234583184713\n",
            "loss: 0.1343516366559788\n",
            "loss: 0.1341247586987731\n",
            "loss: 0.13390118137267087\n",
            "loss: 0.13371157870044775\n",
            "loss: 0.13356143856462813\n",
            "loss: 0.13334489522200058\n",
            "loss: 0.13315259159082152\n",
            "loss: 0.13293580508381406\n",
            "loss: 0.13271770729959287\n",
            "loss: 0.1324983608879686\n",
            "loss: 0.13228713288710786\n",
            "loss: 0.13209290362373133\n",
            "loss: 0.13190846723463276\n",
            "loss: 0.13169201276341982\n",
            "loss: 0.13153902178753044\n",
            "loss: 0.1313894618340041\n",
            "loss: 0.13123533836851425\n",
            "loss: 0.1310419146198854\n",
            "loss: 0.13092446739192715\n",
            "loss: 0.13083397267308566\n",
            "loss: 0.1306588016467277\n",
            "loss: 0.13044694516383395\n",
            "loss: 0.13030997584052786\n",
            "loss: 0.13015051758302762\n",
            "loss: 0.12998782560269503\n",
            "loss: 0.1298335947103036\n",
            "loss: 0.12981036271713006\n",
            "loss: 0.12960370554720352\n",
            "loss: 0.12946612185000309\n",
            "loss: 0.12926288322776344\n",
            "loss: 0.12905741036369123\n",
            "loss: 0.12886276576985634\n",
            "loss: 0.1286622263368959\n",
            "loss: 0.1284583112966698\n",
            "loss: 0.1283582129347872\n",
            "loss: 0.12815679163824786\n",
            "loss: 0.12796799251711338\n",
            "loss: 0.12782279497768684\n",
            "loss: 0.12763843879659187\n",
            "loss: 0.12744919298259108\n",
            "loss: 0.12726265034586243\n",
            "loss: 0.12721285207219826\n",
            "loss: 0.12708431324769032\n",
            "loss: 0.12705656850629526\n"
          ],
          "name": "stdout"
        },
        {
          "output_type": "stream",
          "text": [
            "08/11/2021 18:55:55 - INFO - __main__ -   ***** Running evaluation on test dataset (576 step) *****\n",
            "08/11/2021 18:55:55 - INFO - __main__ -     Num examples = 1987\n",
            "08/11/2021 18:55:55 - INFO - __main__ -     Eval Batch size = 128\n"
          ],
          "name": "stderr"
        },
        {
          "output_type": "stream",
          "text": [
            "loss: 0.12686114528817902\n"
          ],
          "name": "stdout"
        },
        {
          "output_type": "display_data",
          "data": {
            "text/html": [
              "\n",
              "    <div>\n",
              "        <style>\n",
              "            /* Turns off some styling */\n",
              "            progress {\n",
              "                /* gets rid of default border in Firefox and Opera. */\n",
              "                border: none;\n",
              "                /* Needs to be in here for Safari polyfill so background images work as expected. */\n",
              "                background-size: auto;\n",
              "            }\n",
              "            .progress-bar-interrupted, .progress-bar-interrupted::-webkit-progress-bar {\n",
              "                background: #F44336;\n",
              "            }\n",
              "        </style>\n",
              "      <progress value='16' class='' max='16' style='width:300px; height:20px; vertical-align: middle;'></progress>\n",
              "      100.00% [16/16 00:06<00:00]\n",
              "    </div>\n",
              "    "
            ],
            "text/plain": [
              "<IPython.core.display.HTML object>"
            ]
          },
          "metadata": {
            "tags": []
          }
        },
        {
          "output_type": "display_data",
          "data": {
            "image/png": "[encoded data removed]",
            "text/plain": [
              "<Figure size 1080x576 with 2 Axes>"
            ]
          },
          "metadata": {
            "tags": [],
            "needs_background": "light"
          }
        },
        {
          "output_type": "stream",
          "text": [
            "08/11/2021 18:56:05 - INFO - __main__ -   ***** Eval results on test dataset *****\n",
            "08/11/2021 18:56:05 - INFO - __main__ -     acc = 0.9838953195772522\n"
          ],
          "name": "stderr"
        },
        {
          "output_type": "stream",
          "text": [
            "                                              Review  ...                   Softmax\n",
            "0  상담한 직원분이 끝까지 책임지고 해결해 주시는 부분은 다 카드사에서는 보기 힘든데 ...  ...   [-1.4402474, 1.4492368]\n",
            "1                               대기시간만 짧아진다면 아주 만족합니다  ...   [2.4061818, -2.4306884]\n",
            "2                 보이는 ARS 서비스되나요 다른 카드사는 바로 보여서 편리해요  ...     [2.1630156, -2.23814]\n",
            "3                                     대기시간 이 조금 더 짧게  ...    [1.3219484, -1.497232]\n",
            "4  타 카드사는 27일 결제일도 있고 080수신자 번호도 있고 전화를 하자마자 받는 상...  ...  [-0.67167974, 0.5661201]\n",
            "\n",
            "[5 rows x 4 columns]\n",
            "{'acc': 0.9838953195772522}\n"
          ],
          "name": "stdout"
        },
        {
          "output_type": "stream",
          "text": [
            "08/11/2021 18:56:07 - INFO - __main__ -   Saving model checkpoint to sentiment_checkpoints/checkpoint-576\n"
          ],
          "name": "stderr"
        },
        {
          "output_type": "stream",
          "text": [
            "loss: 0.12666479415022985\n",
            "loss: 0.1265259710024514\n",
            "loss: 0.12638522064496663\n",
            "loss: 0.1262006910020036\n",
            "loss: 0.12603510414024177\n",
            "loss: 0.12589384929542638\n",
            "loss: 0.1257201159136501\n",
            "loss: 0.1255432441878477\n",
            "loss: 0.12535095882371194\n",
            "loss: 0.12516419455224692\n",
            "loss: 0.1250283013588195\n",
            "loss: 0.12489460232401532\n",
            "loss: 0.1247074044371223\n",
            "loss: 0.1245230609787849\n",
            "loss: 0.12439509680535638\n",
            "loss: 0.12425904015135775\n",
            "loss: 0.1240709917305719\n",
            "loss: 0.12388819773283219\n",
            "loss: 0.1237065911527817\n",
            "loss: 0.12359579974291658\n",
            "loss: 0.12342670362230572\n",
            "loss: 0.1232418627976549\n",
            "loss: 0.12308217471742222\n",
            "loss: 0.12294850983191281\n",
            "loss: 0.1228143263859256\n",
            "loss: 0.12269775600843998\n",
            "loss: 0.12251632065229599\n",
            "loss: 0.12237837261347631\n",
            "loss: 0.1221963808202177\n",
            "loss: 0.12207326391502821\n",
            "loss: 0.12190206787553562\n",
            "loss: 0.1217682567091144\n",
            "loss: 0.12159581862432861\n",
            "loss: 0.12141814886546526\n",
            "loss: 0.12124230519528524\n",
            "loss: 0.12106648423812455\n",
            "loss: 0.12094780057972543\n",
            "loss: 0.12078134586021352\n",
            "loss: 0.12061799254601564\n",
            "loss: 0.12051815408366648\n",
            "loss: 0.12034288622934003\n",
            "loss: 0.12016767655381734\n",
            "loss: 0.12000313877716348\n",
            "loss: 0.11982876996870243\n",
            "loss: 0.11965822799344233\n",
            "loss: 0.11964634591653656\n",
            "loss: 0.11947625432534212\n",
            "loss: 0.11930407483566505\n",
            "loss: 0.11914096961468458\n",
            "loss: 0.11898130366352562\n",
            "loss: 0.11881717201619389\n",
            "loss: 0.11865611961200406\n",
            "loss: 0.11848741186418481\n",
            "loss: 0.11831533717553294\n",
            "loss: 0.1181964920051455\n",
            "loss: 0.11802983937985441\n",
            "loss: 0.1179197051578553\n",
            "loss: 0.11778710766956915\n",
            "loss: 0.11762058149993888\n",
            "loss: 0.11745727096344549\n",
            "loss: 0.11729416569908335\n",
            "loss: 0.11713092374326341\n",
            "loss: 0.1169686212258323\n"
          ],
          "name": "stdout"
        },
        {
          "output_type": "stream",
          "text": [
            "08/11/2021 18:57:25 - INFO - __main__ -   ***** Running evaluation on test dataset (640 step) *****\n",
            "08/11/2021 18:57:25 - INFO - __main__ -     Num examples = 1987\n",
            "08/11/2021 18:57:25 - INFO - __main__ -     Eval Batch size = 128\n"
          ],
          "name": "stderr"
        },
        {
          "output_type": "stream",
          "text": [
            "loss: 0.11680469157145126\n"
          ],
          "name": "stdout"
        },
        {
          "output_type": "display_data",
          "data": {
            "text/html": [
              "\n",
              "    <div>\n",
              "        <style>\n",
              "            /* Turns off some styling */\n",
              "            progress {\n",
              "                /* gets rid of default border in Firefox and Opera. */\n",
              "                border: none;\n",
              "                /* Needs to be in here for Safari polyfill so background images work as expected. */\n",
              "                background-size: auto;\n",
              "            }\n",
              "            .progress-bar-interrupted, .progress-bar-interrupted::-webkit-progress-bar {\n",
              "                background: #F44336;\n",
              "            }\n",
              "        </style>\n",
              "      <progress value='16' class='' max='16' style='width:300px; height:20px; vertical-align: middle;'></progress>\n",
              "      100.00% [16/16 00:06<00:00]\n",
              "    </div>\n",
              "    "
            ],
            "text/plain": [
              "<IPython.core.display.HTML object>"
            ]
          },
          "metadata": {
            "tags": []
          }
        },
        {
          "output_type": "display_data",
          "data": {
            "image/png": "[encoded data removed]",
            "text/plain": [
              "<Figure size 1080x576 with 2 Axes>"
            ]
          },
          "metadata": {
            "tags": [],
            "needs_background": "light"
          }
        },
        {
          "output_type": "stream",
          "text": [
            "08/11/2021 18:57:35 - INFO - __main__ -   ***** Eval results on test dataset *****\n",
            "08/11/2021 18:57:35 - INFO - __main__ -     acc = 0.9818822345244087\n"
          ],
          "name": "stderr"
        },
        {
          "output_type": "stream",
          "text": [
            "                                              Review  ...                     Softmax\n",
            "0             친절하게 대해주시면 다소 불평불만이 있다가도 풀어집니다 대부분의 사람  ...  [0.112226345, -0.32043833]\n",
            "1  상담한 직원분이 끝까지 책임지고 해결해 주시는 부분은 다 카드사에서는 보기 힘든데 ...  ...     [-1.1631321, 1.1180243]\n",
            "2                               대기시간만 짧아진다면 아주 만족합니다  ...       [2.4843385, -2.50113]\n",
            "3                 보이는 ARS 서비스되나요 다른 카드사는 바로 보여서 편리해요  ...       [2.2560265, -2.32223]\n",
            "4                                     대기시간 이 조금 더 짧게  ...     [1.7622737, -1.9160455]\n",
            "\n",
            "[5 rows x 4 columns]\n",
            "{'acc': 0.9818822345244087}\n"
          ],
          "name": "stdout"
        },
        {
          "output_type": "stream",
          "text": [
            "08/11/2021 18:57:37 - INFO - __main__ -   Saving model checkpoint to sentiment_checkpoints/checkpoint-640\n"
          ],
          "name": "stderr"
        },
        {
          "output_type": "stream",
          "text": [
            "loss: 0.11671820115414266\n",
            "loss: 0.1166144325804093\n",
            "loss: 0.11645164988604759\n",
            "loss: 0.11628929607321432\n",
            "loss: 0.11614041083687267\n",
            "loss: 0.11598518960921803\n",
            "loss: 0.11589245756849118\n",
            "loss: 0.11578834466319991\n",
            "loss: 0.11564903145079115\n",
            "loss: 0.11552708129040323\n",
            "loss: 0.11536813795869846\n",
            "loss: 0.11521030484950112\n",
            "loss: 0.11506925176281431\n",
            "loss: 0.11493716744523758\n",
            "loss: 0.11480961204399817\n",
            "loss: 0.11470151241306534\n",
            "loss: 0.11455800182283878\n",
            "loss: 0.11443930857964879\n",
            "loss: 0.11428731054559418\n",
            "loss: 0.11413225161165676\n",
            "loss: 0.11397700628713787\n",
            "loss: 0.11382146390700809\n",
            "loss: 0.11366794279567212\n",
            "loss: 0.11351542454212904\n",
            "loss: 0.11337201057800225\n",
            "loss: 0.11327660940979067\n",
            "loss: 0.11313292460664101\n",
            "loss: 0.11298071357427154\n",
            "loss: 0.11289233843251639\n",
            "loss: 0.11279258851184329\n",
            "loss: 0.11264238937656589\n",
            "loss: 0.1124928771931168\n",
            "loss: 0.11239424305947229\n",
            "loss: 0.11232384724420902\n",
            "loss: 0.11217898465968944\n",
            "loss: 0.11205258158162325\n",
            "loss: 0.1119050869052374\n",
            "loss: 0.1118143767346477\n",
            "loss: 0.11167055189839958\n",
            "loss: 0.1115232708014767\n",
            "loss: 0.11137518659097288\n",
            "loss: 0.11123159199630803\n",
            "loss: 0.1111435287674319\n",
            "loss: 0.11099721830643235\n",
            "loss: 0.11085320237860845\n",
            "loss: 0.11070820758032339\n",
            "loss: 0.11059093694006035\n",
            "loss: 0.11046543542084522\n",
            "loss: 0.11032355914814249\n",
            "loss: 0.11018770510276807\n",
            "loss: 0.1100994931134987\n",
            "loss: 0.11000106085194113\n",
            "loss: 0.10985446742280221\n",
            "loss: 0.10976607381481603\n",
            "loss: 0.10962324530395458\n",
            "loss: 0.10953123034004807\n",
            "loss: 0.10938923313834276\n",
            "loss: 0.10926841415950553\n",
            "loss: 0.10912983671353013\n",
            "loss: 0.10899130685787116\n",
            "loss: 0.10884995177154363\n",
            "loss: 0.10871553805754905\n",
            "loss: 0.10857527094573885\n"
          ],
          "name": "stdout"
        },
        {
          "output_type": "stream",
          "text": [
            "08/11/2021 18:58:55 - INFO - __main__ -   ***** Running evaluation on test dataset (704 step) *****\n",
            "08/11/2021 18:58:55 - INFO - __main__ -     Num examples = 1987\n",
            "08/11/2021 18:58:55 - INFO - __main__ -     Eval Batch size = 128\n"
          ],
          "name": "stderr"
        },
        {
          "output_type": "stream",
          "text": [
            "loss: 0.10844012200620702\n"
          ],
          "name": "stdout"
        },
        {
          "output_type": "display_data",
          "data": {
            "text/html": [
              "\n",
              "    <div>\n",
              "        <style>\n",
              "            /* Turns off some styling */\n",
              "            progress {\n",
              "                /* gets rid of default border in Firefox and Opera. */\n",
              "                border: none;\n",
              "                /* Needs to be in here for Safari polyfill so background images work as expected. */\n",
              "                background-size: auto;\n",
              "            }\n",
              "            .progress-bar-interrupted, .progress-bar-interrupted::-webkit-progress-bar {\n",
              "                background: #F44336;\n",
              "            }\n",
              "        </style>\n",
              "      <progress value='16' class='' max='16' style='width:300px; height:20px; vertical-align: middle;'></progress>\n",
              "      100.00% [16/16 00:06<00:00]\n",
              "    </div>\n",
              "    "
            ],
            "text/plain": [
              "<IPython.core.display.HTML object>"
            ]
          },
          "metadata": {
            "tags": []
          }
        },
        {
          "output_type": "display_data",
          "data": {
            "image/png": "[encoded data removed]",
            "text/plain": [
              "<Figure size 1080x576 with 2 Axes>"
            ]
          },
          "metadata": {
            "tags": [],
            "needs_background": "light"
          }
        },
        {
          "output_type": "stream",
          "text": [
            "08/11/2021 18:59:05 - INFO - __main__ -   ***** Eval results on test dataset *****\n",
            "08/11/2021 18:59:05 - INFO - __main__ -     acc = 0.9833920483140413\n"
          ],
          "name": "stderr"
        },
        {
          "output_type": "stream",
          "text": [
            "                                              Review  ...                  Softmax\n",
            "0  상담한 직원분이 끝까지 책임지고 해결해 주시는 부분은 다 카드사에서는 보기 힘든데 ...  ...   [-1.670671, 1.7167662]\n",
            "1                               대기시간만 짧아진다면 아주 만족합니다  ...    [2.536659, -2.549772]\n",
            "2                 보이는 ARS 서비스되나요 다른 카드사는 바로 보여서 편리해요  ...  [2.2383068, -2.3154242]\n",
            "3                                     대기시간 이 조금 더 짧게  ...  [1.4301358, -1.5984275]\n",
            "4  타 카드사는 27일 결제일도 있고 080수신자 번호도 있고 전화를 하자마자 받는 상...  ...  [-1.5539608, 1.5780793]\n",
            "\n",
            "[5 rows x 4 columns]\n",
            "{'acc': 0.9833920483140413}\n"
          ],
          "name": "stdout"
        },
        {
          "output_type": "stream",
          "text": [
            "08/11/2021 18:59:07 - INFO - __main__ -   Saving model checkpoint to sentiment_checkpoints/checkpoint-704\n"
          ],
          "name": "stderr"
        },
        {
          "output_type": "stream",
          "text": [
            "loss: 0.10832220792559022\n",
            "loss: 0.10818219251228924\n",
            "loss: 0.1080432233204367\n",
            "loss: 0.10790654676729593\n",
            "loss: 0.10777683102897512\n",
            "loss: 0.10763926859551542\n",
            "loss: 0.10750723043888934\n",
            "loss: 0.10737488444585855\n",
            "loss: 0.1072515546687752\n",
            "loss: 0.10712252076616098\n",
            "loss: 0.10703707124152176\n",
            "loss: 0.10693333902417074\n",
            "loss: 0.10685164643376234\n",
            "loss: 0.10672746519467334\n",
            "loss: 0.10659674638221675\n",
            "loss: 0.10646513407894721\n",
            "loss: 0.10633476104861159\n",
            "loss: 0.10625114108221682\n",
            "loss: 0.10614132337055761\n",
            "loss: 0.10606322879517112\n",
            "loss: 0.10604291736565787\n",
            "loss: 0.10591332188656057\n",
            "loss: 0.10579397198468693\n",
            "loss: 0.10571573487518784\n",
            "loss: 0.10559053364911197\n",
            "loss: 0.10546313158351264\n",
            "loss: 0.10533358505895175\n",
            "loss: 0.10520317003670368\n",
            "loss: 0.10509673199307626\n",
            "loss: 0.10496634590929267\n",
            "loss: 0.10490245002442274\n",
            "loss: 0.10486659681318207\n",
            "loss: 0.10474437331778264\n",
            "loss: 0.10474984996086416\n",
            "loss: 0.10463774158003084\n",
            "loss: 0.1045119458494859\n",
            "loss: 0.10438336256021752\n",
            "loss: 0.10430066123845763\n",
            "loss: 0.10417348194320863\n",
            "loss: 0.10413139458415249\n",
            "loss: 0.10400858122180372\n",
            "loss: 0.10388218964033089\n",
            "loss: 0.10376011683459742\n",
            "loss: 0.10368423468687317\n",
            "loss: 0.10355867683086718\n",
            "loss: 0.10343305953095357\n",
            "loss: 0.10330904222226214\n",
            "loss: 0.10318624029713781\n",
            "loss: 0.10306305744763151\n",
            "loss: 0.10293921578023335\n",
            "loss: 0.10281665414473079\n",
            "loss: 0.10269408568459017\n",
            "loss: 0.10257701602576194\n",
            "loss: 0.10245433018363442\n",
            "loss: 0.10233237559395462\n",
            "loss: 0.10221173625659982\n",
            "loss: 0.10209093676970564\n",
            "loss: 0.1019714817128528\n",
            "loss: 0.1018501610994378\n",
            "loss: 0.10173004220425107\n",
            "loss: 0.10160914096202141\n",
            "loss: 0.10149023271294666\n",
            "loss: 0.10137042358779923\n"
          ],
          "name": "stdout"
        },
        {
          "output_type": "stream",
          "text": [
            "08/11/2021 19:00:25 - INFO - __main__ -   ***** Running evaluation on test dataset (768 step) *****\n",
            "08/11/2021 19:00:25 - INFO - __main__ -     Num examples = 1987\n",
            "08/11/2021 19:00:25 - INFO - __main__ -     Eval Batch size = 128\n"
          ],
          "name": "stderr"
        },
        {
          "output_type": "stream",
          "text": [
            "loss: 0.10133570836478611\n"
          ],
          "name": "stdout"
        },
        {
          "output_type": "display_data",
          "data": {
            "text/html": [
              "\n",
              "    <div>\n",
              "        <style>\n",
              "            /* Turns off some styling */\n",
              "            progress {\n",
              "                /* gets rid of default border in Firefox and Opera. */\n",
              "                border: none;\n",
              "                /* Needs to be in here for Safari polyfill so background images work as expected. */\n",
              "                background-size: auto;\n",
              "            }\n",
              "            .progress-bar-interrupted, .progress-bar-interrupted::-webkit-progress-bar {\n",
              "                background: #F44336;\n",
              "            }\n",
              "        </style>\n",
              "      <progress value='16' class='' max='16' style='width:300px; height:20px; vertical-align: middle;'></progress>\n",
              "      100.00% [16/16 00:06<00:00]\n",
              "    </div>\n",
              "    "
            ],
            "text/plain": [
              "<IPython.core.display.HTML object>"
            ]
          },
          "metadata": {
            "tags": []
          }
        },
        {
          "output_type": "display_data",
          "data": {
            "image/png": "[encoded data removed]",
            "text/plain": [
              "<Figure size 1080x576 with 2 Axes>"
            ]
          },
          "metadata": {
            "tags": [],
            "needs_background": "light"
          }
        },
        {
          "output_type": "stream",
          "text": [
            "08/11/2021 19:00:34 - INFO - __main__ -   ***** Eval results on test dataset *****\n",
            "08/11/2021 19:00:34 - INFO - __main__ -     acc = 0.9823855057876195\n"
          ],
          "name": "stderr"
        },
        {
          "output_type": "stream",
          "text": [
            "                                              Review  ...                    Softmax\n",
            "0             친절하게 대해주시면 다소 불평불만이 있다가도 풀어집니다 대부분의 사람  ...  [0.20127577, -0.40321404]\n",
            "1  상담한 직원분이 끝까지 책임지고 해결해 주시는 부분은 다 카드사에서는 보기 힘든데 ...  ...    [-1.2534536, 1.2181764]\n",
            "2                               대기시간만 짧아진다면 아주 만족합니다  ...    [2.6042907, -2.6105793]\n",
            "3                 보이는 ARS 서비스되나요 다른 카드사는 바로 보여서 편리해요  ...    [2.4029343, -2.4529111]\n",
            "4                                     대기시간 이 조금 더 짧게  ...    [1.9300125, -2.0649645]\n",
            "\n",
            "[5 rows x 4 columns]\n",
            "{'acc': 0.9823855057876195}\n"
          ],
          "name": "stdout"
        },
        {
          "output_type": "stream",
          "text": [
            "08/11/2021 19:00:37 - INFO - __main__ -   Saving model checkpoint to sentiment_checkpoints/checkpoint-768\n"
          ],
          "name": "stderr"
        },
        {
          "output_type": "stream",
          "text": [
            "loss: 0.10123217442062028\n",
            "loss: 0.10111609110366795\n",
            "loss: 0.10104196612275025\n",
            "loss: 0.100985911099356\n",
            "loss: 0.10087241993597763\n",
            "loss: 0.10075570512033556\n",
            "loss: 0.10068202882043777\n",
            "loss: 0.10056415825755786\n",
            "loss: 0.10044627286675968\n",
            "loss: 0.10038495995583142\n",
            "loss: 0.1002836282842043\n",
            "loss: 0.10016694461496976\n",
            "loss: 0.1001013249311496\n",
            "loss: 0.09999973798537498\n",
            "loss: 0.09988386475743957\n",
            "loss: 0.09980991345055744\n",
            "loss: 0.09969400504165014\n",
            "loss: 0.09957821311135291\n",
            "loss: 0.09946271730291041\n",
            "loss: 0.09939494923343362\n",
            "loss: 0.09928052868996246\n",
            "loss: 0.09916615146978558\n",
            "loss: 0.09905322945256413\n",
            "loss: 0.09895887640610601\n",
            "loss: 0.09888307091957346\n",
            "loss: 0.098800633584738\n",
            "loss: 0.09868806704949096\n",
            "loss: 0.09861774240320914\n",
            "loss: 0.09855129908527267\n",
            "loss: 0.09848040902408256\n",
            "loss: 0.0983702839901193\n",
            "loss: 0.09825918172020465\n",
            "loss: 0.09815797864107156\n",
            "loss: 0.09804668457031325\n",
            "loss: 0.0979379222485913\n",
            "loss: 0.09782757396364945\n",
            "loss: 0.09771848092584506\n",
            "loss: 0.09761766251869888\n",
            "loss: 0.09750949692262667\n",
            "loss: 0.09743368125170249\n",
            "loss: 0.09738125856298083\n",
            "loss: 0.09731427704984391\n",
            "loss: 0.09724351572407967\n",
            "loss: 0.0971343923862473\n",
            "loss: 0.09702507417355773\n",
            "loss: 0.09691869210868305\n",
            "loss: 0.09681145857928172\n",
            "loss: 0.09674949085855783\n",
            "loss: 0.0966883030397455\n",
            "loss: 0.09658114481170851\n",
            "loss: 0.09647343703005486\n",
            "loss: 0.0964226861143621\n",
            "loss: 0.09631628059894391\n",
            "loss: 0.09621606391362864\n",
            "loss: 0.09610930324745967\n",
            "loss: 0.0960034936704917\n",
            "loss: 0.0959015383684274\n",
            "loss: 0.09579615563957007\n",
            "loss: 0.09569606766050644\n",
            "loss: 0.09563913154033359\n",
            "loss: 0.0955333363756861\n",
            "loss: 0.09542826028002134\n",
            "loss: 0.09535628091319767\n"
          ],
          "name": "stdout"
        },
        {
          "output_type": "stream",
          "text": [
            "08/11/2021 19:01:54 - INFO - __main__ -   ***** Running evaluation on test dataset (832 step) *****\n",
            "08/11/2021 19:01:54 - INFO - __main__ -     Num examples = 1987\n",
            "08/11/2021 19:01:54 - INFO - __main__ -     Eval Batch size = 128\n"
          ],
          "name": "stderr"
        },
        {
          "output_type": "stream",
          "text": [
            "loss: 0.09530421931077189\n"
          ],
          "name": "stdout"
        },
        {
          "output_type": "display_data",
          "data": {
            "text/html": [
              "\n",
              "    <div>\n",
              "        <style>\n",
              "            /* Turns off some styling */\n",
              "            progress {\n",
              "                /* gets rid of default border in Firefox and Opera. */\n",
              "                border: none;\n",
              "                /* Needs to be in here for Safari polyfill so background images work as expected. */\n",
              "                background-size: auto;\n",
              "            }\n",
              "            .progress-bar-interrupted, .progress-bar-interrupted::-webkit-progress-bar {\n",
              "                background: #F44336;\n",
              "            }\n",
              "        </style>\n",
              "      <progress value='16' class='' max='16' style='width:300px; height:20px; vertical-align: middle;'></progress>\n",
              "      100.00% [16/16 00:06<00:00]\n",
              "    </div>\n",
              "    "
            ],
            "text/plain": [
              "<IPython.core.display.HTML object>"
            ]
          },
          "metadata": {
            "tags": []
          }
        },
        {
          "output_type": "display_data",
          "data": {
            "image/png": "[encoded data removed]",
            "text/plain": [
              "<Figure size 1080x576 with 2 Axes>"
            ]
          },
          "metadata": {
            "tags": [],
            "needs_background": "light"
          }
        },
        {
          "output_type": "stream",
          "text": [
            "08/11/2021 19:02:04 - INFO - __main__ -   ***** Eval results on test dataset *****\n",
            "08/11/2021 19:02:04 - INFO - __main__ -     acc = 0.9838953195772522\n"
          ],
          "name": "stderr"
        },
        {
          "output_type": "stream",
          "text": [
            "                                              Review  ...                  Softmax\n",
            "0  상담한 직원분이 끝까지 책임지고 해결해 주시는 부분은 다 카드사에서는 보기 힘든데 ...  ...  [-1.4692938, 1.4797302]\n",
            "1                               대기시간만 짧아진다면 아주 만족합니다  ...  [2.6541758, -2.6587133]\n",
            "2                 보이는 ARS 서비스되나요 다른 카드사는 바로 보여서 편리해요  ...  [2.4110916, -2.4670644]\n",
            "3                                     대기시간 이 조금 더 짧게  ...  [1.7332643, -1.8800366]\n",
            "4  타 카드사는 27일 결제일도 있고 080수신자 번호도 있고 전화를 하자마자 받는 상...  ...  [-0.825722, 0.75518477]\n",
            "\n",
            "[5 rows x 4 columns]\n",
            "{'acc': 0.9838953195772522}\n"
          ],
          "name": "stdout"
        },
        {
          "output_type": "stream",
          "text": [
            "08/11/2021 19:02:06 - INFO - __main__ -   Saving model checkpoint to sentiment_checkpoints/checkpoint-832\n"
          ],
          "name": "stderr"
        },
        {
          "output_type": "stream",
          "text": [
            "loss: 0.0952346923147269\n",
            "loss: 0.09513045669526612\n",
            "loss: 0.09502752327142719\n",
            "loss: 0.09496538962892583\n",
            "loss: 0.09489301824218982\n",
            "loss: 0.09479318370571391\n",
            "loss: 0.09469044109955163\n",
            "loss: 0.09462509423583036\n",
            "loss: 0.09452211859278319\n",
            "loss: 0.0944641476337778\n",
            "loss: 0.09436336401209218\n",
            "loss: 0.09426183036144523\n",
            "loss: 0.09416346243037098\n",
            "loss: 0.09406585100791626\n",
            "loss: 0.09396473034103582\n",
            "loss: 0.09386389379670738\n",
            "loss: 0.09376427160468484\n",
            "loss: 0.09366369033451466\n",
            "loss: 0.09359301226465283\n",
            "loss: 0.09349700618981266\n",
            "loss: 0.09339714423258727\n",
            "loss: 0.09330250671246815\n",
            "loss: 0.09320334528207953\n",
            "loss: 0.0931196611463832\n",
            "loss: 0.09302343504096934\n",
            "loss: 0.09293050394829858\n",
            "loss: 0.09287489562407049\n",
            "loss: 0.09277607697538685\n",
            "loss: 0.09267739959831299\n",
            "loss: 0.09260940180957455\n",
            "loss: 0.09252524343108799\n",
            "loss: 0.09246193239879277\n",
            "loss: 0.09236519608775833\n",
            "loss: 0.09231132157813697\n",
            "loss: 0.09221502958722799\n",
            "loss: 0.0921178138106718\n",
            "loss: 0.09203340761766472\n",
            "loss: 0.09198481689753203\n",
            "loss: 0.09188858188697309\n",
            "loss: 0.09183938040423693\n",
            "loss: 0.0917932297799732\n",
            "loss: 0.09169799998377022\n",
            "loss: 0.09160418012631791\n",
            "loss: 0.09154700204946917\n",
            "loss: 0.09149269675867826\n",
            "loss: 0.09139800650451613\n",
            "loss: 0.09134546092650996\n",
            "loss: 0.09125091155715795\n",
            "loss: 0.09115695048157425\n",
            "loss: 0.09106266701302561\n",
            "loss: 0.09101395162575512\n",
            "loss: 0.09092083892456311\n",
            "loss: 0.09082824379037328\n",
            "loss: 0.09073466342888588\n",
            "loss: 0.09064145390733892\n",
            "loss: 0.0905486943424671\n",
            "loss: 0.0904556153472031\n",
            "loss: 0.09039753395540828\n",
            "loss: 0.09031278182209942\n",
            "loss: 0.09023083474971522\n",
            "loss: 0.09013842563285657\n",
            "loss: 0.09004744532480585\n",
            "loss: 0.08999292894354996\n"
          ],
          "name": "stdout"
        },
        {
          "output_type": "stream",
          "text": [
            "08/11/2021 19:03:24 - INFO - __main__ -   ***** Running evaluation on test dataset (896 step) *****\n",
            "08/11/2021 19:03:24 - INFO - __main__ -     Num examples = 1987\n",
            "08/11/2021 19:03:24 - INFO - __main__ -     Eval Batch size = 128\n"
          ],
          "name": "stderr"
        },
        {
          "output_type": "stream",
          "text": [
            "loss: 0.08990143783272028\n"
          ],
          "name": "stdout"
        },
        {
          "output_type": "display_data",
          "data": {
            "text/html": [
              "\n",
              "    <div>\n",
              "        <style>\n",
              "            /* Turns off some styling */\n",
              "            progress {\n",
              "                /* gets rid of default border in Firefox and Opera. */\n",
              "                border: none;\n",
              "                /* Needs to be in here for Safari polyfill so background images work as expected. */\n",
              "                background-size: auto;\n",
              "            }\n",
              "            .progress-bar-interrupted, .progress-bar-interrupted::-webkit-progress-bar {\n",
              "                background: #F44336;\n",
              "            }\n",
              "        </style>\n",
              "      <progress value='16' class='' max='16' style='width:300px; height:20px; vertical-align: middle;'></progress>\n",
              "      100.00% [16/16 00:06<00:00]\n",
              "    </div>\n",
              "    "
            ],
            "text/plain": [
              "<IPython.core.display.HTML object>"
            ]
          },
          "metadata": {
            "tags": []
          }
        },
        {
          "output_type": "display_data",
          "data": {
            "image/png": "[encoded data removed]",
            "text/plain": [
              "<Figure size 1080x576 with 2 Axes>"
            ]
          },
          "metadata": {
            "tags": [],
            "needs_background": "light"
          }
        },
        {
          "output_type": "stream",
          "text": [
            "08/11/2021 19:03:34 - INFO - __main__ -   ***** Eval results on test dataset *****\n",
            "08/11/2021 19:03:34 - INFO - __main__ -     acc = 0.9823855057876195\n"
          ],
          "name": "stderr"
        },
        {
          "output_type": "stream",
          "text": [
            "                                              Review  ...                      Softmax\n",
            "0             친절하게 대해주시면 다소 불평불만이 있다가도 풀어집니다 대부분의 사람  ...  [-0.032539524, -0.13857773]\n",
            "1  상담한 직원분이 끝까지 책임지고 해결해 주시는 부분은 다 카드사에서는 보기 힘든데 ...  ...      [-1.3576753, 1.3542218]\n",
            "2                               대기시간만 짧아진다면 아주 만족합니다  ...      [2.6944945, -2.6961133]\n",
            "3                 보이는 ARS 서비스되나요 다른 카드사는 바로 보여서 편리해요  ...      [2.4493346, -2.5010855]\n",
            "4                                     대기시간 이 조금 더 짧게  ...      [1.8337649, -1.9744564]\n",
            "\n",
            "[5 rows x 4 columns]\n",
            "{'acc': 0.9823855057876195}\n"
          ],
          "name": "stdout"
        },
        {
          "output_type": "stream",
          "text": [
            "08/11/2021 19:03:36 - INFO - __main__ -   Saving model checkpoint to sentiment_checkpoints/checkpoint-896\n"
          ],
          "name": "stderr"
        },
        {
          "output_type": "stream",
          "text": [
            "loss: 0.08981391281115852\n",
            "loss: 0.08972294069463616\n",
            "loss: 0.08963392057442608\n",
            "loss: 0.08954322963901278\n",
            "loss: 0.08945505368315536\n",
            "loss: 0.0894177762802872\n",
            "loss: 0.08939245812840356\n",
            "loss: 0.08930390624306783\n",
            "loss: 0.08921435960100253\n",
            "loss: 0.08912465475020605\n",
            "loss: 0.08914379352835124\n",
            "loss: 0.08909599024275244\n",
            "loss: 0.089006771245916\n",
            "loss: 0.08896876627958002\n",
            "loss: 0.08892332277854682\n",
            "loss: 0.0888367421570716\n",
            "loss: 0.08875051107786\n",
            "loss: 0.08866217934029254\n",
            "loss: 0.08857459062913972\n",
            "loss: 0.08849204631926956\n",
            "loss: 0.08845130983189625\n",
            "loss: 0.08836384360426895\n",
            "loss: 0.08827703074178171\n",
            "loss: 0.08818940026483134\n",
            "loss: 0.08810295992157746\n",
            "loss: 0.0880162649719275\n",
            "loss: 0.08793036941790051\n",
            "loss: 0.0878438060776657\n",
            "loss: 0.08776453430990915\n",
            "loss: 0.08767808466137952\n",
            "loss: 0.08759201107197065\n",
            "loss: 0.08750530326606482\n",
            "loss: 0.08745571633598359\n",
            "loss: 0.08737057031542864\n",
            "loss: 0.08728484653044496\n",
            "loss: 0.08720905897247529\n",
            "loss: 0.08713377831006644\n",
            "loss: 0.08704911831096293\n",
            "loss: 0.08699854462741212\n",
            "loss: 0.08692059306921358\n",
            "loss: 0.08687248604576896\n",
            "loss: 0.08678804011816886\n",
            "loss: 0.08670344086328206\n",
            "loss: 0.08662366323975569\n",
            "loss: 0.08653932082982423\n",
            "loss: 0.08645904120433515\n",
            "loss: 0.08641949205235643\n",
            "loss: 0.08633608411468754\n",
            "loss: 0.08625254886835892\n",
            "loss: 0.08624182646576292\n",
            "loss: 0.08615860171909144\n",
            "loss: 0.08607547515453103\n",
            "loss: 0.08599252840484423\n",
            "loss: 0.08592495374038424\n",
            "loss: 0.08584223755270039\n",
            "loss: 0.0858006651162076\n",
            "loss: 0.0857187565733705\n",
            "loss: 0.08563686354355242\n",
            "loss: 0.0855930100365771\n",
            "loss: 0.08551135297258732\n",
            "loss: 0.08542990446520839\n",
            "loss: 0.08534872182207434\n",
            "loss: 0.08528424722625173\n"
          ],
          "name": "stdout"
        },
        {
          "output_type": "stream",
          "text": [
            "08/11/2021 19:04:54 - INFO - __main__ -   ***** Running evaluation on test dataset (960 step) *****\n",
            "08/11/2021 19:04:54 - INFO - __main__ -     Num examples = 1987\n",
            "08/11/2021 19:04:54 - INFO - __main__ -     Eval Batch size = 128\n"
          ],
          "name": "stderr"
        },
        {
          "output_type": "stream",
          "text": [
            "loss: 0.0852039176961019\n"
          ],
          "name": "stdout"
        },
        {
          "output_type": "display_data",
          "data": {
            "text/html": [
              "\n",
              "    <div>\n",
              "        <style>\n",
              "            /* Turns off some styling */\n",
              "            progress {\n",
              "                /* gets rid of default border in Firefox and Opera. */\n",
              "                border: none;\n",
              "                /* Needs to be in here for Safari polyfill so background images work as expected. */\n",
              "                background-size: auto;\n",
              "            }\n",
              "            .progress-bar-interrupted, .progress-bar-interrupted::-webkit-progress-bar {\n",
              "                background: #F44336;\n",
              "            }\n",
              "        </style>\n",
              "      <progress value='16' class='' max='16' style='width:300px; height:20px; vertical-align: middle;'></progress>\n",
              "      100.00% [16/16 00:06<00:00]\n",
              "    </div>\n",
              "    "
            ],
            "text/plain": [
              "<IPython.core.display.HTML object>"
            ]
          },
          "metadata": {
            "tags": []
          }
        },
        {
          "output_type": "display_data",
          "data": {
            "image/png": "[encoded data removed]",
            "text/plain": [
              "<Figure size 1080x576 with 2 Axes>"
            ]
          },
          "metadata": {
            "tags": [],
            "needs_background": "light"
          }
        },
        {
          "output_type": "stream",
          "text": [
            "08/11/2021 19:05:03 - INFO - __main__ -   ***** Eval results on test dataset *****\n",
            "08/11/2021 19:05:03 - INFO - __main__ -     acc = 0.9828887770508304\n"
          ],
          "name": "stderr"
        },
        {
          "output_type": "stream",
          "text": [
            "                                              Review  ...                   Softmax\n",
            "0             친절하게 대해주시면 다소 불평불만이 있다가도 풀어집니다 대부분의 사람  ...  [0.6886544, -0.89439875]\n",
            "1  상담한 직원분이 끝까지 책임지고 해결해 주시는 부분은 다 카드사에서는 보기 힘든데 ...  ...   [-0.8899919, 0.8149359]\n",
            "2                               대기시간만 짧아진다면 아주 만족합니다  ...   [2.7356691, -2.7329378]\n",
            "3                 보이는 ARS 서비스되나요 다른 카드사는 바로 보여서 편리해요  ...     [2.531222, -2.570502]\n",
            "4                                     대기시간 이 조금 더 짧게  ...   [2.0814333, -2.2063851]\n",
            "\n",
            "[5 rows x 4 columns]\n",
            "{'acc': 0.9828887770508304}\n"
          ],
          "name": "stdout"
        },
        {
          "output_type": "stream",
          "text": [
            "08/11/2021 19:05:05 - INFO - __main__ -   Saving model checkpoint to sentiment_checkpoints/checkpoint-960\n"
          ],
          "name": "stderr"
        },
        {
          "output_type": "stream",
          "text": [
            "loss: 0.08512377333958147\n",
            "loss: 0.08506236791033724\n",
            "loss: 0.08502246783262937\n",
            "loss: 0.08496457360456872\n",
            "loss: 0.08488464432869859\n",
            "loss: 0.0848446066662916\n",
            "loss: 0.08476421289529262\n",
            "loss: 0.08469463790110736\n",
            "loss: 0.08461446274106532\n",
            "loss: 0.0845371420456807\n",
            "loss: 0.08449582581290348\n",
            "loss: 0.08441678890115256\n",
            "loss: 0.08437744875889337\n",
            "loss: 0.08430307058070535\n",
            "loss: 0.08422490685318525\n",
            "loss: 0.08414642125049407\n",
            "loss: 0.08406965977568541\n",
            "loss: 0.08399200997913374\n",
            "loss: 0.08391411603305705\n",
            "loss: 0.08383607842427279\n",
            "loss: 0.08380234972967801\n",
            "loss: 0.0837255576976372\n",
            "loss: 0.08367938968132223\n",
            "loss: 0.0836426856335086\n",
            "loss: 0.08357376893745914\n",
            "loss: 0.0834963620039606\n",
            "loss: 0.08342470362472981\n",
            "loss: 0.08334743590772846\n",
            "loss: 0.08327052182601756\n",
            "loss: 0.08320123665505136\n",
            "loss: 0.08312626779981627\n",
            "loss: 0.0830519079763983\n",
            "loss: 0.08301553226939862\n",
            "loss: 0.08294717768315878\n",
            "loss: 0.08290885595707738\n",
            "loss: 0.08283278998361535\n",
            "loss: 0.0828298105070799\n",
            "loss: 0.08275449443617855\n",
            "loss: 0.08268013257333809\n",
            "loss: 0.08260532626276836\n",
            "loss: 0.08252968775903012\n",
            "loss: 0.08246806772897938\n",
            "loss: 0.08239377909251754\n",
            "loss: 0.08231961225953502\n",
            "loss: 0.08229246893573311\n",
            "loss: 0.08221785599138091\n",
            "loss: 0.08214330032251428\n",
            "loss: 0.08206964590695746\n",
            "loss: 0.08200734619990847\n",
            "loss: 0.08193263579067765\n",
            "loss: 0.08186231493216624\n",
            "loss: 0.08178974074779057\n",
            "loss: 0.08171593258984806\n",
            "loss: 0.0816422588204785\n",
            "loss: 0.08156889176243926\n",
            "loss: 0.08156743815616066\n",
            "loss: 0.08153651567357303\n",
            "loss: 0.08146438247584582\n",
            "loss: 0.08141287772114716\n",
            "loss: 0.08134029731154442\n",
            "loss: 0.08127066160823117\n",
            "loss: 0.08119866769002666\n",
            "loss: 0.08112683785416529\n"
          ],
          "name": "stdout"
        },
        {
          "output_type": "stream",
          "text": [
            "08/11/2021 19:06:23 - INFO - __main__ -   ***** Running evaluation on test dataset (1024 step) *****\n",
            "08/11/2021 19:06:23 - INFO - __main__ -     Num examples = 1987\n",
            "08/11/2021 19:06:23 - INFO - __main__ -     Eval Batch size = 128\n"
          ],
          "name": "stderr"
        },
        {
          "output_type": "stream",
          "text": [
            "loss: 0.08106777889088335\n"
          ],
          "name": "stdout"
        },
        {
          "output_type": "display_data",
          "data": {
            "text/html": [
              "\n",
              "    <div>\n",
              "        <style>\n",
              "            /* Turns off some styling */\n",
              "            progress {\n",
              "                /* gets rid of default border in Firefox and Opera. */\n",
              "                border: none;\n",
              "                /* Needs to be in here for Safari polyfill so background images work as expected. */\n",
              "                background-size: auto;\n",
              "            }\n",
              "            .progress-bar-interrupted, .progress-bar-interrupted::-webkit-progress-bar {\n",
              "                background: #F44336;\n",
              "            }\n",
              "        </style>\n",
              "      <progress value='16' class='' max='16' style='width:300px; height:20px; vertical-align: middle;'></progress>\n",
              "      100.00% [16/16 00:06<00:00]\n",
              "    </div>\n",
              "    "
            ],
            "text/plain": [
              "<IPython.core.display.HTML object>"
            ]
          },
          "metadata": {
            "tags": []
          }
        },
        {
          "output_type": "display_data",
          "data": {
            "image/png": "[encoded data removed]",
            "text/plain": [
              "<Figure size 1080x576 with 2 Axes>"
            ]
          },
          "metadata": {
            "tags": [],
            "needs_background": "light"
          }
        },
        {
          "output_type": "stream",
          "text": [
            "08/11/2021 19:06:33 - INFO - __main__ -   ***** Eval results on test dataset *****\n",
            "08/11/2021 19:06:33 - INFO - __main__ -     acc = 0.980875691997987\n"
          ],
          "name": "stderr"
        },
        {
          "output_type": "stream",
          "text": [
            "                                              Review  ...                    Softmax\n",
            "0     이메일 상담을 한지 3일이 지났는데도 회신이 없어서 전화 상담으로 완료 해결했습니다  ...  [0.07626307, -0.20569493]\n",
            "1             친절하게 대해주시면 다소 불평불만이 있다가도 풀어집니다 대부분의 사람  ...    [0.51141787, -0.714444]\n",
            "2  상담한 직원분이 끝까지 책임지고 해결해 주시는 부분은 다 카드사에서는 보기 힘든데 ...  ...     [-1.0757419, 1.022541]\n",
            "3                               대기시간만 짧아진다면 아주 만족합니다  ...    [2.7537038, -2.7478268]\n",
            "4                 보이는 ARS 서비스되나요 다른 카드사는 바로 보여서 편리해요  ...     [2.532407, -2.5708792]\n",
            "\n",
            "[5 rows x 4 columns]\n",
            "{'acc': 0.980875691997987}\n"
          ],
          "name": "stdout"
        },
        {
          "output_type": "stream",
          "text": [
            "08/11/2021 19:06:35 - INFO - __main__ -   Saving model checkpoint to sentiment_checkpoints/checkpoint-1024\n"
          ],
          "name": "stderr"
        },
        {
          "output_type": "stream",
          "text": [
            "loss: 0.08099540717763508\n",
            "loss: 0.08092707028879365\n",
            "loss: 0.08089463972144678\n",
            "loss: 0.08084436256034437\n",
            "loss: 0.08080777354344755\n",
            "loss: 0.0807502655570115\n",
            "loss: 0.08067886388221995\n",
            "loss: 0.08061660038146674\n",
            "loss: 0.0805454633414154\n",
            "loss: 0.0804750117211201\n",
            "loss: 0.08042086955600819\n",
            "loss: 0.08035198942098307\n",
            "loss: 0.08028882755085165\n",
            "loss: 0.08021805307474382\n",
            "loss: 0.08017231685874035\n",
            "loss: 0.08010428402071389\n",
            "loss: 0.08004065683088288\n",
            "loss: 0.07997788432824664\n",
            "loss: 0.07993798105140804\n",
            "loss: 0.0798690837916786\n",
            "loss: 0.07979956889685474\n",
            "loss: 0.07975925179420976\n",
            "loss: 0.07969131013876629\n",
            "loss: 0.07962171291312174\n",
            "loss: 0.07955365791229675\n",
            "loss: 0.07952416764705308\n",
            "loss: 0.07945534745124935\n",
            "loss: 0.07942482251665084\n",
            "loss: 0.07939401288903322\n",
            "loss: 0.07932603159836323\n",
            "loss: 0.07925786709819006\n",
            "loss: 0.07918963553101728\n",
            "loss: 0.07914590645958594\n",
            "loss: 0.07907849762743667\n",
            "loss: 0.07902808436759809\n",
            "loss: 0.07895952602189456\n",
            "loss: 0.07889154287797735\n",
            "loss: 0.07884072957002679\n",
            "loss: 0.07881217000450542\n",
            "loss: 0.0787827751364671\n",
            "loss: 0.078717002151053\n",
            "loss: 0.07865041432470628\n",
            "loss: 0.0785837345293984\n",
            "loss: 0.07851791178348931\n",
            "loss: 0.07845192849487972\n",
            "loss: 0.0783853717657485\n",
            "loss: 0.07831804533284696\n",
            "loss: 0.07825140444754707\n",
            "loss: 0.07818544810275024\n",
            "loss: 0.07811873195019986\n",
            "loss: 0.07805234907584828\n",
            "loss: 0.07798913165798833\n",
            "loss: 0.07792351616567265\n",
            "loss: 0.07786353638072555\n",
            "loss: 0.07779811676617529\n",
            "loss: 0.07773215608990372\n",
            "loss: 0.0776671068704102\n",
            "loss: 0.0776017705105975\n",
            "loss: 0.07757335551089968\n",
            "loss: 0.07754619313039683\n",
            "loss: 0.07748119606323163\n",
            "loss: 0.077429794832896\n",
            "loss: 0.07739371708838445\n"
          ],
          "name": "stdout"
        },
        {
          "output_type": "stream",
          "text": [
            "08/11/2021 19:07:53 - INFO - __main__ -   ***** Running evaluation on test dataset (1088 step) *****\n",
            "08/11/2021 19:07:53 - INFO - __main__ -     Num examples = 1987\n",
            "08/11/2021 19:07:53 - INFO - __main__ -     Eval Batch size = 128\n"
          ],
          "name": "stderr"
        },
        {
          "output_type": "stream",
          "text": [
            "loss: 0.07732861182611327\n"
          ],
          "name": "stdout"
        },
        {
          "output_type": "display_data",
          "data": {
            "text/html": [
              "\n",
              "    <div>\n",
              "        <style>\n",
              "            /* Turns off some styling */\n",
              "            progress {\n",
              "                /* gets rid of default border in Firefox and Opera. */\n",
              "                border: none;\n",
              "                /* Needs to be in here for Safari polyfill so background images work as expected. */\n",
              "                background-size: auto;\n",
              "            }\n",
              "            .progress-bar-interrupted, .progress-bar-interrupted::-webkit-progress-bar {\n",
              "                background: #F44336;\n",
              "            }\n",
              "        </style>\n",
              "      <progress value='16' class='' max='16' style='width:300px; height:20px; vertical-align: middle;'></progress>\n",
              "      100.00% [16/16 00:06<00:00]\n",
              "    </div>\n",
              "    "
            ],
            "text/plain": [
              "<IPython.core.display.HTML object>"
            ]
          },
          "metadata": {
            "tags": []
          }
        },
        {
          "output_type": "display_data",
          "data": {
            "image/png": "[encoded data removed]",
            "text/plain": [
              "<Figure size 1080x576 with 2 Axes>"
            ]
          },
          "metadata": {
            "tags": [],
            "needs_background": "light"
          }
        },
        {
          "output_type": "stream",
          "text": [
            "08/11/2021 19:08:03 - INFO - __main__ -   ***** Eval results on test dataset *****\n",
            "08/11/2021 19:08:03 - INFO - __main__ -     acc = 0.9823855057876195\n"
          ],
          "name": "stderr"
        },
        {
          "output_type": "stream",
          "text": [
            "                                              Review  ...                    Softmax\n",
            "0  상담한 직원분이 끝까지 책임지고 해결해 주시는 부분은 다 카드사에서는 보기 힘든데 ...  ...    [-1.4165922, 1.4138153]\n",
            "1                               대기시간만 짧아진다면 아주 만족합니다  ...     [2.7787418, -2.772634]\n",
            "2                 보이는 ARS 서비스되나요 다른 카드사는 바로 보여서 편리해요  ...     [2.5366833, -2.580823]\n",
            "3                                     대기시간 이 조금 더 짧게  ...    [1.9463415, -2.0836852]\n",
            "4  타 카드사는 27일 결제일도 있고 080수신자 번호도 있고 전화를 하자마자 받는 상...  ...  [-0.53765416, 0.43879792]\n",
            "\n",
            "[5 rows x 4 columns]\n",
            "{'acc': 0.9823855057876195}\n"
          ],
          "name": "stdout"
        },
        {
          "output_type": "stream",
          "text": [
            "08/11/2021 19:08:05 - INFO - __main__ -   Saving model checkpoint to sentiment_checkpoints/checkpoint-1088\n"
          ],
          "name": "stderr"
        },
        {
          "output_type": "stream",
          "text": [
            "loss: 0.07726448247400758\n",
            "loss: 0.0772022020810822\n",
            "loss: 0.07713762776521534\n",
            "loss: 0.07707391537200564\n",
            "loss: 0.07704865533521114\n",
            "loss: 0.07698450557218432\n",
            "loss: 0.07692741381565797\n",
            "loss: 0.07686752638903643\n",
            "loss: 0.07683629649771936\n",
            "loss: 0.07684409327148536\n",
            "loss: 0.07678019795126136\n",
            "loss: 0.07671727632722733\n",
            "loss: 0.07665464693771762\n",
            "loss: 0.07659209629828398\n",
            "loss: 0.07657350325857307\n",
            "loss: 0.07657058070332784\n",
            "loss: 0.07650718075893313\n",
            "loss: 0.07646886112293057\n",
            "loss: 0.07640696829058695\n",
            "loss: 0.07635852562293867\n",
            "loss: 0.0762962593165427\n",
            "loss: 0.07623378598752122\n",
            "loss: 0.07617168593439202\n",
            "loss: 0.07611199695970394\n",
            "loss: 0.07608392514808895\n",
            "loss: 0.07602156655063695\n",
            "loss: 0.07595939408996114\n",
            "loss: 0.07589730449933826\n",
            "loss: 0.07586728476426476\n",
            "loss: 0.07580652057479781\n",
            "loss: 0.0757836775943284\n",
            "loss: 0.07572204191570303\n",
            "loss: 0.07566556684842315\n",
            "loss: 0.07560491351387505\n",
            "loss: 0.07554365114498807\n",
            "loss: 0.07550818564741478\n",
            "loss: 0.0754567607757118\n",
            "loss: 0.07539584116636383\n",
            "loss: 0.07533553764662031\n",
            "loss: 0.07527985874561804\n",
            "loss: 0.07521855336283165\n",
            "loss: 0.07515812742490882\n",
            "loss: 0.07509758778263928\n",
            "loss: 0.07503922592047207\n",
            "loss: 0.0749807148667945\n",
            "loss: 0.07492519364974788\n",
            "loss: 0.07486716022977548\n",
            "loss: 0.0748071947055508\n",
            "loss: 0.07474748612845951\n",
            "loss: 0.07472278210309928\n",
            "loss: 0.07469447916561674\n",
            "loss: 0.07463483299545355\n",
            "loss: 0.07457508493784577\n",
            "loss: 0.07455084167523619\n",
            "loss: 0.07452593547229314\n",
            "loss: 0.07446651286657223\n",
            "loss: 0.0744117627530379\n",
            "loss: 0.07438760643815183\n",
            "loss: 0.07432834036873999\n",
            "loss: 0.07427041169348456\n",
            "loss: 0.07421466154942015\n",
            "loss: 0.07415629823408697\n",
            "loss: 0.0740981282970563\n"
          ],
          "name": "stdout"
        },
        {
          "output_type": "stream",
          "text": [
            "08/11/2021 19:09:23 - INFO - __main__ -   ***** Running evaluation on test dataset (1152 step) *****\n",
            "08/11/2021 19:09:23 - INFO - __main__ -     Num examples = 1987\n",
            "08/11/2021 19:09:23 - INFO - __main__ -     Eval Batch size = 128\n"
          ],
          "name": "stderr"
        },
        {
          "output_type": "stream",
          "text": [
            "loss: 0.07403940347406508\n"
          ],
          "name": "stdout"
        },
        {
          "output_type": "display_data",
          "data": {
            "text/html": [
              "\n",
              "    <div>\n",
              "        <style>\n",
              "            /* Turns off some styling */\n",
              "            progress {\n",
              "                /* gets rid of default border in Firefox and Opera. */\n",
              "                border: none;\n",
              "                /* Needs to be in here for Safari polyfill so background images work as expected. */\n",
              "                background-size: auto;\n",
              "            }\n",
              "            .progress-bar-interrupted, .progress-bar-interrupted::-webkit-progress-bar {\n",
              "                background: #F44336;\n",
              "            }\n",
              "        </style>\n",
              "      <progress value='16' class='' max='16' style='width:300px; height:20px; vertical-align: middle;'></progress>\n",
              "      100.00% [16/16 00:06<00:00]\n",
              "    </div>\n",
              "    "
            ],
            "text/plain": [
              "<IPython.core.display.HTML object>"
            ]
          },
          "metadata": {
            "tags": []
          }
        },
        {
          "output_type": "display_data",
          "data": {
            "image/png": "[encoded data removed]",
            "text/plain": [
              "<Figure size 1080x576 with 2 Axes>"
            ]
          },
          "metadata": {
            "tags": [],
            "needs_background": "light"
          }
        },
        {
          "output_type": "stream",
          "text": [
            "08/11/2021 19:09:32 - INFO - __main__ -   ***** Eval results on test dataset *****\n",
            "08/11/2021 19:09:32 - INFO - __main__ -     acc = 0.9828887770508304\n"
          ],
          "name": "stderr"
        },
        {
          "output_type": "stream",
          "text": [
            "                                              Review  ...                  Softmax\n",
            "0  상담한 직원분이 끝까지 책임지고 해결해 주시는 부분은 다 카드사에서는 보기 힘든데 ...  ...  [-1.5102671, 1.5209159]\n",
            "1                               대기시간만 짧아진다면 아주 만족합니다  ...  [2.7946854, -2.7867866]\n",
            "2                 보이는 ARS 서비스되나요 다른 카드사는 바로 보여서 편리해요  ...  [2.5488338, -2.5915456]\n",
            "3                                     대기시간 이 조금 더 짧게  ...  [1.9696466, -2.1025972]\n",
            "4  타 카드사는 27일 결제일도 있고 080수신자 번호도 있고 전화를 하자마자 받는 상...  ...  [-0.6137932, 0.5255609]\n",
            "\n",
            "[5 rows x 4 columns]\n",
            "{'acc': 0.9828887770508304}\n"
          ],
          "name": "stdout"
        },
        {
          "output_type": "stream",
          "text": [
            "08/11/2021 19:09:34 - INFO - __main__ -   Saving model checkpoint to sentiment_checkpoints/checkpoint-1152\n"
          ],
          "name": "stderr"
        },
        {
          "output_type": "stream",
          "text": [
            "loss: 0.07398581853401358\n",
            "loss: 0.07392809495363753\n",
            "loss: 0.07387434678007063\n",
            "loss: 0.0738162130361526\n",
            "loss: 0.07375801473054246\n",
            "loss: 0.0737006079658081\n",
            "loss: 0.07364314168167715\n",
            "loss: 0.07363845782177844\n",
            "loss: 0.07358076679139276\n",
            "loss: 0.07352350788870618\n",
            "loss: 0.07346801604092223\n",
            "loss: 0.07342930192838318\n",
            "loss: 0.07337221189246157\n",
            "loss: 0.07331708439515575\n",
            "loss: 0.07326122519704605\n",
            "loss: 0.07320480814764965\n",
            "loss: 0.07314777437046209\n",
            "loss: 0.0730913937282868\n",
            "loss: 0.07306921591522549\n",
            "loss: 0.07301314839649843\n",
            "loss: 0.07295595969606226\n",
            "loss: 0.07293654985375246\n",
            "loss: 0.0728854930484073\n",
            "loss: 0.07285979289924219\n",
            "loss: 0.0728372090065673\n",
            "loss: 0.07278172888734546\n",
            "loss: 0.07272618249227768\n",
            "loss: 0.07267132003325968\n",
            "loss: 0.07267239133675191\n",
            "loss: 0.07261673842522107\n",
            "loss: 0.07256120444092008\n",
            "loss: 0.07251815843620854\n",
            "loss: 0.07246465878403954\n",
            "loss: 0.07240883929578\n",
            "loss: 0.07235320248753271\n",
            "loss: 0.07229771456870905\n",
            "loss: 0.07224359027406904\n",
            "loss: 0.07222050264626428\n",
            "loss: 0.07216526302966461\n",
            "loss: 0.07211485152146872\n",
            "loss: 0.07205952280564022\n",
            "loss: 0.07200568495942296\n",
            "loss: 0.07195079616469693\n",
            "loss: 0.07189582107763078\n",
            "loss: 0.07184076317334695\n",
            "loss: 0.07178614658726463\n",
            "loss: 0.07175798701228041\n",
            "loss: 0.07173310120396005\n",
            "loss: 0.07167857665441416\n",
            "loss: 0.07162457268093148\n",
            "loss: 0.07157258253470249\n",
            "loss: 0.07151868019912058\n",
            "loss: 0.07146532834580949\n",
            "loss: 0.07142705414644991\n",
            "loss: 0.07137316116884153\n",
            "loss: 0.07135157246683842\n",
            "loss: 0.07129805892316134\n",
            "loss: 0.07125143679820986\n",
            "loss: 0.0711977772601564\n",
            "loss: 0.07114439792493081\n",
            "loss: 0.07109125762308739\n",
            "loss: 0.07103814967851196\n",
            "loss: 0.0709848016868403\n"
          ],
          "name": "stdout"
        },
        {
          "output_type": "stream",
          "text": [
            "08/11/2021 19:10:52 - INFO - __main__ -   ***** Running evaluation on test dataset (1216 step) *****\n",
            "08/11/2021 19:10:52 - INFO - __main__ -     Num examples = 1987\n",
            "08/11/2021 19:10:52 - INFO - __main__ -     Eval Batch size = 128\n"
          ],
          "name": "stderr"
        },
        {
          "output_type": "stream",
          "text": [
            "loss: 0.0709330893510732\n"
          ],
          "name": "stdout"
        },
        {
          "output_type": "display_data",
          "data": {
            "text/html": [
              "\n",
              "    <div>\n",
              "        <style>\n",
              "            /* Turns off some styling */\n",
              "            progress {\n",
              "                /* gets rid of default border in Firefox and Opera. */\n",
              "                border: none;\n",
              "                /* Needs to be in here for Safari polyfill so background images work as expected. */\n",
              "                background-size: auto;\n",
              "            }\n",
              "            .progress-bar-interrupted, .progress-bar-interrupted::-webkit-progress-bar {\n",
              "                background: #F44336;\n",
              "            }\n",
              "        </style>\n",
              "      <progress value='16' class='' max='16' style='width:300px; height:20px; vertical-align: middle;'></progress>\n",
              "      100.00% [16/16 00:06<00:00]\n",
              "    </div>\n",
              "    "
            ],
            "text/plain": [
              "<IPython.core.display.HTML object>"
            ]
          },
          "metadata": {
            "tags": []
          }
        },
        {
          "output_type": "display_data",
          "data": {
            "image/png": "[encoded data removed]",
            "text/plain": [
              "<Figure size 1080x576 with 2 Axes>"
            ]
          },
          "metadata": {
            "tags": [],
            "needs_background": "light"
          }
        },
        {
          "output_type": "stream",
          "text": [
            "08/11/2021 19:11:03 - INFO - __main__ -   ***** Eval results on test dataset *****\n",
            "08/11/2021 19:11:03 - INFO - __main__ -     acc = 0.9833920483140413\n"
          ],
          "name": "stderr"
        },
        {
          "output_type": "stream",
          "text": [
            "                                              Review  ...                      Softmax\n",
            "0                 상담원과 직접 통화 시 대기시간 없이 바로 [UNK] 좋습니다  ...  [-0.10527938, -0.099300414]\n",
            "1  상담한 직원분이 끝까지 책임지고 해결해 주시는 부분은 다 카드사에서는 보기 힘든데 ...  ...        [-1.558798, 1.576775]\n",
            "2                               대기시간만 짧아진다면 아주 만족합니다  ...      [2.8021188, -2.7938633]\n",
            "3                 보이는 ARS 서비스되나요 다른 카드사는 바로 보여서 편리해요  ...      [2.5428011, -2.5871835]\n",
            "4                                     대기시간 이 조금 더 짧게  ...      [1.9320676, -2.0667484]\n",
            "\n",
            "[5 rows x 4 columns]\n",
            "{'acc': 0.9833920483140413}\n"
          ],
          "name": "stdout"
        },
        {
          "output_type": "stream",
          "text": [
            "08/11/2021 19:11:05 - INFO - __main__ -   Saving model checkpoint to sentiment_checkpoints/checkpoint-1216\n"
          ],
          "name": "stderr"
        },
        {
          "output_type": "stream",
          "text": [
            "loss: 0.07088429112164893\n",
            "loss: 0.07083131926828515\n",
            "loss: 0.07077890772172314\n",
            "loss: 0.07079161960196483\n",
            "loss: 0.07074174769703272\n",
            "loss: 0.07072228265190024\n",
            "loss: 0.07070361130748276\n",
            "loss: 0.0706560404463732\n",
            "loss: 0.07063464772982561\n",
            "loss: 0.0705830678715998\n",
            "loss: 0.07053087311383176\n",
            "loss: 0.07048391631397902\n",
            "loss: 0.07043278716281784\n",
            "loss: 0.07038415849958433\n",
            "loss: 0.07033295346050245\n",
            "loss: 0.07028101029913184\n",
            "loss: 0.07022925899367831\n",
            "loss: 0.07017842376215241\n",
            "loss: 0.07012657289645872\n",
            "loss: 0.0700752585572507\n",
            "loss: 0.07003650193802091\n",
            "loss: 0.0700115642629967\n",
            "loss: 0.06996164171632509\n",
            "loss: 0.06993053710696498\n",
            "loss: 0.06988628448447172\n",
            "loss: 0.06986666902646291\n",
            "loss: 0.06981586845335419\n",
            "loss: 0.06976498807615741\n",
            "loss: 0.06971417038914669\n",
            "loss: 0.06966358999853257\n",
            "loss: 0.06964662066326979\n",
            "loss: 0.0696284863788139\n",
            "loss: 0.06957824449774454\n",
            "loss: 0.06952776912748813\n",
            "loss: 0.06947743016772336\n",
            "loss: 0.06942713223048114\n",
            "loss: 0.06939928112209663\n",
            "loss: 0.06935090649140735\n",
            "loss: 0.0693019107997091\n",
            "loss: 0.06925274263311082\n",
            "loss: 0.0692029761242352\n",
            "loss: 0.06915341765806375\n",
            "loss: 0.0691036329881345\n",
            "loss: 0.06905300677532242\n"
          ],
          "name": "stdout"
        },
        {
          "output_type": "stream",
          "text": [
            "08/11/2021 19:11:59 - INFO - __main__ -    global_step = 1260, average loss = 0.06905300677532242\n"
          ],
          "name": "stderr"
        },
        {
          "output_type": "stream",
          "text": [
            "\n"
          ],
          "name": "stdout"
        }
      ]
    },
    {
      "cell_type": "code",
      "metadata": {
        "id": "8FrIV92vp7fw"
      },
      "source": [
        ""
      ],
      "execution_count": null,
      "outputs": []
    },
    {
      "cell_type": "code",
      "metadata": {
        "id": "zQ9L624hmncm",
        "colab": {
          "base_uri": "https://localhost:8080/",
          "height": 1000
        },
        "outputId": "07db7162-0867-43ea-ab46-cadab4539a23"
      },
      "source": [
        "results = {}\n",
        "checkpoints = list(\n",
        "            os.path.dirname(c) for c in\n",
        "            sorted(glob.glob(args.output_dir + \"/**/\" + \"pytorch_model.bin\", recursive=True))\n",
        "        )\n",
        "if not args.eval_all_checkpoints:\n",
        "    checkpoints = checkpoints[-1:]\n",
        "else:\n",
        "    logging.getLogger(\"transformers.configuration_utils\").setLevel(logging.WARN)  # Reduce logging\n",
        "    logging.getLogger(\"transformers.modeling_utils\").setLevel(logging.WARN)  # Reduce logging\n",
        "logger.info(\"Evaluate the following checkpoints: %s\", checkpoints)\n",
        "for checkpoint in checkpoints:\n",
        "    global_step = checkpoint.split(\"-\")[-1]\n",
        "    model = args.model.from_pretrained(checkpoint)\n",
        "    model.to(args.device)\n",
        "    result = evaluate(args, model, full_text, test_dataset, mode=\"test\", global_step=global_step)\n",
        "    result = dict((k + \"_{}\".format(global_step), v) for k, v in result.items())\n",
        "    results.update(result)\n",
        "\n",
        "output_eval_file = os.path.join(args.output_dir, \"eval_results.txt\")\n",
        "with open(output_eval_file, \"w\") as f_w:\n",
        "    for key in sorted(results.keys()):\n",
        "        f_w.write(\"{} = {}\\n\".format(key, str(results[key])))"
      ],
      "execution_count": null,
      "outputs": [
        {
          "output_type": "stream",
          "text": [
            "08/11/2021 10:20:10 - INFO - __main__ -   Evaluate the following checkpoints: ['koelectra-base-v3-nsmc-ckpt/checkpoint-1', 'koelectra-base-v3-nsmc-ckpt/checkpoint-10', 'koelectra-base-v3-nsmc-ckpt/checkpoint-1000', 'koelectra-base-v3-nsmc-ckpt/checkpoint-11', 'koelectra-base-v3-nsmc-ckpt/checkpoint-1250', 'koelectra-base-v3-nsmc-ckpt/checkpoint-1500', 'koelectra-base-v3-nsmc-ckpt/checkpoint-1750', 'koelectra-base-v3-nsmc-ckpt/checkpoint-2', 'koelectra-base-v3-nsmc-ckpt/checkpoint-2000', 'koelectra-base-v3-nsmc-ckpt/checkpoint-2250', 'koelectra-base-v3-nsmc-ckpt/checkpoint-250', 'koelectra-base-v3-nsmc-ckpt/checkpoint-2500', 'koelectra-base-v3-nsmc-ckpt/checkpoint-3', 'koelectra-base-v3-nsmc-ckpt/checkpoint-4', 'koelectra-base-v3-nsmc-ckpt/checkpoint-5', 'koelectra-base-v3-nsmc-ckpt/checkpoint-500', 'koelectra-base-v3-nsmc-ckpt/checkpoint-6', 'koelectra-base-v3-nsmc-ckpt/checkpoint-7', 'koelectra-base-v3-nsmc-ckpt/checkpoint-750', 'koelectra-base-v3-nsmc-ckpt/checkpoint-8', 'koelectra-base-v3-nsmc-ckpt/checkpoint-9']\n",
            "08/11/2021 10:20:11 - INFO - __main__ -   ***** Running evaluation on test dataset (1 step) *****\n",
            "08/11/2021 10:20:11 - INFO - __main__ -     Num examples = 2003\n",
            "08/11/2021 10:20:11 - INFO - __main__ -     Eval Batch size = 128\n"
          ],
          "name": "stderr"
        },
        {
          "output_type": "display_data",
          "data": {
            "text/html": [
              "\n",
              "    <div>\n",
              "        <style>\n",
              "            /* Turns off some styling */\n",
              "            progress {\n",
              "                /* gets rid of default border in Firefox and Opera. */\n",
              "                border: none;\n",
              "                /* Needs to be in here for Safari polyfill so background images work as expected. */\n",
              "                background-size: auto;\n",
              "            }\n",
              "            .progress-bar-interrupted, .progress-bar-interrupted::-webkit-progress-bar {\n",
              "                background: #F44336;\n",
              "            }\n",
              "        </style>\n",
              "      <progress value='16' class='' max='16' style='width:300px; height:20px; vertical-align: middle;'></progress>\n",
              "      100.00% [16/16 00:19<00:00]\n",
              "    </div>\n",
              "    "
            ],
            "text/plain": [
              "<IPython.core.display.HTML object>"
            ]
          },
          "metadata": {
            "tags": []
          }
        },
        {
          "output_type": "display_data",
          "data": {
            "image/png": "[encoded data removed]",
            "text/plain": [
              "<Figure size 1080x576 with 2 Axes>"
            ]
          },
          "metadata": {
            "tags": [],
            "needs_background": "light"
          }
        },
        {
          "output_type": "stream",
          "text": [
            "08/11/2021 10:20:35 - INFO - __main__ -   ***** Eval results on test dataset *****\n",
            "08/11/2021 10:20:35 - INFO - __main__ -     acc = 0.8701947079380928\n"
          ],
          "name": "stderr"
        },
        {
          "output_type": "stream",
          "text": [
            "                                              Review  Label Prediction\n",
            "0  삼성카드 택배 배달 시 사전 전화 약속하고 카드 배달하세요 기본 아닙니까 집에서 작...   카드상품        상담원\n",
            "1  홈페이지를 이용할 경우 오류가 잦아 매우 불편함 전화 문의는 대기 시간이 오래 걸려...  상담시스템      상담/채널\n",
            "2  상담원과의 통화대기시간안내가 현실적으로 차이가 있을 때입니다 대기시간이 1시간 정도...  상담시스템      상담/채널\n",
            "3                                 상담원 연결까지 너무 오랴 걸려요  상담시스템      상담/채널\n",
            "4                4번과 5번은 크게 의미 없는데 다음단게로 넘어가기 위한 클릭임    상담원      상담/채널\n",
            "{'acc': 0.8701947079380928}\n"
          ],
          "name": "stdout"
        },
        {
          "output_type": "error",
          "ename": "KeyboardInterrupt",
          "evalue": "ignored",
          "traceback": [
            "\u001b[0;31m---------------------------------------------------------------------------\u001b[0m",
            "\u001b[0;31mKeyboardInterrupt\u001b[0m                         Traceback (most recent call last)",
            "\u001b[0;32m<ipython-input-27-41bacf51effa>\u001b[0m in \u001b[0;36m<module>\u001b[0;34m()\u001b[0m\n\u001b[1;32m     12\u001b[0m \u001b[0;32mfor\u001b[0m \u001b[0mcheckpoint\u001b[0m \u001b[0;32min\u001b[0m \u001b[0mcheckpoints\u001b[0m\u001b[0;34m:\u001b[0m\u001b[0;34m\u001b[0m\u001b[0;34m\u001b[0m\u001b[0m\n\u001b[1;32m     13\u001b[0m     \u001b[0mglobal_step\u001b[0m \u001b[0;34m=\u001b[0m \u001b[0mcheckpoint\u001b[0m\u001b[0;34m.\u001b[0m\u001b[0msplit\u001b[0m\u001b[0;34m(\u001b[0m\u001b[0;34m\"-\"\u001b[0m\u001b[0;34m)\u001b[0m\u001b[0;34m[\u001b[0m\u001b[0;34m-\u001b[0m\u001b[0;36m1\u001b[0m\u001b[0;34m]\u001b[0m\u001b[0;34m\u001b[0m\u001b[0;34m\u001b[0m\u001b[0m\n\u001b[0;32m---> 14\u001b[0;31m     \u001b[0mmodel\u001b[0m \u001b[0;34m=\u001b[0m \u001b[0margs\u001b[0m\u001b[0;34m.\u001b[0m\u001b[0mmodel\u001b[0m\u001b[0;34m.\u001b[0m\u001b[0mfrom_pretrained\u001b[0m\u001b[0;34m(\u001b[0m\u001b[0mcheckpoint\u001b[0m\u001b[0;34m)\u001b[0m\u001b[0;34m\u001b[0m\u001b[0;34m\u001b[0m\u001b[0m\n\u001b[0m\u001b[1;32m     15\u001b[0m     \u001b[0mmodel\u001b[0m\u001b[0;34m.\u001b[0m\u001b[0mto\u001b[0m\u001b[0;34m(\u001b[0m\u001b[0margs\u001b[0m\u001b[0;34m.\u001b[0m\u001b[0mdevice\u001b[0m\u001b[0;34m)\u001b[0m\u001b[0;34m\u001b[0m\u001b[0;34m\u001b[0m\u001b[0m\n\u001b[1;32m     16\u001b[0m     \u001b[0mresult\u001b[0m \u001b[0;34m=\u001b[0m \u001b[0mevaluate\u001b[0m\u001b[0;34m(\u001b[0m\u001b[0margs\u001b[0m\u001b[0;34m,\u001b[0m \u001b[0mmodel\u001b[0m\u001b[0;34m,\u001b[0m \u001b[0mfull_text\u001b[0m\u001b[0;34m,\u001b[0m \u001b[0mtest_dataset\u001b[0m\u001b[0;34m,\u001b[0m \u001b[0mmode\u001b[0m\u001b[0;34m=\u001b[0m\u001b[0;34m\"test\"\u001b[0m\u001b[0;34m,\u001b[0m \u001b[0mglobal_step\u001b[0m\u001b[0;34m=\u001b[0m\u001b[0mglobal_step\u001b[0m\u001b[0;34m)\u001b[0m\u001b[0;34m\u001b[0m\u001b[0;34m\u001b[0m\u001b[0m\n",
            "\u001b[0;32m/usr/local/lib/python3.7/dist-packages/transformers/modeling_utils.py\u001b[0m in \u001b[0;36mfrom_pretrained\u001b[0;34m(cls, pretrained_model_name_or_path, *model_args, **kwargs)\u001b[0m\n\u001b[1;32m   1281\u001b[0m             \u001b[0;32mif\u001b[0m \u001b[0mstate_dict\u001b[0m \u001b[0;32mis\u001b[0m \u001b[0;32mNone\u001b[0m\u001b[0;34m:\u001b[0m\u001b[0;34m\u001b[0m\u001b[0;34m\u001b[0m\u001b[0m\n\u001b[1;32m   1282\u001b[0m                 \u001b[0;32mtry\u001b[0m\u001b[0;34m:\u001b[0m\u001b[0;34m\u001b[0m\u001b[0;34m\u001b[0m\u001b[0m\n\u001b[0;32m-> 1283\u001b[0;31m                     \u001b[0mstate_dict\u001b[0m \u001b[0;34m=\u001b[0m \u001b[0mtorch\u001b[0m\u001b[0;34m.\u001b[0m\u001b[0mload\u001b[0m\u001b[0;34m(\u001b[0m\u001b[0mresolved_archive_file\u001b[0m\u001b[0;34m,\u001b[0m \u001b[0mmap_location\u001b[0m\u001b[0;34m=\u001b[0m\u001b[0;34m\"cpu\"\u001b[0m\u001b[0;34m)\u001b[0m\u001b[0;34m\u001b[0m\u001b[0;34m\u001b[0m\u001b[0m\n\u001b[0m\u001b[1;32m   1284\u001b[0m                 \u001b[0;32mexcept\u001b[0m \u001b[0mException\u001b[0m\u001b[0;34m:\u001b[0m\u001b[0;34m\u001b[0m\u001b[0;34m\u001b[0m\u001b[0m\n\u001b[1;32m   1285\u001b[0m                     raise OSError(\n",
            "\u001b[0;32m/usr/local/lib/python3.7/dist-packages/torch/serialization.py\u001b[0m in \u001b[0;36mload\u001b[0;34m(f, map_location, pickle_module, **pickle_load_args)\u001b[0m\n\u001b[1;32m    605\u001b[0m                     \u001b[0mopened_file\u001b[0m\u001b[0;34m.\u001b[0m\u001b[0mseek\u001b[0m\u001b[0;34m(\u001b[0m\u001b[0morig_position\u001b[0m\u001b[0;34m)\u001b[0m\u001b[0;34m\u001b[0m\u001b[0;34m\u001b[0m\u001b[0m\n\u001b[1;32m    606\u001b[0m                     \u001b[0;32mreturn\u001b[0m \u001b[0mtorch\u001b[0m\u001b[0;34m.\u001b[0m\u001b[0mjit\u001b[0m\u001b[0;34m.\u001b[0m\u001b[0mload\u001b[0m\u001b[0;34m(\u001b[0m\u001b[0mopened_file\u001b[0m\u001b[0;34m)\u001b[0m\u001b[0;34m\u001b[0m\u001b[0;34m\u001b[0m\u001b[0m\n\u001b[0;32m--> 607\u001b[0;31m                 \u001b[0;32mreturn\u001b[0m \u001b[0m_load\u001b[0m\u001b[0;34m(\u001b[0m\u001b[0mopened_zipfile\u001b[0m\u001b[0;34m,\u001b[0m \u001b[0mmap_location\u001b[0m\u001b[0;34m,\u001b[0m \u001b[0mpickle_module\u001b[0m\u001b[0;34m,\u001b[0m \u001b[0;34m**\u001b[0m\u001b[0mpickle_load_args\u001b[0m\u001b[0;34m)\u001b[0m\u001b[0;34m\u001b[0m\u001b[0;34m\u001b[0m\u001b[0m\n\u001b[0m\u001b[1;32m    608\u001b[0m         \u001b[0;32mreturn\u001b[0m \u001b[0m_legacy_load\u001b[0m\u001b[0;34m(\u001b[0m\u001b[0mopened_file\u001b[0m\u001b[0;34m,\u001b[0m \u001b[0mmap_location\u001b[0m\u001b[0;34m,\u001b[0m \u001b[0mpickle_module\u001b[0m\u001b[0;34m,\u001b[0m \u001b[0;34m**\u001b[0m\u001b[0mpickle_load_args\u001b[0m\u001b[0;34m)\u001b[0m\u001b[0;34m\u001b[0m\u001b[0;34m\u001b[0m\u001b[0m\n\u001b[1;32m    609\u001b[0m \u001b[0;34m\u001b[0m\u001b[0m\n",
            "\u001b[0;32m/usr/local/lib/python3.7/dist-packages/torch/serialization.py\u001b[0m in \u001b[0;36m_load\u001b[0;34m(zip_file, map_location, pickle_module, pickle_file, **pickle_load_args)\u001b[0m\n\u001b[1;32m    880\u001b[0m     \u001b[0munpickler\u001b[0m \u001b[0;34m=\u001b[0m \u001b[0mUnpicklerWrapper\u001b[0m\u001b[0;34m(\u001b[0m\u001b[0mdata_file\u001b[0m\u001b[0;34m,\u001b[0m \u001b[0;34m**\u001b[0m\u001b[0mpickle_load_args\u001b[0m\u001b[0;34m)\u001b[0m\u001b[0;34m\u001b[0m\u001b[0;34m\u001b[0m\u001b[0m\n\u001b[1;32m    881\u001b[0m     \u001b[0munpickler\u001b[0m\u001b[0;34m.\u001b[0m\u001b[0mpersistent_load\u001b[0m \u001b[0;34m=\u001b[0m \u001b[0mpersistent_load\u001b[0m\u001b[0;34m\u001b[0m\u001b[0;34m\u001b[0m\u001b[0m\n\u001b[0;32m--> 882\u001b[0;31m     \u001b[0mresult\u001b[0m \u001b[0;34m=\u001b[0m \u001b[0munpickler\u001b[0m\u001b[0;34m.\u001b[0m\u001b[0mload\u001b[0m\u001b[0;34m(\u001b[0m\u001b[0;34m)\u001b[0m\u001b[0;34m\u001b[0m\u001b[0;34m\u001b[0m\u001b[0m\n\u001b[0m\u001b[1;32m    883\u001b[0m \u001b[0;34m\u001b[0m\u001b[0m\n\u001b[1;32m    884\u001b[0m     \u001b[0mtorch\u001b[0m\u001b[0;34m.\u001b[0m\u001b[0m_utils\u001b[0m\u001b[0;34m.\u001b[0m\u001b[0m_validate_loaded_sparse_tensors\u001b[0m\u001b[0;34m(\u001b[0m\u001b[0;34m)\u001b[0m\u001b[0;34m\u001b[0m\u001b[0;34m\u001b[0m\u001b[0m\n",
            "\u001b[0;32m/usr/local/lib/python3.7/dist-packages/torch/serialization.py\u001b[0m in \u001b[0;36mpersistent_load\u001b[0;34m(saved_id)\u001b[0m\n\u001b[1;32m    855\u001b[0m         \u001b[0mdata_type\u001b[0m\u001b[0;34m,\u001b[0m \u001b[0mkey\u001b[0m\u001b[0;34m,\u001b[0m \u001b[0mlocation\u001b[0m\u001b[0;34m,\u001b[0m \u001b[0msize\u001b[0m \u001b[0;34m=\u001b[0m \u001b[0mdata\u001b[0m\u001b[0;34m\u001b[0m\u001b[0;34m\u001b[0m\u001b[0m\n\u001b[1;32m    856\u001b[0m         \u001b[0;32mif\u001b[0m \u001b[0mkey\u001b[0m \u001b[0;32mnot\u001b[0m \u001b[0;32min\u001b[0m \u001b[0mloaded_storages\u001b[0m\u001b[0;34m:\u001b[0m\u001b[0;34m\u001b[0m\u001b[0;34m\u001b[0m\u001b[0m\n\u001b[0;32m--> 857\u001b[0;31m             \u001b[0mload_tensor\u001b[0m\u001b[0;34m(\u001b[0m\u001b[0mdata_type\u001b[0m\u001b[0;34m,\u001b[0m \u001b[0msize\u001b[0m\u001b[0;34m,\u001b[0m \u001b[0mkey\u001b[0m\u001b[0;34m,\u001b[0m \u001b[0m_maybe_decode_ascii\u001b[0m\u001b[0;34m(\u001b[0m\u001b[0mlocation\u001b[0m\u001b[0;34m)\u001b[0m\u001b[0;34m)\u001b[0m\u001b[0;34m\u001b[0m\u001b[0;34m\u001b[0m\u001b[0m\n\u001b[0m\u001b[1;32m    858\u001b[0m         \u001b[0mstorage\u001b[0m \u001b[0;34m=\u001b[0m \u001b[0mloaded_storages\u001b[0m\u001b[0;34m[\u001b[0m\u001b[0mkey\u001b[0m\u001b[0;34m]\u001b[0m\u001b[0;34m\u001b[0m\u001b[0;34m\u001b[0m\u001b[0m\n\u001b[1;32m    859\u001b[0m         \u001b[0;32mreturn\u001b[0m \u001b[0mstorage\u001b[0m\u001b[0;34m\u001b[0m\u001b[0;34m\u001b[0m\u001b[0m\n",
            "\u001b[0;32m/usr/local/lib/python3.7/dist-packages/torch/serialization.py\u001b[0m in \u001b[0;36mload_tensor\u001b[0;34m(data_type, size, key, location)\u001b[0m\n\u001b[1;32m    843\u001b[0m         \u001b[0mdtype\u001b[0m \u001b[0;34m=\u001b[0m \u001b[0mdata_type\u001b[0m\u001b[0;34m(\u001b[0m\u001b[0;36m0\u001b[0m\u001b[0;34m)\u001b[0m\u001b[0;34m.\u001b[0m\u001b[0mdtype\u001b[0m\u001b[0;34m\u001b[0m\u001b[0;34m\u001b[0m\u001b[0m\n\u001b[1;32m    844\u001b[0m \u001b[0;34m\u001b[0m\u001b[0m\n\u001b[0;32m--> 845\u001b[0;31m         \u001b[0mstorage\u001b[0m \u001b[0;34m=\u001b[0m \u001b[0mzip_file\u001b[0m\u001b[0;34m.\u001b[0m\u001b[0mget_storage_from_record\u001b[0m\u001b[0;34m(\u001b[0m\u001b[0mname\u001b[0m\u001b[0;34m,\u001b[0m \u001b[0msize\u001b[0m\u001b[0;34m,\u001b[0m \u001b[0mdtype\u001b[0m\u001b[0;34m)\u001b[0m\u001b[0;34m.\u001b[0m\u001b[0mstorage\u001b[0m\u001b[0;34m(\u001b[0m\u001b[0;34m)\u001b[0m\u001b[0;34m\u001b[0m\u001b[0;34m\u001b[0m\u001b[0m\n\u001b[0m\u001b[1;32m    846\u001b[0m         \u001b[0mloaded_storages\u001b[0m\u001b[0;34m[\u001b[0m\u001b[0mkey\u001b[0m\u001b[0;34m]\u001b[0m \u001b[0;34m=\u001b[0m \u001b[0mrestore_location\u001b[0m\u001b[0;34m(\u001b[0m\u001b[0mstorage\u001b[0m\u001b[0;34m,\u001b[0m \u001b[0mlocation\u001b[0m\u001b[0;34m)\u001b[0m\u001b[0;34m\u001b[0m\u001b[0;34m\u001b[0m\u001b[0m\n\u001b[1;32m    847\u001b[0m \u001b[0;34m\u001b[0m\u001b[0m\n",
            "\u001b[0;31mKeyboardInterrupt\u001b[0m: "
          ]
        }
      ]
    },
    {
      "cell_type": "code",
      "metadata": {
        "id": "yOFBaYi8S7h6",
        "colab": {
          "base_uri": "https://localhost:8080/",
          "height": 208
        },
        "outputId": "ab5a79fc-f7a0-4b2d-bffd-6f2acbbf9254"
      },
      "source": [
        "# 수정금지: 타임스탬프\n",
        "_model_build_end_time = printt(\"Model building: Start\")\n",
        "print(_model_build_end_time - _model_build_start_time)"
      ],
      "execution_count": null,
      "outputs": [
        {
          "output_type": "error",
          "ename": "NameError",
          "evalue": "ignored",
          "traceback": [
            "\u001b[0;31m---------------------------------------------------------------------------\u001b[0m",
            "\u001b[0;31mNameError\u001b[0m                                 Traceback (most recent call last)",
            "\u001b[0;32m<ipython-input-22-517a1de49e80>\u001b[0m in \u001b[0;36m<module>\u001b[0;34m()\u001b[0m\n\u001b[1;32m      1\u001b[0m \u001b[0;31m# 수정금지: 타임스탬프\u001b[0m\u001b[0;34m\u001b[0m\u001b[0;34m\u001b[0m\u001b[0;34m\u001b[0m\u001b[0m\n\u001b[0;32m----> 2\u001b[0;31m \u001b[0m_model_build_end_time\u001b[0m \u001b[0;34m=\u001b[0m \u001b[0mprintt\u001b[0m\u001b[0;34m(\u001b[0m\u001b[0;34m\"Model building: Start\"\u001b[0m\u001b[0;34m)\u001b[0m\u001b[0;34m\u001b[0m\u001b[0;34m\u001b[0m\u001b[0m\n\u001b[0m\u001b[1;32m      3\u001b[0m \u001b[0mprint\u001b[0m\u001b[0;34m(\u001b[0m\u001b[0m_model_build_end_time\u001b[0m \u001b[0;34m-\u001b[0m \u001b[0m_model_build_start_time\u001b[0m\u001b[0;34m)\u001b[0m\u001b[0;34m\u001b[0m\u001b[0;34m\u001b[0m\u001b[0m\n",
            "\u001b[0;31mNameError\u001b[0m: name 'printt' is not defined"
          ]
        }
      ]
    },
    {
      "cell_type": "markdown",
      "metadata": {
        "id": "ZZX6jC22S99-"
      },
      "source": [
        "#모델 분류"
      ]
    },
    {
      "cell_type": "code",
      "metadata": {
        "id": "CPEMmgXfTKf9"
      },
      "source": [
        "# 수정금지: 타임스탬프\n",
        "_test_start_time = printt(\"TEST: Start\")"
      ],
      "execution_count": null,
      "outputs": []
    },
    {
      "cell_type": "code",
      "metadata": {
        "id": "VLDvBcGMSdwg"
      },
      "source": [
        "#TODO: 해당 블럭에 테스트 수행을 위한 코드를 넣으세요. (시간측정 구간)\n",
        "#분석 파일은 tsv 파일로 제공되며, 제공되는 학습데이터 파일과 동일한 레이아웃(단, 정답 분류 =공백)으로 제공됩니다.\n",
        "\n",
        "\n"
      ],
      "execution_count": null,
      "outputs": []
    },
    {
      "cell_type": "code",
      "metadata": {
        "id": "WKLsLL-vSq1D"
      },
      "source": [
        "# 수정금지: 타임스탬프\n",
        "_test_end_time = printt(\"Model building: Start\")\n",
        "print(_test_end_time - _test_start_time)"
      ],
      "execution_count": null,
      "outputs": []
    },
    {
      "cell_type": "markdown",
      "metadata": {
        "id": "_f_NifWnpKw-"
      },
      "source": [
        "# 결과출력"
      ]
    },
    {
      "cell_type": "code",
      "metadata": {
        "id": "UctiMXI8UQ0Q"
      },
      "source": [
        "#TODO:해당 블럭에 테스트 결과를 파일로 저장하는 코드를 넣으세요. (시간측정 제외)\n",
        "#저장 파일은tsv 파일로 제공되는 학습데이터 파일과 동일한 레이아웃(단, 정답 분류 = 테스트 결과 도출된 양식)으로 저장\n",
        "\n",
        "\n"
      ],
      "execution_count": null,
      "outputs": []
    },
    {
      "cell_type": "code",
      "metadata": {
        "id": "VmpdIIPmkMez"
      },
      "source": [
        ""
      ],
      "execution_count": null,
      "outputs": []
    }
  ]
}