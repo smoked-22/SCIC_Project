{
  "nbformat": 4,
  "nbformat_minor": 0,
  "metadata": {
    "colab": {
      "name": "222번.카이의김씨들(김기영,김주희,김재훈).ipynb",
      "provenance": [],
      "collapsed_sections": []
    },
    "kernelspec": {
      "name": "python3",
      "display_name": "Python 3"
    },
    "language_info": {
      "name": "python"
    },
    "accelerator": "GPU",
    "widgets": {
      "application/vnd.jupyter.widget-state+json": {
        "4c5c913e92ab449aa13f7f0b61d0724f": {
          "model_module": "@jupyter-widgets/controls",
          "model_name": "HBoxModel",
          "model_module_version": "1.5.0",
          "state": {
            "_view_name": "HBoxView",
            "_dom_classes": [],
            "_model_name": "HBoxModel",
            "_view_module": "@jupyter-widgets/controls",
            "_model_module_version": "1.5.0",
            "_view_count": null,
            "_view_module_version": "1.5.0",
            "box_style": "",
            "layout": "IPY_MODEL_91901217b9d642a2abb4680db0987570",
            "_model_module": "@jupyter-widgets/controls",
            "children": [
              "IPY_MODEL_36b99737388c48538968ab3fe3c2a235",
              "IPY_MODEL_521bd8a296174db48f3f03bccb046934"
            ]
          }
        },
        "91901217b9d642a2abb4680db0987570": {
          "model_module": "@jupyter-widgets/base",
          "model_name": "LayoutModel",
          "model_module_version": "1.2.0",
          "state": {
            "_view_name": "LayoutView",
            "grid_template_rows": null,
            "right": null,
            "justify_content": null,
            "_view_module": "@jupyter-widgets/base",
            "overflow": null,
            "_model_module_version": "1.2.0",
            "_view_count": null,
            "flex_flow": null,
            "width": null,
            "min_width": null,
            "border": null,
            "align_items": null,
            "bottom": null,
            "_model_module": "@jupyter-widgets/base",
            "top": null,
            "grid_column": null,
            "overflow_y": null,
            "overflow_x": null,
            "grid_auto_flow": null,
            "grid_area": null,
            "grid_template_columns": null,
            "flex": null,
            "_model_name": "LayoutModel",
            "justify_items": null,
            "grid_row": null,
            "max_height": null,
            "align_content": null,
            "visibility": null,
            "align_self": null,
            "height": null,
            "min_height": null,
            "padding": null,
            "grid_auto_rows": null,
            "grid_gap": null,
            "max_width": null,
            "order": null,
            "_view_module_version": "1.2.0",
            "grid_template_areas": null,
            "object_position": null,
            "object_fit": null,
            "grid_auto_columns": null,
            "margin": null,
            "display": null,
            "left": null
          }
        },
        "36b99737388c48538968ab3fe3c2a235": {
          "model_module": "@jupyter-widgets/controls",
          "model_name": "FloatProgressModel",
          "model_module_version": "1.5.0",
          "state": {
            "_view_name": "ProgressView",
            "style": "IPY_MODEL_24827e16ee75418b90f285f2bc466dea",
            "_dom_classes": [],
            "description": "",
            "_model_name": "FloatProgressModel",
            "bar_style": "success",
            "max": 1,
            "_view_module": "@jupyter-widgets/controls",
            "_model_module_version": "1.5.0",
            "value": 1,
            "_view_count": null,
            "_view_module_version": "1.5.0",
            "orientation": "horizontal",
            "min": 0,
            "description_tooltip": null,
            "_model_module": "@jupyter-widgets/controls",
            "layout": "IPY_MODEL_b8e953092ccb4976bbcfca800966d9ec"
          }
        },
        "521bd8a296174db48f3f03bccb046934": {
          "model_module": "@jupyter-widgets/controls",
          "model_name": "HTMLModel",
          "model_module_version": "1.5.0",
          "state": {
            "_view_name": "HTMLView",
            "style": "IPY_MODEL_f788ddcb61cb4dd0b7d10d33f2b1c8ce",
            "_dom_classes": [],
            "description": "",
            "_model_name": "HTMLModel",
            "placeholder": "​",
            "_view_module": "@jupyter-widgets/controls",
            "_model_module_version": "1.5.0",
            "value": " 20/? [29:35&lt;00:00, 88.76s/it]",
            "_view_count": null,
            "_view_module_version": "1.5.0",
            "description_tooltip": null,
            "_model_module": "@jupyter-widgets/controls",
            "layout": "IPY_MODEL_8b6c05697b8b4994a62ba2950025301c"
          }
        },
        "24827e16ee75418b90f285f2bc466dea": {
          "model_module": "@jupyter-widgets/controls",
          "model_name": "ProgressStyleModel",
          "model_module_version": "1.5.0",
          "state": {
            "_view_name": "StyleView",
            "_model_name": "ProgressStyleModel",
            "description_width": "initial",
            "_view_module": "@jupyter-widgets/base",
            "_model_module_version": "1.5.0",
            "_view_count": null,
            "_view_module_version": "1.2.0",
            "bar_color": null,
            "_model_module": "@jupyter-widgets/controls"
          }
        },
        "b8e953092ccb4976bbcfca800966d9ec": {
          "model_module": "@jupyter-widgets/base",
          "model_name": "LayoutModel",
          "model_module_version": "1.2.0",
          "state": {
            "_view_name": "LayoutView",
            "grid_template_rows": null,
            "right": null,
            "justify_content": null,
            "_view_module": "@jupyter-widgets/base",
            "overflow": null,
            "_model_module_version": "1.2.0",
            "_view_count": null,
            "flex_flow": null,
            "width": null,
            "min_width": null,
            "border": null,
            "align_items": null,
            "bottom": null,
            "_model_module": "@jupyter-widgets/base",
            "top": null,
            "grid_column": null,
            "overflow_y": null,
            "overflow_x": null,
            "grid_auto_flow": null,
            "grid_area": null,
            "grid_template_columns": null,
            "flex": null,
            "_model_name": "LayoutModel",
            "justify_items": null,
            "grid_row": null,
            "max_height": null,
            "align_content": null,
            "visibility": null,
            "align_self": null,
            "height": null,
            "min_height": null,
            "padding": null,
            "grid_auto_rows": null,
            "grid_gap": null,
            "max_width": null,
            "order": null,
            "_view_module_version": "1.2.0",
            "grid_template_areas": null,
            "object_position": null,
            "object_fit": null,
            "grid_auto_columns": null,
            "margin": null,
            "display": null,
            "left": null
          }
        },
        "f788ddcb61cb4dd0b7d10d33f2b1c8ce": {
          "model_module": "@jupyter-widgets/controls",
          "model_name": "DescriptionStyleModel",
          "model_module_version": "1.5.0",
          "state": {
            "_view_name": "StyleView",
            "_model_name": "DescriptionStyleModel",
            "description_width": "",
            "_view_module": "@jupyter-widgets/base",
            "_model_module_version": "1.5.0",
            "_view_count": null,
            "_view_module_version": "1.2.0",
            "_model_module": "@jupyter-widgets/controls"
          }
        },
        "8b6c05697b8b4994a62ba2950025301c": {
          "model_module": "@jupyter-widgets/base",
          "model_name": "LayoutModel",
          "model_module_version": "1.2.0",
          "state": {
            "_view_name": "LayoutView",
            "grid_template_rows": null,
            "right": null,
            "justify_content": null,
            "_view_module": "@jupyter-widgets/base",
            "overflow": null,
            "_model_module_version": "1.2.0",
            "_view_count": null,
            "flex_flow": null,
            "width": null,
            "min_width": null,
            "border": null,
            "align_items": null,
            "bottom": null,
            "_model_module": "@jupyter-widgets/base",
            "top": null,
            "grid_column": null,
            "overflow_y": null,
            "overflow_x": null,
            "grid_auto_flow": null,
            "grid_area": null,
            "grid_template_columns": null,
            "flex": null,
            "_model_name": "LayoutModel",
            "justify_items": null,
            "grid_row": null,
            "max_height": null,
            "align_content": null,
            "visibility": null,
            "align_self": null,
            "height": null,
            "min_height": null,
            "padding": null,
            "grid_auto_rows": null,
            "grid_gap": null,
            "max_width": null,
            "order": null,
            "_view_module_version": "1.2.0",
            "grid_template_areas": null,
            "object_position": null,
            "object_fit": null,
            "grid_auto_columns": null,
            "margin": null,
            "display": null,
            "left": null
          }
        }
      }
    }
  },
  "cells": [
    {
      "cell_type": "code",
      "metadata": {
        "id": "6qGxU_ZS8DEE",
        "colab": {
          "base_uri": "https://localhost:8080/"
        },
        "outputId": "d663bdea-2818-407a-9bf6-5f79f690b3aa"
      },
      "source": [
        "from google.colab import drive\n",
        "drive.mount('/content/drive')\n",
        "\n"
      ],
      "execution_count": 19,
      "outputs": [
        {
          "output_type": "stream",
          "text": [
            "Drive already mounted at /content/drive; to attempt to forcibly remount, call drive.mount(\"/content/drive\", force_remount=True).\n"
          ],
          "name": "stdout"
        }
      ]
    },
    {
      "cell_type": "markdown",
      "metadata": {
        "id": "_YEZSFwyP5fQ"
      },
      "source": [
        "#공용함수"
      ]
    },
    {
      "cell_type": "code",
      "metadata": {
        "id": "zUkWw1txP4XA"
      },
      "source": [
        "# 수정금지: 타임스탬프용 함수\n",
        "from datetime import datetime\n",
        "def printt(*args,**kwargs):\n",
        "  now = datetime.now()\n",
        "  now_str = \"{:02}:{:02}:{:02}\".format(now.hour,now.minute,now.second)\n",
        "  print(now_str, *args,**kwargs)\n",
        "  return int(now.hour)*60*60+int(now.minute)*60+int(now.second)"
      ],
      "execution_count": null,
      "outputs": []
    },
    {
      "cell_type": "markdown",
      "metadata": {
        "id": "V-h1MVpOSRVl"
      },
      "source": [
        "#연관 패키지 설치 (다른작업 금지)"
      ]
    },
    {
      "cell_type": "code",
      "metadata": {
        "id": "cOHw8KJbRC4m",
        "colab": {
          "base_uri": "https://localhost:8080/"
        },
        "outputId": "8eb53b49-3bbd-4b80-aaba-a96c688614c3"
      },
      "source": [
        "#TODO: 해당 블럭에 패키지 설치하세요.\n",
        "!pip install attrdict\n",
        "!pip install transformers\n",
        "!pip install seqeval\n",
        "!pip install fastprogress"
      ],
      "execution_count": 20,
      "outputs": [
        {
          "output_type": "stream",
          "text": [
            "Requirement already satisfied: attrdict in /usr/local/lib/python3.7/dist-packages (2.0.1)\n",
            "Requirement already satisfied: six in /usr/local/lib/python3.7/dist-packages (from attrdict) (1.15.0)\n",
            "Requirement already satisfied: transformers in /usr/local/lib/python3.7/dist-packages (4.9.2)\n",
            "Requirement already satisfied: huggingface-hub==0.0.12 in /usr/local/lib/python3.7/dist-packages (from transformers) (0.0.12)\n",
            "Requirement already satisfied: packaging in /usr/local/lib/python3.7/dist-packages (from transformers) (21.0)\n",
            "Requirement already satisfied: regex!=2019.12.17 in /usr/local/lib/python3.7/dist-packages (from transformers) (2019.12.20)\n",
            "Requirement already satisfied: sacremoses in /usr/local/lib/python3.7/dist-packages (from transformers) (0.0.45)\n",
            "Requirement already satisfied: tqdm>=4.27 in /usr/local/lib/python3.7/dist-packages (from transformers) (4.41.1)\n",
            "Requirement already satisfied: importlib-metadata in /usr/local/lib/python3.7/dist-packages (from transformers) (4.6.1)\n",
            "Requirement already satisfied: pyyaml>=5.1 in /usr/local/lib/python3.7/dist-packages (from transformers) (5.4.1)\n",
            "Requirement already satisfied: filelock in /usr/local/lib/python3.7/dist-packages (from transformers) (3.0.12)\n",
            "Requirement already satisfied: tokenizers<0.11,>=0.10.1 in /usr/local/lib/python3.7/dist-packages (from transformers) (0.10.3)\n",
            "Requirement already satisfied: numpy>=1.17 in /usr/local/lib/python3.7/dist-packages (from transformers) (1.19.5)\n",
            "Requirement already satisfied: requests in /usr/local/lib/python3.7/dist-packages (from transformers) (2.23.0)\n",
            "Requirement already satisfied: typing-extensions in /usr/local/lib/python3.7/dist-packages (from huggingface-hub==0.0.12->transformers) (3.7.4.3)\n",
            "Requirement already satisfied: pyparsing>=2.0.2 in /usr/local/lib/python3.7/dist-packages (from packaging->transformers) (2.4.7)\n",
            "Requirement already satisfied: zipp>=0.5 in /usr/local/lib/python3.7/dist-packages (from importlib-metadata->transformers) (3.5.0)\n",
            "Requirement already satisfied: certifi>=2017.4.17 in /usr/local/lib/python3.7/dist-packages (from requests->transformers) (2021.5.30)\n",
            "Requirement already satisfied: idna<3,>=2.5 in /usr/local/lib/python3.7/dist-packages (from requests->transformers) (2.10)\n",
            "Requirement already satisfied: urllib3!=1.25.0,!=1.25.1,<1.26,>=1.21.1 in /usr/local/lib/python3.7/dist-packages (from requests->transformers) (1.24.3)\n",
            "Requirement already satisfied: chardet<4,>=3.0.2 in /usr/local/lib/python3.7/dist-packages (from requests->transformers) (3.0.4)\n",
            "Requirement already satisfied: click in /usr/local/lib/python3.7/dist-packages (from sacremoses->transformers) (7.1.2)\n",
            "Requirement already satisfied: six in /usr/local/lib/python3.7/dist-packages (from sacremoses->transformers) (1.15.0)\n",
            "Requirement already satisfied: joblib in /usr/local/lib/python3.7/dist-packages (from sacremoses->transformers) (1.0.1)\n",
            "Requirement already satisfied: seqeval in /usr/local/lib/python3.7/dist-packages (1.2.2)\n",
            "Requirement already satisfied: numpy>=1.14.0 in /usr/local/lib/python3.7/dist-packages (from seqeval) (1.19.5)\n",
            "Requirement already satisfied: scikit-learn>=0.21.3 in /usr/local/lib/python3.7/dist-packages (from seqeval) (0.22.2.post1)\n",
            "Requirement already satisfied: scipy>=0.17.0 in /usr/local/lib/python3.7/dist-packages (from scikit-learn>=0.21.3->seqeval) (1.4.1)\n",
            "Requirement already satisfied: joblib>=0.11 in /usr/local/lib/python3.7/dist-packages (from scikit-learn>=0.21.3->seqeval) (1.0.1)\n",
            "Requirement already satisfied: fastprogress in /usr/local/lib/python3.7/dist-packages (1.0.0)\n",
            "Requirement already satisfied: numpy in /usr/local/lib/python3.7/dist-packages (from fastprogress) (1.19.5)\n"
          ],
          "name": "stdout"
        }
      ]
    },
    {
      "cell_type": "markdown",
      "metadata": {
        "id": "VIMuPDLIo0rb"
      },
      "source": [
        "# 파일로딩 (다른작업 금지)"
      ]
    },
    {
      "cell_type": "code",
      "metadata": {
        "id": "SJ4zJTn7o0LO"
      },
      "source": [
        "#TODO: 해당 블럭에 필요 파일 로딩 코드 넣으시오.\n"
      ],
      "execution_count": null,
      "outputs": []
    },
    {
      "cell_type": "markdown",
      "metadata": {
        "id": "QTVIEOA0Swkd"
      },
      "source": [
        "# 모델 학습"
      ]
    },
    {
      "cell_type": "code",
      "metadata": {
        "id": "vOOoJjT8Sx3R",
        "colab": {
          "base_uri": "https://localhost:8080/"
        },
        "outputId": "2749f804-5538-48c8-d568-3a146baf0f0c"
      },
      "source": [
        "# 수정금지: 타임스탬프\n",
        "_model_build_start_time = printt(\"Model building: Start\")\n",
        "_model_build_start_time"
      ],
      "execution_count": null,
      "outputs": [
        {
          "output_type": "stream",
          "text": [
            "08:34:48 Model building: Start\n"
          ],
          "name": "stdout"
        },
        {
          "output_type": "execute_result",
          "data": {
            "text/plain": [
              "30888"
            ]
          },
          "metadata": {
            "tags": []
          },
          "execution_count": 4
        }
      ]
    },
    {
      "cell_type": "code",
      "metadata": {
        "id": "YxnQUVccSa-V"
      },
      "source": [
        "#TODO: 블럭에 모델 학습 - 빌딩 코드를 넣으세요. (시간측정 구간)\n",
        "\n",
        "\n",
        "\n"
      ],
      "execution_count": null,
      "outputs": []
    },
    {
      "cell_type": "code",
      "metadata": {
        "colab": {
          "base_uri": "https://localhost:8080/"
        },
        "id": "CIUoYKVugaUk",
        "outputId": "677b0cef-f7d3-4131-99b9-2ebd3b77d109"
      },
      "source": [
        "!sudo apt-get install -y fonts-nanum\n",
        "!sudo fc-cache -fv\n",
        "!rm ~/.cache/matplotlib -rf"
      ],
      "execution_count": 21,
      "outputs": [
        {
          "output_type": "stream",
          "text": [
            "Reading package lists... Done\n",
            "Building dependency tree       \n",
            "Reading state information... Done\n",
            "fonts-nanum is already the newest version (20170925-1).\n",
            "0 upgraded, 0 newly installed, 0 to remove and 40 not upgraded.\n",
            "/usr/share/fonts: caching, new cache contents: 0 fonts, 1 dirs\n",
            "/usr/share/fonts/truetype: caching, new cache contents: 0 fonts, 3 dirs\n",
            "/usr/share/fonts/truetype/humor-sans: caching, new cache contents: 1 fonts, 0 dirs\n",
            "/usr/share/fonts/truetype/liberation: caching, new cache contents: 16 fonts, 0 dirs\n",
            "/usr/share/fonts/truetype/nanum: caching, new cache contents: 10 fonts, 0 dirs\n",
            "/usr/local/share/fonts: caching, new cache contents: 0 fonts, 0 dirs\n",
            "/root/.local/share/fonts: skipping, no such directory\n",
            "/root/.fonts: skipping, no such directory\n",
            "/var/cache/fontconfig: cleaning cache directory\n",
            "/root/.cache/fontconfig: not cleaning non-existent cache directory\n",
            "/root/.fontconfig: not cleaning non-existent cache directory\n",
            "fc-cache: succeeded\n"
          ],
          "name": "stdout"
        }
      ]
    },
    {
      "cell_type": "code",
      "metadata": {
        "colab": {
          "base_uri": "https://localhost:8080/",
          "height": 265
        },
        "id": "eVLP6QJlgfuP",
        "outputId": "7b436cc0-4383-4070-b6a2-4f3f6adfa408"
      },
      "source": [
        "# 실행 전 런타임 다시시작\n",
        "import matplotlib.pyplot as plt\n",
        "plt.rc('font', family='NanumBarunGothic') \n",
        "plt.plot([1, 2, 3, 4])\n",
        "plt.ylabel('한국어 테스트')\n",
        "plt.show()"
      ],
      "execution_count": 22,
      "outputs": [
        {
          "output_type": "display_data",
          "data": {
            "image/png": "[encoded data removed]",
            "text/plain": [
              "<Figure size 432x288 with 1 Axes>"
            ]
          },
          "metadata": {
            "tags": [],
            "needs_background": "light"
          }
        }
      ]
    },
    {
      "cell_type": "code",
      "metadata": {
        "id": "7Qi3tiTrV5Gy"
      },
      "source": [
        "# task = 'classification'\n",
        "task = 'sentiment'\n",
        "train_file = 'train_cls.txt'\n",
        "test_file = 'evaluation_cls.txt'\n",
        "full_text = 'full_text.txt'\n",
        "\n",
        "\n",
        "# train_file = train_s_cls.txt\n",
        "# test_file = test_s_cls.txt"
      ],
      "execution_count": 23,
      "outputs": []
    },
    {
      "cell_type": "code",
      "metadata": {
        "id": "cJI_EzPkISd9"
      },
      "source": [
        "# initialize logging\n",
        "import logging\n",
        "\n",
        "logging.basicConfig(\n",
        "    format=\"%(asctime)s - %(levelname)s - %(name)s -   %(message)s\",\n",
        "    datefmt=\"%m/%d/%Y %H:%M:%S\",\n",
        "    level=logging.INFO,\n",
        ")"
      ],
      "execution_count": 24,
      "outputs": []
    },
    {
      "cell_type": "code",
      "metadata": {
        "id": "AaOFiXQm_xSk"
      },
      "source": [
        "# make Input Example\n",
        "class InputExample(object):\n",
        "    \"\"\"\n",
        "    A single training/test example for simple sequence classification.\n",
        "    \"\"\"\n",
        "\n",
        "    def __init__(self, guid, text_a, text_b, label):\n",
        "        self.guid = guid\n",
        "        self.text_a = text_a\n",
        "        self.text_b = text_b\n",
        "        self.label = label\n",
        "\n",
        "    def __repr__(self):\n",
        "        return str(self.to_json_string())\n",
        "\n",
        "    def to_dict(self):\n",
        "        \"\"\"Serializes this instance to a Python dictionary.\"\"\"\n",
        "        output = copy.deepcopy(self.__dict__)\n",
        "        return output\n",
        "\n",
        "    def to_json_string(self):\n",
        "        \"\"\"Serializes this instance to a JSON string.\"\"\"\n",
        "        return json.dumps(self.to_dict(), indent=2, sort_keys=True) + \"\\n\"\n",
        "        \n",
        "# make Input Feature\n",
        "class InputFeatures(object):\n",
        "    \"\"\"A single set of features of data.\"\"\"\n",
        "\n",
        "    def __init__(self, input_ids, attention_mask, token_type_ids, label):\n",
        "        self.input_ids = input_ids\n",
        "        self.attention_mask = attention_mask\n",
        "        self.token_type_ids = token_type_ids\n",
        "        self.label = label\n",
        "\n",
        "    def __repr__(self):\n",
        "        return str(self.to_json_string())\n",
        "\n",
        "    def to_dict(self):\n",
        "        \"\"\"Serializes this instance to a Python dictionary.\"\"\"\n",
        "        output = copy.deepcopy(self.__dict__)\n",
        "        return output\n",
        "\n",
        "    def to_json_string(self):\n",
        "        \"\"\"Serializes this instance to a JSON string.\"\"\"\n",
        "        return json.dumps(self.to_dict(), indent=2, sort_keys=True) + \"\\n\"\n",
        "\n",
        "# make processor\n",
        "class Processor(object):\n",
        "\n",
        "    def __init__(self, args):\n",
        "        self.args = args\n",
        "\n",
        "    def get_labels(self):\n",
        "        if self.args.task == 'classification':\n",
        "        # return ['None', '상담원', '상담시스템', '고객서비스', '혜택', '할부금융상품', '커뮤니티서비스',\n",
        "        #         '카드이용/결제', '카드상품', '청구입금', '심사/한도', '생활편의서비스', '상담/채널', '리스렌탈상품',\n",
        "        #         '라이프서비스', '금융상품', '고객정보관리', '가맹점매출/승인', '가맹점대금', '가맹점계약', '삼성카드', '기타']\n",
        "          return ['0', '1', '2', '3', '4', '5', '6', '7', '8', '9', '10', '11', '12',\n",
        "                  '13', '14', '15', '16']\n",
        "        else:\n",
        "          return ['0', '1']\n",
        "\n",
        "    def _read_file(cls, input_file):\n",
        "        \"\"\"Reads a tab separated value file.\"\"\"\n",
        "        with open(input_file, \"r\", encoding=\"utf-8\") as f:\n",
        "            lines = []\n",
        "            for line in f:\n",
        "                lines.append(line.strip())\n",
        "            return lines\n",
        "\n",
        "    def _create_examples(self, lines, set_type):\n",
        "        \"\"\"Creates examples for the training and dev sets.\"\"\"\n",
        "        examples = []\n",
        "        for (i, line) in enumerate(lines[0:]):\n",
        "            line = line.split(\"\\t\")\n",
        "            guid = \"%s-%s\" % (set_type, i)\n",
        "            text_a = line[0]\n",
        "            label = line[1]\n",
        "            if i % 10000 == 0:\n",
        "                logger.info(line)\n",
        "            examples.append(InputExample(guid=guid, text_a=text_a, text_b=None, label=label))\n",
        "        return examples\n",
        "\n",
        "    def get_examples(self, mode):\n",
        "        \"\"\"\n",
        "        Args:\n",
        "            mode: train, test\n",
        "        \"\"\"\n",
        "        file_to_read = None\n",
        "        if mode == \"train\":\n",
        "            file_to_read = self.args.train_file\n",
        "        elif mode == \"test\":\n",
        "            file_to_read = self.args.test_file\n",
        "\n",
        "        logger.info(\"LOOKING AT {}\".format(os.path.join(self.args.data_dir, file_to_read)))\n",
        "        return self._create_examples(\n",
        "            self._read_file(os.path.join(self.args.data_dir, file_to_read)), mode\n",
        "        )"
      ],
      "execution_count": 25,
      "outputs": []
    },
    {
      "cell_type": "code",
      "metadata": {
        "id": "ZN4qSwp3_2P8"
      },
      "source": [
        "# set config args for classification\n",
        "from transformers import (\n",
        "    ElectraConfig,\n",
        "    ElectraTokenizer,\n",
        "    ElectraForSequenceClassification,\n",
        "    XLMRobertaForSequenceClassification,\n",
        "    XLMRobertaTokenizer,\n",
        "    XLMRobertaConfig\n",
        ")\n",
        "from attrdict import AttrDict\n",
        "args = AttrDict(\n",
        "    {\n",
        "                 'data_dir': 'data/{}'.format(task),\n",
        "                 'train_file': train_file,\n",
        "                 'test_file': test_file,\n",
        "                 'task': task,\n",
        "                 'config': ElectraConfig,\n",
        "                 'tokenizer': ElectraTokenizer,\n",
        "                 'model': ElectraForSequenceClassification,\n",
        "                #  'config': XLMRobertaConfig,\n",
        "                #  'tokenizer': XLMRobertaTokenizer,\n",
        "                #  'model': XLMRobertaForSequenceClassification,\n",
        "                 'evaluate_test_during_training': True, \n",
        "                 'eval_all_checkpoints': True, \n",
        "                 'save_optimizer': False, \n",
        "                 'do_lower_case': False, \n",
        "                 'do_train': True, \n",
        "                 'do_eval': True, \n",
        "                 'max_seq_len': 128, \n",
        "                 'num_train_epochs': 20, \n",
        "                 'weight_decay': 0.0, \n",
        "                 'gradient_accumulation_steps': 1, \n",
        "                 'adam_epsilon': 1e-08, \n",
        "                 'warmup_proportion': 0, \n",
        "                 'max_steps': -1, \n",
        "                 'max_grad_norm': 1.0, \n",
        "                 'no_cuda': False, \n",
        "                 'model_type': 'koelectra-base-v3', \n",
        "                 'model_name_or_path': 'monologg/koelectra-base-v3-discriminator', \n",
        "                 'output_dir': '{}_checkpoints'.format(task), \n",
        "                 'seed': 42, \n",
        "                 'train_batch_size': 32, \n",
        "                 'eval_batch_size': 128, \n",
        "                 'logging_steps': 250, \n",
        "                 'save_steps': 250, \n",
        "                 'learning_rate': 5e-06\n",
        "     }\n",
        ")\n",
        "if task == 'sentiment':\n",
        "  args.logging_steps, args.save_steps = 63, 63\n",
        "  args.max_seq_len = 64\n",
        "  args.train_batch_size = 128"
      ],
      "execution_count": 26,
      "outputs": []
    },
    {
      "cell_type": "code",
      "metadata": {
        "colab": {
          "base_uri": "https://localhost:8080/"
        },
        "id": "cEUZThiu_893",
        "outputId": "a02b0509-676a-40d9-927c-d0b0e1e2fc20"
      },
      "source": [
        "import torch\n",
        "\n",
        "# set seed\n",
        "torch.cuda.manual_seed_all(args.seed)\n",
        "\n",
        "processor = Processor(args)\n",
        "labels = processor.get_labels()\n",
        "\n",
        "\n",
        "config = args.config.from_pretrained(\n",
        "            args.model_name_or_path,\n",
        "            num_labels=len(labels)\n",
        "            # id2label={str(i): label for i, label in enumerate(labels)},\n",
        "            # label2id={label: i for i, label in enumerate(labels)},\n",
        "        )\n",
        "tokenizer = args.tokenizer.from_pretrained(\n",
        "    args.model_name_or_path,\n",
        "    do_lower_case=args.do_lower_case\n",
        ")\n",
        "model = args.model.from_pretrained(\n",
        "    args.model_name_or_path,\n",
        "    config=config\n",
        ")"
      ],
      "execution_count": 27,
      "outputs": [
        {
          "output_type": "stream",
          "text": [
            "Some weights of the model checkpoint at monologg/koelectra-base-v3-discriminator were not used when initializing ElectraForSequenceClassification: ['discriminator_predictions.dense.bias', 'discriminator_predictions.dense_prediction.weight', 'discriminator_predictions.dense.weight', 'discriminator_predictions.dense_prediction.bias']\n",
            "- This IS expected if you are initializing ElectraForSequenceClassification from the checkpoint of a model trained on another task or with another architecture (e.g. initializing a BertForSequenceClassification model from a BertForPreTraining model).\n",
            "- This IS NOT expected if you are initializing ElectraForSequenceClassification from the checkpoint of a model that you expect to be exactly identical (initializing a BertForSequenceClassification model from a BertForSequenceClassification model).\n",
            "Some weights of ElectraForSequenceClassification were not initialized from the model checkpoint at monologg/koelectra-base-v3-discriminator and are newly initialized: ['classifier.out_proj.bias', 'classifier.out_proj.weight', 'classifier.dense.bias', 'classifier.dense.weight']\n",
            "You should probably TRAIN this model on a down-stream task to be able to use it for predictions and inference.\n"
          ],
          "name": "stderr"
        }
      ]
    },
    {
      "cell_type": "code",
      "metadata": {
        "colab": {
          "base_uri": "https://localhost:8080/"
        },
        "id": "FfIJc-O3AAuH",
        "outputId": "4f64df89-3607-446d-a9fb-038e0bdc7701"
      },
      "source": [
        "%cd /content/drive/MyDrive/Colab Notebooks\n",
        "import os\n",
        "from torch.utils.data import TensorDataset\n",
        "logger = logging.getLogger(__name__)\n",
        "print(__name__)\n",
        "def load_and_cache_examples(args, tokenizer, mode):\n",
        "    processor = Processor(args)\n",
        "    output_mode = args.task\n",
        "    # Load data features from cache or dataset file\n",
        "    cached_features_file = os.path.join(\n",
        "        args.data_dir,\n",
        "        \"cached_{}_{}_{}_{}\".format(\n",
        "            str(args.task), list(filter(None, args.model_name_or_path.split(\"/\"))).pop(), str(args.max_seq_len), mode\n",
        "        ),\n",
        "    )\n",
        "    if os.path.exists(cached_features_file):\n",
        "        logger.info(\"Loading features from cached file %s\", cached_features_file)\n",
        "        features = torch.load(cached_features_file)\n",
        "    else:\n",
        "        logger.info(\"Creating features from dataset file at %s\", args.data_dir)\n",
        "        if mode == \"train\":\n",
        "            examples = processor.get_examples(\"train\")\n",
        "        elif mode == \"test\":\n",
        "            examples = processor.get_examples(\"test\")\n",
        "        else:\n",
        "            raise ValueError(\"For mode, choose between train and test\")\n",
        "        features = seq_cls_convert_examples_to_features(\n",
        "            args, examples, tokenizer, max_length=args.max_seq_len\n",
        "        )\n",
        "        logger.info(\"Saving features into cached file %s\", cached_features_file)\n",
        "        torch.save(features, cached_features_file)\n",
        "\n",
        "    # Convert to Tensors and build dataset\n",
        "    all_input_ids = torch.tensor([f.input_ids for f in features], dtype=torch.long)\n",
        "    all_attention_mask = torch.tensor([f.attention_mask for f in features], dtype=torch.long)\n",
        "    all_token_type_ids = torch.tensor([f.token_type_ids for f in features], dtype=torch.long)\n",
        "\n",
        "\n",
        "\n",
        "    if output_mode == \"classification\" or 'sentiment':\n",
        "        all_labels = torch.tensor([f.label for f in features], dtype=torch.long)\n",
        "\n",
        "\n",
        "    # if output_mode == \"classification\":\n",
        "    #     all_labels = torch.tensor([f.label for f in features], dtype=torch.long)\n",
        "    # elif output_mode == \"regression\":\n",
        "    #     all_labels = torch.tensor([f.label for f in features], dtype=torch.float)\n",
        "\n",
        "    dataset = TensorDataset(all_input_ids, all_attention_mask, all_token_type_ids, all_labels)\n",
        "    return dataset\n",
        "def seq_cls_convert_examples_to_features(args, examples, tokenizer, max_length):\n",
        "    processor = Processor(args)\n",
        "    label_list = processor.get_labels()\n",
        "    output_mode = args.task\n",
        "    logger.info(\"Using label list {}\".format(label_list))\n",
        "    logger.info(\"Using output mode {}\".format(output_mode))\n",
        "\n",
        "    # labels = [label_from_example(example) for example in examples]\n",
        "    labels = [int(example.label) for example in examples]\n",
        "\n",
        "    batch_encoding = tokenizer.batch_encode_plus(\n",
        "        [(example.text_a, example.text_b) for example in examples],\n",
        "        max_length=max_length,\n",
        "        padding=\"max_length\",\n",
        "        add_special_tokens=True,\n",
        "        truncation=True,\n",
        "    )\n",
        "\n",
        "    features = []\n",
        "    for i in range(len(examples)):\n",
        "        inputs = {k: batch_encoding[k][i] for k in batch_encoding}\n",
        "        if \"token_type_ids\" not in inputs:\n",
        "            inputs[\"token_type_ids\"] = [0] * len(inputs[\"input_ids\"])  # For xlm-roberta\n",
        "\n",
        "        feature = InputFeatures(**inputs, label=labels[i])\n",
        "        features.append(feature)\n",
        "\n",
        "    for i, example in enumerate(examples[:5]):\n",
        "        logger.info(\"*** Example ***\")\n",
        "        logger.info(\"guid: {}\".format(example.guid))\n",
        "        logger.info(\"input_ids: {}\".format(\" \".join([str(x) for x in features[i].input_ids])))\n",
        "        logger.info(\"attention_mask: {}\".format(\" \".join([str(x) for x in features[i].attention_mask])))\n",
        "        logger.info(\"token_type_ids: {}\".format(\" \".join([str(x) for x in features[i].token_type_ids])))\n",
        "        logger.info(\"label: {}\".format(features[i].label))\n",
        "\n",
        "    return features\n",
        "\n"
      ],
      "execution_count": 28,
      "outputs": [
        {
          "output_type": "stream",
          "text": [
            "/content/drive/MyDrive/Colab Notebooks\n",
            "__main__\n"
          ],
          "name": "stdout"
        }
      ]
    },
    {
      "cell_type": "code",
      "metadata": {
        "id": "fZXbz67inCgG"
      },
      "source": [
        "import argparse\n",
        "import json\n",
        "import logging\n",
        "import os\n",
        "import glob\n",
        "import matplotlib.pyplot as plt\n",
        "import matplotlib.ticker as mticker\n",
        "from transformers import (\n",
        "    AdamW,\n",
        "    get_linear_schedule_with_warmup\n",
        ")\n",
        "from tqdm.auto import tqdm\n",
        "\n",
        "\n",
        "def train(args,\n",
        "          model,\n",
        "          train_dataset,\n",
        "          test_dataset=None):\n",
        "    train_sampler = RandomSampler(train_dataset)\n",
        "    train_dataloader = DataLoader(train_dataset, sampler=train_sampler, batch_size=args.train_batch_size)\n",
        "    full_text = pd.read_csv(os.path.join(args.data_dir, 'full_text.txt'), sep='\\t')\n",
        "    # full_text = pd.read_csv('train_n_full.txt', sep='\\t')\n",
        "    print(full_text)\n",
        "    if args.max_steps > 0:\n",
        "        t_total = args.max_steps\n",
        "        print()\n",
        "        print(t_total, len(train_dataloader), args.gradient_accumulation_steps)\n",
        "        print()\n",
        "        args.num_train_epochs = args.max_steps // (len(train_dataloader) // args.gradient_accumulation_steps) + 1\n",
        "    else:\n",
        "        t_total = len(train_dataloader) // args.gradient_accumulation_steps * args.num_train_epochs\n",
        "        print('max steps: ' + str(t_total), 'length of train data: ' + str(len(train_dataloader)),\n",
        "              args.gradient_accumulation_steps)\n",
        "    # Prepare optimizer and schedule (linear warmup and decay)\n",
        "    no_decay = ['bias', 'LayerNorm.weight']\n",
        "    optimizer_grouped_parameters = [\n",
        "        {'params': [p for n, p in model.named_parameters() if not any(nd in n for nd in no_decay)],\n",
        "         'weight_decay': args.weight_decay},\n",
        "        {'params': [p for n, p in model.named_parameters() if any(nd in n for nd in no_decay)], 'weight_decay': 0.0}\n",
        "    ]\n",
        "    optimizer = AdamW(optimizer_grouped_parameters, lr=args.learning_rate, eps=args.adam_epsilon)\n",
        "    scheduler = get_linear_schedule_with_warmup(optimizer, num_warmup_steps=int(t_total * args.warmup_proportion),\n",
        "                                                num_training_steps=t_total)\n",
        "\n",
        "    if os.path.isfile(os.path.join(args.model_name_or_path, \"optimizer.pt\")) and os.path.isfile(\n",
        "            os.path.join(args.model_name_or_path, \"scheduler.pt\")\n",
        "    ):\n",
        "        # Load optimizer and scheduler states\n",
        "        optimizer.load_state_dict(torch.load(os.path.join(args.model_name_or_path, \"optimizer.pt\")))\n",
        "        scheduler.load_state_dict(torch.load(os.path.join(args.model_name_or_path, \"scheduler.pt\")))\n",
        "\n",
        "    # Train!\n",
        "    logger.info(\"***** Running training *****\")\n",
        "    logger.info(\"  Num examples = %d\", len(train_dataset))\n",
        "    logger.info(\"  Num Epochs = %d\", args.num_train_epochs)\n",
        "    logger.info(\"  Total train batch size = %d\", args.train_batch_size)\n",
        "    logger.info(\"  Gradient Accumulation steps = %d\", args.gradient_accumulation_steps)\n",
        "    logger.info(\"  Total optimization steps = %d\", t_total)\n",
        "    logger.info(\"  Logging steps = %d\", args.logging_steps)\n",
        "    logger.info(\"  Save steps = %d\", args.save_steps)\n",
        "\n",
        "    global_step = 0\n",
        "    tr_loss = 0.0\n",
        "\n",
        "    model.zero_grad()\n",
        "    mb = master_bar(range(int(args.num_train_epochs)))\n",
        "    for epoch in tqdm(mb):\n",
        "        epoch_iterator = progress_bar(train_dataloader, parent=mb)\n",
        "\n",
        "        for step, batch in enumerate(epoch_iterator):\n",
        "            model.train()\n",
        "            batch = tuple(t.to(args.device) for t in batch)\n",
        "            inputs = {\n",
        "                \"input_ids\": batch[0],\n",
        "                \"attention_mask\": batch[1],\n",
        "                \"labels\": batch[3]\n",
        "            }\n",
        "\n",
        "            if args.model_type not in [\"distilkobert\", \"xlm-roberta\"]:\n",
        "                inputs[\"token_type_ids\"] = batch[2]  # Distilkobert, XLM-Roberta don't use segment_ids\n",
        "            outputs = model(**inputs)\n",
        "            loss = outputs[0]\n",
        "\n",
        "            if args.gradient_accumulation_steps > 1:\n",
        "                loss = loss / args.gradient_accumulation_steps\n",
        "\n",
        "            loss.backward()\n",
        "            tr_loss += loss.item()\n",
        "\n",
        "\n",
        "            if (step + 1) % args.gradient_accumulation_steps == 0 or (\n",
        "                    len(train_dataloader) <= args.gradient_accumulation_steps\n",
        "                    and (step + 1) == len(train_dataloader)\n",
        "            ):\n",
        "                torch.nn.utils.clip_grad_norm_(model.parameters(), args.max_grad_norm)\n",
        "\n",
        "                optimizer.step()\n",
        "                scheduler.step()\n",
        "                model.zero_grad()\n",
        "                global_step += 1\n",
        "\n",
        "\n",
        "                print(\"loss: \" + str(tr_loss / global_step))\n",
        "\n",
        "\n",
        "                if args.logging_steps > 0 and global_step % args.logging_steps == 0:\n",
        "                    if args.evaluate_test_during_training:\n",
        "                        evaluate(args, model, full_text, test_dataset, \"test\", global_step)\n",
        "\n",
        "                if args.save_steps > 0 and global_step % args.save_steps == 0:\n",
        "                    # Save model checkpoint\n",
        "                    output_dir = os.path.join(args.output_dir, \"checkpoint-{}\".format(global_step))\n",
        "                    if not os.path.exists(output_dir):\n",
        "                        os.makedirs(output_dir)\n",
        "                    model_to_save = (\n",
        "                        model.module if hasattr(model, \"module\") else model\n",
        "                    )\n",
        "                    model_to_save.save_pretrained(output_dir)\n",
        "\n",
        "                    torch.save(args, os.path.join(output_dir, \"training_args.bin\"))\n",
        "                    logger.info(\"Saving model checkpoint to {}\".format(output_dir))\n",
        "\n",
        "                    if args.save_optimizer:\n",
        "                        torch.save(optimizer.state_dict(), os.path.join(output_dir, \"optimizer.pt\"))\n",
        "                        torch.save(scheduler.state_dict(), os.path.join(output_dir, \"scheduler.pt\"))\n",
        "                        logger.info(\"Saving optimizer and scheduler states to {}\".format(output_dir))\n",
        "            if args.max_steps > 0 and global_step > args.max_steps:\n",
        "                break\n",
        "\n",
        "        mb.write(\"Epoch {} done\".format(epoch + 1))\n",
        "\n",
        "        if args.max_steps > 0 and global_step > args.max_steps:\n",
        "            break\n",
        "\n",
        "    return global_step, tr_loss / global_step, full_text"
      ],
      "execution_count": 29,
      "outputs": []
    },
    {
      "cell_type": "code",
      "metadata": {
        "id": "ghFXmNuqq7q7"
      },
      "source": [
        "def evaluate(args, model, full_text, eval_dataset, mode, global_step=None):\n",
        "    results = {}\n",
        "    eval_sampler = SequentialSampler(eval_dataset)\n",
        "    eval_dataloader = DataLoader(eval_dataset, sampler=eval_sampler, batch_size=args.eval_batch_size)\n",
        "\n",
        "    # Eval!\n",
        "    if global_step != None:\n",
        "        logger.info(\"***** Running evaluation on {} dataset ({} step) *****\".format(mode, global_step))\n",
        "    else:\n",
        "        logger.info(\"***** Running evaluation on {} dataset *****\".format(mode))\n",
        "    logger.info(\"  Num examples = {}\".format(len(eval_dataset)))\n",
        "    logger.info(\"  Eval Batch size = {}\".format(args.eval_batch_size))\n",
        "    eval_loss = 0.0\n",
        "    # nb_eval_steps = 0\n",
        "    preds = None\n",
        "    out_label_ids = None\n",
        "    out_input_ids = None\n",
        "\n",
        "    for batch in progress_bar(eval_dataloader):\n",
        "        model.eval()\n",
        "        batch = tuple(t.to(args.device) for t in batch)\n",
        "\n",
        "        with torch.no_grad():\n",
        "            inputs = {\n",
        "                \"input_ids\": batch[0],\n",
        "                \"attention_mask\": batch[1],\n",
        "                \"labels\": batch[3]\n",
        "            }\n",
        "\n",
        "            if args.model_type not in [\"distilkobert\", \"xlm-roberta\"]:\n",
        "                inputs[\"token_type_ids\"] = batch[2]  # Distilkobert, XLM-Roberta don't use segment_ids\n",
        "            outputs = model(**inputs)\n",
        "            tmp_eval_loss, logits = outputs[:2]\n",
        "\n",
        "            eval_loss += tmp_eval_loss.mean().item()\n",
        "        # nb_eval_steps += 1\n",
        "        if preds is None:\n",
        "            out_input_ids = inputs['input_ids'].detach().cpu().numpy()\n",
        "            preds = logits.detach().cpu().numpy()\n",
        "            out_label_ids = inputs[\"labels\"].detach().cpu().numpy()\n",
        "        else:\n",
        "            out_input_ids = np.append(out_input_ids, inputs['input_ids'].detach().cpu().numpy(), axis=0)\n",
        "            preds = np.append(preds, logits.detach().cpu().numpy(), axis=0)\n",
        "            out_label_ids = np.append(out_label_ids, inputs[\"labels\"].detach().cpu().numpy(), axis=0)\n",
        "\n",
        "        # 내가 수정한 부분\n",
        "\n",
        "    tokenizer = args.tokenizer.from_pretrained(\n",
        "        args.model_name_or_path,\n",
        "        do_lower_case=args.do_lower_case\n",
        "    )\n",
        "    # label_dict = {'칭찬': 0, '중립': 0.5, '불만': 1}\n",
        "    if args.task == 'classification':\n",
        "      label_dict = {'중립': 0, '상담원': 1, '상담시스템': 2, '혜택': 3, '할부금융상품': 4,\n",
        "                  '카드상품': 5, '청구입금': 6, '심사/한도': 7, '생활편의서비스': 8,\n",
        "                  '상담/채널': 9, '리스렌탈상품': 10, '라이프서비스': 11, '금융상품': 12,\n",
        "                  '고객정보관리': 13, '가맹점매출/승인': 14, '삼성카드': 15, '기타': 16}\n",
        "    else:\n",
        "      label_dict = {'칭찬': 0, '불만': 1}\n",
        "    label_dict = dict((v, k) for k, v in label_dict.items())\n",
        "    df_review = []\n",
        "    # temp_review = []\n",
        "    df_label = np.vectorize(label_dict.get)(out_label_ids)\n",
        "    df_prediction = np.vectorize(label_dict.get(np.argmax(preds)))\n",
        "    for i in range(len(out_input_ids)):\n",
        "        review_list = list(out_input_ids[i])\n",
        "\n",
        "\n",
        "        # temp_review.append(str(x) for x in out_input_ids[i])\n",
        "\n",
        "\n",
        "        while 0 in review_list:\n",
        "            review_list.remove(0)\n",
        "        del review_list[0]\n",
        "        del review_list[-1]\n",
        "        df_review.append(tokenizer.decode(review_list))\n",
        "        # print(review_list, label_dict[out_label_ids[i] - 1], label_dict[np.argmax(preds[i]) - 1])\n",
        "    df_data = {'Review': df_review, 'Label': df_label, 'Prediction': df_prediction}\n",
        "    df = pd.DataFrame(df_data)\n",
        "\n",
        "    df_train_data = {'Review': full_text['Review'], 'Label': full_text['Label']}\n",
        "    df_from_train = pd.DataFrame(df_train_data)\n",
        "    # Dodged Bar Chart (with same X coordinates side by side)\n",
        "\n",
        "    bar_width = 0.35\n",
        "    alpha = 0.5\n",
        "    label_lst = list(label_dict.values())\n",
        "    index = np.arange(len(label_lst))\n",
        "    count_list, cnt_pred, cnt_label = [0 for _ in range(len(label_dict))], \\\n",
        "                                    [0 for _ in range(len(label_dict))], [0 for _ in range(len(label_dict))]\n",
        "    count_labels = df_from_train.groupby('Label', as_index=False).Review.count()\n",
        "    acc_labels = df[df['Label'] == df['Prediction']].groupby('Label').Review.count()\n",
        "    viable_label = list(count_labels['Label'])\n",
        "    for i in range(len(viable_label)):\n",
        "        count_list[viable_label[i]] = count_labels['Review'][i]\n",
        "    for validation in range(len(out_label_ids)):\n",
        "        if out_label_ids[validation] == np.argmax(preds, axis=1)[validation]:\n",
        "            cnt_pred[out_label_ids[validation]] += 100\n",
        "        cnt_label[out_label_ids[validation]] += 1\n",
        "    for i in range(len(cnt_label)):\n",
        "        if cnt_label[i] == 0:\n",
        "            cnt_label[i] = 1\n",
        "    acc_tot = np.divide(cnt_pred, cnt_label)\n",
        "    acc_tot[np.isnan(acc_tot)] = 0\n",
        "    # print(count_list)\n",
        "    # print(acc_tot)\n",
        "    plt.figure(figsize=(15, 8))\n",
        "    plt.subplot(2, 1, 1)\n",
        "    plt.title('Bar Chart of Labels Count and Accuracy', fontsize=15)\n",
        "    clrs = ['r' if (x < 15) else 'b' for x in count_list]\n",
        "    p1 = plt.bar(index, count_list,\n",
        "                 bar_width,\n",
        "                 color=clrs,\n",
        "                 alpha=alpha,\n",
        "                 label='Count')\n",
        "    plt.ylabel('Count of Labels', fontsize=12)\n",
        "    plt.xticks([], [])\n",
        "    # plt.legend((p1[0],), ('Count',), fontsize=10)\n",
        "    plt.subplot(2, 1, 2)\n",
        "    p2 = plt.bar(index + bar_width, acc_tot,\n",
        "                 bar_width,\n",
        "                 color=clrs,\n",
        "                 alpha=alpha,\n",
        "                 label='Accuracy')\n",
        "    plt.gca().yaxis.set_major_formatter(mticker.PercentFormatter())\n",
        "    plt.ylabel('Accuracy by Labels', fontsize=12)\n",
        "    plt.xlabel('Label', fontsize=12)\n",
        "    plt.xticks(index, label_lst, fontsize=10, rotation=45)\n",
        "    # plt.legend((p2[0],), ('Accuracy',), fontsize=10)\n",
        "    plt.show()\n",
        "        # for i in range(len(out_label_ids)):\n",
        "        #     print(tokenizer.decode(out_ids[i]), out_label_ids[i], preds[i])\n",
        "        # print(type(out_label_ids), type(preds))\n",
        "        # print(out_label_ids, preds)\n",
        "        #\n",
        "\n",
        "    # eval_loss = eval_loss / nb_eval_steps\n",
        "    # if output_modes[args.task] == \"classification\":\n",
        "    preds_original = preds.copy()\n",
        "    preds = np.argmax(preds, axis=1)\n",
        "    # elif output_modes[args.task] == \"regression\":\n",
        "    #     preds = np.squeeze(preds)\n",
        "    result = compute_metrics(out_label_ids, preds)\n",
        "\n",
        "    # 틀린 항목 정리\n",
        "    check_right = out_label_ids == preds\n",
        "    df = pd.DataFrame(columns=['Review', 'Label', 'Prediction', 'Softmax'])\n",
        "    for check_result in range(len(check_right)):\n",
        "        if not check_right[check_result]:\n",
        "            review_list = list(out_input_ids[check_result])\n",
        "            while 0 in review_list:\n",
        "                review_list.remove(0)\n",
        "            del review_list[0]\n",
        "            del review_list[-1]\n",
        "            df = df.append({'Review': tokenizer.decode(review_list), \n",
        "                           'Label': label_dict[out_label_ids[check_result]], \n",
        "                           'Prediction': label_dict[preds[check_result]],\n",
        "                           'Softmax': preds_original[check_result]},\n",
        "                           ignore_index=True\n",
        "                           )\n",
        "    \n",
        "    print(df.head())\n",
        "    df.to_csv(r'analysis_ckpt_{}_{}.csv'.format(args.task, global_step), header=None, index=None, sep='\\t', mode='a')\n",
        "            # print(tokenizer.decode(review_list), 'Label: ' + str(label_dict[out_label_ids[check_result]]) + ' Prediction: ' + str(\n",
        "            #     label_dict[preds[check_result]]))\n",
        "\n",
        "\n",
        "    # numpy_data = np.array(out_label_ids, preds)\n",
        "    # df = pd.DataFrame(data=numpy_data, index=[\"row1\", \"row2\"], columns=[\"column1\", \"column2\"])\n",
        "    print(result)\n",
        "    results.update(result)\n",
        "    output_dir = os.path.join(args.output_dir, mode)\n",
        "    if not os.path.exists(output_dir):\n",
        "        os.makedirs(output_dir)\n",
        "    output_eval_file = os.path.join(output_dir,\n",
        "                                    \"{}-{}.txt\".format(mode, global_step) if global_step else \"{}.txt\".format(mode))\n",
        "    with open(output_eval_file, \"w\") as f_w:\n",
        "        logger.info(\"***** Eval results on {} dataset *****\".format(mode))\n",
        "        for key in sorted(results.keys()):\n",
        "            logger.info(\"  {} = {}\".format(key, str(results[key])))\n",
        "            f_w.write(\"  {} = {}\\n\".format(key, str(results[key])))\n",
        "\n",
        "    return results\n",
        "\n",
        "def compute_metrics(labels, preds):\n",
        "    assert len(preds) == len(labels)\n",
        "    return {\"acc\": (labels == preds).mean()}"
      ],
      "execution_count": 30,
      "outputs": []
    },
    {
      "cell_type": "code",
      "metadata": {
        "id": "DyPH-5ErasPI",
        "colab": {
          "base_uri": "https://localhost:8080/"
        },
        "outputId": "c4472890-4291-4d03-f4d3-86429993dd2d"
      },
      "source": [
        "train_dataset = load_and_cache_examples(args, tokenizer, mode=\"train\")\n",
        "test_dataset = load_and_cache_examples(args, tokenizer, mode=\"test\")"
      ],
      "execution_count": 31,
      "outputs": [
        {
          "output_type": "stream",
          "text": [
            "08/11/2021 19:50:35 - INFO - __main__ -   Creating features from dataset file at data/sentiment\n",
            "08/11/2021 19:50:35 - INFO - __main__ -   LOOKING AT data/sentiment/train_cls.txt\n",
            "08/11/2021 19:50:35 - INFO - __main__ -   ['매우 만족합니다  감사합니다  ', '0']\n",
            "08/11/2021 19:50:35 - INFO - __main__ -   Using label list ['0', '1']\n",
            "08/11/2021 19:50:35 - INFO - __main__ -   Using output mode sentiment\n",
            "08/11/2021 19:50:37 - INFO - __main__ -   *** Example ***\n",
            "08/11/2021 19:50:37 - INFO - __main__ -   guid: train-0\n",
            "08/11/2021 19:50:37 - INFO - __main__ -   input_ids: 2 6669 7538 17788 6851 17788 3 0 0 0 0 0 0 0 0 0 0 0 0 0 0 0 0 0 0 0 0 0 0 0 0 0 0 0 0 0 0 0 0 0 0 0 0 0 0 0 0 0 0 0 0 0 0 0 0 0 0 0 0 0 0 0 0 0\n",
            "08/11/2021 19:50:37 - INFO - __main__ -   attention_mask: 1 1 1 1 1 1 1 0 0 0 0 0 0 0 0 0 0 0 0 0 0 0 0 0 0 0 0 0 0 0 0 0 0 0 0 0 0 0 0 0 0 0 0 0 0 0 0 0 0 0 0 0 0 0 0 0 0 0 0 0 0 0 0 0\n",
            "08/11/2021 19:50:37 - INFO - __main__ -   token_type_ids: 0 0 0 0 0 0 0 0 0 0 0 0 0 0 0 0 0 0 0 0 0 0 0 0 0 0 0 0 0 0 0 0 0 0 0 0 0 0 0 0 0 0 0 0 0 0 0 0 0 0 0 0 0 0 0 0 0 0 0 0 0 0 0 0\n",
            "08/11/2021 19:50:37 - INFO - __main__ -   label: 0\n",
            "08/11/2021 19:50:37 - INFO - __main__ -   *** Example ***\n",
            "08/11/2021 19:50:37 - INFO - __main__ -   guid: train-1\n",
            "08/11/2021 19:50:37 - INFO - __main__ -   input_ids: 2 29874 7864 4067 4660 4112 2024 4112 7039 8532 6895 3249 4325 8610 4151 4076 25023 11029 4247 6383 4292 3258 4151 4076 4547 4129 6480 4047 6988 2422 3330 6747 6272 4181 32920 4181 6988 4172 3063 4219 3018 4116 4150 3 0 0 0 0 0 0 0 0 0 0 0 0 0 0 0 0 0 0 0 0\n",
            "08/11/2021 19:50:37 - INFO - __main__ -   attention_mask: 1 1 1 1 1 1 1 1 1 1 1 1 1 1 1 1 1 1 1 1 1 1 1 1 1 1 1 1 1 1 1 1 1 1 1 1 1 1 1 1 1 1 1 1 0 0 0 0 0 0 0 0 0 0 0 0 0 0 0 0 0 0 0 0\n",
            "08/11/2021 19:50:37 - INFO - __main__ -   token_type_ids: 0 0 0 0 0 0 0 0 0 0 0 0 0 0 0 0 0 0 0 0 0 0 0 0 0 0 0 0 0 0 0 0 0 0 0 0 0 0 0 0 0 0 0 0 0 0 0 0 0 0 0 0 0 0 0 0 0 0 0 0 0 0 0 0\n",
            "08/11/2021 19:50:37 - INFO - __main__ -   label: 0\n",
            "08/11/2021 19:50:37 - INFO - __main__ -   *** Example ***\n",
            "08/11/2021 19:50:37 - INFO - __main__ -   guid: train-2\n",
            "08/11/2021 19:50:37 - INFO - __main__ -   input_ids: 2 14573 4279 22078 3 0 0 0 0 0 0 0 0 0 0 0 0 0 0 0 0 0 0 0 0 0 0 0 0 0 0 0 0 0 0 0 0 0 0 0 0 0 0 0 0 0 0 0 0 0 0 0 0 0 0 0 0 0 0 0 0 0 0 0\n",
            "08/11/2021 19:50:37 - INFO - __main__ -   attention_mask: 1 1 1 1 1 0 0 0 0 0 0 0 0 0 0 0 0 0 0 0 0 0 0 0 0 0 0 0 0 0 0 0 0 0 0 0 0 0 0 0 0 0 0 0 0 0 0 0 0 0 0 0 0 0 0 0 0 0 0 0 0 0 0 0\n",
            "08/11/2021 19:50:37 - INFO - __main__ -   token_type_ids: 0 0 0 0 0 0 0 0 0 0 0 0 0 0 0 0 0 0 0 0 0 0 0 0 0 0 0 0 0 0 0 0 0 0 0 0 0 0 0 0 0 0 0 0 0 0 0 0 0 0 0 0 0 0 0 0 0 0 0 0 0 0 0 0\n",
            "08/11/2021 19:50:37 - INFO - __main__ -   label: 0\n",
            "08/11/2021 19:50:37 - INFO - __main__ -   *** Example ***\n",
            "08/11/2021 19:50:37 - INFO - __main__ -   guid: train-3\n",
            "08/11/2021 19:50:37 - INFO - __main__ -   input_ids: 2 6854 6557 4737 7933 6851 17788 3 0 0 0 0 0 0 0 0 0 0 0 0 0 0 0 0 0 0 0 0 0 0 0 0 0 0 0 0 0 0 0 0 0 0 0 0 0 0 0 0 0 0 0 0 0 0 0 0 0 0 0 0 0 0 0 0\n",
            "08/11/2021 19:50:37 - INFO - __main__ -   attention_mask: 1 1 1 1 1 1 1 1 0 0 0 0 0 0 0 0 0 0 0 0 0 0 0 0 0 0 0 0 0 0 0 0 0 0 0 0 0 0 0 0 0 0 0 0 0 0 0 0 0 0 0 0 0 0 0 0 0 0 0 0 0 0 0 0\n",
            "08/11/2021 19:50:37 - INFO - __main__ -   token_type_ids: 0 0 0 0 0 0 0 0 0 0 0 0 0 0 0 0 0 0 0 0 0 0 0 0 0 0 0 0 0 0 0 0 0 0 0 0 0 0 0 0 0 0 0 0 0 0 0 0 0 0 0 0 0 0 0 0 0 0 0 0 0 0 0 0\n",
            "08/11/2021 19:50:37 - INFO - __main__ -   label: 0\n",
            "08/11/2021 19:50:37 - INFO - __main__ -   *** Example ***\n",
            "08/11/2021 19:50:37 - INFO - __main__ -   guid: train-4\n",
            "08/11/2021 19:50:37 - INFO - __main__ -   input_ids: 2 11029 4279 4325 8098 29556 6851 4023 4228 4150 3 0 0 0 0 0 0 0 0 0 0 0 0 0 0 0 0 0 0 0 0 0 0 0 0 0 0 0 0 0 0 0 0 0 0 0 0 0 0 0 0 0 0 0 0 0 0 0 0 0 0 0 0 0\n",
            "08/11/2021 19:50:37 - INFO - __main__ -   attention_mask: 1 1 1 1 1 1 1 1 1 1 1 0 0 0 0 0 0 0 0 0 0 0 0 0 0 0 0 0 0 0 0 0 0 0 0 0 0 0 0 0 0 0 0 0 0 0 0 0 0 0 0 0 0 0 0 0 0 0 0 0 0 0 0 0\n",
            "08/11/2021 19:50:37 - INFO - __main__ -   token_type_ids: 0 0 0 0 0 0 0 0 0 0 0 0 0 0 0 0 0 0 0 0 0 0 0 0 0 0 0 0 0 0 0 0 0 0 0 0 0 0 0 0 0 0 0 0 0 0 0 0 0 0 0 0 0 0 0 0 0 0 0 0 0 0 0 0\n",
            "08/11/2021 19:50:37 - INFO - __main__ -   label: 0\n",
            "08/11/2021 19:50:37 - INFO - __main__ -   Saving features into cached file data/sentiment/cached_sentiment_koelectra-base-v3-discriminator_64_train\n",
            "08/11/2021 19:50:38 - INFO - __main__ -   Creating features from dataset file at data/sentiment\n",
            "08/11/2021 19:50:38 - INFO - __main__ -   LOOKING AT data/sentiment/evaluation_cls.txt\n",
            "08/11/2021 19:50:38 - INFO - __main__ -   ['직원 응대 친절하고  신속 정확합니다 고맙습니다 ', '0']\n",
            "08/11/2021 19:50:38 - INFO - __main__ -   Using label list ['0', '1']\n",
            "08/11/2021 19:50:38 - INFO - __main__ -   Using output mode sentiment\n",
            "08/11/2021 19:50:39 - INFO - __main__ -   *** Example ***\n",
            "08/11/2021 19:50:39 - INFO - __main__ -   guid: test-0\n",
            "08/11/2021 19:50:39 - INFO - __main__ -   input_ids: 2 6675 29556 11029 4279 4219 9418 7103 17788 11418 4576 6216 3 0 0 0 0 0 0 0 0 0 0 0 0 0 0 0 0 0 0 0 0 0 0 0 0 0 0 0 0 0 0 0 0 0 0 0 0 0 0 0 0 0 0 0 0 0 0 0 0 0 0 0\n",
            "08/11/2021 19:50:39 - INFO - __main__ -   attention_mask: 1 1 1 1 1 1 1 1 1 1 1 1 1 0 0 0 0 0 0 0 0 0 0 0 0 0 0 0 0 0 0 0 0 0 0 0 0 0 0 0 0 0 0 0 0 0 0 0 0 0 0 0 0 0 0 0 0 0 0 0 0 0 0 0\n",
            "08/11/2021 19:50:39 - INFO - __main__ -   token_type_ids: 0 0 0 0 0 0 0 0 0 0 0 0 0 0 0 0 0 0 0 0 0 0 0 0 0 0 0 0 0 0 0 0 0 0 0 0 0 0 0 0 0 0 0 0 0 0 0 0 0 0 0 0 0 0 0 0 0 0 0 0 0 0 0 0\n",
            "08/11/2021 19:50:39 - INFO - __main__ -   label: 0\n",
            "08/11/2021 19:50:39 - INFO - __main__ -   *** Example ***\n",
            "08/11/2021 19:50:39 - INFO - __main__ -   guid: test-1\n",
            "08/11/2021 19:50:39 - INFO - __main__ -   input_ids: 2 11029 4283 7864 6851 17788 3 0 0 0 0 0 0 0 0 0 0 0 0 0 0 0 0 0 0 0 0 0 0 0 0 0 0 0 0 0 0 0 0 0 0 0 0 0 0 0 0 0 0 0 0 0 0 0 0 0 0 0 0 0 0 0 0 0\n",
            "08/11/2021 19:50:39 - INFO - __main__ -   attention_mask: 1 1 1 1 1 1 1 0 0 0 0 0 0 0 0 0 0 0 0 0 0 0 0 0 0 0 0 0 0 0 0 0 0 0 0 0 0 0 0 0 0 0 0 0 0 0 0 0 0 0 0 0 0 0 0 0 0 0 0 0 0 0 0 0\n",
            "08/11/2021 19:50:39 - INFO - __main__ -   token_type_ids: 0 0 0 0 0 0 0 0 0 0 0 0 0 0 0 0 0 0 0 0 0 0 0 0 0 0 0 0 0 0 0 0 0 0 0 0 0 0 0 0 0 0 0 0 0 0 0 0 0 0 0 0 0 0 0 0 0 0 0 0 0 0 0 0\n",
            "08/11/2021 19:50:39 - INFO - __main__ -   label: 0\n",
            "08/11/2021 19:50:39 - INFO - __main__ -   *** Example ***\n",
            "08/11/2021 19:50:39 - INFO - __main__ -   guid: test-2\n",
            "08/11/2021 19:50:39 - INFO - __main__ -   input_ids: 2 3258 4279 4219 3249 4311 3 0 0 0 0 0 0 0 0 0 0 0 0 0 0 0 0 0 0 0 0 0 0 0 0 0 0 0 0 0 0 0 0 0 0 0 0 0 0 0 0 0 0 0 0 0 0 0 0 0 0 0 0 0 0 0 0 0\n",
            "08/11/2021 19:50:39 - INFO - __main__ -   attention_mask: 1 1 1 1 1 1 1 0 0 0 0 0 0 0 0 0 0 0 0 0 0 0 0 0 0 0 0 0 0 0 0 0 0 0 0 0 0 0 0 0 0 0 0 0 0 0 0 0 0 0 0 0 0 0 0 0 0 0 0 0 0 0 0 0\n",
            "08/11/2021 19:50:39 - INFO - __main__ -   token_type_ids: 0 0 0 0 0 0 0 0 0 0 0 0 0 0 0 0 0 0 0 0 0 0 0 0 0 0 0 0 0 0 0 0 0 0 0 0 0 0 0 0 0 0 0 0 0 0 0 0 0 0 0 0 0 0 0 0 0 0 0 0 0 0 0 0\n",
            "08/11/2021 19:50:39 - INFO - __main__ -   label: 0\n",
            "08/11/2021 19:50:39 - INFO - __main__ -   *** Example ***\n",
            "08/11/2021 19:50:39 - INFO - __main__ -   guid: test-3\n",
            "08/11/2021 19:50:39 - INFO - __main__ -   input_ids: 2 11029 4283 6383 11029 4283 27884 3 0 0 0 0 0 0 0 0 0 0 0 0 0 0 0 0 0 0 0 0 0 0 0 0 0 0 0 0 0 0 0 0 0 0 0 0 0 0 0 0 0 0 0 0 0 0 0 0 0 0 0 0 0 0 0 0\n",
            "08/11/2021 19:50:39 - INFO - __main__ -   attention_mask: 1 1 1 1 1 1 1 1 0 0 0 0 0 0 0 0 0 0 0 0 0 0 0 0 0 0 0 0 0 0 0 0 0 0 0 0 0 0 0 0 0 0 0 0 0 0 0 0 0 0 0 0 0 0 0 0 0 0 0 0 0 0 0 0\n",
            "08/11/2021 19:50:39 - INFO - __main__ -   token_type_ids: 0 0 0 0 0 0 0 0 0 0 0 0 0 0 0 0 0 0 0 0 0 0 0 0 0 0 0 0 0 0 0 0 0 0 0 0 0 0 0 0 0 0 0 0 0 0 0 0 0 0 0 0 0 0 0 0 0 0 0 0 0 0 0 0\n",
            "08/11/2021 19:50:39 - INFO - __main__ -   label: 0\n",
            "08/11/2021 19:50:39 - INFO - __main__ -   *** Example ***\n",
            "08/11/2021 19:50:39 - INFO - __main__ -   guid: test-4\n",
            "08/11/2021 19:50:39 - INFO - __main__ -   input_ids: 2 7695 4219 11029 4283 8610 6851 17788 3 0 0 0 0 0 0 0 0 0 0 0 0 0 0 0 0 0 0 0 0 0 0 0 0 0 0 0 0 0 0 0 0 0 0 0 0 0 0 0 0 0 0 0 0 0 0 0 0 0 0 0 0 0 0 0\n",
            "08/11/2021 19:50:39 - INFO - __main__ -   attention_mask: 1 1 1 1 1 1 1 1 1 0 0 0 0 0 0 0 0 0 0 0 0 0 0 0 0 0 0 0 0 0 0 0 0 0 0 0 0 0 0 0 0 0 0 0 0 0 0 0 0 0 0 0 0 0 0 0 0 0 0 0 0 0 0 0\n",
            "08/11/2021 19:50:39 - INFO - __main__ -   token_type_ids: 0 0 0 0 0 0 0 0 0 0 0 0 0 0 0 0 0 0 0 0 0 0 0 0 0 0 0 0 0 0 0 0 0 0 0 0 0 0 0 0 0 0 0 0 0 0 0 0 0 0 0 0 0 0 0 0 0 0 0 0 0 0 0 0\n",
            "08/11/2021 19:50:39 - INFO - __main__ -   label: 0\n",
            "08/11/2021 19:50:39 - INFO - __main__ -   Saving features into cached file data/sentiment/cached_sentiment_koelectra-base-v3-discriminator_64_test\n"
          ],
          "name": "stderr"
        }
      ]
    },
    {
      "cell_type": "code",
      "metadata": {
        "id": "izxQ2yD-kN-H",
        "colab": {
          "base_uri": "https://localhost:8080/",
          "height": 1000,
          "referenced_widgets": [
            "4c5c913e92ab449aa13f7f0b61d0724f",
            "91901217b9d642a2abb4680db0987570",
            "36b99737388c48538968ab3fe3c2a235",
            "521bd8a296174db48f3f03bccb046934",
            "24827e16ee75418b90f285f2bc466dea",
            "b8e953092ccb4976bbcfca800966d9ec",
            "f788ddcb61cb4dd0b7d10d33f2b1c8ce",
            "8b6c05697b8b4994a62ba2950025301c"
          ]
        },
        "outputId": "e376e64a-7488-4290-841e-49c4d1aa4b0f"
      },
      "source": [
        "import numpy as np\n",
        "import pandas as pd\n",
        "from torch.utils.data import DataLoader, RandomSampler, SequentialSampler\n",
        "from fastprogress.fastprogress import master_bar, progress_bar\n",
        "\n",
        "# GPU or CPU\n",
        "args.device = \"cuda\" if torch.cuda.is_available() and not args.no_cuda else \"cpu\"\n",
        "model.to(args.device)\n",
        "\n",
        "# Train\n",
        "\n",
        "global_step, tr_loss, full_text = train(args, model, train_dataset, test_dataset)\n",
        "logger.info(\" global_step = {}, average loss = {}\".format(global_step, tr_loss))"
      ],
      "execution_count": 32,
      "outputs": [
        {
          "output_type": "stream",
          "text": [
            "08/11/2021 19:50:40 - INFO - __main__ -   ***** Running training *****\n",
            "08/11/2021 19:50:40 - INFO - __main__ -     Num examples = 7943\n",
            "08/11/2021 19:50:40 - INFO - __main__ -     Num Epochs = 20\n",
            "08/11/2021 19:50:40 - INFO - __main__ -     Total train batch size = 128\n",
            "08/11/2021 19:50:40 - INFO - __main__ -     Gradient Accumulation steps = 1\n",
            "08/11/2021 19:50:40 - INFO - __main__ -     Total optimization steps = 1260\n",
            "08/11/2021 19:50:40 - INFO - __main__ -     Logging steps = 63\n",
            "08/11/2021 19:50:40 - INFO - __main__ -     Save steps = 63\n"
          ],
          "name": "stderr"
        },
        {
          "output_type": "stream",
          "text": [
            "                                                 Review  Label\n",
            "0                                     매우 만족합니다  감사합니다        0\n",
            "1     롯데카드 상담사님은 같은 질문에도 성의 있게 답변해주시고 친절히 설명을 잘해주셔서 ...      0\n",
            "2                                               수고하십니다       0\n",
            "3                                       아주  최고였어요 감사합니다      0\n",
            "4                                      친절하게 빠른 응대 감사드려요      0\n",
            "...                                                 ...    ...\n",
            "9925                                 이중 출금 안 되게 할 순 없나요      1\n",
            "9926                                      좀 더 친절했으면 좋겠음      1\n",
            "9927                                          상담이 불친절하다      1\n",
            "9928                                     청구서 가 너무 늦지 도착      1\n",
            "9929     전화연결을  하연 앱으로 넘어가는 것이 매우 불편하다 여러 번  전화를  하게 된다      1\n",
            "\n",
            "[9930 rows x 2 columns]\n",
            "max steps: 1260 length of train data: 63 1\n"
          ],
          "name": "stdout"
        },
        {
          "output_type": "display_data",
          "data": {
            "application/vnd.jupyter.widget-view+json": {
              "model_id": "4c5c913e92ab449aa13f7f0b61d0724f",
              "version_minor": 0,
              "version_major": 2
            },
            "text/plain": [
              "HBox(children=(FloatProgress(value=1.0, bar_style='info', max=1.0), HTML(value='')))"
            ]
          },
          "metadata": {
            "tags": []
          }
        },
        {
          "output_type": "display_data",
          "data": {
            "text/html": [
              "Epoch 1 done<p>Epoch 2 done<p>Epoch 3 done<p>Epoch 4 done<p>Epoch 5 done<p>Epoch 6 done<p>Epoch 7 done<p>Epoch 8 done<p>Epoch 9 done<p>Epoch 10 done<p>Epoch 11 done<p>Epoch 12 done<p>Epoch 13 done<p>Epoch 14 done<p>Epoch 15 done<p>Epoch 16 done<p>Epoch 17 done<p>Epoch 18 done<p>Epoch 19 done<p>Epoch 20 done"
            ],
            "text/plain": [
              "<IPython.core.display.HTML object>"
            ]
          },
          "metadata": {
            "tags": []
          }
        },
        {
          "output_type": "stream",
          "text": [
            "loss: 0.6918984055519104\n",
            "loss: 0.6858837008476257\n",
            "loss: 0.68586798508962\n",
            "loss: 0.6859230548143387\n",
            "loss: 0.6851084113121033\n",
            "loss: 0.6845901310443878\n",
            "loss: 0.6841581378664289\n",
            "loss: 0.6837301850318909\n",
            "loss: 0.6828655401865641\n",
            "loss: 0.6811563432216644\n",
            "loss: 0.680614866993644\n",
            "loss: 0.6793383359909058\n",
            "loss: 0.6779740131818331\n",
            "loss: 0.6763556855065482\n",
            "loss: 0.675208854675293\n",
            "loss: 0.6740770228207111\n",
            "loss: 0.6721505838281968\n",
            "loss: 0.6707414521111382\n",
            "loss: 0.6689620268972296\n",
            "loss: 0.6678015112876892\n",
            "loss: 0.6663918268112909\n",
            "loss: 0.6653238832950592\n",
            "loss: 0.6634016944014508\n",
            "loss: 0.6617248679200808\n",
            "loss: 0.6601151299476623\n",
            "loss: 0.6586761520459101\n",
            "loss: 0.6568437880939908\n",
            "loss: 0.6548589042254856\n",
            "loss: 0.6527174074074318\n",
            "loss: 0.6511004090309143\n",
            "loss: 0.6491196001729658\n",
            "loss: 0.6471333652734756\n",
            "loss: 0.645444393157959\n",
            "loss: 0.6436226052396438\n",
            "loss: 0.6415411727769035\n",
            "loss: 0.639280155301094\n",
            "loss: 0.6376462917070131\n",
            "loss: 0.6356765596490157\n",
            "loss: 0.6330600059949435\n",
            "loss: 0.6309093415737153\n",
            "loss: 0.6289057571713518\n",
            "loss: 0.6268023862725213\n",
            "loss: 0.6247628331184387\n",
            "loss: 0.6226431551304731\n",
            "loss: 0.6204866316583422\n",
            "loss: 0.6183634218962296\n",
            "loss: 0.616229532880986\n",
            "loss: 0.613853911558787\n",
            "loss: 0.6113245839975319\n",
            "loss: 0.6094882929325104\n",
            "loss: 0.6078143423678828\n",
            "loss: 0.605426953962216\n",
            "loss: 0.6029735752996409\n",
            "loss: 0.6006190815457592\n",
            "loss: 0.5985664183443243\n",
            "loss: 0.5963733914707389\n",
            "loss: 0.594365236006285\n",
            "loss: 0.5923545545545118\n",
            "loss: 0.5896626155255205\n",
            "loss: 0.5871859192848206\n",
            "loss: 0.5848588425605024\n",
            "loss: 0.5826237889066819\n"
          ],
          "name": "stdout"
        },
        {
          "output_type": "stream",
          "text": [
            "08/11/2021 19:51:56 - INFO - __main__ -   ***** Running evaluation on test dataset (63 step) *****\n",
            "08/11/2021 19:51:56 - INFO - __main__ -     Num examples = 1987\n",
            "08/11/2021 19:51:56 - INFO - __main__ -     Eval Batch size = 128\n"
          ],
          "name": "stderr"
        },
        {
          "output_type": "stream",
          "text": [
            "loss: 0.5825208723545074\n"
          ],
          "name": "stdout"
        },
        {
          "output_type": "display_data",
          "data": {
            "text/html": [
              "\n",
              "    <div>\n",
              "        <style>\n",
              "            /* Turns off some styling */\n",
              "            progress {\n",
              "                /* gets rid of default border in Firefox and Opera. */\n",
              "                border: none;\n",
              "                /* Needs to be in here for Safari polyfill so background images work as expected. */\n",
              "                background-size: auto;\n",
              "            }\n",
              "            .progress-bar-interrupted, .progress-bar-interrupted::-webkit-progress-bar {\n",
              "                background: #F44336;\n",
              "            }\n",
              "        </style>\n",
              "      <progress value='16' class='' max='16' style='width:300px; height:20px; vertical-align: middle;'></progress>\n",
              "      100.00% [16/16 00:06<00:00]\n",
              "    </div>\n",
              "    "
            ],
            "text/plain": [
              "<IPython.core.display.HTML object>"
            ]
          },
          "metadata": {
            "tags": []
          }
        },
        {
          "output_type": "display_data",
          "data": {
            "image/png": "[encoded data removed]",
            "text/plain": [
              "<Figure size 1080x576 with 2 Axes>"
            ]
          },
          "metadata": {
            "tags": [],
            "needs_background": "light"
          }
        },
        {
          "output_type": "stream",
          "text": [
            "08/11/2021 19:52:06 - INFO - __main__ -   ***** Eval results on test dataset *****\n",
            "08/11/2021 19:52:06 - INFO - __main__ -     acc = 0.9315551082033215\n"
          ],
          "name": "stderr"
        },
        {
          "output_type": "stream",
          "text": [
            "                                       Review  ...                    Softmax\n",
            "0                       상담 대기 시간이 길지 않아 좋았습니다  ...     [-0.1782206, 0.046329]\n",
            "1  수시로 6개월 무이자 할부와 링크 혜택이 다른 카드와 구별되는 기능이 편리함  ...   [-0.54055625, 0.3423603]\n",
            "2                                        불편하다  ...   [0.4694309, -0.31561923]\n",
            "3                                      경청해주세요  ...    [0.5395025, -0.3576957]\n",
            "4                                          실망  ...  [0.39695704, -0.28108317]\n",
            "\n",
            "[5 rows x 4 columns]\n",
            "{'acc': 0.9315551082033215}\n"
          ],
          "name": "stdout"
        },
        {
          "output_type": "stream",
          "text": [
            "08/11/2021 19:52:08 - INFO - __main__ -   Saving model checkpoint to sentiment_checkpoints/checkpoint-63\n"
          ],
          "name": "stderr"
        },
        {
          "output_type": "stream",
          "text": [
            "loss: 0.5805579838342965\n",
            "loss: 0.5784335044714121\n",
            "loss: 0.5756783693125753\n",
            "loss: 0.5734128133574529\n",
            "loss: 0.570810475770165\n",
            "loss: 0.5679864300333936\n",
            "loss: 0.565508810537202\n",
            "loss: 0.5629486382847101\n",
            "loss: 0.5603040150470204\n",
            "loss: 0.5578378741055319\n",
            "loss: 0.5554525191719467\n",
            "loss: 0.553163378238678\n",
            "loss: 0.5508394656996978\n",
            "loss: 0.5483439878209845\n",
            "loss: 0.545783166319896\n",
            "loss: 0.5435521651672411\n",
            "loss: 0.5410961631685496\n",
            "loss: 0.5389366341225895\n",
            "loss: 0.5366079814550353\n",
            "loss: 0.5339892255254539\n",
            "loss: 0.5313596306812196\n",
            "loss: 0.528930404957603\n",
            "loss: 0.526411491771077\n",
            "loss: 0.5241615189903084\n",
            "loss: 0.5219332914460789\n",
            "loss: 0.5194856464193108\n",
            "loss: 0.5172418240043852\n",
            "loss: 0.5148725034771385\n",
            "loss: 0.5122346803545952\n",
            "loss: 0.5096919575045186\n",
            "loss: 0.5073892581970134\n",
            "loss: 0.5047877873245038\n",
            "loss: 0.5022247607509295\n",
            "loss: 0.49975573524986344\n",
            "loss: 0.4978565534158629\n",
            "loss: 0.49559921357366776\n",
            "loss: 0.4933988383412361\n",
            "loss: 0.4914276986429007\n",
            "loss: 0.48906463501500147\n",
            "loss: 0.4867148630827376\n",
            "loss: 0.48451152128668934\n",
            "loss: 0.48243439225923446\n",
            "loss: 0.4800580900232747\n",
            "loss: 0.478070585805679\n",
            "loss: 0.4759337391566347\n",
            "loss: 0.47368450462818146\n",
            "loss: 0.47153903259472413\n",
            "loss: 0.4692902958339399\n",
            "loss: 0.4670358904238258\n",
            "loss: 0.4648987049550082\n",
            "loss: 0.46280366326110406\n",
            "loss: 0.46110240026660587\n",
            "loss: 0.459092156383498\n",
            "loss: 0.4570713303028009\n",
            "loss: 0.4549656682095285\n",
            "loss: 0.4529795878324188\n",
            "loss: 0.45105288214981554\n",
            "loss: 0.4491107380094607\n",
            "loss: 0.4470135972636645\n",
            "loss: 0.44484794757715085\n",
            "loss: 0.4429324383456861\n",
            "loss: 0.4408637993335724\n"
          ],
          "name": "stdout"
        },
        {
          "output_type": "stream",
          "text": [
            "08/11/2021 19:53:25 - INFO - __main__ -   ***** Running evaluation on test dataset (126 step) *****\n",
            "08/11/2021 19:53:25 - INFO - __main__ -     Num examples = 1987\n",
            "08/11/2021 19:53:25 - INFO - __main__ -     Eval Batch size = 128\n"
          ],
          "name": "stderr"
        },
        {
          "output_type": "stream",
          "text": [
            "loss: 0.4399889449751566\n"
          ],
          "name": "stdout"
        },
        {
          "output_type": "display_data",
          "data": {
            "text/html": [
              "\n",
              "    <div>\n",
              "        <style>\n",
              "            /* Turns off some styling */\n",
              "            progress {\n",
              "                /* gets rid of default border in Firefox and Opera. */\n",
              "                border: none;\n",
              "                /* Needs to be in here for Safari polyfill so background images work as expected. */\n",
              "                background-size: auto;\n",
              "            }\n",
              "            .progress-bar-interrupted, .progress-bar-interrupted::-webkit-progress-bar {\n",
              "                background: #F44336;\n",
              "            }\n",
              "        </style>\n",
              "      <progress value='16' class='' max='16' style='width:300px; height:20px; vertical-align: middle;'></progress>\n",
              "      100.00% [16/16 00:06<00:00]\n",
              "    </div>\n",
              "    "
            ],
            "text/plain": [
              "<IPython.core.display.HTML object>"
            ]
          },
          "metadata": {
            "tags": []
          }
        },
        {
          "output_type": "display_data",
          "data": {
            "image/png": "[encoded data removed]",
            "text/plain": [
              "<Figure size 1080x576 with 2 Axes>"
            ]
          },
          "metadata": {
            "tags": [],
            "needs_background": "light"
          }
        },
        {
          "output_type": "stream",
          "text": [
            "08/11/2021 19:53:35 - INFO - __main__ -   ***** Eval results on test dataset *****\n",
            "08/11/2021 19:53:35 - INFO - __main__ -     acc = 0.9693004529441369\n"
          ],
          "name": "stderr"
        },
        {
          "output_type": "stream",
          "text": [
            "                                              Review  ...                    Softmax\n",
            "0         수시로 6개월 무이자 할부와 링크 혜택이 다른 카드와 구별되는 기능이 편리함  ...   [-0.7596847, 0.48260427]\n",
            "1                                             경청해주세요  ...  [0.39111328, -0.34469205]\n",
            "2                                                 실망  ...   [0.4262874, -0.40569994]\n",
            "3  조금 전 상담원과의 통화대기는 길지 않았으나 다른 때 상담원과 통화 연결까지의 시간...  ...    [-1.2331587, 0.8405062]\n",
            "4  내가 우긴 것도 아닌데 상대 얘기를 끝까지 들어주었으면 싶더군요 타 카드사 얘기에요...  ...     [-1.109798, 0.7413867]\n",
            "\n",
            "[5 rows x 4 columns]\n",
            "{'acc': 0.9693004529441369}\n"
          ],
          "name": "stdout"
        },
        {
          "output_type": "stream",
          "text": [
            "08/11/2021 19:53:37 - INFO - __main__ -   Saving model checkpoint to sentiment_checkpoints/checkpoint-126\n"
          ],
          "name": "stderr"
        },
        {
          "output_type": "stream",
          "text": [
            "loss: 0.437996358031363\n",
            "loss: 0.4358840496279299\n",
            "loss: 0.4338605058516643\n",
            "loss: 0.4319366061916718\n",
            "loss: 0.43010419356913965\n",
            "loss: 0.428106421209646\n",
            "loss: 0.4262029659703262\n",
            "loss: 0.4242321060442213\n",
            "loss: 0.4223193019628525\n",
            "loss: 0.42049459335120287\n",
            "loss: 0.41862209532817785\n",
            "loss: 0.41679271461739054\n",
            "loss: 0.414853047874334\n",
            "loss: 0.4129233909504754\n",
            "loss: 0.4110582018574924\n",
            "loss: 0.409385187000456\n",
            "loss: 0.4076279225674542\n",
            "loss: 0.40592436709751684\n",
            "loss: 0.404479551212541\n",
            "loss: 0.40299420824197874\n",
            "loss: 0.4010901341632921\n",
            "loss: 0.39946862672631805\n",
            "loss: 0.39797157969250774\n",
            "loss: 0.3963439667224884\n",
            "loss: 0.3944800256301236\n",
            "loss: 0.3928464808942456\n",
            "loss: 0.391070633785787\n",
            "loss: 0.38952654624333627\n",
            "loss: 0.3878836806262693\n",
            "loss: 0.3864642347758397\n",
            "loss: 0.3849192586768964\n",
            "loss: 0.3831302087895478\n",
            "loss: 0.38168581832879744\n",
            "loss: 0.38007711078971623\n",
            "loss: 0.37833154997470214\n",
            "loss: 0.37674328339872537\n",
            "loss: 0.3750308786341749\n",
            "loss: 0.37360506327595655\n",
            "loss: 0.3719235217029398\n",
            "loss: 0.3705775120172156\n",
            "loss: 0.3690661222278001\n",
            "loss: 0.367627783101939\n",
            "loss: 0.3661872051523987\n",
            "loss: 0.3646628826856613\n",
            "loss: 0.36354330382500477\n",
            "loss: 0.3621014087179372\n",
            "loss: 0.3605208598895569\n",
            "loss: 0.35905243824610766\n",
            "loss: 0.3578156123842512\n",
            "loss: 0.35638158552517946\n",
            "loss: 0.3549617243520284\n",
            "loss: 0.35352651163768234\n",
            "loss: 0.35229936591739763\n",
            "loss: 0.35098516812755004\n",
            "loss: 0.3495891353948999\n",
            "loss: 0.3482073974069003\n",
            "loss: 0.3470193302777947\n",
            "loss: 0.3457885171975131\n",
            "loss: 0.3444658478772318\n",
            "loss: 0.3432258638322994\n",
            "loss: 0.342032599736025\n",
            "loss: 0.3407457889790865\n"
          ],
          "name": "stdout"
        },
        {
          "output_type": "stream",
          "text": [
            "08/11/2021 19:54:54 - INFO - __main__ -   ***** Running evaluation on test dataset (189 step) *****\n",
            "08/11/2021 19:54:54 - INFO - __main__ -     Num examples = 1987\n",
            "08/11/2021 19:54:54 - INFO - __main__ -     Eval Batch size = 128\n"
          ],
          "name": "stderr"
        },
        {
          "output_type": "stream",
          "text": [
            "loss: 0.3392820408341115\n"
          ],
          "name": "stdout"
        },
        {
          "output_type": "display_data",
          "data": {
            "text/html": [
              "\n",
              "    <div>\n",
              "        <style>\n",
              "            /* Turns off some styling */\n",
              "            progress {\n",
              "                /* gets rid of default border in Firefox and Opera. */\n",
              "                border: none;\n",
              "                /* Needs to be in here for Safari polyfill so background images work as expected. */\n",
              "                background-size: auto;\n",
              "            }\n",
              "            .progress-bar-interrupted, .progress-bar-interrupted::-webkit-progress-bar {\n",
              "                background: #F44336;\n",
              "            }\n",
              "        </style>\n",
              "      <progress value='16' class='' max='16' style='width:300px; height:20px; vertical-align: middle;'></progress>\n",
              "      100.00% [16/16 00:06<00:00]\n",
              "    </div>\n",
              "    "
            ],
            "text/plain": [
              "<IPython.core.display.HTML object>"
            ]
          },
          "metadata": {
            "tags": []
          }
        },
        {
          "output_type": "display_data",
          "data": {
            "image/png": "[encoded data removed]",
            "text/plain": [
              "<Figure size 1080x576 with 2 Axes>"
            ]
          },
          "metadata": {
            "tags": [],
            "needs_background": "light"
          }
        },
        {
          "output_type": "stream",
          "text": [
            "08/11/2021 19:55:04 - INFO - __main__ -   ***** Eval results on test dataset *****\n",
            "08/11/2021 19:55:04 - INFO - __main__ -     acc = 0.9833920483140413\n"
          ],
          "name": "stderr"
        },
        {
          "output_type": "stream",
          "text": [
            "                                              Review  ...                    Softmax\n",
            "0  조금 전 상담원과의 통화대기는 길지 않았으나 다른 때 상담원과 통화 연결까지의 시간...  ...    [-1.7266343, 1.2623837]\n",
            "1  내가 우긴 것도 아닌데 상대 얘기를 끝까지 들어주었으면 싶더군요 타 카드사 얘기에요...  ...    [-1.6132615, 1.1607403]\n",
            "2                       신속한 전화 연결 부탁드립니다 수고하세요 감사합니다  ...  [0.23260169, -0.30634037]\n",
            "3     다른 카드사는 상담원 연결이 너무 느리거나 안될 때가 많은데 삼성은 대기시간이 짧다  ...    [-1.6582874, 1.2050012]\n",
            "4  다른 곳에서는 최선을 다해 고객의 문제 해결을 위해 노력하고 [UNK] 공감을 해주...  ...    [0.6168396, -0.5199491]\n",
            "\n",
            "[5 rows x 4 columns]\n",
            "{'acc': 0.9833920483140413}\n"
          ],
          "name": "stdout"
        },
        {
          "output_type": "stream",
          "text": [
            "08/11/2021 19:55:07 - INFO - __main__ -   Saving model checkpoint to sentiment_checkpoints/checkpoint-189\n"
          ],
          "name": "stderr"
        },
        {
          "output_type": "stream",
          "text": [
            "loss: 0.33800094092362803\n",
            "loss: 0.33673355529445625\n",
            "loss: 0.3354852905419345\n",
            "loss: 0.33416034474274037\n",
            "loss: 0.3328885282821876\n",
            "loss: 0.33168203368400917\n",
            "loss: 0.33047494641980346\n",
            "loss: 0.32932456802141846\n",
            "loss: 0.3283207347672997\n",
            "loss: 0.32717661020444266\n",
            "loss: 0.32609934113919736\n",
            "loss: 0.3248172501352296\n",
            "loss: 0.3236709430740021\n",
            "loss: 0.32253333184813043\n",
            "loss: 0.3214165730146216\n",
            "loss: 0.3203187718624022\n",
            "loss: 0.31941387361114465\n",
            "loss: 0.3182029846137848\n",
            "loss: 0.31712305434764576\n",
            "loss: 0.31604449554350955\n",
            "loss: 0.3151265886567888\n",
            "loss: 0.314194366124004\n",
            "loss: 0.31299020045981657\n",
            "loss: 0.31181494186811604\n",
            "loss: 0.3106974989140981\n",
            "loss: 0.30972897782921793\n",
            "loss: 0.30861497720427533\n",
            "loss: 0.3075385602354179\n",
            "loss: 0.3064970867451998\n",
            "loss: 0.30549857736518393\n",
            "loss: 0.3045138569887389\n",
            "loss: 0.3034320021410603\n",
            "loss: 0.302585613368465\n",
            "loss: 0.3014987525885148\n",
            "loss: 0.30040185772148625\n",
            "loss: 0.29933870433105364\n",
            "loss: 0.2983078948527047\n",
            "loss: 0.2973828097961285\n",
            "loss: 0.29635716662660505\n",
            "loss: 0.29552140430136536\n",
            "loss: 0.2946083785885054\n",
            "loss: 0.293576622293109\n",
            "loss: 0.2925655392223391\n",
            "loss: 0.29166260121845894\n",
            "loss: 0.2906823100633601\n",
            "loss: 0.28983647217775915\n",
            "loss: 0.28897263873684204\n",
            "loss: 0.2880696976863885\n",
            "loss: 0.287231534030758\n",
            "loss: 0.28624510501655576\n",
            "loss: 0.28536195744139453\n",
            "loss: 0.2845502476443641\n",
            "loss: 0.28357763620755394\n",
            "loss: 0.2827636852645825\n",
            "loss: 0.28201885312246006\n",
            "loss: 0.28131059166424127\n",
            "loss: 0.2805146883446269\n",
            "loss: 0.27960667780295073\n",
            "loss: 0.2786856657044301\n",
            "loss: 0.27801300350382147\n",
            "loss: 0.2772873629778624\n",
            "loss: 0.2763929824044267\n"
          ],
          "name": "stdout"
        },
        {
          "output_type": "stream",
          "text": [
            "08/11/2021 19:56:24 - INFO - __main__ -   ***** Running evaluation on test dataset (252 step) *****\n",
            "08/11/2021 19:56:24 - INFO - __main__ -     Num examples = 1987\n",
            "08/11/2021 19:56:24 - INFO - __main__ -     Eval Batch size = 128\n"
          ],
          "name": "stderr"
        },
        {
          "output_type": "stream",
          "text": [
            "loss: 0.27724178938106414\n"
          ],
          "name": "stdout"
        },
        {
          "output_type": "display_data",
          "data": {
            "text/html": [
              "\n",
              "    <div>\n",
              "        <style>\n",
              "            /* Turns off some styling */\n",
              "            progress {\n",
              "                /* gets rid of default border in Firefox and Opera. */\n",
              "                border: none;\n",
              "                /* Needs to be in here for Safari polyfill so background images work as expected. */\n",
              "                background-size: auto;\n",
              "            }\n",
              "            .progress-bar-interrupted, .progress-bar-interrupted::-webkit-progress-bar {\n",
              "                background: #F44336;\n",
              "            }\n",
              "        </style>\n",
              "      <progress value='16' class='' max='16' style='width:300px; height:20px; vertical-align: middle;'></progress>\n",
              "      100.00% [16/16 00:06<00:00]\n",
              "    </div>\n",
              "    "
            ],
            "text/plain": [
              "<IPython.core.display.HTML object>"
            ]
          },
          "metadata": {
            "tags": []
          }
        },
        {
          "output_type": "display_data",
          "data": {
            "image/png": "[encoded data removed]",
            "text/plain": [
              "<Figure size 1080x576 with 2 Axes>"
            ]
          },
          "metadata": {
            "tags": [],
            "needs_background": "light"
          }
        },
        {
          "output_type": "stream",
          "text": [
            "08/11/2021 19:56:33 - INFO - __main__ -   ***** Eval results on test dataset *****\n",
            "08/11/2021 19:56:33 - INFO - __main__ -     acc = 0.9874182184197282\n"
          ],
          "name": "stderr"
        },
        {
          "output_type": "stream",
          "text": [
            "                                              Review  ...                    Softmax\n",
            "0                                                 실망  ...  [0.03597161, -0.08412377]\n",
            "1  조금 전 상담원과의 통화대기는 길지 않았으나 다른 때 상담원과 통화 연결까지의 시간...  ...    [-2.0404413, 1.5270624]\n",
            "2  내가 우긴 것도 아닌데 상대 얘기를 끝까지 들어주었으면 싶더군요 타 카드사 얘기에요...  ...    [-1.8671193, 1.3843119]\n",
            "3     다른 카드사는 상담원 연결이 너무 느리거나 안될 때가 많은데 삼성은 대기시간이 짧다  ...    [-1.8533427, 1.3583615]\n",
            "4  다른 곳에서는 최선을 다해 고객의 문제 해결을 위해 노력하고 [UNK] 공감을 해주...  ...    [1.0767736, -0.9036262]\n",
            "\n",
            "[5 rows x 4 columns]\n",
            "{'acc': 0.9874182184197282}\n"
          ],
          "name": "stdout"
        },
        {
          "output_type": "stream",
          "text": [
            "08/11/2021 19:56:35 - INFO - __main__ -   Saving model checkpoint to sentiment_checkpoints/checkpoint-252\n"
          ],
          "name": "stderr"
        },
        {
          "output_type": "stream",
          "text": [
            "loss: 0.2766174140272169\n",
            "loss: 0.27577434928985095\n",
            "loss: 0.2749714465994461\n",
            "loss: 0.2740833347197622\n",
            "loss: 0.2731988249991654\n",
            "loss: 0.272340538918741\n",
            "loss: 0.27147103634637754\n",
            "loss: 0.27072367274130765\n",
            "loss: 0.2700571587516202\n",
            "loss: 0.26919734652886407\n",
            "loss: 0.2684243387000869\n",
            "loss: 0.2676031958086021\n",
            "loss: 0.2667847365984377\n",
            "loss: 0.2660898177471376\n",
            "loss: 0.2652517312977198\n",
            "loss: 0.26457042655726865\n",
            "loss: 0.2637413174301718\n",
            "loss: 0.26297145376878756\n",
            "loss: 0.26218431517206875\n",
            "loss: 0.26146279609597783\n",
            "loss: 0.26069169496987765\n",
            "loss: 0.25995646301575387\n",
            "loss: 0.25929802484133024\n",
            "loss: 0.2585106701657608\n",
            "loss: 0.25771626753443416\n",
            "loss: 0.2571449428662765\n",
            "loss: 0.2565275250556862\n",
            "loss: 0.2557732511710908\n",
            "loss: 0.2550153696240055\n",
            "loss: 0.2542853772058977\n",
            "loss: 0.25371196515884503\n",
            "loss: 0.2530821252509322\n",
            "loss: 0.25243497992816727\n",
            "loss: 0.2516769859809559\n",
            "loss: 0.25100929073288464\n",
            "loss: 0.25027021769589436\n",
            "loss: 0.2496897470605621\n",
            "loss: 0.24899564181165448\n",
            "loss: 0.2483079227078002\n",
            "loss: 0.24757712699268777\n",
            "loss: 0.24694274335387623\n",
            "loss: 0.24627927173765338\n",
            "loss: 0.24571147063526055\n",
            "loss: 0.24500805060253353\n",
            "loss: 0.24446111660362896\n",
            "loss: 0.24376541146095967\n",
            "loss: 0.24321648814905447\n",
            "loss: 0.2426994656274716\n",
            "loss: 0.24209936277513885\n",
            "loss: 0.24142120751422763\n",
            "loss: 0.24089251138982992\n",
            "loss: 0.24037634672008848\n",
            "loss: 0.2398001379898337\n",
            "loss: 0.23932881056775454\n",
            "loss: 0.23873944758932056\n",
            "loss: 0.23810579609609656\n",
            "loss: 0.2375043899930025\n",
            "loss: 0.2368894696115486\n",
            "loss: 0.23623635594724077\n",
            "loss: 0.23566077564819118\n",
            "loss: 0.23502346655478873\n",
            "loss: 0.23445211064995855\n"
          ],
          "name": "stdout"
        },
        {
          "output_type": "stream",
          "text": [
            "08/11/2021 19:57:52 - INFO - __main__ -   ***** Running evaluation on test dataset (315 step) *****\n",
            "08/11/2021 19:57:52 - INFO - __main__ -     Num examples = 1987\n",
            "08/11/2021 19:57:52 - INFO - __main__ -     Eval Batch size = 128\n"
          ],
          "name": "stderr"
        },
        {
          "output_type": "stream",
          "text": [
            "loss: 0.23381302294040482\n"
          ],
          "name": "stdout"
        },
        {
          "output_type": "display_data",
          "data": {
            "text/html": [
              "\n",
              "    <div>\n",
              "        <style>\n",
              "            /* Turns off some styling */\n",
              "            progress {\n",
              "                /* gets rid of default border in Firefox and Opera. */\n",
              "                border: none;\n",
              "                /* Needs to be in here for Safari polyfill so background images work as expected. */\n",
              "                background-size: auto;\n",
              "            }\n",
              "            .progress-bar-interrupted, .progress-bar-interrupted::-webkit-progress-bar {\n",
              "                background: #F44336;\n",
              "            }\n",
              "        </style>\n",
              "      <progress value='16' class='' max='16' style='width:300px; height:20px; vertical-align: middle;'></progress>\n",
              "      100.00% [16/16 00:06<00:00]\n",
              "    </div>\n",
              "    "
            ],
            "text/plain": [
              "<IPython.core.display.HTML object>"
            ]
          },
          "metadata": {
            "tags": []
          }
        },
        {
          "output_type": "display_data",
          "data": {
            "image/png": "[encoded data removed]",
            "text/plain": [
              "<Figure size 1080x576 with 2 Axes>"
            ]
          },
          "metadata": {
            "tags": [],
            "needs_background": "light"
          }
        },
        {
          "output_type": "stream",
          "text": [
            "08/11/2021 19:58:02 - INFO - __main__ -   ***** Eval results on test dataset *****\n",
            "08/11/2021 19:58:02 - INFO - __main__ -     acc = 0.9879214896829391\n"
          ],
          "name": "stderr"
        },
        {
          "output_type": "stream",
          "text": [
            "                                              Review  ...                    Softmax\n",
            "0                                                 실망  ...  [0.07747592, -0.11728798]\n",
            "1  조금 전 상담원과의 통화대기는 길지 않았으나 다른 때 상담원과 통화 연결까지의 시간...  ...      [-2.2402043, 1.70273]\n",
            "2  내가 우긴 것도 아닌데 상대 얘기를 끝까지 들어주었으면 싶더군요 타 카드사 얘기에요...  ...    [-1.9064368, 1.4177557]\n",
            "3     다른 카드사는 상담원 연결이 너무 느리거나 안될 때가 많은데 삼성은 대기시간이 짧다  ...     [-1.993448, 1.4777527]\n",
            "4  다른 곳에서는 최선을 다해 고객의 문제 해결을 위해 노력하고 [UNK] 공감을 해주...  ...     [1.377998, -1.1658238]\n",
            "\n",
            "[5 rows x 4 columns]\n",
            "{'acc': 0.9879214896829391}\n"
          ],
          "name": "stdout"
        },
        {
          "output_type": "stream",
          "text": [
            "08/11/2021 19:58:04 - INFO - __main__ -   Saving model checkpoint to sentiment_checkpoints/checkpoint-315\n"
          ],
          "name": "stderr"
        },
        {
          "output_type": "stream",
          "text": [
            "loss: 0.2332004952963583\n",
            "loss: 0.2326927092337646\n",
            "loss: 0.23215020307392445\n",
            "loss: 0.23152926703185123\n",
            "loss: 0.23105955339269713\n",
            "loss: 0.23045981754302236\n",
            "loss: 0.22991687713063652\n",
            "loss: 0.2293890404281417\n",
            "loss: 0.22877427149724996\n",
            "loss: 0.2282128811856875\n",
            "loss: 0.22762307704660606\n",
            "loss: 0.22711255854217832\n",
            "loss: 0.22660779587856336\n",
            "loss: 0.22607471738973106\n",
            "loss: 0.22558649229167987\n",
            "loss: 0.2251245522775949\n",
            "loss: 0.22455547998535885\n",
            "loss: 0.22397413362634253\n",
            "loss: 0.2234698367098759\n",
            "loss: 0.22290766176336738\n",
            "loss: 0.22241198257654018\n",
            "loss: 0.22195920586387022\n",
            "loss: 0.22152484143869236\n",
            "loss: 0.22105133404356364\n",
            "loss: 0.2205264242092038\n",
            "loss: 0.21997845305616032\n",
            "loss: 0.2194353117721907\n",
            "loss: 0.2188756626436036\n",
            "loss: 0.21832383633049768\n",
            "loss: 0.21786030238305312\n",
            "loss: 0.21738901427500165\n",
            "loss: 0.21685400195097718\n",
            "loss: 0.2163659880986844\n",
            "loss: 0.21582155634134068\n",
            "loss: 0.21530402395342077\n",
            "loss: 0.21482149225014907\n",
            "loss: 0.21436841138215226\n",
            "loss: 0.213921416793599\n",
            "loss: 0.2134298431124054\n",
            "loss: 0.2129169107532837\n",
            "loss: 0.2125759691711557\n",
            "loss: 0.21212289463572143\n",
            "loss: 0.21165932443346724\n",
            "loss: 0.211249829967789\n",
            "loss: 0.21075160617215766\n",
            "loss: 0.21025379194550403\n",
            "loss: 0.20975905729365119\n",
            "loss: 0.20925363732024657\n",
            "loss: 0.20880512247414706\n",
            "loss: 0.20837904228127166\n",
            "loss: 0.20794199674792302\n",
            "loss: 0.20747371114364113\n",
            "loss: 0.20702162658309806\n",
            "loss: 0.2065296776663401\n",
            "loss: 0.20608906887370992\n",
            "loss: 0.20579535817863004\n",
            "loss: 0.2053107139454173\n",
            "loss: 0.2048922930032654\n",
            "loss: 0.20443292616064695\n",
            "loss: 0.20413667260110377\n",
            "loss: 0.20368149097354965\n",
            "loss: 0.2032264055096265\n"
          ],
          "name": "stdout"
        },
        {
          "output_type": "stream",
          "text": [
            "08/11/2021 19:59:21 - INFO - __main__ -   ***** Running evaluation on test dataset (378 step) *****\n",
            "08/11/2021 19:59:21 - INFO - __main__ -     Num examples = 1987\n",
            "08/11/2021 19:59:21 - INFO - __main__ -     Eval Batch size = 128\n"
          ],
          "name": "stderr"
        },
        {
          "output_type": "stream",
          "text": [
            "loss: 0.2027566230230073\n"
          ],
          "name": "stdout"
        },
        {
          "output_type": "display_data",
          "data": {
            "text/html": [
              "\n",
              "    <div>\n",
              "        <style>\n",
              "            /* Turns off some styling */\n",
              "            progress {\n",
              "                /* gets rid of default border in Firefox and Opera. */\n",
              "                border: none;\n",
              "                /* Needs to be in here for Safari polyfill so background images work as expected. */\n",
              "                background-size: auto;\n",
              "            }\n",
              "            .progress-bar-interrupted, .progress-bar-interrupted::-webkit-progress-bar {\n",
              "                background: #F44336;\n",
              "            }\n",
              "        </style>\n",
              "      <progress value='16' class='' max='16' style='width:300px; height:20px; vertical-align: middle;'></progress>\n",
              "      100.00% [16/16 00:06<00:00]\n",
              "    </div>\n",
              "    "
            ],
            "text/plain": [
              "<IPython.core.display.HTML object>"
            ]
          },
          "metadata": {
            "tags": []
          }
        },
        {
          "output_type": "display_data",
          "data": {
            "image/png": "[encoded data removed]",
            "text/plain": [
              "<Figure size 1080x576 with 2 Axes>"
            ]
          },
          "metadata": {
            "tags": [],
            "needs_background": "light"
          }
        },
        {
          "output_type": "stream",
          "text": [
            "08/11/2021 19:59:30 - INFO - __main__ -   ***** Eval results on test dataset *****\n",
            "08/11/2021 19:59:30 - INFO - __main__ -     acc = 0.9889280322093609\n"
          ],
          "name": "stderr"
        },
        {
          "output_type": "stream",
          "text": [
            "                                              Review  ...                  Softmax\n",
            "0  조금 전 상담원과의 통화대기는 길지 않았으나 다른 때 상담원과 통화 연결까지의 시간...  ...  [-2.4119844, 1.8513454]\n",
            "1  내가 우긴 것도 아닌데 상대 얘기를 끝까지 들어주었으면 싶더군요 타 카드사 얘기에요...  ...  [-2.0595908, 1.5504622]\n",
            "2     다른 카드사는 상담원 연결이 너무 느리거나 안될 때가 많은데 삼성은 대기시간이 짧다  ...  [-2.1311462, 1.5927422]\n",
            "3  다른 곳에서는 최선을 다해 고객의 문제 해결을 위해 노력하고 [UNK] 공감을 해주...  ...  [1.3839698, -1.1848774]\n",
            "4                               기다리는 시간이 불편하지 산 괜찮아요  ...  [1.4056302, -1.3337369]\n",
            "\n",
            "[5 rows x 4 columns]\n",
            "{'acc': 0.9889280322093609}\n"
          ],
          "name": "stdout"
        },
        {
          "output_type": "stream",
          "text": [
            "08/11/2021 19:59:33 - INFO - __main__ -   Saving model checkpoint to sentiment_checkpoints/checkpoint-378\n"
          ],
          "name": "stderr"
        },
        {
          "output_type": "stream",
          "text": [
            "loss: 0.20235597788501225\n",
            "loss: 0.20196147071883866\n",
            "loss: 0.20149821483498326\n",
            "loss: 0.2010710632857618\n",
            "loss: 0.20062307850032188\n",
            "loss: 0.20023281992568323\n",
            "loss: 0.19980207668109373\n",
            "loss: 0.19936607734642808\n",
            "loss: 0.19893271739784754\n",
            "loss: 0.19848198632796094\n",
            "loss: 0.19810939962307714\n",
            "loss: 0.1977474066787041\n",
            "loss: 0.1973078965550036\n",
            "loss: 0.19686145514572914\n",
            "loss: 0.1964205937180431\n",
            "loss: 0.19600517316461366\n",
            "loss: 0.19558610368189933\n",
            "loss: 0.19525019507478886\n",
            "loss: 0.19481532392033402\n",
            "loss: 0.19439897172845638\n",
            "loss: 0.19409445088291377\n",
            "loss: 0.19371217667590826\n",
            "loss: 0.19334592908490775\n",
            "loss: 0.19298346108520653\n",
            "loss: 0.19258276672188018\n",
            "loss: 0.19216140480435426\n",
            "loss: 0.1917642043788492\n",
            "loss: 0.19134906697743045\n",
            "loss: 0.19095681109797458\n",
            "loss: 0.19060438868644483\n",
            "loss: 0.1902028253270099\n",
            "loss: 0.1897970116583676\n",
            "loss: 0.1893870245910039\n",
            "loss: 0.18901956632950354\n",
            "loss: 0.18873947792061882\n",
            "loss: 0.18836316537417938\n",
            "loss: 0.18796233695045292\n",
            "loss: 0.18767166315452555\n",
            "loss: 0.18733180333509578\n",
            "loss: 0.18701520477060637\n",
            "loss: 0.18662393674129946\n",
            "loss: 0.186228040078034\n",
            "loss: 0.18583402407937408\n",
            "loss: 0.1855805772290481\n",
            "loss: 0.1852905752080059\n",
            "loss: 0.18490354542813772\n",
            "loss: 0.18457665975479517\n",
            "loss: 0.18418782255983968\n",
            "loss: 0.18387175583448567\n",
            "loss: 0.18356102820764356\n",
            "loss: 0.18318061578784373\n",
            "loss: 0.1828027323624769\n",
            "loss: 0.1824906702324091\n",
            "loss: 0.18218467551438758\n",
            "loss: 0.1818366016177396\n",
            "loss: 0.18147561987990746\n",
            "loss: 0.18118077855257467\n",
            "loss: 0.1808194870453909\n",
            "loss: 0.18045264339283348\n",
            "loss: 0.180099390400361\n",
            "loss: 0.17987374172615977\n",
            "loss: 0.17950889633714476\n"
          ],
          "name": "stdout"
        },
        {
          "output_type": "stream",
          "text": [
            "08/11/2021 20:00:50 - INFO - __main__ -   ***** Running evaluation on test dataset (441 step) *****\n",
            "08/11/2021 20:00:50 - INFO - __main__ -     Num examples = 1987\n",
            "08/11/2021 20:00:50 - INFO - __main__ -     Eval Batch size = 128\n"
          ],
          "name": "stderr"
        },
        {
          "output_type": "stream",
          "text": [
            "loss: 0.17914441895255157\n"
          ],
          "name": "stdout"
        },
        {
          "output_type": "display_data",
          "data": {
            "text/html": [
              "\n",
              "    <div>\n",
              "        <style>\n",
              "            /* Turns off some styling */\n",
              "            progress {\n",
              "                /* gets rid of default border in Firefox and Opera. */\n",
              "                border: none;\n",
              "                /* Needs to be in here for Safari polyfill so background images work as expected. */\n",
              "                background-size: auto;\n",
              "            }\n",
              "            .progress-bar-interrupted, .progress-bar-interrupted::-webkit-progress-bar {\n",
              "                background: #F44336;\n",
              "            }\n",
              "        </style>\n",
              "      <progress value='16' class='' max='16' style='width:300px; height:20px; vertical-align: middle;'></progress>\n",
              "      100.00% [16/16 00:06<00:00]\n",
              "    </div>\n",
              "    "
            ],
            "text/plain": [
              "<IPython.core.display.HTML object>"
            ]
          },
          "metadata": {
            "tags": []
          }
        },
        {
          "output_type": "display_data",
          "data": {
            "image/png": "[encoded data removed]",
            "text/plain": [
              "<Figure size 1080x576 with 2 Axes>"
            ]
          },
          "metadata": {
            "tags": [],
            "needs_background": "light"
          }
        },
        {
          "output_type": "stream",
          "text": [
            "08/11/2021 20:00:59 - INFO - __main__ -   ***** Eval results on test dataset *****\n",
            "08/11/2021 20:00:59 - INFO - __main__ -     acc = 0.9869149471565174\n"
          ],
          "name": "stderr"
        },
        {
          "output_type": "stream",
          "text": [
            "                                              Review  ...                   Softmax\n",
            "0                                                 실망  ...  [0.13317612, -0.1667776]\n",
            "1  조금 전 상담원과의 통화대기는 길지 않았으나 다른 때 상담원과 통화 연결까지의 시간...  ...   [-2.5331182, 1.9550806]\n",
            "2  내가 우긴 것도 아닌데 상대 얘기를 끝까지 들어주었으면 싶더군요 타 카드사 얘기에요...  ...   [-1.5722805, 1.1338903]\n",
            "3     다른 카드사는 상담원 연결이 너무 느리거나 안될 때가 많은데 삼성은 대기시간이 짧다  ...    [-2.107348, 1.5689833]\n",
            "4  다른 곳에서는 최선을 다해 고객의 문제 해결을 위해 노력하고 [UNK] 공감을 해주...  ...   [1.7384276, -1.4826151]\n",
            "\n",
            "[5 rows x 4 columns]\n",
            "{'acc': 0.9869149471565174}\n"
          ],
          "name": "stdout"
        },
        {
          "output_type": "stream",
          "text": [
            "08/11/2021 20:01:02 - INFO - __main__ -   Saving model checkpoint to sentiment_checkpoints/checkpoint-441\n"
          ],
          "name": "stderr"
        },
        {
          "output_type": "stream",
          "text": [
            "loss: 0.17888565353071528\n",
            "loss: 0.17861322708781094\n",
            "loss: 0.17825336152318497\n",
            "loss: 0.17790006065971395\n",
            "loss: 0.1775541008938722\n",
            "loss: 0.17725020730388777\n",
            "loss: 0.17690487230928348\n",
            "loss: 0.17657814479800135\n",
            "loss: 0.1762267440888617\n",
            "loss: 0.1758787190777037\n",
            "loss: 0.175609727608518\n",
            "loss: 0.17526864127212802\n",
            "loss: 0.17492590757242776\n",
            "loss: 0.1745831772889737\n",
            "loss: 0.17424169015711205\n",
            "loss: 0.17390938643243825\n",
            "loss: 0.17358544187042782\n",
            "loss: 0.17339366857441293\n",
            "loss: 0.17306575530978\n",
            "loss: 0.17286170654225116\n",
            "loss: 0.17253102444402582\n",
            "loss: 0.17227364547116195\n",
            "loss: 0.17193958550242\n",
            "loss: 0.1716076574899176\n",
            "loss: 0.1712750523618938\n",
            "loss: 0.1709487661360354\n",
            "loss: 0.1706393773858555\n",
            "loss: 0.17031535142059648\n",
            "loss: 0.17005251651193867\n",
            "loss: 0.169840476714913\n",
            "loss: 0.16952741127934748\n",
            "loss: 0.16920697837910492\n",
            "loss: 0.16889568452845144\n",
            "loss: 0.16857463217879595\n",
            "loss: 0.1682890514224893\n",
            "loss: 0.16797504613109604\n",
            "loss: 0.1677171208322921\n",
            "loss: 0.16740597742133326\n",
            "loss: 0.16710321687860413\n",
            "loss: 0.1668026972399432\n",
            "loss: 0.16649224379590685\n",
            "loss: 0.1662417415213264\n",
            "loss: 0.16602311858306984\n",
            "loss: 0.16575340826025944\n",
            "loss: 0.16563899590492004\n",
            "loss: 0.16535054281109168\n",
            "loss: 0.16508875946804394\n",
            "loss: 0.164855193186757\n",
            "loss: 0.16455540419461168\n",
            "loss: 0.1643798786145303\n",
            "loss: 0.16407781389610068\n",
            "loss: 0.16387892925533756\n",
            "loss: 0.1635980316916639\n",
            "loss: 0.16330151429230516\n",
            "loss: 0.16300785355645442\n",
            "loss: 0.16276660666874118\n",
            "loss: 0.16247263742633253\n",
            "loss: 0.16217909621929597\n",
            "loss: 0.16188649890944362\n",
            "loss: 0.1615948517529848\n",
            "loss: 0.161304056514574\n",
            "loss: 0.16101705531402682\n"
          ],
          "name": "stdout"
        },
        {
          "output_type": "stream",
          "text": [
            "08/11/2021 20:02:19 - INFO - __main__ -   ***** Running evaluation on test dataset (504 step) *****\n",
            "08/11/2021 20:02:19 - INFO - __main__ -     Num examples = 1987\n",
            "08/11/2021 20:02:19 - INFO - __main__ -     Eval Batch size = 128\n"
          ],
          "name": "stderr"
        },
        {
          "output_type": "stream",
          "text": [
            "loss: 0.16072322194102323\n"
          ],
          "name": "stdout"
        },
        {
          "output_type": "display_data",
          "data": {
            "text/html": [
              "\n",
              "    <div>\n",
              "        <style>\n",
              "            /* Turns off some styling */\n",
              "            progress {\n",
              "                /* gets rid of default border in Firefox and Opera. */\n",
              "                border: none;\n",
              "                /* Needs to be in here for Safari polyfill so background images work as expected. */\n",
              "                background-size: auto;\n",
              "            }\n",
              "            .progress-bar-interrupted, .progress-bar-interrupted::-webkit-progress-bar {\n",
              "                background: #F44336;\n",
              "            }\n",
              "        </style>\n",
              "      <progress value='16' class='' max='16' style='width:300px; height:20px; vertical-align: middle;'></progress>\n",
              "      100.00% [16/16 00:06<00:00]\n",
              "    </div>\n",
              "    "
            ],
            "text/plain": [
              "<IPython.core.display.HTML object>"
            ]
          },
          "metadata": {
            "tags": []
          }
        },
        {
          "output_type": "display_data",
          "data": {
            "image/png": "[encoded data removed]",
            "text/plain": [
              "<Figure size 1080x576 with 2 Axes>"
            ]
          },
          "metadata": {
            "tags": [],
            "needs_background": "light"
          }
        },
        {
          "output_type": "stream",
          "text": [
            "08/11/2021 20:02:28 - INFO - __main__ -   ***** Eval results on test dataset *****\n",
            "08/11/2021 20:02:28 - INFO - __main__ -     acc = 0.98842476094615\n"
          ],
          "name": "stderr"
        },
        {
          "output_type": "stream",
          "text": [
            "                                              Review  ...                   Softmax\n",
            "0                                                 실망  ...  [0.16038221, -0.1915624]\n",
            "1  조금 전 상담원과의 통화대기는 길지 않았으나 다른 때 상담원과 통화 연결까지의 시간...  ...    [-2.6518326, 2.066124]\n",
            "2  내가 우긴 것도 아닌데 상대 얘기를 끝까지 들어주었으면 싶더군요 타 카드사 얘기에요...  ...    [-2.167226, 1.6515343]\n",
            "3     다른 카드사는 상담원 연결이 너무 느리거나 안될 때가 많은데 삼성은 대기시간이 짧다  ...   [-2.2596195, 1.7045293]\n",
            "4  다른 곳에서는 최선을 다해 고객의 문제 해결을 위해 노력하고 [UNK] 공감을 해주...  ...   [1.7222847, -1.4704901]\n",
            "\n",
            "[5 rows x 4 columns]\n",
            "{'acc': 0.98842476094615}\n"
          ],
          "name": "stdout"
        },
        {
          "output_type": "stream",
          "text": [
            "08/11/2021 20:02:31 - INFO - __main__ -   Saving model checkpoint to sentiment_checkpoints/checkpoint-504\n"
          ],
          "name": "stderr"
        },
        {
          "output_type": "stream",
          "text": [
            "loss: 0.1605073756234038\n",
            "loss: 0.16032421605278674\n",
            "loss: 0.1600471252384476\n",
            "loss: 0.15976677368043035\n",
            "loss: 0.15948281714542675\n",
            "loss: 0.1592019559413779\n",
            "loss: 0.15892377180100187\n",
            "loss: 0.15864388082445657\n",
            "loss: 0.15837564395076176\n",
            "loss: 0.1581110832071229\n",
            "loss: 0.15783828054057453\n",
            "loss: 0.15756194889653735\n",
            "loss: 0.15728592765616609\n",
            "loss: 0.15702943586201396\n",
            "loss: 0.15675596765427346\n",
            "loss: 0.1565038857730822\n",
            "loss: 0.15623376989690677\n",
            "loss: 0.15603096854526877\n",
            "loss: 0.15578237965161668\n",
            "loss: 0.15558455003610322\n",
            "loss: 0.15538208303706988\n",
            "loss: 0.15512001422010788\n",
            "loss: 0.15485437264033297\n",
            "loss: 0.15465711206233015\n",
            "loss: 0.15439573456207553\n",
            "loss: 0.15419311618854134\n",
            "loss: 0.15393090973873036\n",
            "loss: 0.15367808185965942\n",
            "loss: 0.1534158484748168\n",
            "loss: 0.153172595032285\n",
            "loss: 0.15291421864112126\n",
            "loss: 0.15266027180443226\n",
            "loss: 0.1524442453370941\n",
            "loss: 0.15223658414986885\n",
            "loss: 0.1519887060607768\n",
            "loss: 0.15173996820252528\n",
            "loss: 0.151486044548204\n",
            "loss: 0.15123397071340647\n",
            "loss: 0.15098145227659748\n",
            "loss: 0.1507635932391756\n",
            "loss: 0.15051378708742902\n",
            "loss: 0.15032169097120235\n",
            "loss: 0.15007294188687745\n",
            "loss: 0.14982343713215884\n",
            "loss: 0.1495837544910406\n",
            "loss: 0.1494044044850902\n",
            "loss: 0.1491596525883177\n",
            "loss: 0.14891455946253965\n",
            "loss: 0.14869303624928806\n",
            "loss: 0.14845531504258297\n",
            "loss: 0.14832177662064094\n",
            "loss: 0.14819674347125317\n",
            "loss: 0.14796709500193006\n",
            "loss: 0.14778768572468964\n",
            "loss: 0.14756759972026662\n",
            "loss: 0.1473496887483634\n",
            "loss: 0.1471100733109124\n",
            "loss: 0.14694078183762754\n",
            "loss: 0.14678264758673698\n",
            "loss: 0.1466051936942212\n",
            "loss: 0.14641693901039857\n",
            "loss: 0.14619041770999402\n"
          ],
          "name": "stdout"
        },
        {
          "output_type": "stream",
          "text": [
            "08/11/2021 20:03:47 - INFO - __main__ -   ***** Running evaluation on test dataset (567 step) *****\n",
            "08/11/2021 20:03:47 - INFO - __main__ -     Num examples = 1987\n",
            "08/11/2021 20:03:47 - INFO - __main__ -     Eval Batch size = 128\n"
          ],
          "name": "stderr"
        },
        {
          "output_type": "stream",
          "text": [
            "loss: 0.14595289696566432\n"
          ],
          "name": "stdout"
        },
        {
          "output_type": "display_data",
          "data": {
            "text/html": [
              "\n",
              "    <div>\n",
              "        <style>\n",
              "            /* Turns off some styling */\n",
              "            progress {\n",
              "                /* gets rid of default border in Firefox and Opera. */\n",
              "                border: none;\n",
              "                /* Needs to be in here for Safari polyfill so background images work as expected. */\n",
              "                background-size: auto;\n",
              "            }\n",
              "            .progress-bar-interrupted, .progress-bar-interrupted::-webkit-progress-bar {\n",
              "                background: #F44336;\n",
              "            }\n",
              "        </style>\n",
              "      <progress value='16' class='' max='16' style='width:300px; height:20px; vertical-align: middle;'></progress>\n",
              "      100.00% [16/16 00:06<00:00]\n",
              "    </div>\n",
              "    "
            ],
            "text/plain": [
              "<IPython.core.display.HTML object>"
            ]
          },
          "metadata": {
            "tags": []
          }
        },
        {
          "output_type": "display_data",
          "data": {
            "image/png": "[encoded data removed]",
            "text/plain": [
              "<Figure size 1080x576 with 2 Axes>"
            ]
          },
          "metadata": {
            "tags": [],
            "needs_background": "light"
          }
        },
        {
          "output_type": "stream",
          "text": [
            "08/11/2021 20:03:57 - INFO - __main__ -   ***** Eval results on test dataset *****\n",
            "08/11/2021 20:03:57 - INFO - __main__ -     acc = 0.9854051333668847\n"
          ],
          "name": "stderr"
        },
        {
          "output_type": "stream",
          "text": [
            "                                              Review  ...                    Softmax\n",
            "0                                             경청해주세요  ...     [0.588792, -0.5822917]\n",
            "1                                                 실망  ...  [0.07089633, -0.11325842]\n",
            "2  조금 전 상담원과의 통화대기는 길지 않았으나 다른 때 상담원과 통화 연결까지의 시간...  ...    [-2.7413702, 2.1501598]\n",
            "3  내가 우긴 것도 아닌데 상대 얘기를 끝까지 들어주었으면 싶더군요 타 카드사 얘기에요...  ...    [-2.0906873, 1.5913128]\n",
            "4                       신속한 전화 연결 부탁드립니다 수고하세요 감사합니다  ...   [0.72974217, -0.7954066]\n",
            "\n",
            "[5 rows x 4 columns]\n",
            "{'acc': 0.9854051333668847}\n"
          ],
          "name": "stdout"
        },
        {
          "output_type": "stream",
          "text": [
            "08/11/2021 20:03:59 - INFO - __main__ -   Saving model checkpoint to sentiment_checkpoints/checkpoint-567\n"
          ],
          "name": "stderr"
        },
        {
          "output_type": "stream",
          "text": [
            "loss: 0.14572177966236805\n",
            "loss: 0.14549452644692626\n",
            "loss: 0.1452663404654646\n",
            "loss: 0.14503579485293758\n",
            "loss: 0.14481123112194189\n",
            "loss: 0.14458335925504748\n",
            "loss: 0.14442022083625716\n",
            "loss: 0.14432695107453544\n",
            "loss: 0.14411905874375305\n",
            "loss: 0.14389657702271147\n",
            "loss: 0.1437472128341535\n",
            "loss: 0.1435237873686616\n",
            "loss: 0.14329886541316478\n",
            "loss: 0.14307862630020987\n",
            "loss: 0.14285574566502496\n",
            "loss: 0.14263163025508513\n",
            "loss: 0.14240823189842783\n",
            "loss: 0.1421864057262229\n",
            "loss: 0.14196542458793104\n",
            "loss: 0.14175775062984564\n",
            "loss: 0.14154924599289084\n",
            "loss: 0.14137410044872498\n",
            "loss: 0.1411547793533211\n",
            "loss: 0.14093626679792723\n",
            "loss: 0.14071998610066855\n",
            "loss: 0.14050901425974113\n",
            "loss: 0.14035336380849533\n",
            "loss: 0.1401389295423106\n",
            "loss: 0.1399788636098547\n",
            "loss: 0.13977321269305756\n",
            "loss: 0.1395666139078853\n",
            "loss: 0.13935732329497502\n",
            "loss: 0.13914450560075542\n",
            "loss: 0.1389331566309324\n",
            "loss: 0.13879894029868897\n",
            "loss: 0.13864876733626397\n",
            "loss: 0.13845739803209112\n",
            "loss: 0.1382478488901676\n",
            "loss: 0.1381094211023977\n",
            "loss: 0.13790967854896724\n",
            "loss: 0.13775969936978072\n",
            "loss: 0.13760132630078858\n",
            "loss: 0.1373956076922964\n",
            "loss: 0.13718950256412626\n",
            "loss: 0.13698431682085094\n",
            "loss: 0.13678008888743295\n",
            "loss: 0.13657864666443792\n",
            "loss: 0.13638125293380846\n",
            "loss: 0.13621119872437087\n",
            "loss: 0.13600875324957568\n",
            "loss: 0.13580825655121345\n",
            "loss: 0.13567030755125936\n",
            "loss: 0.13547097624039217\n",
            "loss: 0.13527802922785426\n",
            "loss: 0.13508107304764713\n",
            "loss: 0.1349462911151768\n",
            "loss: 0.13482128952940306\n",
            "loss: 0.134737184548378\n",
            "loss: 0.13461147107112523\n",
            "loss: 0.1344200875179358\n",
            "loss: 0.13423790276542924\n",
            "loss: 0.1340696491102654\n"
          ],
          "name": "stdout"
        },
        {
          "output_type": "stream",
          "text": [
            "08/11/2021 20:05:16 - INFO - __main__ -   ***** Running evaluation on test dataset (630 step) *****\n",
            "08/11/2021 20:05:16 - INFO - __main__ -     Num examples = 1987\n",
            "08/11/2021 20:05:16 - INFO - __main__ -     Eval Batch size = 128\n"
          ],
          "name": "stderr"
        },
        {
          "output_type": "stream",
          "text": [
            "loss: 0.13387622323094142\n"
          ],
          "name": "stdout"
        },
        {
          "output_type": "display_data",
          "data": {
            "text/html": [
              "\n",
              "    <div>\n",
              "        <style>\n",
              "            /* Turns off some styling */\n",
              "            progress {\n",
              "                /* gets rid of default border in Firefox and Opera. */\n",
              "                border: none;\n",
              "                /* Needs to be in here for Safari polyfill so background images work as expected. */\n",
              "                background-size: auto;\n",
              "            }\n",
              "            .progress-bar-interrupted, .progress-bar-interrupted::-webkit-progress-bar {\n",
              "                background: #F44336;\n",
              "            }\n",
              "        </style>\n",
              "      <progress value='16' class='' max='16' style='width:300px; height:20px; vertical-align: middle;'></progress>\n",
              "      100.00% [16/16 00:06<00:00]\n",
              "    </div>\n",
              "    "
            ],
            "text/plain": [
              "<IPython.core.display.HTML object>"
            ]
          },
          "metadata": {
            "tags": []
          }
        },
        {
          "output_type": "display_data",
          "data": {
            "image/png": "[encoded data removed]",
            "text/plain": [
              "<Figure size 1080x576 with 2 Axes>"
            ]
          },
          "metadata": {
            "tags": [],
            "needs_background": "light"
          }
        },
        {
          "output_type": "stream",
          "text": [
            "08/11/2021 20:05:25 - INFO - __main__ -   ***** Eval results on test dataset *****\n",
            "08/11/2021 20:05:25 - INFO - __main__ -     acc = 0.9879214896829391\n"
          ],
          "name": "stderr"
        },
        {
          "output_type": "stream",
          "text": [
            "                                              Review  ...                  Softmax\n",
            "0  조금 전 상담원과의 통화대기는 길지 않았으나 다른 때 상담원과 통화 연결까지의 시간...  ...   [-2.8182266, 2.219689]\n",
            "1  내가 우긴 것도 아닌데 상대 얘기를 끝까지 들어주었으면 싶더군요 타 카드사 얘기에요...  ...  [-2.2264395, 1.7144965]\n",
            "2     다른 카드사는 상담원 연결이 너무 느리거나 안될 때가 많은데 삼성은 대기시간이 짧다  ...   [-2.377601, 1.8215023]\n",
            "3  다른 곳에서는 최선을 다해 고객의 문제 해결을 위해 노력하고 [UNK] 공감을 해주...  ...  [2.0404792, -1.7595426]\n",
            "4                               기다리는 시간이 불편하지 산 괜찮아요  ...   [1.706535, -1.6220582]\n",
            "\n",
            "[5 rows x 4 columns]\n",
            "{'acc': 0.9879214896829391}\n"
          ],
          "name": "stdout"
        },
        {
          "output_type": "stream",
          "text": [
            "08/11/2021 20:05:27 - INFO - __main__ -   Saving model checkpoint to sentiment_checkpoints/checkpoint-630\n"
          ],
          "name": "stderr"
        },
        {
          "output_type": "stream",
          "text": [
            "loss: 0.13372053576872436\n",
            "loss: 0.1335272218345346\n",
            "loss: 0.13338820146482092\n",
            "loss: 0.1331952327145528\n",
            "loss: 0.13304473027058944\n",
            "loss: 0.13285338578001837\n",
            "loss: 0.13271475746332898\n",
            "loss: 0.13252495644106108\n",
            "loss: 0.13238482733136145\n",
            "loss: 0.13219639175222256\n",
            "loss: 0.13206599194225208\n",
            "loss: 0.13187923744129382\n",
            "loss: 0.13169189140745213\n",
            "loss: 0.13155179114156165\n",
            "loss: 0.13136472242573896\n",
            "loss: 0.13118179171741148\n",
            "loss: 0.13104434480525012\n",
            "loss: 0.13086944671468465\n",
            "loss: 0.1307006966400151\n",
            "loss: 0.13051638873437277\n",
            "loss: 0.13033309614946764\n",
            "loss: 0.1301525711207622\n",
            "loss: 0.12996957172421456\n",
            "loss: 0.12978779401954846\n",
            "loss: 0.12960656359365197\n",
            "loss: 0.12948412581193602\n",
            "loss: 0.1293036524203565\n",
            "loss: 0.12913278482520335\n",
            "loss: 0.1289531501428378\n",
            "loss: 0.12877377131671616\n",
            "loss: 0.12871085711488564\n",
            "loss: 0.1285336187596115\n",
            "loss: 0.12835599861471586\n",
            "loss: 0.12818681382355337\n",
            "loss: 0.12803039661279522\n",
            "loss: 0.12795344809092604\n",
            "loss: 0.12778016148523233\n",
            "loss: 0.12760458493878518\n",
            "loss: 0.12747197583044903\n",
            "loss: 0.1273398807842229\n",
            "loss: 0.12726407237600773\n",
            "loss: 0.12709193777326228\n",
            "loss: 0.12696347927278873\n",
            "loss: 0.12680566891508305\n",
            "loss: 0.12663272657880076\n",
            "loss: 0.12648720593472734\n",
            "loss: 0.1263402337359713\n",
            "loss: 0.12616955533013802\n",
            "loss: 0.12600583192893744\n",
            "loss: 0.12585996674675057\n",
            "loss: 0.12574355122489683\n",
            "loss: 0.12557492860595632\n",
            "loss: 0.12545227909959733\n",
            "loss: 0.1252843494641415\n",
            "loss: 0.12512189388057612\n",
            "loss: 0.1249745718010704\n",
            "loss: 0.12480754324735252\n",
            "loss: 0.12464176914329793\n",
            "loss: 0.12450607986890959\n",
            "loss: 0.12434083519746428\n",
            "loss: 0.12421245971093474\n",
            "loss: 0.12410993537074225\n"
          ],
          "name": "stdout"
        },
        {
          "output_type": "stream",
          "text": [
            "08/11/2021 20:06:44 - INFO - __main__ -   ***** Running evaluation on test dataset (693 step) *****\n",
            "08/11/2021 20:06:44 - INFO - __main__ -     Num examples = 1987\n",
            "08/11/2021 20:06:44 - INFO - __main__ -     Eval Batch size = 128\n"
          ],
          "name": "stderr"
        },
        {
          "output_type": "stream",
          "text": [
            "loss: 0.12394473733028336\n"
          ],
          "name": "stdout"
        },
        {
          "output_type": "display_data",
          "data": {
            "text/html": [
              "\n",
              "    <div>\n",
              "        <style>\n",
              "            /* Turns off some styling */\n",
              "            progress {\n",
              "                /* gets rid of default border in Firefox and Opera. */\n",
              "                border: none;\n",
              "                /* Needs to be in here for Safari polyfill so background images work as expected. */\n",
              "                background-size: auto;\n",
              "            }\n",
              "            .progress-bar-interrupted, .progress-bar-interrupted::-webkit-progress-bar {\n",
              "                background: #F44336;\n",
              "            }\n",
              "        </style>\n",
              "      <progress value='16' class='' max='16' style='width:300px; height:20px; vertical-align: middle;'></progress>\n",
              "      100.00% [16/16 00:06<00:00]\n",
              "    </div>\n",
              "    "
            ],
            "text/plain": [
              "<IPython.core.display.HTML object>"
            ]
          },
          "metadata": {
            "tags": []
          }
        },
        {
          "output_type": "display_data",
          "data": {
            "image/png": "[encoded data removed]",
            "text/plain": [
              "<Figure size 1080x576 with 2 Axes>"
            ]
          },
          "metadata": {
            "tags": [],
            "needs_background": "light"
          }
        },
        {
          "output_type": "stream",
          "text": [
            "08/11/2021 20:06:54 - INFO - __main__ -   ***** Eval results on test dataset *****\n",
            "08/11/2021 20:06:54 - INFO - __main__ -     acc = 0.98842476094615\n"
          ],
          "name": "stderr"
        },
        {
          "output_type": "stream",
          "text": [
            "                                              Review  ...                       Softmax\n",
            "0                                                 실망  ...  [-0.008833947, -0.048738077]\n",
            "1  조금 전 상담원과의 통화대기는 길지 않았으나 다른 때 상담원과 통화 연결까지의 시간...  ...       [-2.8731842, 2.2687182]\n",
            "2  내가 우긴 것도 아닌데 상대 얘기를 끝까지 들어주었으면 싶더군요 타 카드사 얘기에요...  ...       [-2.1650956, 1.6654404]\n",
            "3     다른 카드사는 상담원 연결이 너무 느리거나 안될 때가 많은데 삼성은 대기시간이 짧다  ...       [-2.3653073, 1.8103384]\n",
            "4  다른 곳에서는 최선을 다해 고객의 문제 해결을 위해 노력하고 [UNK] 공감을 해주...  ...       [2.0549045, -1.7695811]\n",
            "\n",
            "[5 rows x 4 columns]\n",
            "{'acc': 0.98842476094615}\n"
          ],
          "name": "stdout"
        },
        {
          "output_type": "stream",
          "text": [
            "08/11/2021 20:06:56 - INFO - __main__ -   Saving model checkpoint to sentiment_checkpoints/checkpoint-693\n"
          ],
          "name": "stderr"
        },
        {
          "output_type": "stream",
          "text": [
            "loss: 0.12378204855209039\n",
            "loss: 0.12364115414591573\n",
            "loss: 0.12352594417712555\n",
            "loss: 0.1233627892592374\n",
            "loss: 0.12320247004182214\n",
            "loss: 0.1230444105112864\n",
            "loss: 0.1228922219827239\n",
            "loss: 0.12274269799113316\n",
            "loss: 0.12258205445154313\n",
            "loss: 0.12247081821225318\n",
            "loss: 0.12231176306191958\n",
            "loss: 0.12215279779192192\n",
            "loss: 0.12204692367511794\n",
            "loss: 0.12188963992376266\n",
            "loss: 0.1217750305886049\n",
            "loss: 0.12161636583596384\n",
            "loss: 0.12153980985782306\n",
            "loss: 0.12142484289700095\n",
            "loss: 0.12137014745718935\n",
            "loss: 0.12121570199404073\n",
            "loss: 0.12110593902724547\n",
            "loss: 0.12094987563372075\n",
            "loss: 0.120801493400635\n",
            "loss: 0.12064852436284848\n",
            "loss: 0.12054169420957109\n",
            "loss: 0.12038806355681389\n",
            "loss: 0.12025111811494248\n",
            "loss: 0.12017145599193364\n",
            "loss: 0.12001912938069728\n",
            "loss: 0.11986858110596654\n",
            "loss: 0.11971851683206321\n",
            "loss: 0.11956659785889347\n",
            "loss: 0.1194192962618365\n",
            "loss: 0.1192729535667633\n",
            "loss: 0.11917606220135445\n",
            "loss: 0.11902900610952057\n",
            "loss: 0.11888010787509688\n",
            "loss: 0.11873247821607644\n",
            "loss: 0.11858380963908803\n",
            "loss: 0.1184738610958805\n",
            "loss: 0.11833163266443224\n",
            "loss: 0.11823047435886803\n",
            "loss: 0.11812829684704015\n",
            "loss: 0.117981412516227\n",
            "loss: 0.1178347276281414\n",
            "loss: 0.1176943767334414\n",
            "loss: 0.11754805785729676\n",
            "loss: 0.1174568273101942\n",
            "loss: 0.11731099254373872\n",
            "loss: 0.11720031249044842\n",
            "loss: 0.11705705642660139\n",
            "loss: 0.1169145175074571\n",
            "loss: 0.11677102366806914\n",
            "loss: 0.11663092020026332\n",
            "loss: 0.11649293048347142\n",
            "loss: 0.11634944785804113\n",
            "loss: 0.11620940828571717\n",
            "loss: 0.1160697564135458\n",
            "loss: 0.115927247627777\n",
            "loss: 0.11578573129210339\n",
            "loss: 0.11564467682451286\n",
            "loss: 0.11550518125048931\n"
          ],
          "name": "stdout"
        },
        {
          "output_type": "stream",
          "text": [
            "08/11/2021 20:08:13 - INFO - __main__ -   ***** Running evaluation on test dataset (756 step) *****\n",
            "08/11/2021 20:08:13 - INFO - __main__ -     Num examples = 1987\n",
            "08/11/2021 20:08:13 - INFO - __main__ -     Eval Batch size = 128\n"
          ],
          "name": "stderr"
        },
        {
          "output_type": "stream",
          "text": [
            "loss: 0.11536541630430196\n"
          ],
          "name": "stdout"
        },
        {
          "output_type": "display_data",
          "data": {
            "text/html": [
              "\n",
              "    <div>\n",
              "        <style>\n",
              "            /* Turns off some styling */\n",
              "            progress {\n",
              "                /* gets rid of default border in Firefox and Opera. */\n",
              "                border: none;\n",
              "                /* Needs to be in here for Safari polyfill so background images work as expected. */\n",
              "                background-size: auto;\n",
              "            }\n",
              "            .progress-bar-interrupted, .progress-bar-interrupted::-webkit-progress-bar {\n",
              "                background: #F44336;\n",
              "            }\n",
              "        </style>\n",
              "      <progress value='16' class='' max='16' style='width:300px; height:20px; vertical-align: middle;'></progress>\n",
              "      100.00% [16/16 00:06<00:00]\n",
              "    </div>\n",
              "    "
            ],
            "text/plain": [
              "<IPython.core.display.HTML object>"
            ]
          },
          "metadata": {
            "tags": []
          }
        },
        {
          "output_type": "display_data",
          "data": {
            "image/png": "[encoded data removed]",
            "text/plain": [
              "<Figure size 1080x576 with 2 Axes>"
            ]
          },
          "metadata": {
            "tags": [],
            "needs_background": "light"
          }
        },
        {
          "output_type": "stream",
          "text": [
            "08/11/2021 20:08:23 - INFO - __main__ -   ***** Eval results on test dataset *****\n",
            "08/11/2021 20:08:23 - INFO - __main__ -     acc = 0.9879214896829391\n"
          ],
          "name": "stderr"
        },
        {
          "output_type": "stream",
          "text": [
            "                                              Review  ...                  Softmax\n",
            "0  조금 전 상담원과의 통화대기는 길지 않았으나 다른 때 상담원과 통화 연결까지의 시간...  ...  [-2.9245584, 2.3148265]\n",
            "1  내가 우긴 것도 아닌데 상대 얘기를 끝까지 들어주었으면 싶더군요 타 카드사 얘기에요...  ...   [-1.880687, 1.4150059]\n",
            "2     다른 카드사는 상담원 연결이 너무 느리거나 안될 때가 많은데 삼성은 대기시간이 짧다  ...  [-2.3099272, 1.7598721]\n",
            "3  다른 곳에서는 최선을 다해 고객의 문제 해결을 위해 노력하고 [UNK] 공감을 해주...  ...   [2.133413, -1.8373194]\n",
            "4                               기다리는 시간이 불편하지 산 괜찮아요  ...  [1.8659338, -1.7550195]\n",
            "\n",
            "[5 rows x 4 columns]\n",
            "{'acc': 0.9879214896829391}\n"
          ],
          "name": "stdout"
        },
        {
          "output_type": "stream",
          "text": [
            "08/11/2021 20:08:25 - INFO - __main__ -   Saving model checkpoint to sentiment_checkpoints/checkpoint-756\n"
          ],
          "name": "stderr"
        },
        {
          "output_type": "stream",
          "text": [
            "loss: 0.1152283739276437\n",
            "loss: 0.11518221751646701\n",
            "loss: 0.11504199678306523\n",
            "loss: 0.1149030171212201\n",
            "loss: 0.1147691639832927\n",
            "loss: 0.11463230210808631\n",
            "loss: 0.11449487055596916\n",
            "loss: 0.11435736275000098\n",
            "loss: 0.11422259959520079\n",
            "loss: 0.11408598156033117\n",
            "loss: 0.1139495918524817\n",
            "loss: 0.11381312717761223\n",
            "loss: 0.11376829117885337\n",
            "loss: 0.11363283218936873\n",
            "loss: 0.11349658023725456\n",
            "loss: 0.11336150037612129\n",
            "loss: 0.11322715841980716\n",
            "loss: 0.11309254200628523\n",
            "loss: 0.11300240955405658\n",
            "loss: 0.11287015847760953\n",
            "loss: 0.11279867934075063\n",
            "loss: 0.11271338663147738\n",
            "loss: 0.11268274967507273\n",
            "loss: 0.11254980372838103\n",
            "loss: 0.112417321348093\n",
            "loss: 0.11228498494814691\n",
            "loss: 0.11216930989746961\n",
            "loss: 0.1120388786728988\n",
            "loss: 0.11190680243834189\n",
            "loss: 0.11182241949653277\n",
            "loss: 0.11169172259665354\n",
            "loss: 0.11156317118323658\n",
            "loss: 0.11147431989468361\n",
            "loss: 0.11134372047985656\n",
            "loss: 0.11121340533165089\n",
            "loss: 0.11108414100652392\n",
            "loss: 0.11100104269847594\n",
            "loss: 0.11087239084891994\n",
            "loss: 0.11074327212881367\n",
            "loss: 0.11061509142643842\n",
            "loss: 0.11053635842322256\n",
            "loss: 0.110408266297866\n",
            "loss: 0.1102855152139284\n",
            "loss: 0.11016367084113882\n",
            "loss: 0.11003927788237916\n",
            "loss: 0.10991440272130573\n",
            "loss: 0.10978765996662461\n",
            "loss: 0.10966203620411752\n",
            "loss: 0.10953637995057225\n",
            "loss: 0.1094108984861107\n",
            "loss: 0.10928665003318067\n",
            "loss: 0.10919382460622837\n",
            "loss: 0.10913686063462967\n",
            "loss: 0.1090174374619016\n",
            "loss: 0.10889533257545989\n",
            "loss: 0.1087854832486511\n",
            "loss: 0.10866259591628741\n",
            "loss: 0.10854018473178514\n",
            "loss: 0.10841681719100549\n",
            "loss: 0.10833485526324925\n",
            "loss: 0.10825575945153376\n",
            "loss: 0.10813336107142106\n"
          ],
          "name": "stdout"
        },
        {
          "output_type": "stream",
          "text": [
            "08/11/2021 20:09:41 - INFO - __main__ -   ***** Running evaluation on test dataset (819 step) *****\n",
            "08/11/2021 20:09:41 - INFO - __main__ -     Num examples = 1987\n",
            "08/11/2021 20:09:41 - INFO - __main__ -     Eval Batch size = 128\n"
          ],
          "name": "stderr"
        },
        {
          "output_type": "stream",
          "text": [
            "loss: 0.10800958928960275\n"
          ],
          "name": "stdout"
        },
        {
          "output_type": "display_data",
          "data": {
            "text/html": [
              "\n",
              "    <div>\n",
              "        <style>\n",
              "            /* Turns off some styling */\n",
              "            progress {\n",
              "                /* gets rid of default border in Firefox and Opera. */\n",
              "                border: none;\n",
              "                /* Needs to be in here for Safari polyfill so background images work as expected. */\n",
              "                background-size: auto;\n",
              "            }\n",
              "            .progress-bar-interrupted, .progress-bar-interrupted::-webkit-progress-bar {\n",
              "                background: #F44336;\n",
              "            }\n",
              "        </style>\n",
              "      <progress value='16' class='' max='16' style='width:300px; height:20px; vertical-align: middle;'></progress>\n",
              "      100.00% [16/16 00:06<00:00]\n",
              "    </div>\n",
              "    "
            ],
            "text/plain": [
              "<IPython.core.display.HTML object>"
            ]
          },
          "metadata": {
            "tags": []
          }
        },
        {
          "output_type": "display_data",
          "data": {
            "image/png": "[encoded data removed]",
            "text/plain": [
              "<Figure size 1080x576 with 2 Axes>"
            ]
          },
          "metadata": {
            "tags": [],
            "needs_background": "light"
          }
        },
        {
          "output_type": "stream",
          "text": [
            "08/11/2021 20:09:51 - INFO - __main__ -   ***** Eval results on test dataset *****\n",
            "08/11/2021 20:09:51 - INFO - __main__ -     acc = 0.9894313034725717\n"
          ],
          "name": "stderr"
        },
        {
          "output_type": "stream",
          "text": [
            "                                              Review  ...                  Softmax\n",
            "0  조금 전 상담원과의 통화대기는 길지 않았으나 다른 때 상담원과 통화 연결까지의 시간...  ...  [-2.9794943, 2.3678358]\n",
            "1  내가 우긴 것도 아닌데 상대 얘기를 끝까지 들어주었으면 싶더군요 타 카드사 얘기에요...  ...  [-2.1826594, 1.6845412]\n",
            "2     다른 카드사는 상담원 연결이 너무 느리거나 안될 때가 많은데 삼성은 대기시간이 짧다  ...  [-2.4647255, 1.9035331]\n",
            "3  다른 곳에서는 최선을 다해 고객의 문제 해결을 위해 노력하고 [UNK] 공감을 해주...  ...   [2.162111, -1.8662224]\n",
            "4                               기다리는 시간이 불편하지 산 괜찮아요  ...  [1.7798603, -1.6921046]\n",
            "\n",
            "[5 rows x 4 columns]\n",
            "{'acc': 0.9894313034725717}\n"
          ],
          "name": "stdout"
        },
        {
          "output_type": "stream",
          "text": [
            "08/11/2021 20:09:53 - INFO - __main__ -   Saving model checkpoint to sentiment_checkpoints/checkpoint-819\n"
          ],
          "name": "stderr"
        },
        {
          "output_type": "stream",
          "text": [
            "loss: 0.10788895730099572\n",
            "loss: 0.10776709665994678\n",
            "loss: 0.10768959837752665\n",
            "loss: 0.1075685365710584\n",
            "loss: 0.10749056491519333\n",
            "loss: 0.10737010678953746\n",
            "loss: 0.10729103528141308\n",
            "loss: 0.10717106626471538\n",
            "loss: 0.1070564220674057\n",
            "loss: 0.1069366873210505\n",
            "loss: 0.10685748024170388\n",
            "loss: 0.10673879717211054\n",
            "loss: 0.10662723228709253\n",
            "loss: 0.10652717771254579\n",
            "loss: 0.10641596706001182\n",
            "loss: 0.10629964869101337\n",
            "loss: 0.10618241621196965\n",
            "loss: 0.10606581411461302\n",
            "loss: 0.10595730397803597\n",
            "loss: 0.10584048181827733\n",
            "loss: 0.10572599639417604\n",
            "loss: 0.10562637550025451\n",
            "loss: 0.1055118352967821\n",
            "loss: 0.10539686633715868\n",
            "loss: 0.10530168862883178\n",
            "loss: 0.10518651663452475\n",
            "loss: 0.10509121792895133\n",
            "loss: 0.10497679997624779\n",
            "loss: 0.10486330696049954\n",
            "loss: 0.1047505837737926\n",
            "loss: 0.10463705817840117\n",
            "loss: 0.10456953790273023\n",
            "loss: 0.10445704861891679\n",
            "loss: 0.10438857351430852\n",
            "loss: 0.1042777038112815\n",
            "loss: 0.10425646515584916\n",
            "loss: 0.10414400983603984\n",
            "loss: 0.10403282924032528\n",
            "loss: 0.10395643047473908\n",
            "loss: 0.10384459164247298\n",
            "loss: 0.10373372200843986\n",
            "loss: 0.10365880273431799\n",
            "loss: 0.10354753390112309\n",
            "loss: 0.10343669156294623\n",
            "loss: 0.10332892571534978\n",
            "loss: 0.1032181661360698\n",
            "loss: 0.10310805733068297\n",
            "loss: 0.10299913438559094\n",
            "loss: 0.10289040810218261\n",
            "loss: 0.10278057055847914\n",
            "loss: 0.10267109976192915\n",
            "loss: 0.1026161227425524\n",
            "loss: 0.10250766860019979\n",
            "loss: 0.10244436778143082\n",
            "loss: 0.10233587996652713\n",
            "loss: 0.10222778979954975\n",
            "loss: 0.10220058539352851\n",
            "loss: 0.1020957641361946\n",
            "loss: 0.10203273131210858\n",
            "loss: 0.10192549369955886\n",
            "loss: 0.10181971078643322\n",
            "loss: 0.10171364066978572\n"
          ],
          "name": "stdout"
        },
        {
          "output_type": "stream",
          "text": [
            "08/11/2021 20:11:10 - INFO - __main__ -   ***** Running evaluation on test dataset (882 step) *****\n",
            "08/11/2021 20:11:10 - INFO - __main__ -     Num examples = 1987\n",
            "08/11/2021 20:11:10 - INFO - __main__ -     Eval Batch size = 128\n"
          ],
          "name": "stderr"
        },
        {
          "output_type": "stream",
          "text": [
            "loss: 0.1016067214111656\n"
          ],
          "name": "stdout"
        },
        {
          "output_type": "display_data",
          "data": {
            "text/html": [
              "\n",
              "    <div>\n",
              "        <style>\n",
              "            /* Turns off some styling */\n",
              "            progress {\n",
              "                /* gets rid of default border in Firefox and Opera. */\n",
              "                border: none;\n",
              "                /* Needs to be in here for Safari polyfill so background images work as expected. */\n",
              "                background-size: auto;\n",
              "            }\n",
              "            .progress-bar-interrupted, .progress-bar-interrupted::-webkit-progress-bar {\n",
              "                background: #F44336;\n",
              "            }\n",
              "        </style>\n",
              "      <progress value='16' class='' max='16' style='width:300px; height:20px; vertical-align: middle;'></progress>\n",
              "      100.00% [16/16 00:06<00:00]\n",
              "    </div>\n",
              "    "
            ],
            "text/plain": [
              "<IPython.core.display.HTML object>"
            ]
          },
          "metadata": {
            "tags": []
          }
        },
        {
          "output_type": "display_data",
          "data": {
            "image/png": "[encoded data removed]",
            "text/plain": [
              "<Figure size 1080x576 with 2 Axes>"
            ]
          },
          "metadata": {
            "tags": [],
            "needs_background": "light"
          }
        },
        {
          "output_type": "stream",
          "text": [
            "08/11/2021 20:11:19 - INFO - __main__ -   ***** Eval results on test dataset *****\n",
            "08/11/2021 20:11:19 - INFO - __main__ -     acc = 0.9874182184197282\n"
          ],
          "name": "stderr"
        },
        {
          "output_type": "stream",
          "text": [
            "                                              Review  ...                  Softmax\n",
            "0  조금 전 상담원과의 통화대기는 길지 않았으나 다른 때 상담원과 통화 연결까지의 시간...  ...  [-3.0185363, 2.4041796]\n",
            "1  내가 우긴 것도 아닌데 상대 얘기를 끝까지 들어주었으면 싶더군요 타 카드사 얘기에요...  ...  [-2.2234797, 1.7276386]\n",
            "2     다른 카드사는 상담원 연결이 너무 느리거나 안될 때가 많은데 삼성은 대기시간이 짧다  ...  [-2.5201597, 1.9583786]\n",
            "3  다른 곳에서는 최선을 다해 고객의 문제 해결을 위해 노력하고 [UNK] 공감을 해주...  ...   [2.193275, -1.8917375]\n",
            "4                               기다리는 시간이 불편하지 산 괜찮아요  ...  [1.9660128, -1.8446243]\n",
            "\n",
            "[5 rows x 4 columns]\n",
            "{'acc': 0.9874182184197282}\n"
          ],
          "name": "stdout"
        },
        {
          "output_type": "stream",
          "text": [
            "08/11/2021 20:11:22 - INFO - __main__ -   Saving model checkpoint to sentiment_checkpoints/checkpoint-882\n"
          ],
          "name": "stderr"
        },
        {
          "output_type": "stream",
          "text": [
            "loss: 0.10150322083400674\n",
            "loss: 0.10140065923312097\n",
            "loss: 0.10130253993185226\n",
            "loss: 0.10119717153373677\n",
            "loss: 0.10109143219247729\n",
            "loss: 0.10102102689199603\n",
            "loss: 0.1009596741875619\n",
            "loss: 0.10085689062723534\n",
            "loss: 0.10075945426437138\n",
            "loss: 0.10065491038328662\n",
            "loss: 0.10055111775180994\n",
            "loss: 0.10044998774863363\n",
            "loss: 0.1003464581663382\n",
            "loss: 0.10028695198707283\n",
            "loss: 0.10022397265419647\n",
            "loss: 0.1001228411901817\n",
            "loss: 0.1000196980483399\n",
            "loss: 0.09991652624681592\n",
            "loss: 0.09982164790822848\n",
            "loss: 0.0997205372443402\n",
            "loss: 0.09966648265137724\n",
            "loss: 0.09956516127052627\n",
            "loss: 0.09946321926712579\n",
            "loss: 0.09937518859070378\n",
            "loss: 0.09927490126811864\n",
            "loss: 0.09917378358159312\n",
            "loss: 0.09911324764367263\n",
            "loss: 0.09904928926102162\n",
            "loss: 0.09896911968018055\n",
            "loss: 0.0988798807543629\n",
            "loss: 0.0987979731500059\n",
            "loss: 0.09878932289968712\n",
            "loss: 0.09868965203481946\n",
            "loss: 0.09858977748182761\n",
            "loss: 0.09851928972491879\n",
            "loss: 0.09841993668731423\n",
            "loss: 0.09834474132531064\n",
            "loss: 0.09824638274174345\n",
            "loss: 0.09814782045431734\n",
            "loss: 0.09804906945932179\n",
            "loss: 0.09795065543928132\n",
            "loss: 0.0978527365582975\n",
            "loss: 0.09775821439317754\n",
            "loss: 0.09767525474546923\n",
            "loss: 0.09758033181873212\n",
            "loss: 0.0974881656122683\n",
            "loss: 0.0973908001586065\n",
            "loss: 0.09729350920696493\n",
            "loss: 0.09719685822971381\n",
            "loss: 0.09710661682765931\n",
            "loss: 0.0970111454204164\n",
            "loss: 0.09695944525510855\n",
            "loss: 0.09687230053163547\n",
            "loss: 0.09677919920018484\n",
            "loss: 0.0966831731645782\n",
            "loss: 0.09658991947307435\n",
            "loss: 0.09649710160857651\n",
            "loss: 0.09640287057090392\n",
            "loss: 0.09630951777003571\n",
            "loss: 0.09624980847181203\n",
            "loss: 0.09615514994266099\n",
            "loss: 0.09606135868116171\n"
          ],
          "name": "stdout"
        },
        {
          "output_type": "stream",
          "text": [
            "08/11/2021 20:12:39 - INFO - __main__ -   ***** Running evaluation on test dataset (945 step) *****\n",
            "08/11/2021 20:12:39 - INFO - __main__ -     Num examples = 1987\n",
            "08/11/2021 20:12:39 - INFO - __main__ -     Eval Batch size = 128\n"
          ],
          "name": "stderr"
        },
        {
          "output_type": "stream",
          "text": [
            "loss: 0.09596730174654454\n"
          ],
          "name": "stdout"
        },
        {
          "output_type": "display_data",
          "data": {
            "text/html": [
              "\n",
              "    <div>\n",
              "        <style>\n",
              "            /* Turns off some styling */\n",
              "            progress {\n",
              "                /* gets rid of default border in Firefox and Opera. */\n",
              "                border: none;\n",
              "                /* Needs to be in here for Safari polyfill so background images work as expected. */\n",
              "                background-size: auto;\n",
              "            }\n",
              "            .progress-bar-interrupted, .progress-bar-interrupted::-webkit-progress-bar {\n",
              "                background: #F44336;\n",
              "            }\n",
              "        </style>\n",
              "      <progress value='16' class='' max='16' style='width:300px; height:20px; vertical-align: middle;'></progress>\n",
              "      100.00% [16/16 00:06<00:00]\n",
              "    </div>\n",
              "    "
            ],
            "text/plain": [
              "<IPython.core.display.HTML object>"
            ]
          },
          "metadata": {
            "tags": []
          }
        },
        {
          "output_type": "display_data",
          "data": {
            "image/png": "[encoded data removed]",
            "text/plain": [
              "<Figure size 1080x576 with 2 Axes>"
            ]
          },
          "metadata": {
            "tags": [],
            "needs_background": "light"
          }
        },
        {
          "output_type": "stream",
          "text": [
            "08/11/2021 20:12:48 - INFO - __main__ -   ***** Eval results on test dataset *****\n",
            "08/11/2021 20:12:48 - INFO - __main__ -     acc = 0.9879214896829391\n"
          ],
          "name": "stderr"
        },
        {
          "output_type": "stream",
          "text": [
            "                                              Review  ...                  Softmax\n",
            "0  조금 전 상담원과의 통화대기는 길지 않았으나 다른 때 상담원과 통화 연결까지의 시간...  ...  [-3.0493028, 2.4298859]\n",
            "1  내가 우긴 것도 아닌데 상대 얘기를 끝까지 들어주었으면 싶더군요 타 카드사 얘기에요...  ...  [-1.8871962, 1.4290974]\n",
            "2     다른 카드사는 상담원 연결이 너무 느리거나 안될 때가 많은데 삼성은 대기시간이 짧다  ...  [-2.5069706, 1.9416729]\n",
            "3  다른 곳에서는 최선을 다해 고객의 문제 해결을 위해 노력하고 [UNK] 공감을 해주...  ...    [2.2907898, -1.97815]\n",
            "4                               기다리는 시간이 불편하지 산 괜찮아요  ...  [1.9206394, -1.8109787]\n",
            "\n",
            "[5 rows x 4 columns]\n",
            "{'acc': 0.9879214896829391}\n"
          ],
          "name": "stdout"
        },
        {
          "output_type": "stream",
          "text": [
            "08/11/2021 20:12:51 - INFO - __main__ -   Saving model checkpoint to sentiment_checkpoints/checkpoint-945\n"
          ],
          "name": "stderr"
        },
        {
          "output_type": "stream",
          "text": [
            "loss: 0.09587443115762642\n",
            "loss: 0.09578083507045947\n",
            "loss: 0.09568786411153207\n",
            "loss: 0.09563447007746509\n",
            "loss: 0.09556428930771194\n",
            "loss: 0.09555487643700136\n",
            "loss: 0.09546206836704117\n",
            "loss: 0.09540454676601516\n",
            "loss: 0.09531245064048928\n",
            "loss: 0.09525905155250071\n",
            "loss: 0.09520666098327349\n",
            "loss: 0.09511452237223912\n",
            "loss: 0.0950959082002633\n",
            "loss: 0.09500470777489906\n",
            "loss: 0.09491373873412765\n",
            "loss: 0.09482274093867728\n",
            "loss: 0.09473150544131868\n",
            "loss: 0.09464131366182989\n",
            "loss: 0.09455076714444334\n",
            "loss: 0.09446006646630754\n",
            "loss: 0.094370479365294\n",
            "loss: 0.09428078967080121\n",
            "loss: 0.09419127635865603\n",
            "loss: 0.09410092531981175\n",
            "loss: 0.09401189680595297\n",
            "loss: 0.09392245249471691\n",
            "loss: 0.09383520290615811\n",
            "loss: 0.0937485312372982\n",
            "loss: 0.09365916858404279\n",
            "loss: 0.09357092498156887\n",
            "loss: 0.09348294008513683\n",
            "loss: 0.09339788788834257\n",
            "loss: 0.0933097019783985\n",
            "loss: 0.09322199463678774\n",
            "loss: 0.09313397918428694\n",
            "loss: 0.09304598813485374\n",
            "loss: 0.09295921441871301\n",
            "loss: 0.09287303523989518\n",
            "loss: 0.09278554267229179\n",
            "loss: 0.0926981999567204\n",
            "loss: 0.0926114543460113\n",
            "loss: 0.09252470468285115\n",
            "loss: 0.09243858697341552\n",
            "loss: 0.09235256746377422\n",
            "loss: 0.09226582180144209\n",
            "loss: 0.09218003443234593\n",
            "loss: 0.09209420814858599\n",
            "loss: 0.09201332741048401\n",
            "loss: 0.09196828983694134\n",
            "loss: 0.0918828619353885\n",
            "loss: 0.09179890629869089\n",
            "loss: 0.09171462901975351\n",
            "loss: 0.09167229876907651\n",
            "loss: 0.09161002004148068\n",
            "loss: 0.0915539496857673\n",
            "loss: 0.09146964477308162\n",
            "loss: 0.09138503934148914\n",
            "loss: 0.09130074274248015\n",
            "loss: 0.09121727525252864\n",
            "loss: 0.0911339788614258\n",
            "loss: 0.09105121881041905\n",
            "loss: 0.09096768710627234\n"
          ],
          "name": "stdout"
        },
        {
          "output_type": "stream",
          "text": [
            "08/11/2021 20:14:07 - INFO - __main__ -   ***** Running evaluation on test dataset (1008 step) *****\n",
            "08/11/2021 20:14:07 - INFO - __main__ -     Num examples = 1987\n",
            "08/11/2021 20:14:07 - INFO - __main__ -     Eval Batch size = 128\n"
          ],
          "name": "stderr"
        },
        {
          "output_type": "stream",
          "text": [
            "loss: 0.09088381126085074\n"
          ],
          "name": "stdout"
        },
        {
          "output_type": "display_data",
          "data": {
            "text/html": [
              "\n",
              "    <div>\n",
              "        <style>\n",
              "            /* Turns off some styling */\n",
              "            progress {\n",
              "                /* gets rid of default border in Firefox and Opera. */\n",
              "                border: none;\n",
              "                /* Needs to be in here for Safari polyfill so background images work as expected. */\n",
              "                background-size: auto;\n",
              "            }\n",
              "            .progress-bar-interrupted, .progress-bar-interrupted::-webkit-progress-bar {\n",
              "                background: #F44336;\n",
              "            }\n",
              "        </style>\n",
              "      <progress value='16' class='' max='16' style='width:300px; height:20px; vertical-align: middle;'></progress>\n",
              "      100.00% [16/16 00:06<00:00]\n",
              "    </div>\n",
              "    "
            ],
            "text/plain": [
              "<IPython.core.display.HTML object>"
            ]
          },
          "metadata": {
            "tags": []
          }
        },
        {
          "output_type": "display_data",
          "data": {
            "image/png": "[encoded data removed]",
            "text/plain": [
              "<Figure size 1080x576 with 2 Axes>"
            ]
          },
          "metadata": {
            "tags": [],
            "needs_background": "light"
          }
        },
        {
          "output_type": "stream",
          "text": [
            "08/11/2021 20:14:17 - INFO - __main__ -   ***** Eval results on test dataset *****\n",
            "08/11/2021 20:14:17 - INFO - __main__ -     acc = 0.98842476094615\n"
          ],
          "name": "stderr"
        },
        {
          "output_type": "stream",
          "text": [
            "                                              Review  ...                   Softmax\n",
            "0  조금 전 상담원과의 통화대기는 길지 않았으나 다른 때 상담원과 통화 연결까지의 시간...  ...   [-3.0975533, 2.4766755]\n",
            "1  내가 우긴 것도 아닌데 상대 얘기를 끝까지 들어주었으면 싶더군요 타 카드사 얘기에요...  ...    [-2.6302583, 2.090394]\n",
            "2     다른 카드사는 상담원 연결이 너무 느리거나 안될 때가 많은데 삼성은 대기시간이 짧다  ...    [-2.697497, 2.1174128]\n",
            "3  다른 곳에서는 최선을 다해 고객의 문제 해결을 위해 노력하고 [UNK] 공감을 해주...  ...    [2.144528, -1.8490653]\n",
            "4                               기다리는 시간이 불편하지 산 괜찮아요  ...  [0.83005947, -0.9078663]\n",
            "\n",
            "[5 rows x 4 columns]\n",
            "{'acc': 0.98842476094615}\n"
          ],
          "name": "stdout"
        },
        {
          "output_type": "stream",
          "text": [
            "08/11/2021 20:14:19 - INFO - __main__ -   Saving model checkpoint to sentiment_checkpoints/checkpoint-1008\n"
          ],
          "name": "stderr"
        },
        {
          "output_type": "stream",
          "text": [
            "loss: 0.0908006997137516\n",
            "loss: 0.0907540168129092\n",
            "loss: 0.0906715103568791\n",
            "loss: 0.09058965891995376\n",
            "loss: 0.0905073581402248\n",
            "loss: 0.0904251056276923\n",
            "loss: 0.09038901804519697\n",
            "loss: 0.09030868094432806\n",
            "loss: 0.09026542439371817\n",
            "loss: 0.09023327421495775\n",
            "loss: 0.09015122056555759\n",
            "loss: 0.09007013234967257\n",
            "loss: 0.08998895467584633\n",
            "loss: 0.08990836526730157\n",
            "loss: 0.08982710151469749\n",
            "loss: 0.08974625388145796\n",
            "loss: 0.08966587439860876\n",
            "loss: 0.08958743530921057\n",
            "loss: 0.08950731236289937\n",
            "loss: 0.08942681419434831\n",
            "loss: 0.0893462337467519\n",
            "loss: 0.08928218919973711\n",
            "loss: 0.08923404466742009\n",
            "loss: 0.08919100590319148\n",
            "loss: 0.08911147635404854\n",
            "loss: 0.08903416777227788\n",
            "loss: 0.08895478833484764\n",
            "loss: 0.08887527341923845\n",
            "loss: 0.08879603231110203\n",
            "loss: 0.08871713757599294\n",
            "loss: 0.08863982267066463\n",
            "loss: 0.08859762754246521\n",
            "loss: 0.08851888474286333\n",
            "loss: 0.08844310362758954\n",
            "loss: 0.08836515248089685\n",
            "loss: 0.08828962904979186\n",
            "loss: 0.08821173318835537\n",
            "loss: 0.08813347782490928\n",
            "loss: 0.08805606214315369\n",
            "loss: 0.08797865840721918\n",
            "loss: 0.08794276919384603\n",
            "loss: 0.08788455118247795\n",
            "loss: 0.08780697551152743\n",
            "loss: 0.08772944373622212\n",
            "loss: 0.08765238128710408\n",
            "loss: 0.08760799272507216\n",
            "loss: 0.08753203207061966\n",
            "loss: 0.08745775068360451\n",
            "loss: 0.0873897273711113\n",
            "loss: 0.08731348506247164\n",
            "loss: 0.08723982842595117\n",
            "loss: 0.08716384221949035\n",
            "loss: 0.08708837190484953\n",
            "loss: 0.08705042253806135\n",
            "loss: 0.0869759174010358\n",
            "loss: 0.08690035143819869\n",
            "loss: 0.08687108407636554\n",
            "loss: 0.08683498869702486\n",
            "loss: 0.08675930870569468\n",
            "loss: 0.08668600336634572\n",
            "loss: 0.08661106907892398\n",
            "loss: 0.08653626057806764\n"
          ],
          "name": "stdout"
        },
        {
          "output_type": "stream",
          "text": [
            "08/11/2021 20:15:36 - INFO - __main__ -   ***** Running evaluation on test dataset (1071 step) *****\n",
            "08/11/2021 20:15:36 - INFO - __main__ -     Num examples = 1987\n",
            "08/11/2021 20:15:36 - INFO - __main__ -     Eval Batch size = 128\n"
          ],
          "name": "stderr"
        },
        {
          "output_type": "stream",
          "text": [
            "loss: 0.08646199506699663\n"
          ],
          "name": "stdout"
        },
        {
          "output_type": "display_data",
          "data": {
            "text/html": [
              "\n",
              "    <div>\n",
              "        <style>\n",
              "            /* Turns off some styling */\n",
              "            progress {\n",
              "                /* gets rid of default border in Firefox and Opera. */\n",
              "                border: none;\n",
              "                /* Needs to be in here for Safari polyfill so background images work as expected. */\n",
              "                background-size: auto;\n",
              "            }\n",
              "            .progress-bar-interrupted, .progress-bar-interrupted::-webkit-progress-bar {\n",
              "                background: #F44336;\n",
              "            }\n",
              "        </style>\n",
              "      <progress value='16' class='' max='16' style='width:300px; height:20px; vertical-align: middle;'></progress>\n",
              "      100.00% [16/16 00:06<00:00]\n",
              "    </div>\n",
              "    "
            ],
            "text/plain": [
              "<IPython.core.display.HTML object>"
            ]
          },
          "metadata": {
            "tags": []
          }
        },
        {
          "output_type": "display_data",
          "data": {
            "image/png": "[encoded data removed]",
            "text/plain": [
              "<Figure size 1080x576 with 2 Axes>"
            ]
          },
          "metadata": {
            "tags": [],
            "needs_background": "light"
          }
        },
        {
          "output_type": "stream",
          "text": [
            "08/11/2021 20:15:46 - INFO - __main__ -   ***** Eval results on test dataset *****\n",
            "08/11/2021 20:15:46 - INFO - __main__ -     acc = 0.98842476094615\n"
          ],
          "name": "stderr"
        },
        {
          "output_type": "stream",
          "text": [
            "                                              Review  ...                  Softmax\n",
            "0  조금 전 상담원과의 통화대기는 길지 않았으나 다른 때 상담원과 통화 연결까지의 시간...  ...  [-3.1157012, 2.4907331]\n",
            "1  내가 우긴 것도 아닌데 상대 얘기를 끝까지 들어주었으면 싶더군요 타 카드사 얘기에요...  ...  [-2.4697466, 1.9419267]\n",
            "2     다른 카드사는 상담원 연결이 너무 느리거나 안될 때가 많은데 삼성은 대기시간이 짧다  ...    [-2.64458, 2.0632663]\n",
            "3  다른 곳에서는 최선을 다해 고객의 문제 해결을 위해 노력하고 [UNK] 공감을 해주...  ...  [2.2353625, -1.9280717]\n",
            "4                               기다리는 시간이 불편하지 산 괜찮아요  ...  [1.3486145, -1.3431752]\n",
            "\n",
            "[5 rows x 4 columns]\n",
            "{'acc': 0.98842476094615}\n"
          ],
          "name": "stdout"
        },
        {
          "output_type": "stream",
          "text": [
            "08/11/2021 20:15:48 - INFO - __main__ -   Saving model checkpoint to sentiment_checkpoints/checkpoint-1071\n"
          ],
          "name": "stderr"
        },
        {
          "output_type": "stream",
          "text": [
            "loss: 0.08638751628780876\n",
            "loss: 0.08631732064591788\n",
            "loss: 0.08624287961168801\n",
            "loss: 0.08616888715950556\n",
            "loss: 0.08611539287880396\n",
            "loss: 0.08604147520042547\n",
            "loss: 0.08600274516927883\n",
            "loss: 0.08593110529277767\n",
            "loss: 0.08585832465603879\n",
            "loss: 0.08582336266346752\n",
            "loss: 0.08574990207560071\n",
            "loss: 0.0856772631278652\n",
            "loss: 0.0856205815482864\n",
            "loss: 0.08554752427174749\n",
            "loss: 0.08547601967271329\n",
            "loss: 0.08540487149173416\n",
            "loss: 0.08535084046632298\n",
            "loss: 0.08530741926672619\n",
            "loss: 0.08524364862813179\n",
            "loss: 0.0851711963737037\n",
            "loss: 0.08513501088259462\n",
            "loss: 0.08506317716006663\n",
            "loss: 0.08500030821179069\n",
            "loss: 0.08496032875184327\n",
            "loss: 0.08488963030951682\n",
            "loss: 0.08481871900331218\n",
            "loss: 0.08474728216303475\n",
            "loss: 0.0846774049172749\n",
            "loss: 0.08460621505002068\n",
            "loss: 0.0845431778778734\n",
            "loss: 0.08450710360499981\n",
            "loss: 0.08443671651648954\n",
            "loss: 0.08436767271748555\n",
            "loss: 0.08429716802096812\n",
            "loss: 0.08426250406763235\n",
            "loss: 0.08420032417896357\n",
            "loss: 0.08413141476963765\n",
            "loss: 0.08406122572001194\n",
            "loss: 0.08399647852775079\n",
            "loss: 0.08399624273459269\n",
            "loss: 0.08392815407124354\n",
            "loss: 0.08385969564420742\n",
            "loss: 0.08382324219841837\n",
            "loss: 0.08375371488170373\n",
            "loss: 0.08368495162109106\n",
            "loss: 0.08361572231230265\n",
            "loss: 0.08354686394130581\n",
            "loss: 0.08348091266936122\n",
            "loss: 0.08341276850135598\n",
            "loss: 0.08334507916312096\n",
            "loss: 0.0832773794830111\n",
            "loss: 0.08320880013510572\n",
            "loss: 0.08314059840952745\n",
            "loss: 0.08307243600529102\n",
            "loss: 0.08304102998102815\n",
            "loss: 0.08297490380487893\n",
            "loss: 0.08290701177043854\n",
            "loss: 0.08283900690204782\n",
            "loss: 0.0827713731482658\n",
            "loss: 0.08270387266532812\n",
            "loss: 0.0826366316640664\n",
            "loss: 0.08256915884235477\n"
          ],
          "name": "stdout"
        },
        {
          "output_type": "stream",
          "text": [
            "08/11/2021 20:17:05 - INFO - __main__ -   ***** Running evaluation on test dataset (1134 step) *****\n",
            "08/11/2021 20:17:05 - INFO - __main__ -     Num examples = 1987\n",
            "08/11/2021 20:17:05 - INFO - __main__ -     Eval Batch size = 128\n"
          ],
          "name": "stderr"
        },
        {
          "output_type": "stream",
          "text": [
            "loss: 0.08250325639868514\n"
          ],
          "name": "stdout"
        },
        {
          "output_type": "display_data",
          "data": {
            "text/html": [
              "\n",
              "    <div>\n",
              "        <style>\n",
              "            /* Turns off some styling */\n",
              "            progress {\n",
              "                /* gets rid of default border in Firefox and Opera. */\n",
              "                border: none;\n",
              "                /* Needs to be in here for Safari polyfill so background images work as expected. */\n",
              "                background-size: auto;\n",
              "            }\n",
              "            .progress-bar-interrupted, .progress-bar-interrupted::-webkit-progress-bar {\n",
              "                background: #F44336;\n",
              "            }\n",
              "        </style>\n",
              "      <progress value='16' class='' max='16' style='width:300px; height:20px; vertical-align: middle;'></progress>\n",
              "      100.00% [16/16 00:06<00:00]\n",
              "    </div>\n",
              "    "
            ],
            "text/plain": [
              "<IPython.core.display.HTML object>"
            ]
          },
          "metadata": {
            "tags": []
          }
        },
        {
          "output_type": "display_data",
          "data": {
            "image/png": "[encoded data removed]",
            "text/plain": [
              "<Figure size 1080x576 with 2 Axes>"
            ]
          },
          "metadata": {
            "tags": [],
            "needs_background": "light"
          }
        },
        {
          "output_type": "stream",
          "text": [
            "08/11/2021 20:17:14 - INFO - __main__ -   ***** Eval results on test dataset *****\n",
            "08/11/2021 20:17:14 - INFO - __main__ -     acc = 0.9879214896829391\n"
          ],
          "name": "stderr"
        },
        {
          "output_type": "stream",
          "text": [
            "                                              Review  ...                  Softmax\n",
            "0  조금 전 상담원과의 통화대기는 길지 않았으나 다른 때 상담원과 통화 연결까지의 시간...  ...  [-3.1262307, 2.5000918]\n",
            "1  내가 우긴 것도 아닌데 상대 얘기를 끝까지 들어주었으면 싶더군요 타 카드사 얘기에요...  ...   [-2.253083, 1.7501343]\n",
            "2     다른 카드사는 상담원 연결이 너무 느리거나 안될 때가 많은데 삼성은 대기시간이 짧다  ...   [-2.6100142, 2.031107]\n",
            "3  다른 곳에서는 최선을 다해 고객의 문제 해결을 위해 노력하고 [UNK] 공감을 해주...  ...  [2.2885873, -1.9745859]\n",
            "4                               기다리는 시간이 불편하지 산 괜찮아요  ...  [1.7961277, -1.7117131]\n",
            "\n",
            "[5 rows x 4 columns]\n",
            "{'acc': 0.9879214896829391}\n"
          ],
          "name": "stdout"
        },
        {
          "output_type": "stream",
          "text": [
            "08/11/2021 20:17:17 - INFO - __main__ -   Saving model checkpoint to sentiment_checkpoints/checkpoint-1134\n"
          ],
          "name": "stderr"
        },
        {
          "output_type": "stream",
          "text": [
            "loss: 0.08249228688834916\n",
            "loss: 0.08242751889727669\n",
            "loss: 0.08236626863050403\n",
            "loss: 0.08233306621183333\n",
            "loss: 0.08226624136967249\n",
            "loss: 0.08219985876665369\n",
            "loss: 0.08213322628885311\n",
            "loss: 0.08206702347179376\n",
            "loss: 0.08200082150984585\n",
            "loss: 0.08193531550037172\n",
            "loss: 0.08186958162886737\n",
            "loss: 0.08180351529016856\n",
            "loss: 0.08173749123967099\n",
            "loss: 0.08167177268534327\n",
            "loss: 0.0816061334600194\n",
            "loss: 0.08154076956495966\n",
            "loss: 0.08147565778959817\n",
            "loss: 0.0814171237264721\n",
            "loss: 0.0813563651133067\n",
            "loss: 0.08129177006781489\n",
            "loss: 0.08122910830913942\n",
            "loss: 0.08118304069505225\n",
            "loss: 0.0811183483222324\n",
            "loss: 0.0810543049894119\n",
            "loss: 0.08102266138581828\n",
            "loss: 0.08095816494495575\n",
            "loss: 0.08089423986331501\n",
            "loss: 0.0808304912841874\n",
            "loss: 0.08076682392073761\n",
            "loss: 0.08070275994718612\n",
            "loss: 0.08066513847655621\n",
            "loss: 0.080604773008394\n",
            "loss: 0.08054082675086016\n",
            "loss: 0.08047712807924716\n",
            "loss: 0.08041360029007465\n",
            "loss: 0.0803515643840576\n",
            "loss: 0.08028978461170622\n",
            "loss: 0.08022704571461681\n",
            "loss: 0.08019388787240388\n",
            "loss: 0.08013114065734679\n",
            "loss: 0.08010270864484792\n",
            "loss: 0.08007613249633107\n",
            "loss: 0.08002287220564325\n",
            "loss: 0.07996054567042453\n",
            "loss: 0.07989856002945532\n",
            "loss: 0.07984408748383491\n",
            "loss: 0.07981435132388792\n",
            "loss: 0.07979152103107542\n",
            "loss: 0.07972893848092573\n",
            "loss: 0.07969412523419345\n",
            "loss: 0.07963196152137428\n",
            "loss: 0.07957210917572348\n",
            "loss: 0.07954097812541815\n",
            "loss: 0.07947907194664533\n",
            "loss: 0.07941777245599786\n",
            "loss: 0.07935777914068591\n",
            "loss: 0.07929692844024333\n",
            "loss: 0.07926936550440904\n",
            "loss: 0.07921540005443257\n",
            "loss: 0.07915457569521352\n",
            "loss: 0.07909370418560056\n",
            "loss: 0.07903232811451781\n"
          ],
          "name": "stdout"
        },
        {
          "output_type": "stream",
          "text": [
            "08/11/2021 20:18:34 - INFO - __main__ -   ***** Running evaluation on test dataset (1197 step) *****\n",
            "08/11/2021 20:18:34 - INFO - __main__ -     Num examples = 1987\n",
            "08/11/2021 20:18:34 - INFO - __main__ -     Eval Batch size = 128\n"
          ],
          "name": "stderr"
        },
        {
          "output_type": "stream",
          "text": [
            "loss: 0.07897602022238816\n"
          ],
          "name": "stdout"
        },
        {
          "output_type": "display_data",
          "data": {
            "text/html": [
              "\n",
              "    <div>\n",
              "        <style>\n",
              "            /* Turns off some styling */\n",
              "            progress {\n",
              "                /* gets rid of default border in Firefox and Opera. */\n",
              "                border: none;\n",
              "                /* Needs to be in here for Safari polyfill so background images work as expected. */\n",
              "                background-size: auto;\n",
              "            }\n",
              "            .progress-bar-interrupted, .progress-bar-interrupted::-webkit-progress-bar {\n",
              "                background: #F44336;\n",
              "            }\n",
              "        </style>\n",
              "      <progress value='16' class='' max='16' style='width:300px; height:20px; vertical-align: middle;'></progress>\n",
              "      100.00% [16/16 00:06<00:00]\n",
              "    </div>\n",
              "    "
            ],
            "text/plain": [
              "<IPython.core.display.HTML object>"
            ]
          },
          "metadata": {
            "tags": []
          }
        },
        {
          "output_type": "display_data",
          "data": {
            "image/png": "[encoded data removed]",
            "text/plain": [
              "<Figure size 1080x576 with 2 Axes>"
            ]
          },
          "metadata": {
            "tags": [],
            "needs_background": "light"
          }
        },
        {
          "output_type": "stream",
          "text": [
            "08/11/2021 20:18:44 - INFO - __main__ -   ***** Eval results on test dataset *****\n",
            "08/11/2021 20:18:44 - INFO - __main__ -     acc = 0.9879214896829391\n"
          ],
          "name": "stderr"
        },
        {
          "output_type": "stream",
          "text": [
            "                                              Review  ...                  Softmax\n",
            "0  조금 전 상담원과의 통화대기는 길지 않았으나 다른 때 상담원과 통화 연결까지의 시간...  ...  [-3.1372755, 2.5101235]\n",
            "1  내가 우긴 것도 아닌데 상대 얘기를 끝까지 들어주었으면 싶더군요 타 카드사 얘기에요...  ...   [-2.296737, 1.7887437]\n",
            "2     다른 카드사는 상담원 연결이 너무 느리거나 안될 때가 많은데 삼성은 대기시간이 짧다  ...  [-2.6248555, 2.0440826]\n",
            "3  다른 곳에서는 최선을 다해 고객의 문제 해결을 위해 노력하고 [UNK] 공감을 해주...  ...  [2.2742832, -1.9611424]\n",
            "4                               기다리는 시간이 불편하지 산 괜찮아요  ...  [1.7929833, -1.7099849]\n",
            "\n",
            "[5 rows x 4 columns]\n",
            "{'acc': 0.9879214896829391}\n"
          ],
          "name": "stdout"
        },
        {
          "output_type": "stream",
          "text": [
            "08/11/2021 20:18:46 - INFO - __main__ -   Saving model checkpoint to sentiment_checkpoints/checkpoint-1197\n"
          ],
          "name": "stderr"
        },
        {
          "output_type": "stream",
          "text": [
            "loss: 0.07891553139216104\n",
            "loss: 0.07885470514840526\n",
            "loss: 0.07882394631199229\n",
            "loss: 0.07876347631005125\n",
            "loss: 0.07872821506540509\n",
            "loss: 0.07866837417068934\n",
            "loss: 0.07860808314962864\n",
            "loss: 0.07854822000712774\n",
            "loss: 0.07848832996331996\n",
            "loss: 0.07842844450235206\n",
            "loss: 0.07836910420743477\n",
            "loss: 0.07830954376512612\n",
            "loss: 0.07825058594130534\n",
            "loss: 0.0781908826379553\n",
            "loss: 0.07814263278947338\n",
            "loss: 0.0780836705291937\n",
            "loss: 0.07802461468402903\n",
            "loss: 0.07801283186056303\n",
            "loss: 0.07795378951031078\n",
            "loss: 0.07791383198524413\n",
            "loss: 0.07785803294084563\n",
            "loss: 0.07780341678807073\n",
            "loss: 0.07775235198453435\n",
            "loss: 0.07769406867464493\n",
            "loss: 0.07763537411302109\n",
            "loss: 0.07762886718211\n",
            "loss: 0.07759174048745383\n",
            "loss: 0.07753439042945297\n",
            "loss: 0.07747672643621877\n",
            "loss: 0.07741927140989716\n",
            "loss: 0.07736137540326894\n",
            "loss: 0.07730376645634701\n",
            "loss: 0.07724584728418811\n",
            "loss: 0.07718808548093738\n",
            "loss: 0.0771304348653013\n",
            "loss: 0.07707282489079556\n",
            "loss: 0.07703148995901984\n",
            "loss: 0.07700789365314159\n",
            "loss: 0.07698284465032947\n",
            "loss: 0.0769266192052173\n",
            "loss: 0.07686938836219719\n",
            "loss: 0.07681193294889076\n",
            "loss: 0.07679168145292468\n",
            "loss: 0.07673449410571387\n",
            "loss: 0.07667782942310047\n",
            "loss: 0.07665570750412976\n",
            "loss: 0.07659900846248763\n",
            "loss: 0.07654247133128614\n",
            "loss: 0.07648633545254137\n",
            "loss: 0.07643015195564057\n",
            "loss: 0.0763740465671827\n",
            "loss: 0.0763180537091149\n",
            "loss: 0.0762656029716134\n",
            "loss: 0.07623967644032671\n",
            "loss: 0.07621719111084414\n",
            "loss: 0.07616164398149952\n",
            "loss: 0.0761059378136389\n",
            "loss: 0.07605029775824146\n",
            "loss: 0.0759945705671688\n",
            "loss: 0.07593905567113746\n",
            "loss: 0.07591024758064725\n",
            "loss: 0.07586447478067115\n"
          ],
          "name": "stdout"
        },
        {
          "output_type": "stream",
          "text": [
            "08/11/2021 20:20:03 - INFO - __main__ -   ***** Running evaluation on test dataset (1260 step) *****\n",
            "08/11/2021 20:20:03 - INFO - __main__ -     Num examples = 1987\n",
            "08/11/2021 20:20:03 - INFO - __main__ -     Eval Batch size = 128\n"
          ],
          "name": "stderr"
        },
        {
          "output_type": "stream",
          "text": [
            "loss: 0.0758101148072571\n"
          ],
          "name": "stdout"
        },
        {
          "output_type": "display_data",
          "data": {
            "text/html": [
              "\n",
              "    <div>\n",
              "        <style>\n",
              "            /* Turns off some styling */\n",
              "            progress {\n",
              "                /* gets rid of default border in Firefox and Opera. */\n",
              "                border: none;\n",
              "                /* Needs to be in here for Safari polyfill so background images work as expected. */\n",
              "                background-size: auto;\n",
              "            }\n",
              "            .progress-bar-interrupted, .progress-bar-interrupted::-webkit-progress-bar {\n",
              "                background: #F44336;\n",
              "            }\n",
              "        </style>\n",
              "      <progress value='16' class='' max='16' style='width:300px; height:20px; vertical-align: middle;'></progress>\n",
              "      100.00% [16/16 00:06<00:00]\n",
              "    </div>\n",
              "    "
            ],
            "text/plain": [
              "<IPython.core.display.HTML object>"
            ]
          },
          "metadata": {
            "tags": []
          }
        },
        {
          "output_type": "display_data",
          "data": {
            "image/png": "[encoded data removed]",
            "text/plain": [
              "<Figure size 1080x576 with 2 Axes>"
            ]
          },
          "metadata": {
            "tags": [],
            "needs_background": "light"
          }
        },
        {
          "output_type": "stream",
          "text": [
            "08/11/2021 20:20:12 - INFO - __main__ -   ***** Eval results on test dataset *****\n",
            "08/11/2021 20:20:12 - INFO - __main__ -     acc = 0.9874182184197282\n"
          ],
          "name": "stderr"
        },
        {
          "output_type": "stream",
          "text": [
            "                                              Review  ...                       Softmax\n",
            "0                                                 실망  ...  [-0.024736796, -0.033588946]\n",
            "1  조금 전 상담원과의 통화대기는 길지 않았으나 다른 때 상담원과 통화 연결까지의 시간...  ...        [-3.139024, 2.5112734]\n",
            "2  내가 우긴 것도 아닌데 상대 얘기를 끝까지 들어주었으면 싶더군요 타 카드사 얘기에요...  ...       [-2.1810422, 1.6860192]\n",
            "3     다른 카드사는 상담원 연결이 너무 느리거나 안될 때가 많은데 삼성은 대기시간이 짧다  ...       [-2.6023185, 2.0225778]\n",
            "4  다른 곳에서는 최선을 다해 고객의 문제 해결을 위해 노력하고 [UNK] 공감을 해주...  ...        [2.2936642, -1.978245]\n",
            "\n",
            "[5 rows x 4 columns]\n",
            "{'acc': 0.9874182184197282}\n"
          ],
          "name": "stdout"
        },
        {
          "output_type": "stream",
          "text": [
            "08/11/2021 20:20:15 - INFO - __main__ -   Saving model checkpoint to sentiment_checkpoints/checkpoint-1260\n",
            "08/11/2021 20:20:15 - INFO - __main__ -    global_step = 1260, average loss = 0.0758101148072571\n"
          ],
          "name": "stderr"
        },
        {
          "output_type": "stream",
          "text": [
            "\n"
          ],
          "name": "stdout"
        }
      ]
    },
    {
      "cell_type": "code",
      "metadata": {
        "id": "8FrIV92vp7fw"
      },
      "source": [
        ""
      ],
      "execution_count": null,
      "outputs": []
    },
    {
      "cell_type": "code",
      "metadata": {
        "id": "zQ9L624hmncm",
        "colab": {
          "base_uri": "https://localhost:8080/",
          "height": 1000
        },
        "outputId": "07db7162-0867-43ea-ab46-cadab4539a23"
      },
      "source": [
        "results = {}\n",
        "checkpoints = list(\n",
        "            os.path.dirname(c) for c in\n",
        "            sorted(glob.glob(args.output_dir + \"/**/\" + \"pytorch_model.bin\", recursive=True))\n",
        "        )\n",
        "if not args.eval_all_checkpoints:\n",
        "    checkpoints = checkpoints[-1:]\n",
        "else:\n",
        "    logging.getLogger(\"transformers.configuration_utils\").setLevel(logging.WARN)  # Reduce logging\n",
        "    logging.getLogger(\"transformers.modeling_utils\").setLevel(logging.WARN)  # Reduce logging\n",
        "logger.info(\"Evaluate the following checkpoints: %s\", checkpoints)\n",
        "for checkpoint in checkpoints:\n",
        "    global_step = checkpoint.split(\"-\")[-1]\n",
        "    model = args.model.from_pretrained(checkpoint)\n",
        "    model.to(args.device)\n",
        "    result = evaluate(args, model, full_text, test_dataset, mode=\"test\", global_step=global_step)\n",
        "    result = dict((k + \"_{}\".format(global_step), v) for k, v in result.items())\n",
        "    results.update(result)\n",
        "\n",
        "output_eval_file = os.path.join(args.output_dir, \"eval_results.txt\")\n",
        "with open(output_eval_file, \"w\") as f_w:\n",
        "    for key in sorted(results.keys()):\n",
        "        f_w.write(\"{} = {}\\n\".format(key, str(results[key])))"
      ],
      "execution_count": null,
      "outputs": [
        {
          "output_type": "stream",
          "text": [
            "08/11/2021 10:20:10 - INFO - __main__ -   Evaluate the following checkpoints: ['koelectra-base-v3-nsmc-ckpt/checkpoint-1', 'koelectra-base-v3-nsmc-ckpt/checkpoint-10', 'koelectra-base-v3-nsmc-ckpt/checkpoint-1000', 'koelectra-base-v3-nsmc-ckpt/checkpoint-11', 'koelectra-base-v3-nsmc-ckpt/checkpoint-1250', 'koelectra-base-v3-nsmc-ckpt/checkpoint-1500', 'koelectra-base-v3-nsmc-ckpt/checkpoint-1750', 'koelectra-base-v3-nsmc-ckpt/checkpoint-2', 'koelectra-base-v3-nsmc-ckpt/checkpoint-2000', 'koelectra-base-v3-nsmc-ckpt/checkpoint-2250', 'koelectra-base-v3-nsmc-ckpt/checkpoint-250', 'koelectra-base-v3-nsmc-ckpt/checkpoint-2500', 'koelectra-base-v3-nsmc-ckpt/checkpoint-3', 'koelectra-base-v3-nsmc-ckpt/checkpoint-4', 'koelectra-base-v3-nsmc-ckpt/checkpoint-5', 'koelectra-base-v3-nsmc-ckpt/checkpoint-500', 'koelectra-base-v3-nsmc-ckpt/checkpoint-6', 'koelectra-base-v3-nsmc-ckpt/checkpoint-7', 'koelectra-base-v3-nsmc-ckpt/checkpoint-750', 'koelectra-base-v3-nsmc-ckpt/checkpoint-8', 'koelectra-base-v3-nsmc-ckpt/checkpoint-9']\n",
            "08/11/2021 10:20:11 - INFO - __main__ -   ***** Running evaluation on test dataset (1 step) *****\n",
            "08/11/2021 10:20:11 - INFO - __main__ -     Num examples = 2003\n",
            "08/11/2021 10:20:11 - INFO - __main__ -     Eval Batch size = 128\n"
          ],
          "name": "stderr"
        },
        {
          "output_type": "display_data",
          "data": {
            "text/html": [
              "\n",
              "    <div>\n",
              "        <style>\n",
              "            /* Turns off some styling */\n",
              "            progress {\n",
              "                /* gets rid of default border in Firefox and Opera. */\n",
              "                border: none;\n",
              "                /* Needs to be in here for Safari polyfill so background images work as expected. */\n",
              "                background-size: auto;\n",
              "            }\n",
              "            .progress-bar-interrupted, .progress-bar-interrupted::-webkit-progress-bar {\n",
              "                background: #F44336;\n",
              "            }\n",
              "        </style>\n",
              "      <progress value='16' class='' max='16' style='width:300px; height:20px; vertical-align: middle;'></progress>\n",
              "      100.00% [16/16 00:19<00:00]\n",
              "    </div>\n",
              "    "
            ],
            "text/plain": [
              "<IPython.core.display.HTML object>"
            ]
          },
          "metadata": {
            "tags": []
          }
        },
        {
          "output_type": "display_data",
          "data": {
            "image/png": "[encoded data removed]",
            "text/plain": [
              "<Figure size 1080x576 with 2 Axes>"
            ]
          },
          "metadata": {
            "tags": [],
            "needs_background": "light"
          }
        },
        {
          "output_type": "stream",
          "text": [
            "08/11/2021 10:20:35 - INFO - __main__ -   ***** Eval results on test dataset *****\n",
            "08/11/2021 10:20:35 - INFO - __main__ -     acc = 0.8701947079380928\n"
          ],
          "name": "stderr"
        },
        {
          "output_type": "stream",
          "text": [
            "                                              Review  Label Prediction\n",
            "0  삼성카드 택배 배달 시 사전 전화 약속하고 카드 배달하세요 기본 아닙니까 집에서 작...   카드상품        상담원\n",
            "1  홈페이지를 이용할 경우 오류가 잦아 매우 불편함 전화 문의는 대기 시간이 오래 걸려...  상담시스템      상담/채널\n",
            "2  상담원과의 통화대기시간안내가 현실적으로 차이가 있을 때입니다 대기시간이 1시간 정도...  상담시스템      상담/채널\n",
            "3                                 상담원 연결까지 너무 오랴 걸려요  상담시스템      상담/채널\n",
            "4                4번과 5번은 크게 의미 없는데 다음단게로 넘어가기 위한 클릭임    상담원      상담/채널\n",
            "{'acc': 0.8701947079380928}\n"
          ],
          "name": "stdout"
        },
        {
          "output_type": "error",
          "ename": "KeyboardInterrupt",
          "evalue": "ignored",
          "traceback": [
            "\u001b[0;31m---------------------------------------------------------------------------\u001b[0m",
            "\u001b[0;31mKeyboardInterrupt\u001b[0m                         Traceback (most recent call last)",
            "\u001b[0;32m<ipython-input-27-41bacf51effa>\u001b[0m in \u001b[0;36m<module>\u001b[0;34m()\u001b[0m\n\u001b[1;32m     12\u001b[0m \u001b[0;32mfor\u001b[0m \u001b[0mcheckpoint\u001b[0m \u001b[0;32min\u001b[0m \u001b[0mcheckpoints\u001b[0m\u001b[0;34m:\u001b[0m\u001b[0;34m\u001b[0m\u001b[0;34m\u001b[0m\u001b[0m\n\u001b[1;32m     13\u001b[0m     \u001b[0mglobal_step\u001b[0m \u001b[0;34m=\u001b[0m \u001b[0mcheckpoint\u001b[0m\u001b[0;34m.\u001b[0m\u001b[0msplit\u001b[0m\u001b[0;34m(\u001b[0m\u001b[0;34m\"-\"\u001b[0m\u001b[0;34m)\u001b[0m\u001b[0;34m[\u001b[0m\u001b[0;34m-\u001b[0m\u001b[0;36m1\u001b[0m\u001b[0;34m]\u001b[0m\u001b[0;34m\u001b[0m\u001b[0;34m\u001b[0m\u001b[0m\n\u001b[0;32m---> 14\u001b[0;31m     \u001b[0mmodel\u001b[0m \u001b[0;34m=\u001b[0m \u001b[0margs\u001b[0m\u001b[0;34m.\u001b[0m\u001b[0mmodel\u001b[0m\u001b[0;34m.\u001b[0m\u001b[0mfrom_pretrained\u001b[0m\u001b[0;34m(\u001b[0m\u001b[0mcheckpoint\u001b[0m\u001b[0;34m)\u001b[0m\u001b[0;34m\u001b[0m\u001b[0;34m\u001b[0m\u001b[0m\n\u001b[0m\u001b[1;32m     15\u001b[0m     \u001b[0mmodel\u001b[0m\u001b[0;34m.\u001b[0m\u001b[0mto\u001b[0m\u001b[0;34m(\u001b[0m\u001b[0margs\u001b[0m\u001b[0;34m.\u001b[0m\u001b[0mdevice\u001b[0m\u001b[0;34m)\u001b[0m\u001b[0;34m\u001b[0m\u001b[0;34m\u001b[0m\u001b[0m\n\u001b[1;32m     16\u001b[0m     \u001b[0mresult\u001b[0m \u001b[0;34m=\u001b[0m \u001b[0mevaluate\u001b[0m\u001b[0;34m(\u001b[0m\u001b[0margs\u001b[0m\u001b[0;34m,\u001b[0m \u001b[0mmodel\u001b[0m\u001b[0;34m,\u001b[0m \u001b[0mfull_text\u001b[0m\u001b[0;34m,\u001b[0m \u001b[0mtest_dataset\u001b[0m\u001b[0;34m,\u001b[0m \u001b[0mmode\u001b[0m\u001b[0;34m=\u001b[0m\u001b[0;34m\"test\"\u001b[0m\u001b[0;34m,\u001b[0m \u001b[0mglobal_step\u001b[0m\u001b[0;34m=\u001b[0m\u001b[0mglobal_step\u001b[0m\u001b[0;34m)\u001b[0m\u001b[0;34m\u001b[0m\u001b[0;34m\u001b[0m\u001b[0m\n",
            "\u001b[0;32m/usr/local/lib/python3.7/dist-packages/transformers/modeling_utils.py\u001b[0m in \u001b[0;36mfrom_pretrained\u001b[0;34m(cls, pretrained_model_name_or_path, *model_args, **kwargs)\u001b[0m\n\u001b[1;32m   1281\u001b[0m             \u001b[0;32mif\u001b[0m \u001b[0mstate_dict\u001b[0m \u001b[0;32mis\u001b[0m \u001b[0;32mNone\u001b[0m\u001b[0;34m:\u001b[0m\u001b[0;34m\u001b[0m\u001b[0;34m\u001b[0m\u001b[0m\n\u001b[1;32m   1282\u001b[0m                 \u001b[0;32mtry\u001b[0m\u001b[0;34m:\u001b[0m\u001b[0;34m\u001b[0m\u001b[0;34m\u001b[0m\u001b[0m\n\u001b[0;32m-> 1283\u001b[0;31m                     \u001b[0mstate_dict\u001b[0m \u001b[0;34m=\u001b[0m \u001b[0mtorch\u001b[0m\u001b[0;34m.\u001b[0m\u001b[0mload\u001b[0m\u001b[0;34m(\u001b[0m\u001b[0mresolved_archive_file\u001b[0m\u001b[0;34m,\u001b[0m \u001b[0mmap_location\u001b[0m\u001b[0;34m=\u001b[0m\u001b[0;34m\"cpu\"\u001b[0m\u001b[0;34m)\u001b[0m\u001b[0;34m\u001b[0m\u001b[0;34m\u001b[0m\u001b[0m\n\u001b[0m\u001b[1;32m   1284\u001b[0m                 \u001b[0;32mexcept\u001b[0m \u001b[0mException\u001b[0m\u001b[0;34m:\u001b[0m\u001b[0;34m\u001b[0m\u001b[0;34m\u001b[0m\u001b[0m\n\u001b[1;32m   1285\u001b[0m                     raise OSError(\n",
            "\u001b[0;32m/usr/local/lib/python3.7/dist-packages/torch/serialization.py\u001b[0m in \u001b[0;36mload\u001b[0;34m(f, map_location, pickle_module, **pickle_load_args)\u001b[0m\n\u001b[1;32m    605\u001b[0m                     \u001b[0mopened_file\u001b[0m\u001b[0;34m.\u001b[0m\u001b[0mseek\u001b[0m\u001b[0;34m(\u001b[0m\u001b[0morig_position\u001b[0m\u001b[0;34m)\u001b[0m\u001b[0;34m\u001b[0m\u001b[0;34m\u001b[0m\u001b[0m\n\u001b[1;32m    606\u001b[0m                     \u001b[0;32mreturn\u001b[0m \u001b[0mtorch\u001b[0m\u001b[0;34m.\u001b[0m\u001b[0mjit\u001b[0m\u001b[0;34m.\u001b[0m\u001b[0mload\u001b[0m\u001b[0;34m(\u001b[0m\u001b[0mopened_file\u001b[0m\u001b[0;34m)\u001b[0m\u001b[0;34m\u001b[0m\u001b[0;34m\u001b[0m\u001b[0m\n\u001b[0;32m--> 607\u001b[0;31m                 \u001b[0;32mreturn\u001b[0m \u001b[0m_load\u001b[0m\u001b[0;34m(\u001b[0m\u001b[0mopened_zipfile\u001b[0m\u001b[0;34m,\u001b[0m \u001b[0mmap_location\u001b[0m\u001b[0;34m,\u001b[0m \u001b[0mpickle_module\u001b[0m\u001b[0;34m,\u001b[0m \u001b[0;34m**\u001b[0m\u001b[0mpickle_load_args\u001b[0m\u001b[0;34m)\u001b[0m\u001b[0;34m\u001b[0m\u001b[0;34m\u001b[0m\u001b[0m\n\u001b[0m\u001b[1;32m    608\u001b[0m         \u001b[0;32mreturn\u001b[0m \u001b[0m_legacy_load\u001b[0m\u001b[0;34m(\u001b[0m\u001b[0mopened_file\u001b[0m\u001b[0;34m,\u001b[0m \u001b[0mmap_location\u001b[0m\u001b[0;34m,\u001b[0m \u001b[0mpickle_module\u001b[0m\u001b[0;34m,\u001b[0m \u001b[0;34m**\u001b[0m\u001b[0mpickle_load_args\u001b[0m\u001b[0;34m)\u001b[0m\u001b[0;34m\u001b[0m\u001b[0;34m\u001b[0m\u001b[0m\n\u001b[1;32m    609\u001b[0m \u001b[0;34m\u001b[0m\u001b[0m\n",
            "\u001b[0;32m/usr/local/lib/python3.7/dist-packages/torch/serialization.py\u001b[0m in \u001b[0;36m_load\u001b[0;34m(zip_file, map_location, pickle_module, pickle_file, **pickle_load_args)\u001b[0m\n\u001b[1;32m    880\u001b[0m     \u001b[0munpickler\u001b[0m \u001b[0;34m=\u001b[0m \u001b[0mUnpicklerWrapper\u001b[0m\u001b[0;34m(\u001b[0m\u001b[0mdata_file\u001b[0m\u001b[0;34m,\u001b[0m \u001b[0;34m**\u001b[0m\u001b[0mpickle_load_args\u001b[0m\u001b[0;34m)\u001b[0m\u001b[0;34m\u001b[0m\u001b[0;34m\u001b[0m\u001b[0m\n\u001b[1;32m    881\u001b[0m     \u001b[0munpickler\u001b[0m\u001b[0;34m.\u001b[0m\u001b[0mpersistent_load\u001b[0m \u001b[0;34m=\u001b[0m \u001b[0mpersistent_load\u001b[0m\u001b[0;34m\u001b[0m\u001b[0;34m\u001b[0m\u001b[0m\n\u001b[0;32m--> 882\u001b[0;31m     \u001b[0mresult\u001b[0m \u001b[0;34m=\u001b[0m \u001b[0munpickler\u001b[0m\u001b[0;34m.\u001b[0m\u001b[0mload\u001b[0m\u001b[0;34m(\u001b[0m\u001b[0;34m)\u001b[0m\u001b[0;34m\u001b[0m\u001b[0;34m\u001b[0m\u001b[0m\n\u001b[0m\u001b[1;32m    883\u001b[0m \u001b[0;34m\u001b[0m\u001b[0m\n\u001b[1;32m    884\u001b[0m     \u001b[0mtorch\u001b[0m\u001b[0;34m.\u001b[0m\u001b[0m_utils\u001b[0m\u001b[0;34m.\u001b[0m\u001b[0m_validate_loaded_sparse_tensors\u001b[0m\u001b[0;34m(\u001b[0m\u001b[0;34m)\u001b[0m\u001b[0;34m\u001b[0m\u001b[0;34m\u001b[0m\u001b[0m\n",
            "\u001b[0;32m/usr/local/lib/python3.7/dist-packages/torch/serialization.py\u001b[0m in \u001b[0;36mpersistent_load\u001b[0;34m(saved_id)\u001b[0m\n\u001b[1;32m    855\u001b[0m         \u001b[0mdata_type\u001b[0m\u001b[0;34m,\u001b[0m \u001b[0mkey\u001b[0m\u001b[0;34m,\u001b[0m \u001b[0mlocation\u001b[0m\u001b[0;34m,\u001b[0m \u001b[0msize\u001b[0m \u001b[0;34m=\u001b[0m \u001b[0mdata\u001b[0m\u001b[0;34m\u001b[0m\u001b[0;34m\u001b[0m\u001b[0m\n\u001b[1;32m    856\u001b[0m         \u001b[0;32mif\u001b[0m \u001b[0mkey\u001b[0m \u001b[0;32mnot\u001b[0m \u001b[0;32min\u001b[0m \u001b[0mloaded_storages\u001b[0m\u001b[0;34m:\u001b[0m\u001b[0;34m\u001b[0m\u001b[0;34m\u001b[0m\u001b[0m\n\u001b[0;32m--> 857\u001b[0;31m             \u001b[0mload_tensor\u001b[0m\u001b[0;34m(\u001b[0m\u001b[0mdata_type\u001b[0m\u001b[0;34m,\u001b[0m \u001b[0msize\u001b[0m\u001b[0;34m,\u001b[0m \u001b[0mkey\u001b[0m\u001b[0;34m,\u001b[0m \u001b[0m_maybe_decode_ascii\u001b[0m\u001b[0;34m(\u001b[0m\u001b[0mlocation\u001b[0m\u001b[0;34m)\u001b[0m\u001b[0;34m)\u001b[0m\u001b[0;34m\u001b[0m\u001b[0;34m\u001b[0m\u001b[0m\n\u001b[0m\u001b[1;32m    858\u001b[0m         \u001b[0mstorage\u001b[0m \u001b[0;34m=\u001b[0m \u001b[0mloaded_storages\u001b[0m\u001b[0;34m[\u001b[0m\u001b[0mkey\u001b[0m\u001b[0;34m]\u001b[0m\u001b[0;34m\u001b[0m\u001b[0;34m\u001b[0m\u001b[0m\n\u001b[1;32m    859\u001b[0m         \u001b[0;32mreturn\u001b[0m \u001b[0mstorage\u001b[0m\u001b[0;34m\u001b[0m\u001b[0;34m\u001b[0m\u001b[0m\n",
            "\u001b[0;32m/usr/local/lib/python3.7/dist-packages/torch/serialization.py\u001b[0m in \u001b[0;36mload_tensor\u001b[0;34m(data_type, size, key, location)\u001b[0m\n\u001b[1;32m    843\u001b[0m         \u001b[0mdtype\u001b[0m \u001b[0;34m=\u001b[0m \u001b[0mdata_type\u001b[0m\u001b[0;34m(\u001b[0m\u001b[0;36m0\u001b[0m\u001b[0;34m)\u001b[0m\u001b[0;34m.\u001b[0m\u001b[0mdtype\u001b[0m\u001b[0;34m\u001b[0m\u001b[0;34m\u001b[0m\u001b[0m\n\u001b[1;32m    844\u001b[0m \u001b[0;34m\u001b[0m\u001b[0m\n\u001b[0;32m--> 845\u001b[0;31m         \u001b[0mstorage\u001b[0m \u001b[0;34m=\u001b[0m \u001b[0mzip_file\u001b[0m\u001b[0;34m.\u001b[0m\u001b[0mget_storage_from_record\u001b[0m\u001b[0;34m(\u001b[0m\u001b[0mname\u001b[0m\u001b[0;34m,\u001b[0m \u001b[0msize\u001b[0m\u001b[0;34m,\u001b[0m \u001b[0mdtype\u001b[0m\u001b[0;34m)\u001b[0m\u001b[0;34m.\u001b[0m\u001b[0mstorage\u001b[0m\u001b[0;34m(\u001b[0m\u001b[0;34m)\u001b[0m\u001b[0;34m\u001b[0m\u001b[0;34m\u001b[0m\u001b[0m\n\u001b[0m\u001b[1;32m    846\u001b[0m         \u001b[0mloaded_storages\u001b[0m\u001b[0;34m[\u001b[0m\u001b[0mkey\u001b[0m\u001b[0;34m]\u001b[0m \u001b[0;34m=\u001b[0m \u001b[0mrestore_location\u001b[0m\u001b[0;34m(\u001b[0m\u001b[0mstorage\u001b[0m\u001b[0;34m,\u001b[0m \u001b[0mlocation\u001b[0m\u001b[0;34m)\u001b[0m\u001b[0;34m\u001b[0m\u001b[0;34m\u001b[0m\u001b[0m\n\u001b[1;32m    847\u001b[0m \u001b[0;34m\u001b[0m\u001b[0m\n",
            "\u001b[0;31mKeyboardInterrupt\u001b[0m: "
          ]
        }
      ]
    },
    {
      "cell_type": "code",
      "metadata": {
        "id": "yOFBaYi8S7h6",
        "colab": {
          "base_uri": "https://localhost:8080/",
          "height": 208
        },
        "outputId": "ab5a79fc-f7a0-4b2d-bffd-6f2acbbf9254"
      },
      "source": [
        "# 수정금지: 타임스탬프\n",
        "_model_build_end_time = printt(\"Model building: Start\")\n",
        "print(_model_build_end_time - _model_build_start_time)"
      ],
      "execution_count": null,
      "outputs": [
        {
          "output_type": "error",
          "ename": "NameError",
          "evalue": "ignored",
          "traceback": [
            "\u001b[0;31m---------------------------------------------------------------------------\u001b[0m",
            "\u001b[0;31mNameError\u001b[0m                                 Traceback (most recent call last)",
            "\u001b[0;32m<ipython-input-22-517a1de49e80>\u001b[0m in \u001b[0;36m<module>\u001b[0;34m()\u001b[0m\n\u001b[1;32m      1\u001b[0m \u001b[0;31m# 수정금지: 타임스탬프\u001b[0m\u001b[0;34m\u001b[0m\u001b[0;34m\u001b[0m\u001b[0;34m\u001b[0m\u001b[0m\n\u001b[0;32m----> 2\u001b[0;31m \u001b[0m_model_build_end_time\u001b[0m \u001b[0;34m=\u001b[0m \u001b[0mprintt\u001b[0m\u001b[0;34m(\u001b[0m\u001b[0;34m\"Model building: Start\"\u001b[0m\u001b[0;34m)\u001b[0m\u001b[0;34m\u001b[0m\u001b[0;34m\u001b[0m\u001b[0m\n\u001b[0m\u001b[1;32m      3\u001b[0m \u001b[0mprint\u001b[0m\u001b[0;34m(\u001b[0m\u001b[0m_model_build_end_time\u001b[0m \u001b[0;34m-\u001b[0m \u001b[0m_model_build_start_time\u001b[0m\u001b[0;34m)\u001b[0m\u001b[0;34m\u001b[0m\u001b[0;34m\u001b[0m\u001b[0m\n",
            "\u001b[0;31mNameError\u001b[0m: name 'printt' is not defined"
          ]
        }
      ]
    },
    {
      "cell_type": "markdown",
      "metadata": {
        "id": "ZZX6jC22S99-"
      },
      "source": [
        "#모델 분류"
      ]
    },
    {
      "cell_type": "code",
      "metadata": {
        "id": "CPEMmgXfTKf9"
      },
      "source": [
        "# 수정금지: 타임스탬프\n",
        "_test_start_time = printt(\"TEST: Start\")"
      ],
      "execution_count": null,
      "outputs": []
    },
    {
      "cell_type": "code",
      "metadata": {
        "id": "VLDvBcGMSdwg"
      },
      "source": [
        "#TODO: 해당 블럭에 테스트 수행을 위한 코드를 넣으세요. (시간측정 구간)\n",
        "#분석 파일은 tsv 파일로 제공되며, 제공되는 학습데이터 파일과 동일한 레이아웃(단, 정답 분류 =공백)으로 제공됩니다.\n",
        "\n",
        "\n"
      ],
      "execution_count": null,
      "outputs": []
    },
    {
      "cell_type": "code",
      "metadata": {
        "id": "WKLsLL-vSq1D"
      },
      "source": [
        "# 수정금지: 타임스탬프\n",
        "_test_end_time = printt(\"Model building: Start\")\n",
        "print(_test_end_time - _test_start_time)"
      ],
      "execution_count": null,
      "outputs": []
    },
    {
      "cell_type": "markdown",
      "metadata": {
        "id": "_f_NifWnpKw-"
      },
      "source": [
        "# 결과출력"
      ]
    },
    {
      "cell_type": "code",
      "metadata": {
        "id": "UctiMXI8UQ0Q"
      },
      "source": [
        "#TODO:해당 블럭에 테스트 결과를 파일로 저장하는 코드를 넣으세요. (시간측정 제외)\n",
        "#저장 파일은tsv 파일로 제공되는 학습데이터 파일과 동일한 레이아웃(단, 정답 분류 = 테스트 결과 도출된 양식)으로 저장\n",
        "\n",
        "\n"
      ],
      "execution_count": null,
      "outputs": []
    },
    {
      "cell_type": "code",
      "metadata": {
        "id": "VmpdIIPmkMez"
      },
      "source": [
        ""
      ],
      "execution_count": null,
      "outputs": []
    }
  ]
}