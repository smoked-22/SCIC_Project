{
  "nbformat": 4,
  "nbformat_minor": 0,
  "metadata": {
    "kernelspec": {
      "display_name": "Python 3",
      "language": "python",
      "name": "python3"
    },
    "language_info": {
      "codemirror_mode": {
        "name": "ipython",
        "version": 2
      },
      "file_extension": ".py",
      "mimetype": "text/x-python",
      "name": "python",
      "nbconvert_exporter": "python",
      "pygments_lexer": "ipython2",
      "version": "2.7.6"
    },
    "colab": {
      "name": "bert_tokenizer.ipynb",
      "provenance": []
    },
    "accelerator": "GPU"
  },
  "cells": [
    {
      "cell_type": "code",
      "metadata": {
        "id": "52OsN6-lmJe4"
      },
      "source": [
        "!pip install tokenizers==0.7.0"
      ],
      "execution_count": null,
      "outputs": []
    },
    {
      "cell_type": "code",
      "metadata": {
        "id": "sGV_wJz0lrxZ"
      },
      "source": [
        "from google_drive_downloader import GoogleDriveDownloader as gdd\n",
        "\n",
        "gdd.download_file_from_google_drive(file_id='1vwwwi-pUgyu6Xby0GtTirmarX40beplY',\n",
        "                                    dest_path='./input.txt',\n",
        "                                    overwrite=True)\n",
        "gdd.download_file_from_google_drive(file_id='1PMMy92PnV8I6LjzLboUaZpBVbEJmDlL3',\n",
        "                                    dest_path='./vocab.txt',\n",
        "                                    overwrite=True)"
      ],
      "execution_count": null,
      "outputs": []
    },
    {
      "cell_type": "code",
      "metadata": {
        "collapsed": true,
        "pycharm": {
          "name": "#%%\n"
        },
        "id": "g3qVU6gYlfQH"
      },
      "source": [
        "from tokenizers import BertWordPieceTokenizer\n",
        "\n",
        "tokenizer = BertWordPieceTokenizer(\n",
        "    vocab_file=None,\n",
        "    clean_text=True,\n",
        "    handle_chinese_chars=True,\n",
        "    strip_accents=False, # Must be False if cased model\n",
        "    lowercase=False,\n",
        "    wordpieces_prefix=\"##\"\n",
        ")\n",
        "\n",
        "tokenizer.train(\n",
        "    files=['vocab.txt'],\n",
        "    limit_alphabet=1000,\n",
        "    vocab_size=30000\n",
        ")\n",
        "\n",
        "tokenizer.save('.', 'temp')"
      ],
      "execution_count": null,
      "outputs": []
    },
    {
      "cell_type": "code",
      "metadata": {
        "id": "fvUlSuv4mOeX"
      },
      "source": [
        "!git clone https://github.com/google-research/bert"
      ],
      "execution_count": null,
      "outputs": []
    },
    {
      "cell_type": "code",
      "metadata": {
        "id": "q3WUCQLimenM"
      },
      "source": [
        "!python bert/create_pretraining_data.py --input_file=input.txt \\\n",
        "--output_file=tf_examples.tfrecord \\\n",
        "--vocab_file=temp-vocab.txt \\\n",
        "--do_lower_case=True \\\n",
        "--max_seq_length=120 \\\n",
        "--max_prediction_per_seq=20 \\\n",
        "--masked_lm_prob=0.15 \\\n",
        "--random_seed=42 \\\n",
        "--dupe_factor=5"
      ],
      "execution_count": null,
      "outputs": []
    },
    {
      "cell_type": "code",
      "metadata": {
        "id": "g5nD-04gqiFH"
      },
      "source": [
        "!python bert/run_pretraining.py \\\n",
        "  --input_file=tf_examples.tfrecord \\\n",
        "  --output_dir=/tmp/pretraining_output \\\n",
        "  --do_train=True \\\n",
        "  --do_eval=True \\\n",
        "  --bert_config_file=bert/bert_config.json \\\n",
        "  --init_checkpoint=bert/bert_model.ckpt \\\n",
        "  --train_batch_size=32 \\\n",
        "  --max_seq_length=128 \\\n",
        "  --max_predictions_per_seq=20 \\\n",
        "  --num_train_steps=20 \\\n",
        "  --num_warmup_steps=10 \\\n",
        "  --learning_rate=2e-5"
      ],
      "execution_count": null,
      "outputs": []
    },
    {
      "cell_type": "code",
      "metadata": {
        "id": "FQReTN0soil3"
      },
      "source": [
        "!pip install tensorflow-gpu==1.14.0"
      ],
      "execution_count": null,
      "outputs": []
    },
    {
      "cell_type": "code",
      "metadata": {
        "id": "I1Mr05Cdow3d"
      },
      "source": [
        "!pip install tensorflow==1.14.0"
      ],
      "execution_count": null,
      "outputs": []
    },
    {
      "cell_type": "code",
      "metadata": {
        "id": "mWGIzEu6pcyD"
      },
      "source": [
        "!cat bert_output.txt"
      ],
      "execution_count": null,
      "outputs": []
    },
    {
      "cell_type": "code",
      "metadata": {
        "id": "T0lc6JMPpslS"
      },
      "source": [
        ""
      ],
      "execution_count": null,
      "outputs": []
    }
  ]
}