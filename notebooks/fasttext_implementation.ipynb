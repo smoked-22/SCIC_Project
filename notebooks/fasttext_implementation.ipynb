{
  "nbformat": 4,
  "nbformat_minor": 0,
  "metadata": {
    "colab": {
      "name": "Untitled1.ipynb",
      "provenance": [],
      "authorship_tag": "ABX9TyOyociKR4pz6p6A8zr4GYpO"
    },
    "kernelspec": {
      "name": "python3",
      "display_name": "Python 3"
    },
    "language_info": {
      "name": "python"
    }
  },
  "cells": [
    {
      "cell_type": "code",
      "metadata": {
        "id": "CyGMSumVZbQf"
      },
      "source": [
        "!pip install fasttext"
      ],
      "execution_count": null,
      "outputs": []
    },
    {
      "cell_type": "code",
      "metadata": {
        "id": "evJxweT9aM3x"
      },
      "source": [
        "import fasttext\n",
        "help(fasttext.FastText)"
      ],
      "execution_count": null,
      "outputs": []
    },
    {
      "cell_type": "code",
      "metadata": {
        "id": "zTNu-rQkaStM"
      },
      "source": [
        "!wget https://dl.fbaipublicfiles.com/fasttext/data/cooking.stackexchange.tar.gz && tar xvzf cooking.stackexchange.tar.gz"
      ],
      "execution_count": null,
      "outputs": []
    },
    {
      "cell_type": "code",
      "metadata": {
        "id": "dDE2VMveahxB"
      },
      "source": [
        "!head cooking.stackexchange.txt"
      ],
      "execution_count": null,
      "outputs": []
    },
    {
      "cell_type": "code",
      "metadata": {
        "id": "O9axOO8jalpM"
      },
      "source": [
        "!wc cooking.stackexchange.txt"
      ],
      "execution_count": null,
      "outputs": []
    },
    {
      "cell_type": "code",
      "metadata": {
        "id": "yC17D_UtarXG"
      },
      "source": [
        "## split data into train and validation (4 : 1)\n",
        "!head -n 12404 cooking.stackexchange.txt > cooking.train\n",
        "!tail -n 3000 cooking.stackexchange.txt > cooking.valid"
      ],
      "execution_count": null,
      "outputs": []
    },
    {
      "cell_type": "code",
      "metadata": {
        "id": "ZE070vNxawu4"
      },
      "source": [
        "model = fasttext.train_supervised(input=\"cooking.train\")"
      ],
      "execution_count": null,
      "outputs": []
    },
    {
      "cell_type": "code",
      "metadata": {
        "id": "KGR5XARYaz46"
      },
      "source": [
        "model.predict(\"Which baking dish is best to bake a banana bread ?\")"
      ],
      "execution_count": null,
      "outputs": []
    },
    {
      "cell_type": "code",
      "metadata": {
        "id": "NwUdb5r5bAZX"
      },
      "source": [
        "model.predict(\"Why not put knives in the dishwasher?\")"
      ],
      "execution_count": null,
      "outputs": []
    },
    {
      "cell_type": "code",
      "metadata": {
        "id": "coDzyeSQbD40"
      },
      "source": [
        "model.test(\"cooking.valid\")"
      ],
      "execution_count": null,
      "outputs": []
    },
    {
      "cell_type": "code",
      "metadata": {
        "id": "0ayFDxwwbGGs"
      },
      "source": [
        "model.test(\"cooking.valid\", k=5)"
      ],
      "execution_count": null,
      "outputs": []
    },
    {
      "cell_type": "code",
      "metadata": {
        "id": "hOpuQEhXbJh3"
      },
      "source": [
        "model.predict(\"Why not put knives in the dishwasher?\", k=5)"
      ],
      "execution_count": null,
      "outputs": []
    }
  ]
}