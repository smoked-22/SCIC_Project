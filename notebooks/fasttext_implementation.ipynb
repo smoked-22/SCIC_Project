{
  "nbformat": 4,
  "nbformat_minor": 0,
  "metadata": {
    "colab": {
      "name": "Untitled1.ipynb",
      "provenance": [],
      "authorship_tag": "ABX9TyOyociKR4pz6p6A8zr4GYpO"
    },
    "kernelspec": {
      "name": "python3",
      "display_name": "Python 3"
    },
    "language_info": {
      "name": "python"
    }
  },
  "cells": [
    {
      "cell_type": "code",
      "metadata": {
        "id": "CyGMSumVZbQf",
        "colab": {
          "base_uri": "https://localhost:8080/"
        },
        "outputId": "6f1efbb4-b4be-4fd4-dae5-88d395256e22"
      },
      "source": [
        "!pip install fasttext"
      ],
      "execution_count": null,
      "outputs": [
        {
          "output_type": "stream",
          "text": [
            "Collecting fasttext\n",
            "\u001b[?25l  Downloading https://files.pythonhosted.org/packages/f8/85/e2b368ab6d3528827b147fdb814f8189acc981a4bc2f99ab894650e05c40/fasttext-0.9.2.tar.gz (68kB)\n",
            "\r\u001b[K     |████▊                           | 10kB 25.7MB/s eta 0:00:01\r\u001b[K     |█████████▌                      | 20kB 25.8MB/s eta 0:00:01\r\u001b[K     |██████████████▎                 | 30kB 17.7MB/s eta 0:00:01\r\u001b[K     |███████████████████             | 40kB 15.3MB/s eta 0:00:01\r\u001b[K     |███████████████████████▉        | 51kB 8.7MB/s eta 0:00:01\r\u001b[K     |████████████████████████████▋   | 61kB 9.1MB/s eta 0:00:01\r\u001b[K     |████████████████████████████████| 71kB 5.8MB/s \n",
            "\u001b[?25hRequirement already satisfied: pybind11>=2.2 in /usr/local/lib/python3.7/dist-packages (from fasttext) (2.6.2)\n",
            "Requirement already satisfied: setuptools>=0.7.0 in /usr/local/lib/python3.7/dist-packages (from fasttext) (57.0.0)\n",
            "Requirement already satisfied: numpy in /usr/local/lib/python3.7/dist-packages (from fasttext) (1.19.5)\n",
            "Building wheels for collected packages: fasttext\n",
            "  Building wheel for fasttext (setup.py) ... \u001b[?25l\u001b[?25hdone\n",
            "  Created wheel for fasttext: filename=fasttext-0.9.2-cp37-cp37m-linux_x86_64.whl size=3094827 sha256=2baca7c10bbb760cca8def0ce6e3fef28c4340d376cfe90a8d5624644d6416d3\n",
            "  Stored in directory: /root/.cache/pip/wheels/98/ba/7f/b154944a1cf5a8cee91c154b75231136cc3a3321ab0e30f592\n",
            "Successfully built fasttext\n",
            "Installing collected packages: fasttext\n",
            "Successfully installed fasttext-0.9.2\n"
          ],
          "name": "stdout"
        }
      ]
    },
    {
      "cell_type": "code",
      "metadata": {
        "id": "evJxweT9aM3x",
        "colab": {
          "base_uri": "https://localhost:8080/"
        },
        "outputId": "b23a0503-8390-4fbf-95d3-996043bdb7e9"
      },
      "source": [
        "import fasttext\n",
        "help(fasttext.FastText)"
      ],
      "execution_count": null,
      "outputs": [
        {
          "output_type": "stream",
          "text": [
            "Help on module fasttext.FastText in fasttext:\n",
            "\n",
            "NAME\n",
            "    fasttext.FastText\n",
            "\n",
            "DESCRIPTION\n",
            "    # Copyright (c) 2017-present, Facebook, Inc.\n",
            "    # All rights reserved.\n",
            "    #\n",
            "    # This source code is licensed under the MIT license found in the\n",
            "    # LICENSE file in the root directory of this source tree.\n",
            "\n",
            "FUNCTIONS\n",
            "    cbow(*kargs, **kwargs)\n",
            "    \n",
            "    eprint(*args, **kwargs)\n",
            "    \n",
            "    load_model(path)\n",
            "        Load a model given a filepath and return a model object.\n",
            "    \n",
            "    read_args(arg_list, arg_dict, arg_names, default_values)\n",
            "    \n",
            "    skipgram(*kargs, **kwargs)\n",
            "    \n",
            "    supervised(*kargs, **kwargs)\n",
            "    \n",
            "    tokenize(text)\n",
            "        Given a string of text, tokenize it and return a list of tokens\n",
            "    \n",
            "    train_supervised(*kargs, **kwargs)\n",
            "        Train a supervised model and return a model object.\n",
            "        \n",
            "        input must be a filepath. The input text does not need to be tokenized\n",
            "        as per the tokenize function, but it must be preprocessed and encoded\n",
            "        as UTF-8. You might want to consult standard preprocessing scripts such\n",
            "        as tokenizer.perl mentioned here: http://www.statmt.org/wmt07/baseline.html\n",
            "        \n",
            "        The input file must must contain at least one label per line. For an\n",
            "        example consult the example datasets which are part of the fastText\n",
            "        repository such as the dataset pulled by classification-example.sh.\n",
            "    \n",
            "    train_unsupervised(*kargs, **kwargs)\n",
            "        Train an unsupervised model and return a model object.\n",
            "        \n",
            "        input must be a filepath. The input text does not need to be tokenized\n",
            "        as per the tokenize function, but it must be preprocessed and encoded\n",
            "        as UTF-8. You might want to consult standard preprocessing scripts such\n",
            "        as tokenizer.perl mentioned here: http://www.statmt.org/wmt07/baseline.html\n",
            "        \n",
            "        The input field must not contain any labels or use the specified label prefix\n",
            "        unless it is ok for those words to be ignored. For an example consult the\n",
            "        dataset pulled by the example script word-vector-example.sh, which is\n",
            "        part of the fastText repository.\n",
            "\n",
            "DATA\n",
            "    BOW = '<'\n",
            "    EOS = '</s>'\n",
            "    EOW = '>'\n",
            "    absolute_import = _Feature((2, 5, 0, 'alpha', 1), (3, 0, 0, 'alpha', 0...\n",
            "    displayed_errors = {}\n",
            "    division = _Feature((2, 2, 0, 'alpha', 2), (3, 0, 0, 'alpha', 0), 8192...\n",
            "    print_function = _Feature((2, 6, 0, 'alpha', 2), (3, 0, 0, 'alpha', 0)...\n",
            "    unicode_literals = _Feature((2, 6, 0, 'alpha', 2), (3, 0, 0, 'alpha', ...\n",
            "    unsupervised_default = {'autotuneDuration': 300, 'autotuneMetric': 'f1...\n",
            "\n",
            "FILE\n",
            "    /usr/local/lib/python3.7/dist-packages/fasttext/FastText.py\n",
            "\n",
            "\n"
          ],
          "name": "stdout"
        }
      ]
    },
    {
      "cell_type": "code",
      "metadata": {
        "id": "zTNu-rQkaStM",
        "colab": {
          "base_uri": "https://localhost:8080/"
        },
        "outputId": "3933a3d4-7903-4dd3-f5a7-b548da500073"
      },
      "source": [
        "!wget https://dl.fbaipublicfiles.com/fasttext/data/cooking.stackexchange.tar.gz && tar xvzf cooking.stackexchange.tar.gz"
      ],
      "execution_count": null,
      "outputs": [
        {
          "output_type": "stream",
          "text": [
            "--2021-07-16 05:50:20--  https://dl.fbaipublicfiles.com/fasttext/data/cooking.stackexchange.tar.gz\n",
            "Resolving dl.fbaipublicfiles.com (dl.fbaipublicfiles.com)... 172.67.9.4, 104.22.75.142, 104.22.74.142, ...\n",
            "Connecting to dl.fbaipublicfiles.com (dl.fbaipublicfiles.com)|172.67.9.4|:443... connected.\n",
            "HTTP request sent, awaiting response... 200 OK\n",
            "Length: 457609 (447K) [application/x-tar]\n",
            "Saving to: ‘cooking.stackexchange.tar.gz’\n",
            "\n",
            "cooking.stackexchan 100%[===================>] 446.88K  --.-KB/s    in 0.1s    \n",
            "\n",
            "2021-07-16 05:50:20 (4.54 MB/s) - ‘cooking.stackexchange.tar.gz’ saved [457609/457609]\n",
            "\n",
            "cooking.stackexchange.id\n",
            "cooking.stackexchange.txt\n",
            "readme.txt\n"
          ],
          "name": "stdout"
        }
      ]
    },
    {
      "cell_type": "code",
      "metadata": {
        "id": "dDE2VMveahxB",
        "colab": {
          "base_uri": "https://localhost:8080/"
        },
        "outputId": "a79f3709-3be0-44c1-e866-c26ff330fc94"
      },
      "source": [
        "!head cooking.stackexchange.txt"
      ],
      "execution_count": null,
      "outputs": [
        {
          "output_type": "stream",
          "text": [
            "__label__sauce __label__cheese How much does potato starch affect a cheese sauce recipe?\n",
            "__label__food-safety __label__acidity Dangerous pathogens capable of growing in acidic environments\n",
            "__label__cast-iron __label__stove How do I cover up the white spots on my cast iron stove?\n",
            "__label__restaurant Michelin Three Star Restaurant; but if the chef is not there\n",
            "__label__knife-skills __label__dicing Without knife skills, how can I quickly and accurately dice vegetables?\n",
            "__label__storage-method __label__equipment __label__bread What's the purpose of a bread box?\n",
            "__label__baking __label__food-safety __label__substitutions __label__peanuts how to seperate peanut oil from roasted peanuts at home?\n",
            "__label__chocolate American equivalent for British chocolate terms\n",
            "__label__baking __label__oven __label__convection Fan bake vs bake\n",
            "__label__sauce __label__storage-lifetime __label__acidity __label__mayonnaise Regulation and balancing of readymade packed mayonnaise and other sauces\n"
          ],
          "name": "stdout"
        }
      ]
    },
    {
      "cell_type": "code",
      "metadata": {
        "id": "O9axOO8jalpM",
        "colab": {
          "base_uri": "https://localhost:8080/"
        },
        "outputId": "cebf9936-18ad-403f-8960-7975a689e646"
      },
      "source": [
        "!wc cooking.stackexchange.txt"
      ],
      "execution_count": null,
      "outputs": [
        {
          "output_type": "stream",
          "text": [
            "  15404  169582 1401900 cooking.stackexchange.txt\n"
          ],
          "name": "stdout"
        }
      ]
    },
    {
      "cell_type": "code",
      "metadata": {
        "id": "yC17D_UtarXG"
      },
      "source": [
        "## split data into train and validation (4 : 1)\n",
        "!head -n 12404 cooking.stackexchange.txt > cooking.train\n",
        "!tail -n 3000 cooking.stackexchange.txt > cooking.valid"
      ],
      "execution_count": null,
      "outputs": []
    },
    {
      "cell_type": "code",
      "metadata": {
        "id": "ZE070vNxawu4"
      },
      "source": [
        "model = fasttext.train_supervised(input=\"cooking.train\")"
      ],
      "execution_count": null,
      "outputs": []
    },
    {
      "cell_type": "code",
      "metadata": {
        "id": "KGR5XARYaz46",
        "colab": {
          "base_uri": "https://localhost:8080/"
        },
        "outputId": "045b0d3f-ba2e-46e9-f6e7-a2f479fc6d1e"
      },
      "source": [
        "model.predict(\"Which baking dish is best to bake a banana bread ?\")"
      ],
      "execution_count": null,
      "outputs": [
        {
          "output_type": "execute_result",
          "data": {
            "text/plain": [
              "(('__label__baking',), array([0.07257967]))"
            ]
          },
          "metadata": {
            "tags": []
          },
          "execution_count": 13
        }
      ]
    },
    {
      "cell_type": "code",
      "metadata": {
        "id": "NwUdb5r5bAZX",
        "colab": {
          "base_uri": "https://localhost:8080/"
        },
        "outputId": "f7642492-781f-4a6b-f406-26da3752d1be"
      },
      "source": [
        "model.predict(\"Why not put knives in the dishwasher?\")"
      ],
      "execution_count": null,
      "outputs": [
        {
          "output_type": "execute_result",
          "data": {
            "text/plain": [
              "(('__label__food-safety',), array([0.07451777]))"
            ]
          },
          "metadata": {
            "tags": []
          },
          "execution_count": 14
        }
      ]
    },
    {
      "cell_type": "code",
      "metadata": {
        "id": "coDzyeSQbD40",
        "colab": {
          "base_uri": "https://localhost:8080/"
        },
        "outputId": "39aecbb8-3dbc-44e0-f0d7-06d6d6c4d20d"
      },
      "source": [
        "model.test(\"cooking.valid\")"
      ],
      "execution_count": null,
      "outputs": [
        {
          "output_type": "execute_result",
          "data": {
            "text/plain": [
              "(3000, 0.135, 0.05838258613233386)"
            ]
          },
          "metadata": {
            "tags": []
          },
          "execution_count": 15
        }
      ]
    },
    {
      "cell_type": "code",
      "metadata": {
        "id": "0ayFDxwwbGGs",
        "colab": {
          "base_uri": "https://localhost:8080/"
        },
        "outputId": "46e04be2-31c1-488d-9017-9740e4017183"
      },
      "source": [
        "model.test(\"cooking.valid\", k=5)"
      ],
      "execution_count": null,
      "outputs": [
        {
          "output_type": "execute_result",
          "data": {
            "text/plain": [
              "(3000, 0.06606666666666666, 0.14285714285714285)"
            ]
          },
          "metadata": {
            "tags": []
          },
          "execution_count": 16
        }
      ]
    },
    {
      "cell_type": "code",
      "metadata": {
        "id": "hOpuQEhXbJh3",
        "colab": {
          "base_uri": "https://localhost:8080/"
        },
        "outputId": "cc655ff5-5bfb-47b5-d6c8-3321b58cd6b1"
      },
      "source": [
        "model.predict(\"Why not put knives in the dishwasher?\", k=5)"
      ],
      "execution_count": null,
      "outputs": [
        {
          "output_type": "execute_result",
          "data": {
            "text/plain": [
              "(('__label__food-safety',\n",
              "  '__label__baking',\n",
              "  '__label__bread',\n",
              "  '__label__substitutions',\n",
              "  '__label__equipment'),\n",
              " array([0.07451777, 0.07366108, 0.04390582, 0.0373    , 0.03408055]))"
            ]
          },
          "metadata": {
            "tags": []
          },
          "execution_count": 17
        }
      ]
    }
  ]
}