{
  "nbformat": 4,
  "nbformat_minor": 0,
  "metadata": {
    "colab": {
      "name": "Untitled1.ipynb",
      "provenance": [],
      "authorship_tag": "ABX9TyO2OJP+hcbDFzynHftgcW5L",
      "include_colab_link": true
    },
    "kernelspec": {
      "display_name": "Python 3",
      "name": "python3"
    },
    "language_info": {
      "name": "python"
    },
    "accelerator": "GPU"
  },
  "cells": [
    {
      "cell_type": "markdown",
      "metadata": {
        "id": "view-in-github",
        "colab_type": "text"
      },
      "source": [
        "<a href=\"https://colab.research.google.com/github/Jaehun-Kim22/SCIC_Project/blob/feature%2F11/KoELECTRA_text_labels.ipynb\" target=\"_parent\"><img src=\"https://colab.research.google.com/assets/colab-badge.svg\" alt=\"Open In Colab\"/></a>"
      ]
    },
    {
      "cell_type": "code",
      "metadata": {
        "id": "Ou41o1m2T4EZ"
      },
      "source": [
        "!git clone https://github.com/michael960725/KoELECTRA.git"
      ],
      "execution_count": null,
      "outputs": []
    },
    {
      "cell_type": "code",
      "metadata": {
        "id": "UQC2LUyOUEKO"
      },
      "source": [
        "!pip install attrdict\n",
        "!pip install transformers\n",
        "!pip install seqeval\n",
        "import os\n",
        "os.path.join('KoELECTRA/finetune')\n",
        "!python3 run_seq_cls.py --task nsmc --config_file koelectra-base.json\n"
      ],
      "execution_count": null,
      "outputs": []
    },
    {
      "cell_type": "code",
      "metadata": {
        "id": "SNzjuH1mbVbD",
        "collapsed": true
      },
      "source": [
        "%%shell\n",
        "\n",
        "cd KoELECTRA/finetune\n",
        "python run_seq_cls.py --task nsmc --config_file koelectra-base.json\n"
      ],
      "execution_count": null,
      "outputs": []
    },
    {
      "cell_type": "code",
      "metadata": {
        "id": "C2YpUaHuLoTk"
      },
      "source": [
        ""
      ],
      "execution_count": null,
      "outputs": []
    },
    {
      "cell_type": "code",
      "metadata": {
        "id": "HP7kY1ANbeP5"
      },
      "source": [
        ""
      ],
      "execution_count": null,
      "outputs": []
    }
  ]
}