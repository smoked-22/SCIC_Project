{
  "nbformat": 4,
  "nbformat_minor": 0,
  "metadata": {
    "colab": {
      "name": "Untitled1.ipynb",
      "provenance": [],
      "authorship_tag": "ABX9TyMCU8mYU3YCGmSLDYJwBPet",
      "include_colab_link": true
    },
    "kernelspec": {
      "display_name": "Python 3",
      "name": "python3"
    },
    "language_info": {
      "name": "python"
    }
  },
  "cells": [
    {
      "cell_type": "markdown",
      "metadata": {
        "id": "view-in-github",
        "colab_type": "text"
      },
      "source": [
        "<a href=\"https://colab.research.google.com/github/Jaehun-Kim22/SCIC_Project/blob/feature%2F11/KoELECTRA_finetune.ipynb\" target=\"_parent\"><img src=\"https://colab.research.google.com/assets/colab-badge.svg\" alt=\"Open In Colab\"/></a>"
      ]
    },
    {
      "cell_type": "code",
      "metadata": {
        "id": "UQC2LUyOUEKO"
      },
      "source": [
        "!pip install attrdict\n",
        "!pip install transformers\n",
        "!pip install seqeval"
      ],
      "execution_count": null,
      "outputs": []
    },
    {
      "cell_type": "code",
      "metadata": {
        "id": "GT_4MMzYKv3t"
      },
      "source": [
        "!git clone https://github.com/michael960725/KoELECTRA.git"
      ],
      "execution_count": null,
      "outputs": []
    },
    {
      "cell_type": "code",
      "metadata": {
        "id": "SNzjuH1mbVbD"
      },
      "source": [
        "%%shell\n",
        "\n",
        "cd KoELECTRA/finetune\n",
        "python run_seq_cls.py --task nsmc --config_file koelectra-base.json"
      ],
      "execution_count": null,
      "outputs": []
    }
  ]
}